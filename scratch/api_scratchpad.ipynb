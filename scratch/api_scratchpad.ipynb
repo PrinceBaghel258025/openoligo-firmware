{
 "cells": [
  {
   "attachments": {},
   "cell_type": "markdown",
   "id": "d150b9cc-5663-465d-b4c9-15a4868fe0a5",
   "metadata": {
    "jp-MarkdownHeadingCollapsed": true
   },
   "source": [
    "# API 1"
   ]
  },
  {
   "cell_type": "code",
   "execution_count": 1,
   "id": "ac3562be-2e39-4acf-9506-889300831e84",
   "metadata": {},
   "outputs": [
    {
     "name": "stdout",
     "output_type": "stream",
     "text": [
      "Manifold(valve_class=<class 'openoligo.driver.switch.PneumaticNoValve'>, size=4, manifold_type=<ValveType.NORMALLY_OPEN: 1>, valves=[0[True], 1[True], 2[True], 3[True]]) Manifold(valve_class=<class 'openoligo.driver.switch.PneumaticNoValve'>, size=4, manifold_type=<ValveType.NORMALLY_OPEN: 1>, valves=[0[True], 1[True], 2[True], 3[True]])\n"
     ]
    }
   ],
   "source": [
    "# Convinient\n",
    "from openoligo import Manifold, PneumaticNoValve\n",
    "\n",
    "m1 = Manifold(PneumaticNoValve, 4)\n",
    "m2 = Manifold(PneumaticNoValve, 4)\n",
    "\n",
    "print(m1, m2)"
   ]
  },
  {
   "attachments": {},
   "cell_type": "markdown",
   "id": "c48ff180-25fd-4fbe-97c4-1aa0305ce4f5",
   "metadata": {},
   "source": [
    "## Trying out the API"
   ]
  },
  {
   "cell_type": "code",
   "execution_count": 2,
   "id": "5d532fdf-ce94-4b12-9e6f-f47b95c550a0",
   "metadata": {},
   "outputs": [
    {
     "data": {
      "text/plain": [
       "<enum 'RPi'>"
      ]
     },
     "execution_count": 2,
     "metadata": {},
     "output_type": "execute_result"
    }
   ],
   "source": [
    "# Implicit\n",
    "import openoligo as oo\n",
    "oo.RPi"
   ]
  },
  {
   "cell_type": "code",
   "execution_count": 3,
   "id": "69844c89-941a-411e-87d2-0a0ab683abab",
   "metadata": {},
   "outputs": [
    {
     "name": "stdout",
     "output_type": "stream",
     "text": [
      "pin=<RPi.PIN3: 3>\n",
      "pin=<RPi.PIN5: 5>\n",
      "pin=<RPi.PIN7: 7>\n",
      "pin=<RPi.PIN8: 8>\n",
      "pin=<RPi.PIN10: 10>\n",
      "pin=<RPi.PIN11: 11>\n",
      "pin=<RPi.PIN12: 12>\n",
      "pin=<RPi.PIN13: 13>\n",
      "pin=<RPi.PIN15: 15>\n",
      "pin=<RPi.PIN16: 16>\n",
      "pin=<RPi.PIN18: 18>\n",
      "pin=<RPi.PIN19: 19>\n",
      "pin=<RPi.PIN21: 21>\n",
      "pin=<RPi.PIN22: 22>\n",
      "pin=<RPi.PIN23: 23>\n",
      "pin=<RPi.PIN24: 24>\n",
      "pin=<RPi.PIN26: 26>\n",
      "pin=<RPi.PIN27: 27>\n",
      "pin=<RPi.PIN28: 28>\n",
      "pin=<RPi.PIN29: 29>\n",
      "pin=<RPi.PIN31: 31>\n",
      "pin=<RPi.PIN32: 32>\n",
      "pin=<RPi.PIN33: 33>\n",
      "pin=<RPi.PIN35: 35>\n",
      "pin=<RPi.PIN36: 36>\n",
      "pin=<RPi.PIN37: 37>\n",
      "pin=<RPi.PIN38: 38>\n",
      "pin=<RPi.PIN40: 40>\n"
     ]
    }
   ],
   "source": [
    "for pin in oo.RPi:\n",
    "    print(f\"{pin=}\")"
   ]
  },
  {
   "cell_type": "code",
   "execution_count": 5,
   "id": "97628869-dde6-4ecc-9072-239ff07aa020",
   "metadata": {},
   "outputs": [],
   "source": [
    "oo.Manifold(oo.PneumaticNoValve, 8)\n",
    "m = oo.Manifold(valve_class=PneumaticNoValve, size=4)"
   ]
  },
  {
   "cell_type": "code",
   "execution_count": 6,
   "id": "43263e2c-7881-438d-afe7-9b59e00447bd",
   "metadata": {},
   "outputs": [],
   "source": [
    "# oo.set_one_hot(m, 2) # DEPRECATED\n",
    "# m.valves"
   ]
  },
  {
   "cell_type": "code",
   "execution_count": 7,
   "id": "ab2a6758-973e-4469-a242-8937878ef071",
   "metadata": {},
   "outputs": [],
   "source": [
    "# oo.set_one_hot(m, 3) # DEPRECATED\n",
    "# m.valves"
   ]
  },
  {
   "cell_type": "code",
   "execution_count": 8,
   "id": "1cfaa7f3-be15-4051-aecf-adcff800eb52",
   "metadata": {},
   "outputs": [],
   "source": [
    "# oo.set_manifold(m, True) # DEPRECATED\n",
    "# m.valves"
   ]
  },
  {
   "attachments": {},
   "cell_type": "markdown",
   "id": "a9d7b7b8-bb43-440f-9eb1-7644b612137b",
   "metadata": {
    "jp-MarkdownHeadingCollapsed": true
   },
   "source": [
    "# Perhaps a better API?\n",
    "\n",
    "```py\n",
    "m.all(True)\n",
    "# oo.set_manifold(m, True)\n",
    "\n",
    "m.one_hot(4)\n",
    "# oo.set_one_hot(m, 3)\n",
    "\n",
    "m.n_hot([2, 3, 4])\n",
    "\n",
    "wait(m.one_hot(4), ms(100))\n",
    "wait(m.one_hot(3), s(2))\n",
    "\n",
    "# OR\n",
    "\n",
    "m.one_hot(4)\n",
    "wait_ms(100)\n",
    "m.one_hot(3)\n",
    "wait(2)\n",
    "```\n",
    "\n",
    "## Flow\n",
    "- Define a manifold (a set of n valves)\n",
    "- Start the connection to the motor board\n",
    "- Get the motor in the correct position\n",
    "- Close all valves\n",
    "- Open the gas inlet\n",
    "- Start switching valves on for various durations, one by one"
   ]
  },
  {
   "cell_type": "code",
   "execution_count": 5,
   "id": "0e178925-a173-4edf-bc6f-6c6fc53974ed",
   "metadata": {},
   "outputs": [
    {
     "data": {
      "text/plain": [
       "'DEBUG'"
      ]
     },
     "execution_count": 5,
     "metadata": {},
     "output_type": "execute_result"
    }
   ],
   "source": [
    "!export OO_LOG_LEVEL=INFO\n",
    "\n",
    "import os\n",
    "os.getenv(\"OO_LOG_LEVEL\")"
   ]
  },
  {
   "cell_type": "code",
   "execution_count": 6,
   "id": "eaa732d6-f87e-45ae-a65d-ff4c7548334d",
   "metadata": {},
   "outputs": [
    {
     "data": {
      "text/plain": [
       "[0[True], 1[True], 2[True], 3[True]]"
      ]
     },
     "execution_count": 6,
     "metadata": {},
     "output_type": "execute_result"
    }
   ],
   "source": [
    "from openoligo import Manifold, PneumaticNoValve\n",
    "\n",
    "m = Manifold(PneumaticNoValve, 4)\n",
    "m.valves"
   ]
  },
  {
   "cell_type": "code",
   "execution_count": 7,
   "id": "0b62d607-b596-4cdf-ac0a-36d7fb4bd381",
   "metadata": {},
   "outputs": [
    {
     "data": {
      "text/html": [
       "<pre style=\"white-space:pre;overflow-x:auto;line-height:normal;font-family:Menlo,'DejaVu Sans Mono',consolas,'Courier New',monospace\"><span style=\"color: #7fbfbf; text-decoration-color: #7fbfbf\">[15:45:14] </span><span style=\"color: #008000; text-decoration-color: #008000\">DEBUG   </span> <span style=\"font-weight: bold\">&lt;</span><span style=\"color: #ff00ff; text-decoration-color: #ff00ff; font-weight: bold\">switch.py:</span><span style=\"color: #008080; text-decoration-color: #008080; font-weight: bold\">66</span><span style=\"font-weight: bold\">&gt;</span> Valve <span style=\"font-weight: bold\">(</span>Valve <span style=\"color: #008080; text-decoration-color: #008080; font-weight: bold\">0</span><span style=\"font-weight: bold\">)</span> set to <span style=\"font-weight: bold\">ValveState.OPEN_FLOW</span>                         <a href=\"file:///Users/satyamtiwary/Documents/Python-Things/OpenOligo/openoligo/driver/switch.py\" target=\"_blank\"><span style=\"color: #7f7f7f; text-decoration-color: #7f7f7f\">switch.py</span></a><span style=\"color: #7f7f7f; text-decoration-color: #7f7f7f\">:</span><a href=\"file:///Users/satyamtiwary/Documents/Python-Things/OpenOligo/openoligo/driver/switch.py#66\" target=\"_blank\"><span style=\"color: #7f7f7f; text-decoration-color: #7f7f7f\">66</span></a>\n",
       "</pre>\n"
      ],
      "text/plain": [
       "\u001b[2;36m[15:45:14]\u001b[0m\u001b[2;36m \u001b[0m\u001b[32mDEBUG   \u001b[0m \u001b[1m<\u001b[0m\u001b[1;95mswitch.py:\u001b[0m\u001b[1;36m66\u001b[0m\u001b[1m>\u001b[0m Valve \u001b[1m(\u001b[0mValve \u001b[1;36m0\u001b[0m\u001b[1m)\u001b[0m set to \u001b[1mValveState.OPEN_FLOW\u001b[0m                         \u001b]8;id=382720;file:///Users/satyamtiwary/Documents/Python-Things/OpenOligo/openoligo/driver/switch.py\u001b\\\u001b[2mswitch.py\u001b[0m\u001b]8;;\u001b\\\u001b[2m:\u001b[0m\u001b]8;id=586915;file:///Users/satyamtiwary/Documents/Python-Things/OpenOligo/openoligo/driver/switch.py#66\u001b\\\u001b[2m66\u001b[0m\u001b]8;;\u001b\\\n"
      ]
     },
     "metadata": {},
     "output_type": "display_data"
    },
    {
     "data": {
      "text/html": [
       "<pre style=\"white-space:pre;overflow-x:auto;line-height:normal;font-family:Menlo,'DejaVu Sans Mono',consolas,'Courier New',monospace\"><span style=\"color: #7fbfbf; text-decoration-color: #7fbfbf\">           </span><span style=\"color: #008000; text-decoration-color: #008000\">DEBUG   </span> <span style=\"font-weight: bold\">&lt;</span><span style=\"color: #ff00ff; text-decoration-color: #ff00ff; font-weight: bold\">switch.py:</span><span style=\"color: #008080; text-decoration-color: #008080; font-weight: bold\">66</span><span style=\"font-weight: bold\">&gt;</span> Valve <span style=\"font-weight: bold\">(</span>Valve <span style=\"color: #008080; text-decoration-color: #008080; font-weight: bold\">1</span><span style=\"font-weight: bold\">)</span> set to <span style=\"font-weight: bold\">ValveState.OPEN_FLOW</span>                         <a href=\"file:///Users/satyamtiwary/Documents/Python-Things/OpenOligo/openoligo/driver/switch.py\" target=\"_blank\"><span style=\"color: #7f7f7f; text-decoration-color: #7f7f7f\">switch.py</span></a><span style=\"color: #7f7f7f; text-decoration-color: #7f7f7f\">:</span><a href=\"file:///Users/satyamtiwary/Documents/Python-Things/OpenOligo/openoligo/driver/switch.py#66\" target=\"_blank\"><span style=\"color: #7f7f7f; text-decoration-color: #7f7f7f\">66</span></a>\n",
       "</pre>\n"
      ],
      "text/plain": [
       "\u001b[2;36m          \u001b[0m\u001b[2;36m \u001b[0m\u001b[32mDEBUG   \u001b[0m \u001b[1m<\u001b[0m\u001b[1;95mswitch.py:\u001b[0m\u001b[1;36m66\u001b[0m\u001b[1m>\u001b[0m Valve \u001b[1m(\u001b[0mValve \u001b[1;36m1\u001b[0m\u001b[1m)\u001b[0m set to \u001b[1mValveState.OPEN_FLOW\u001b[0m                         \u001b]8;id=921272;file:///Users/satyamtiwary/Documents/Python-Things/OpenOligo/openoligo/driver/switch.py\u001b\\\u001b[2mswitch.py\u001b[0m\u001b]8;;\u001b\\\u001b[2m:\u001b[0m\u001b]8;id=968976;file:///Users/satyamtiwary/Documents/Python-Things/OpenOligo/openoligo/driver/switch.py#66\u001b\\\u001b[2m66\u001b[0m\u001b]8;;\u001b\\\n"
      ]
     },
     "metadata": {},
     "output_type": "display_data"
    },
    {
     "data": {
      "text/html": [
       "<pre style=\"white-space:pre;overflow-x:auto;line-height:normal;font-family:Menlo,'DejaVu Sans Mono',consolas,'Courier New',monospace\"><span style=\"color: #7fbfbf; text-decoration-color: #7fbfbf\">           </span><span style=\"color: #008000; text-decoration-color: #008000\">DEBUG   </span> <span style=\"font-weight: bold\">&lt;</span><span style=\"color: #ff00ff; text-decoration-color: #ff00ff; font-weight: bold\">switch.py:</span><span style=\"color: #008080; text-decoration-color: #008080; font-weight: bold\">66</span><span style=\"font-weight: bold\">&gt;</span> Valve <span style=\"font-weight: bold\">(</span>Valve <span style=\"color: #008080; text-decoration-color: #008080; font-weight: bold\">2</span><span style=\"font-weight: bold\">)</span> set to <span style=\"font-weight: bold\">ValveState.OPEN_FLOW</span>                         <a href=\"file:///Users/satyamtiwary/Documents/Python-Things/OpenOligo/openoligo/driver/switch.py\" target=\"_blank\"><span style=\"color: #7f7f7f; text-decoration-color: #7f7f7f\">switch.py</span></a><span style=\"color: #7f7f7f; text-decoration-color: #7f7f7f\">:</span><a href=\"file:///Users/satyamtiwary/Documents/Python-Things/OpenOligo/openoligo/driver/switch.py#66\" target=\"_blank\"><span style=\"color: #7f7f7f; text-decoration-color: #7f7f7f\">66</span></a>\n",
       "</pre>\n"
      ],
      "text/plain": [
       "\u001b[2;36m          \u001b[0m\u001b[2;36m \u001b[0m\u001b[32mDEBUG   \u001b[0m \u001b[1m<\u001b[0m\u001b[1;95mswitch.py:\u001b[0m\u001b[1;36m66\u001b[0m\u001b[1m>\u001b[0m Valve \u001b[1m(\u001b[0mValve \u001b[1;36m2\u001b[0m\u001b[1m)\u001b[0m set to \u001b[1mValveState.OPEN_FLOW\u001b[0m                         \u001b]8;id=669006;file:///Users/satyamtiwary/Documents/Python-Things/OpenOligo/openoligo/driver/switch.py\u001b\\\u001b[2mswitch.py\u001b[0m\u001b]8;;\u001b\\\u001b[2m:\u001b[0m\u001b]8;id=908909;file:///Users/satyamtiwary/Documents/Python-Things/OpenOligo/openoligo/driver/switch.py#66\u001b\\\u001b[2m66\u001b[0m\u001b]8;;\u001b\\\n"
      ]
     },
     "metadata": {},
     "output_type": "display_data"
    },
    {
     "data": {
      "text/html": [
       "<pre style=\"white-space:pre;overflow-x:auto;line-height:normal;font-family:Menlo,'DejaVu Sans Mono',consolas,'Courier New',monospace\"><span style=\"color: #7fbfbf; text-decoration-color: #7fbfbf\">           </span><span style=\"color: #008000; text-decoration-color: #008000\">DEBUG   </span> <span style=\"font-weight: bold\">&lt;</span><span style=\"color: #ff00ff; text-decoration-color: #ff00ff; font-weight: bold\">switch.py:</span><span style=\"color: #008080; text-decoration-color: #008080; font-weight: bold\">66</span><span style=\"font-weight: bold\">&gt;</span> Valve <span style=\"font-weight: bold\">(</span>Valve <span style=\"color: #008080; text-decoration-color: #008080; font-weight: bold\">3</span><span style=\"font-weight: bold\">)</span> set to <span style=\"font-weight: bold\">ValveState.OPEN_FLOW</span>                         <a href=\"file:///Users/satyamtiwary/Documents/Python-Things/OpenOligo/openoligo/driver/switch.py\" target=\"_blank\"><span style=\"color: #7f7f7f; text-decoration-color: #7f7f7f\">switch.py</span></a><span style=\"color: #7f7f7f; text-decoration-color: #7f7f7f\">:</span><a href=\"file:///Users/satyamtiwary/Documents/Python-Things/OpenOligo/openoligo/driver/switch.py#66\" target=\"_blank\"><span style=\"color: #7f7f7f; text-decoration-color: #7f7f7f\">66</span></a>\n",
       "</pre>\n"
      ],
      "text/plain": [
       "\u001b[2;36m          \u001b[0m\u001b[2;36m \u001b[0m\u001b[32mDEBUG   \u001b[0m \u001b[1m<\u001b[0m\u001b[1;95mswitch.py:\u001b[0m\u001b[1;36m66\u001b[0m\u001b[1m>\u001b[0m Valve \u001b[1m(\u001b[0mValve \u001b[1;36m3\u001b[0m\u001b[1m)\u001b[0m set to \u001b[1mValveState.OPEN_FLOW\u001b[0m                         \u001b]8;id=880240;file:///Users/satyamtiwary/Documents/Python-Things/OpenOligo/openoligo/driver/switch.py\u001b\\\u001b[2mswitch.py\u001b[0m\u001b]8;;\u001b\\\u001b[2m:\u001b[0m\u001b]8;id=944827;file:///Users/satyamtiwary/Documents/Python-Things/OpenOligo/openoligo/driver/switch.py#66\u001b\\\u001b[2m66\u001b[0m\u001b]8;;\u001b\\\n"
      ]
     },
     "metadata": {},
     "output_type": "display_data"
    },
    {
     "data": {
      "text/plain": [
       "[0[True], 1[True], 2[True], 3[True]]"
      ]
     },
     "execution_count": 7,
     "metadata": {},
     "output_type": "execute_result"
    }
   ],
   "source": [
    "m.all(True)\n",
    "m.valves"
   ]
  },
  {
   "cell_type": "code",
   "execution_count": 8,
   "id": "22da7289-10ef-4cc7-a00f-690c10934723",
   "metadata": {},
   "outputs": [
    {
     "data": {
      "text/html": [
       "<pre style=\"white-space:pre;overflow-x:auto;line-height:normal;font-family:Menlo,'DejaVu Sans Mono',consolas,'Courier New',monospace\"><span style=\"color: #7fbfbf; text-decoration-color: #7fbfbf\">           </span><span style=\"color: #008000; text-decoration-color: #008000\">DEBUG   </span> <span style=\"font-weight: bold\">&lt;</span><span style=\"color: #ff00ff; text-decoration-color: #ff00ff; font-weight: bold\">switch.py:</span><span style=\"color: #008080; text-decoration-color: #008080; font-weight: bold\">66</span><span style=\"font-weight: bold\">&gt;</span> Valve <span style=\"font-weight: bold\">(</span>Valve <span style=\"color: #008080; text-decoration-color: #008080; font-weight: bold\">0</span><span style=\"font-weight: bold\">)</span> set to <span style=\"font-weight: bold\">ValveState.CLOSED_FLOW</span>                       <a href=\"file:///Users/satyamtiwary/Documents/Python-Things/OpenOligo/openoligo/driver/switch.py\" target=\"_blank\"><span style=\"color: #7f7f7f; text-decoration-color: #7f7f7f\">switch.py</span></a><span style=\"color: #7f7f7f; text-decoration-color: #7f7f7f\">:</span><a href=\"file:///Users/satyamtiwary/Documents/Python-Things/OpenOligo/openoligo/driver/switch.py#66\" target=\"_blank\"><span style=\"color: #7f7f7f; text-decoration-color: #7f7f7f\">66</span></a>\n",
       "</pre>\n"
      ],
      "text/plain": [
       "\u001b[2;36m          \u001b[0m\u001b[2;36m \u001b[0m\u001b[32mDEBUG   \u001b[0m \u001b[1m<\u001b[0m\u001b[1;95mswitch.py:\u001b[0m\u001b[1;36m66\u001b[0m\u001b[1m>\u001b[0m Valve \u001b[1m(\u001b[0mValve \u001b[1;36m0\u001b[0m\u001b[1m)\u001b[0m set to \u001b[1mValveState.CLOSED_FLOW\u001b[0m                       \u001b]8;id=600103;file:///Users/satyamtiwary/Documents/Python-Things/OpenOligo/openoligo/driver/switch.py\u001b\\\u001b[2mswitch.py\u001b[0m\u001b]8;;\u001b\\\u001b[2m:\u001b[0m\u001b]8;id=149911;file:///Users/satyamtiwary/Documents/Python-Things/OpenOligo/openoligo/driver/switch.py#66\u001b\\\u001b[2m66\u001b[0m\u001b]8;;\u001b\\\n"
      ]
     },
     "metadata": {},
     "output_type": "display_data"
    },
    {
     "data": {
      "text/html": [
       "<pre style=\"white-space:pre;overflow-x:auto;line-height:normal;font-family:Menlo,'DejaVu Sans Mono',consolas,'Courier New',monospace\"><span style=\"color: #7fbfbf; text-decoration-color: #7fbfbf\">           </span><span style=\"color: #008000; text-decoration-color: #008000\">DEBUG   </span> <span style=\"font-weight: bold\">&lt;</span><span style=\"color: #ff00ff; text-decoration-color: #ff00ff; font-weight: bold\">switch.py:</span><span style=\"color: #008080; text-decoration-color: #008080; font-weight: bold\">66</span><span style=\"font-weight: bold\">&gt;</span> Valve <span style=\"font-weight: bold\">(</span>Valve <span style=\"color: #008080; text-decoration-color: #008080; font-weight: bold\">1</span><span style=\"font-weight: bold\">)</span> set to <span style=\"font-weight: bold\">ValveState.CLOSED_FLOW</span>                       <a href=\"file:///Users/satyamtiwary/Documents/Python-Things/OpenOligo/openoligo/driver/switch.py\" target=\"_blank\"><span style=\"color: #7f7f7f; text-decoration-color: #7f7f7f\">switch.py</span></a><span style=\"color: #7f7f7f; text-decoration-color: #7f7f7f\">:</span><a href=\"file:///Users/satyamtiwary/Documents/Python-Things/OpenOligo/openoligo/driver/switch.py#66\" target=\"_blank\"><span style=\"color: #7f7f7f; text-decoration-color: #7f7f7f\">66</span></a>\n",
       "</pre>\n"
      ],
      "text/plain": [
       "\u001b[2;36m          \u001b[0m\u001b[2;36m \u001b[0m\u001b[32mDEBUG   \u001b[0m \u001b[1m<\u001b[0m\u001b[1;95mswitch.py:\u001b[0m\u001b[1;36m66\u001b[0m\u001b[1m>\u001b[0m Valve \u001b[1m(\u001b[0mValve \u001b[1;36m1\u001b[0m\u001b[1m)\u001b[0m set to \u001b[1mValveState.CLOSED_FLOW\u001b[0m                       \u001b]8;id=559252;file:///Users/satyamtiwary/Documents/Python-Things/OpenOligo/openoligo/driver/switch.py\u001b\\\u001b[2mswitch.py\u001b[0m\u001b]8;;\u001b\\\u001b[2m:\u001b[0m\u001b]8;id=797692;file:///Users/satyamtiwary/Documents/Python-Things/OpenOligo/openoligo/driver/switch.py#66\u001b\\\u001b[2m66\u001b[0m\u001b]8;;\u001b\\\n"
      ]
     },
     "metadata": {},
     "output_type": "display_data"
    },
    {
     "data": {
      "text/html": [
       "<pre style=\"white-space:pre;overflow-x:auto;line-height:normal;font-family:Menlo,'DejaVu Sans Mono',consolas,'Courier New',monospace\"><span style=\"color: #7fbfbf; text-decoration-color: #7fbfbf\">           </span><span style=\"color: #008000; text-decoration-color: #008000\">DEBUG   </span> <span style=\"font-weight: bold\">&lt;</span><span style=\"color: #ff00ff; text-decoration-color: #ff00ff; font-weight: bold\">switch.py:</span><span style=\"color: #008080; text-decoration-color: #008080; font-weight: bold\">66</span><span style=\"font-weight: bold\">&gt;</span> Valve <span style=\"font-weight: bold\">(</span>Valve <span style=\"color: #008080; text-decoration-color: #008080; font-weight: bold\">2</span><span style=\"font-weight: bold\">)</span> set to <span style=\"font-weight: bold\">ValveState.CLOSED_FLOW</span>                       <a href=\"file:///Users/satyamtiwary/Documents/Python-Things/OpenOligo/openoligo/driver/switch.py\" target=\"_blank\"><span style=\"color: #7f7f7f; text-decoration-color: #7f7f7f\">switch.py</span></a><span style=\"color: #7f7f7f; text-decoration-color: #7f7f7f\">:</span><a href=\"file:///Users/satyamtiwary/Documents/Python-Things/OpenOligo/openoligo/driver/switch.py#66\" target=\"_blank\"><span style=\"color: #7f7f7f; text-decoration-color: #7f7f7f\">66</span></a>\n",
       "</pre>\n"
      ],
      "text/plain": [
       "\u001b[2;36m          \u001b[0m\u001b[2;36m \u001b[0m\u001b[32mDEBUG   \u001b[0m \u001b[1m<\u001b[0m\u001b[1;95mswitch.py:\u001b[0m\u001b[1;36m66\u001b[0m\u001b[1m>\u001b[0m Valve \u001b[1m(\u001b[0mValve \u001b[1;36m2\u001b[0m\u001b[1m)\u001b[0m set to \u001b[1mValveState.CLOSED_FLOW\u001b[0m                       \u001b]8;id=236044;file:///Users/satyamtiwary/Documents/Python-Things/OpenOligo/openoligo/driver/switch.py\u001b\\\u001b[2mswitch.py\u001b[0m\u001b]8;;\u001b\\\u001b[2m:\u001b[0m\u001b]8;id=216401;file:///Users/satyamtiwary/Documents/Python-Things/OpenOligo/openoligo/driver/switch.py#66\u001b\\\u001b[2m66\u001b[0m\u001b]8;;\u001b\\\n"
      ]
     },
     "metadata": {},
     "output_type": "display_data"
    },
    {
     "data": {
      "text/html": [
       "<pre style=\"white-space:pre;overflow-x:auto;line-height:normal;font-family:Menlo,'DejaVu Sans Mono',consolas,'Courier New',monospace\"><span style=\"color: #7fbfbf; text-decoration-color: #7fbfbf\">           </span><span style=\"color: #008000; text-decoration-color: #008000\">DEBUG   </span> <span style=\"font-weight: bold\">&lt;</span><span style=\"color: #ff00ff; text-decoration-color: #ff00ff; font-weight: bold\">switch.py:</span><span style=\"color: #008080; text-decoration-color: #008080; font-weight: bold\">66</span><span style=\"font-weight: bold\">&gt;</span> Valve <span style=\"font-weight: bold\">(</span>Valve <span style=\"color: #008080; text-decoration-color: #008080; font-weight: bold\">3</span><span style=\"font-weight: bold\">)</span> set to <span style=\"font-weight: bold\">ValveState.CLOSED_FLOW</span>                       <a href=\"file:///Users/satyamtiwary/Documents/Python-Things/OpenOligo/openoligo/driver/switch.py\" target=\"_blank\"><span style=\"color: #7f7f7f; text-decoration-color: #7f7f7f\">switch.py</span></a><span style=\"color: #7f7f7f; text-decoration-color: #7f7f7f\">:</span><a href=\"file:///Users/satyamtiwary/Documents/Python-Things/OpenOligo/openoligo/driver/switch.py#66\" target=\"_blank\"><span style=\"color: #7f7f7f; text-decoration-color: #7f7f7f\">66</span></a>\n",
       "</pre>\n"
      ],
      "text/plain": [
       "\u001b[2;36m          \u001b[0m\u001b[2;36m \u001b[0m\u001b[32mDEBUG   \u001b[0m \u001b[1m<\u001b[0m\u001b[1;95mswitch.py:\u001b[0m\u001b[1;36m66\u001b[0m\u001b[1m>\u001b[0m Valve \u001b[1m(\u001b[0mValve \u001b[1;36m3\u001b[0m\u001b[1m)\u001b[0m set to \u001b[1mValveState.CLOSED_FLOW\u001b[0m                       \u001b]8;id=18084;file:///Users/satyamtiwary/Documents/Python-Things/OpenOligo/openoligo/driver/switch.py\u001b\\\u001b[2mswitch.py\u001b[0m\u001b]8;;\u001b\\\u001b[2m:\u001b[0m\u001b]8;id=277271;file:///Users/satyamtiwary/Documents/Python-Things/OpenOligo/openoligo/driver/switch.py#66\u001b\\\u001b[2m66\u001b[0m\u001b]8;;\u001b\\\n"
      ]
     },
     "metadata": {},
     "output_type": "display_data"
    },
    {
     "data": {
      "text/html": [
       "<pre style=\"white-space:pre;overflow-x:auto;line-height:normal;font-family:Menlo,'DejaVu Sans Mono',consolas,'Courier New',monospace\"><span style=\"color: #7fbfbf; text-decoration-color: #7fbfbf\">           </span><span style=\"color: #008000; text-decoration-color: #008000\">DEBUG   </span> <span style=\"font-weight: bold\">&lt;</span><span style=\"color: #ff00ff; text-decoration-color: #ff00ff; font-weight: bold\">switch.py:</span><span style=\"color: #008080; text-decoration-color: #008080; font-weight: bold\">66</span><span style=\"font-weight: bold\">&gt;</span> Valve <span style=\"font-weight: bold\">(</span>Valve <span style=\"color: #008080; text-decoration-color: #008080; font-weight: bold\">0</span><span style=\"font-weight: bold\">)</span> set to <span style=\"font-weight: bold\">ValveState.OPEN_FLOW</span>                         <a href=\"file:///Users/satyamtiwary/Documents/Python-Things/OpenOligo/openoligo/driver/switch.py\" target=\"_blank\"><span style=\"color: #7f7f7f; text-decoration-color: #7f7f7f\">switch.py</span></a><span style=\"color: #7f7f7f; text-decoration-color: #7f7f7f\">:</span><a href=\"file:///Users/satyamtiwary/Documents/Python-Things/OpenOligo/openoligo/driver/switch.py#66\" target=\"_blank\"><span style=\"color: #7f7f7f; text-decoration-color: #7f7f7f\">66</span></a>\n",
       "</pre>\n"
      ],
      "text/plain": [
       "\u001b[2;36m          \u001b[0m\u001b[2;36m \u001b[0m\u001b[32mDEBUG   \u001b[0m \u001b[1m<\u001b[0m\u001b[1;95mswitch.py:\u001b[0m\u001b[1;36m66\u001b[0m\u001b[1m>\u001b[0m Valve \u001b[1m(\u001b[0mValve \u001b[1;36m0\u001b[0m\u001b[1m)\u001b[0m set to \u001b[1mValveState.OPEN_FLOW\u001b[0m                         \u001b]8;id=331728;file:///Users/satyamtiwary/Documents/Python-Things/OpenOligo/openoligo/driver/switch.py\u001b\\\u001b[2mswitch.py\u001b[0m\u001b]8;;\u001b\\\u001b[2m:\u001b[0m\u001b]8;id=445865;file:///Users/satyamtiwary/Documents/Python-Things/OpenOligo/openoligo/driver/switch.py#66\u001b\\\u001b[2m66\u001b[0m\u001b]8;;\u001b\\\n"
      ]
     },
     "metadata": {},
     "output_type": "display_data"
    },
    {
     "data": {
      "text/html": [
       "<pre style=\"white-space:pre;overflow-x:auto;line-height:normal;font-family:Menlo,'DejaVu Sans Mono',consolas,'Courier New',monospace\"><span style=\"color: #7fbfbf; text-decoration-color: #7fbfbf\">           </span><span style=\"color: #008000; text-decoration-color: #008000\">DEBUG   </span> <span style=\"font-weight: bold\">&lt;</span><span style=\"color: #ff00ff; text-decoration-color: #ff00ff; font-weight: bold\">switch.py:</span><span style=\"color: #008080; text-decoration-color: #008080; font-weight: bold\">123</span><span style=\"font-weight: bold\">&gt;</span> Toggled the switch: <span style=\"color: #008080; text-decoration-color: #008080; font-weight: bold\">0</span><span style=\"font-weight: bold\">[</span><span style=\"color: #00ff00; text-decoration-color: #00ff00; font-style: italic\">True</span><span style=\"font-weight: bold\">]</span>                                       <a href=\"file:///Users/satyamtiwary/Documents/Python-Things/OpenOligo/openoligo/driver/switch.py\" target=\"_blank\"><span style=\"color: #7f7f7f; text-decoration-color: #7f7f7f\">switch.py</span></a><span style=\"color: #7f7f7f; text-decoration-color: #7f7f7f\">:</span><a href=\"file:///Users/satyamtiwary/Documents/Python-Things/OpenOligo/openoligo/driver/switch.py#123\" target=\"_blank\"><span style=\"color: #7f7f7f; text-decoration-color: #7f7f7f\">123</span></a>\n",
       "</pre>\n"
      ],
      "text/plain": [
       "\u001b[2;36m          \u001b[0m\u001b[2;36m \u001b[0m\u001b[32mDEBUG   \u001b[0m \u001b[1m<\u001b[0m\u001b[1;95mswitch.py:\u001b[0m\u001b[1;36m123\u001b[0m\u001b[1m>\u001b[0m Toggled the switch: \u001b[1;36m0\u001b[0m\u001b[1m[\u001b[0m\u001b[3;92mTrue\u001b[0m\u001b[1m]\u001b[0m                                       \u001b]8;id=964275;file:///Users/satyamtiwary/Documents/Python-Things/OpenOligo/openoligo/driver/switch.py\u001b\\\u001b[2mswitch.py\u001b[0m\u001b]8;;\u001b\\\u001b[2m:\u001b[0m\u001b]8;id=739314;file:///Users/satyamtiwary/Documents/Python-Things/OpenOligo/openoligo/driver/switch.py#123\u001b\\\u001b[2m123\u001b[0m\u001b]8;;\u001b\\\n"
      ]
     },
     "metadata": {},
     "output_type": "display_data"
    },
    {
     "data": {
      "text/html": [
       "<pre style=\"white-space:pre;overflow-x:auto;line-height:normal;font-family:Menlo,'DejaVu Sans Mono',consolas,'Courier New',monospace\"><span style=\"color: #7fbfbf; text-decoration-color: #7fbfbf\">           </span><span style=\"color: #008000; text-decoration-color: #008000\">DEBUG   </span> <span style=\"font-weight: bold\">&lt;</span><span style=\"color: #ff00ff; text-decoration-color: #ff00ff; font-weight: bold\">switch.py:</span><span style=\"color: #008080; text-decoration-color: #008080; font-weight: bold\">66</span><span style=\"font-weight: bold\">&gt;</span> Valve <span style=\"font-weight: bold\">(</span>Valve <span style=\"color: #008080; text-decoration-color: #008080; font-weight: bold\">1</span><span style=\"font-weight: bold\">)</span> set to <span style=\"font-weight: bold\">ValveState.OPEN_FLOW</span>                         <a href=\"file:///Users/satyamtiwary/Documents/Python-Things/OpenOligo/openoligo/driver/switch.py\" target=\"_blank\"><span style=\"color: #7f7f7f; text-decoration-color: #7f7f7f\">switch.py</span></a><span style=\"color: #7f7f7f; text-decoration-color: #7f7f7f\">:</span><a href=\"file:///Users/satyamtiwary/Documents/Python-Things/OpenOligo/openoligo/driver/switch.py#66\" target=\"_blank\"><span style=\"color: #7f7f7f; text-decoration-color: #7f7f7f\">66</span></a>\n",
       "</pre>\n"
      ],
      "text/plain": [
       "\u001b[2;36m          \u001b[0m\u001b[2;36m \u001b[0m\u001b[32mDEBUG   \u001b[0m \u001b[1m<\u001b[0m\u001b[1;95mswitch.py:\u001b[0m\u001b[1;36m66\u001b[0m\u001b[1m>\u001b[0m Valve \u001b[1m(\u001b[0mValve \u001b[1;36m1\u001b[0m\u001b[1m)\u001b[0m set to \u001b[1mValveState.OPEN_FLOW\u001b[0m                         \u001b]8;id=876365;file:///Users/satyamtiwary/Documents/Python-Things/OpenOligo/openoligo/driver/switch.py\u001b\\\u001b[2mswitch.py\u001b[0m\u001b]8;;\u001b\\\u001b[2m:\u001b[0m\u001b]8;id=43987;file:///Users/satyamtiwary/Documents/Python-Things/OpenOligo/openoligo/driver/switch.py#66\u001b\\\u001b[2m66\u001b[0m\u001b]8;;\u001b\\\n"
      ]
     },
     "metadata": {},
     "output_type": "display_data"
    },
    {
     "data": {
      "text/html": [
       "<pre style=\"white-space:pre;overflow-x:auto;line-height:normal;font-family:Menlo,'DejaVu Sans Mono',consolas,'Courier New',monospace\"><span style=\"color: #7fbfbf; text-decoration-color: #7fbfbf\">           </span><span style=\"color: #008000; text-decoration-color: #008000\">DEBUG   </span> <span style=\"font-weight: bold\">&lt;</span><span style=\"color: #ff00ff; text-decoration-color: #ff00ff; font-weight: bold\">switch.py:</span><span style=\"color: #008080; text-decoration-color: #008080; font-weight: bold\">123</span><span style=\"font-weight: bold\">&gt;</span> Toggled the switch: <span style=\"color: #008080; text-decoration-color: #008080; font-weight: bold\">1</span><span style=\"font-weight: bold\">[</span><span style=\"color: #00ff00; text-decoration-color: #00ff00; font-style: italic\">True</span><span style=\"font-weight: bold\">]</span>                                       <a href=\"file:///Users/satyamtiwary/Documents/Python-Things/OpenOligo/openoligo/driver/switch.py\" target=\"_blank\"><span style=\"color: #7f7f7f; text-decoration-color: #7f7f7f\">switch.py</span></a><span style=\"color: #7f7f7f; text-decoration-color: #7f7f7f\">:</span><a href=\"file:///Users/satyamtiwary/Documents/Python-Things/OpenOligo/openoligo/driver/switch.py#123\" target=\"_blank\"><span style=\"color: #7f7f7f; text-decoration-color: #7f7f7f\">123</span></a>\n",
       "</pre>\n"
      ],
      "text/plain": [
       "\u001b[2;36m          \u001b[0m\u001b[2;36m \u001b[0m\u001b[32mDEBUG   \u001b[0m \u001b[1m<\u001b[0m\u001b[1;95mswitch.py:\u001b[0m\u001b[1;36m123\u001b[0m\u001b[1m>\u001b[0m Toggled the switch: \u001b[1;36m1\u001b[0m\u001b[1m[\u001b[0m\u001b[3;92mTrue\u001b[0m\u001b[1m]\u001b[0m                                       \u001b]8;id=984236;file:///Users/satyamtiwary/Documents/Python-Things/OpenOligo/openoligo/driver/switch.py\u001b\\\u001b[2mswitch.py\u001b[0m\u001b]8;;\u001b\\\u001b[2m:\u001b[0m\u001b]8;id=890846;file:///Users/satyamtiwary/Documents/Python-Things/OpenOligo/openoligo/driver/switch.py#123\u001b\\\u001b[2m123\u001b[0m\u001b]8;;\u001b\\\n"
      ]
     },
     "metadata": {},
     "output_type": "display_data"
    },
    {
     "data": {
      "text/html": [
       "<pre style=\"white-space:pre;overflow-x:auto;line-height:normal;font-family:Menlo,'DejaVu Sans Mono',consolas,'Courier New',monospace\"><span style=\"color: #7fbfbf; text-decoration-color: #7fbfbf\">           </span><span style=\"color: #008000; text-decoration-color: #008000\">DEBUG   </span> <span style=\"font-weight: bold\">&lt;</span><span style=\"color: #ff00ff; text-decoration-color: #ff00ff; font-weight: bold\">switch.py:</span><span style=\"color: #008080; text-decoration-color: #008080; font-weight: bold\">66</span><span style=\"font-weight: bold\">&gt;</span> Valve <span style=\"font-weight: bold\">(</span>Valve <span style=\"color: #008080; text-decoration-color: #008080; font-weight: bold\">2</span><span style=\"font-weight: bold\">)</span> set to <span style=\"font-weight: bold\">ValveState.OPEN_FLOW</span>                         <a href=\"file:///Users/satyamtiwary/Documents/Python-Things/OpenOligo/openoligo/driver/switch.py\" target=\"_blank\"><span style=\"color: #7f7f7f; text-decoration-color: #7f7f7f\">switch.py</span></a><span style=\"color: #7f7f7f; text-decoration-color: #7f7f7f\">:</span><a href=\"file:///Users/satyamtiwary/Documents/Python-Things/OpenOligo/openoligo/driver/switch.py#66\" target=\"_blank\"><span style=\"color: #7f7f7f; text-decoration-color: #7f7f7f\">66</span></a>\n",
       "</pre>\n"
      ],
      "text/plain": [
       "\u001b[2;36m          \u001b[0m\u001b[2;36m \u001b[0m\u001b[32mDEBUG   \u001b[0m \u001b[1m<\u001b[0m\u001b[1;95mswitch.py:\u001b[0m\u001b[1;36m66\u001b[0m\u001b[1m>\u001b[0m Valve \u001b[1m(\u001b[0mValve \u001b[1;36m2\u001b[0m\u001b[1m)\u001b[0m set to \u001b[1mValveState.OPEN_FLOW\u001b[0m                         \u001b]8;id=259113;file:///Users/satyamtiwary/Documents/Python-Things/OpenOligo/openoligo/driver/switch.py\u001b\\\u001b[2mswitch.py\u001b[0m\u001b]8;;\u001b\\\u001b[2m:\u001b[0m\u001b]8;id=710973;file:///Users/satyamtiwary/Documents/Python-Things/OpenOligo/openoligo/driver/switch.py#66\u001b\\\u001b[2m66\u001b[0m\u001b]8;;\u001b\\\n"
      ]
     },
     "metadata": {},
     "output_type": "display_data"
    },
    {
     "data": {
      "text/html": [
       "<pre style=\"white-space:pre;overflow-x:auto;line-height:normal;font-family:Menlo,'DejaVu Sans Mono',consolas,'Courier New',monospace\"><span style=\"color: #7fbfbf; text-decoration-color: #7fbfbf\">           </span><span style=\"color: #008000; text-decoration-color: #008000\">DEBUG   </span> <span style=\"font-weight: bold\">&lt;</span><span style=\"color: #ff00ff; text-decoration-color: #ff00ff; font-weight: bold\">switch.py:</span><span style=\"color: #008080; text-decoration-color: #008080; font-weight: bold\">123</span><span style=\"font-weight: bold\">&gt;</span> Toggled the switch: <span style=\"color: #008080; text-decoration-color: #008080; font-weight: bold\">2</span><span style=\"font-weight: bold\">[</span><span style=\"color: #00ff00; text-decoration-color: #00ff00; font-style: italic\">True</span><span style=\"font-weight: bold\">]</span>                                       <a href=\"file:///Users/satyamtiwary/Documents/Python-Things/OpenOligo/openoligo/driver/switch.py\" target=\"_blank\"><span style=\"color: #7f7f7f; text-decoration-color: #7f7f7f\">switch.py</span></a><span style=\"color: #7f7f7f; text-decoration-color: #7f7f7f\">:</span><a href=\"file:///Users/satyamtiwary/Documents/Python-Things/OpenOligo/openoligo/driver/switch.py#123\" target=\"_blank\"><span style=\"color: #7f7f7f; text-decoration-color: #7f7f7f\">123</span></a>\n",
       "</pre>\n"
      ],
      "text/plain": [
       "\u001b[2;36m          \u001b[0m\u001b[2;36m \u001b[0m\u001b[32mDEBUG   \u001b[0m \u001b[1m<\u001b[0m\u001b[1;95mswitch.py:\u001b[0m\u001b[1;36m123\u001b[0m\u001b[1m>\u001b[0m Toggled the switch: \u001b[1;36m2\u001b[0m\u001b[1m[\u001b[0m\u001b[3;92mTrue\u001b[0m\u001b[1m]\u001b[0m                                       \u001b]8;id=74224;file:///Users/satyamtiwary/Documents/Python-Things/OpenOligo/openoligo/driver/switch.py\u001b\\\u001b[2mswitch.py\u001b[0m\u001b]8;;\u001b\\\u001b[2m:\u001b[0m\u001b]8;id=921527;file:///Users/satyamtiwary/Documents/Python-Things/OpenOligo/openoligo/driver/switch.py#123\u001b\\\u001b[2m123\u001b[0m\u001b]8;;\u001b\\\n"
      ]
     },
     "metadata": {},
     "output_type": "display_data"
    },
    {
     "data": {
      "text/html": [
       "<pre style=\"white-space:pre;overflow-x:auto;line-height:normal;font-family:Menlo,'DejaVu Sans Mono',consolas,'Courier New',monospace\"><span style=\"color: #7fbfbf; text-decoration-color: #7fbfbf\">           </span><span style=\"color: #008000; text-decoration-color: #008000\">DEBUG   </span> <span style=\"font-weight: bold\">&lt;</span><span style=\"color: #ff00ff; text-decoration-color: #ff00ff; font-weight: bold\">switch.py:</span><span style=\"color: #008080; text-decoration-color: #008080; font-weight: bold\">66</span><span style=\"font-weight: bold\">&gt;</span> Valve <span style=\"font-weight: bold\">(</span>Valve <span style=\"color: #008080; text-decoration-color: #008080; font-weight: bold\">3</span><span style=\"font-weight: bold\">)</span> set to <span style=\"font-weight: bold\">ValveState.OPEN_FLOW</span>                         <a href=\"file:///Users/satyamtiwary/Documents/Python-Things/OpenOligo/openoligo/driver/switch.py\" target=\"_blank\"><span style=\"color: #7f7f7f; text-decoration-color: #7f7f7f\">switch.py</span></a><span style=\"color: #7f7f7f; text-decoration-color: #7f7f7f\">:</span><a href=\"file:///Users/satyamtiwary/Documents/Python-Things/OpenOligo/openoligo/driver/switch.py#66\" target=\"_blank\"><span style=\"color: #7f7f7f; text-decoration-color: #7f7f7f\">66</span></a>\n",
       "</pre>\n"
      ],
      "text/plain": [
       "\u001b[2;36m          \u001b[0m\u001b[2;36m \u001b[0m\u001b[32mDEBUG   \u001b[0m \u001b[1m<\u001b[0m\u001b[1;95mswitch.py:\u001b[0m\u001b[1;36m66\u001b[0m\u001b[1m>\u001b[0m Valve \u001b[1m(\u001b[0mValve \u001b[1;36m3\u001b[0m\u001b[1m)\u001b[0m set to \u001b[1mValveState.OPEN_FLOW\u001b[0m                         \u001b]8;id=350902;file:///Users/satyamtiwary/Documents/Python-Things/OpenOligo/openoligo/driver/switch.py\u001b\\\u001b[2mswitch.py\u001b[0m\u001b]8;;\u001b\\\u001b[2m:\u001b[0m\u001b]8;id=597789;file:///Users/satyamtiwary/Documents/Python-Things/OpenOligo/openoligo/driver/switch.py#66\u001b\\\u001b[2m66\u001b[0m\u001b]8;;\u001b\\\n"
      ]
     },
     "metadata": {},
     "output_type": "display_data"
    },
    {
     "data": {
      "text/html": [
       "<pre style=\"white-space:pre;overflow-x:auto;line-height:normal;font-family:Menlo,'DejaVu Sans Mono',consolas,'Courier New',monospace\"><span style=\"color: #7fbfbf; text-decoration-color: #7fbfbf\">           </span><span style=\"color: #008000; text-decoration-color: #008000\">DEBUG   </span> <span style=\"font-weight: bold\">&lt;</span><span style=\"color: #ff00ff; text-decoration-color: #ff00ff; font-weight: bold\">switch.py:</span><span style=\"color: #008080; text-decoration-color: #008080; font-weight: bold\">123</span><span style=\"font-weight: bold\">&gt;</span> Toggled the switch: <span style=\"color: #008080; text-decoration-color: #008080; font-weight: bold\">3</span><span style=\"font-weight: bold\">[</span><span style=\"color: #00ff00; text-decoration-color: #00ff00; font-style: italic\">True</span><span style=\"font-weight: bold\">]</span>                                       <a href=\"file:///Users/satyamtiwary/Documents/Python-Things/OpenOligo/openoligo/driver/switch.py\" target=\"_blank\"><span style=\"color: #7f7f7f; text-decoration-color: #7f7f7f\">switch.py</span></a><span style=\"color: #7f7f7f; text-decoration-color: #7f7f7f\">:</span><a href=\"file:///Users/satyamtiwary/Documents/Python-Things/OpenOligo/openoligo/driver/switch.py#123\" target=\"_blank\"><span style=\"color: #7f7f7f; text-decoration-color: #7f7f7f\">123</span></a>\n",
       "</pre>\n"
      ],
      "text/plain": [
       "\u001b[2;36m          \u001b[0m\u001b[2;36m \u001b[0m\u001b[32mDEBUG   \u001b[0m \u001b[1m<\u001b[0m\u001b[1;95mswitch.py:\u001b[0m\u001b[1;36m123\u001b[0m\u001b[1m>\u001b[0m Toggled the switch: \u001b[1;36m3\u001b[0m\u001b[1m[\u001b[0m\u001b[3;92mTrue\u001b[0m\u001b[1m]\u001b[0m                                       \u001b]8;id=598575;file:///Users/satyamtiwary/Documents/Python-Things/OpenOligo/openoligo/driver/switch.py\u001b\\\u001b[2mswitch.py\u001b[0m\u001b]8;;\u001b\\\u001b[2m:\u001b[0m\u001b]8;id=54993;file:///Users/satyamtiwary/Documents/Python-Things/OpenOligo/openoligo/driver/switch.py#123\u001b\\\u001b[2m123\u001b[0m\u001b]8;;\u001b\\\n"
      ]
     },
     "metadata": {},
     "output_type": "display_data"
    },
    {
     "data": {
      "text/plain": [
       "[0[True], 1[True], 2[True], 3[True]]"
      ]
     },
     "execution_count": 8,
     "metadata": {},
     "output_type": "execute_result"
    }
   ],
   "source": [
    "m.all(False)\n",
    "m.toggle()\n",
    "m.valves"
   ]
  },
  {
   "cell_type": "code",
   "execution_count": 9,
   "id": "f462ec92-3e1f-4d2a-b7a4-41b95e56462b",
   "metadata": {},
   "outputs": [
    {
     "data": {
      "text/html": [
       "<pre style=\"white-space:pre;overflow-x:auto;line-height:normal;font-family:Menlo,'DejaVu Sans Mono',consolas,'Courier New',monospace\"><span style=\"color: #7fbfbf; text-decoration-color: #7fbfbf\">[15:45:17] </span><span style=\"color: #008000; text-decoration-color: #008000\">DEBUG   </span> <span style=\"font-weight: bold\">&lt;</span><span style=\"color: #ff00ff; text-decoration-color: #ff00ff; font-weight: bold\">switch.py:</span><span style=\"color: #008080; text-decoration-color: #008080; font-weight: bold\">66</span><span style=\"font-weight: bold\">&gt;</span> Valve <span style=\"font-weight: bold\">(</span>Valve <span style=\"color: #008080; text-decoration-color: #008080; font-weight: bold\">0</span><span style=\"font-weight: bold\">)</span> set to <span style=\"font-weight: bold\">ValveState.OPEN_FLOW</span>                         <a href=\"file:///Users/satyamtiwary/Documents/Python-Things/OpenOligo/openoligo/driver/switch.py\" target=\"_blank\"><span style=\"color: #7f7f7f; text-decoration-color: #7f7f7f\">switch.py</span></a><span style=\"color: #7f7f7f; text-decoration-color: #7f7f7f\">:</span><a href=\"file:///Users/satyamtiwary/Documents/Python-Things/OpenOligo/openoligo/driver/switch.py#66\" target=\"_blank\"><span style=\"color: #7f7f7f; text-decoration-color: #7f7f7f\">66</span></a>\n",
       "</pre>\n"
      ],
      "text/plain": [
       "\u001b[2;36m[15:45:17]\u001b[0m\u001b[2;36m \u001b[0m\u001b[32mDEBUG   \u001b[0m \u001b[1m<\u001b[0m\u001b[1;95mswitch.py:\u001b[0m\u001b[1;36m66\u001b[0m\u001b[1m>\u001b[0m Valve \u001b[1m(\u001b[0mValve \u001b[1;36m0\u001b[0m\u001b[1m)\u001b[0m set to \u001b[1mValveState.OPEN_FLOW\u001b[0m                         \u001b]8;id=62197;file:///Users/satyamtiwary/Documents/Python-Things/OpenOligo/openoligo/driver/switch.py\u001b\\\u001b[2mswitch.py\u001b[0m\u001b]8;;\u001b\\\u001b[2m:\u001b[0m\u001b]8;id=181403;file:///Users/satyamtiwary/Documents/Python-Things/OpenOligo/openoligo/driver/switch.py#66\u001b\\\u001b[2m66\u001b[0m\u001b]8;;\u001b\\\n"
      ]
     },
     "metadata": {},
     "output_type": "display_data"
    },
    {
     "data": {
      "text/html": [
       "<pre style=\"white-space:pre;overflow-x:auto;line-height:normal;font-family:Menlo,'DejaVu Sans Mono',consolas,'Courier New',monospace\"><span style=\"color: #7fbfbf; text-decoration-color: #7fbfbf\">           </span><span style=\"color: #008000; text-decoration-color: #008000\">DEBUG   </span> <span style=\"font-weight: bold\">&lt;</span><span style=\"color: #ff00ff; text-decoration-color: #ff00ff; font-weight: bold\">switch.py:</span><span style=\"color: #008080; text-decoration-color: #008080; font-weight: bold\">66</span><span style=\"font-weight: bold\">&gt;</span> Valve <span style=\"font-weight: bold\">(</span>Valve <span style=\"color: #008080; text-decoration-color: #008080; font-weight: bold\">1</span><span style=\"font-weight: bold\">)</span> set to <span style=\"font-weight: bold\">ValveState.CLOSED_FLOW</span>                       <a href=\"file:///Users/satyamtiwary/Documents/Python-Things/OpenOligo/openoligo/driver/switch.py\" target=\"_blank\"><span style=\"color: #7f7f7f; text-decoration-color: #7f7f7f\">switch.py</span></a><span style=\"color: #7f7f7f; text-decoration-color: #7f7f7f\">:</span><a href=\"file:///Users/satyamtiwary/Documents/Python-Things/OpenOligo/openoligo/driver/switch.py#66\" target=\"_blank\"><span style=\"color: #7f7f7f; text-decoration-color: #7f7f7f\">66</span></a>\n",
       "</pre>\n"
      ],
      "text/plain": [
       "\u001b[2;36m          \u001b[0m\u001b[2;36m \u001b[0m\u001b[32mDEBUG   \u001b[0m \u001b[1m<\u001b[0m\u001b[1;95mswitch.py:\u001b[0m\u001b[1;36m66\u001b[0m\u001b[1m>\u001b[0m Valve \u001b[1m(\u001b[0mValve \u001b[1;36m1\u001b[0m\u001b[1m)\u001b[0m set to \u001b[1mValveState.CLOSED_FLOW\u001b[0m                       \u001b]8;id=161907;file:///Users/satyamtiwary/Documents/Python-Things/OpenOligo/openoligo/driver/switch.py\u001b\\\u001b[2mswitch.py\u001b[0m\u001b]8;;\u001b\\\u001b[2m:\u001b[0m\u001b]8;id=954146;file:///Users/satyamtiwary/Documents/Python-Things/OpenOligo/openoligo/driver/switch.py#66\u001b\\\u001b[2m66\u001b[0m\u001b]8;;\u001b\\\n"
      ]
     },
     "metadata": {},
     "output_type": "display_data"
    },
    {
     "data": {
      "text/html": [
       "<pre style=\"white-space:pre;overflow-x:auto;line-height:normal;font-family:Menlo,'DejaVu Sans Mono',consolas,'Courier New',monospace\"><span style=\"color: #7fbfbf; text-decoration-color: #7fbfbf\">           </span><span style=\"color: #008000; text-decoration-color: #008000\">DEBUG   </span> <span style=\"font-weight: bold\">&lt;</span><span style=\"color: #ff00ff; text-decoration-color: #ff00ff; font-weight: bold\">switch.py:</span><span style=\"color: #008080; text-decoration-color: #008080; font-weight: bold\">66</span><span style=\"font-weight: bold\">&gt;</span> Valve <span style=\"font-weight: bold\">(</span>Valve <span style=\"color: #008080; text-decoration-color: #008080; font-weight: bold\">2</span><span style=\"font-weight: bold\">)</span> set to <span style=\"font-weight: bold\">ValveState.CLOSED_FLOW</span>                       <a href=\"file:///Users/satyamtiwary/Documents/Python-Things/OpenOligo/openoligo/driver/switch.py\" target=\"_blank\"><span style=\"color: #7f7f7f; text-decoration-color: #7f7f7f\">switch.py</span></a><span style=\"color: #7f7f7f; text-decoration-color: #7f7f7f\">:</span><a href=\"file:///Users/satyamtiwary/Documents/Python-Things/OpenOligo/openoligo/driver/switch.py#66\" target=\"_blank\"><span style=\"color: #7f7f7f; text-decoration-color: #7f7f7f\">66</span></a>\n",
       "</pre>\n"
      ],
      "text/plain": [
       "\u001b[2;36m          \u001b[0m\u001b[2;36m \u001b[0m\u001b[32mDEBUG   \u001b[0m \u001b[1m<\u001b[0m\u001b[1;95mswitch.py:\u001b[0m\u001b[1;36m66\u001b[0m\u001b[1m>\u001b[0m Valve \u001b[1m(\u001b[0mValve \u001b[1;36m2\u001b[0m\u001b[1m)\u001b[0m set to \u001b[1mValveState.CLOSED_FLOW\u001b[0m                       \u001b]8;id=744571;file:///Users/satyamtiwary/Documents/Python-Things/OpenOligo/openoligo/driver/switch.py\u001b\\\u001b[2mswitch.py\u001b[0m\u001b]8;;\u001b\\\u001b[2m:\u001b[0m\u001b]8;id=913042;file:///Users/satyamtiwary/Documents/Python-Things/OpenOligo/openoligo/driver/switch.py#66\u001b\\\u001b[2m66\u001b[0m\u001b]8;;\u001b\\\n"
      ]
     },
     "metadata": {},
     "output_type": "display_data"
    },
    {
     "data": {
      "text/html": [
       "<pre style=\"white-space:pre;overflow-x:auto;line-height:normal;font-family:Menlo,'DejaVu Sans Mono',consolas,'Courier New',monospace\"><span style=\"color: #7fbfbf; text-decoration-color: #7fbfbf\">           </span><span style=\"color: #008000; text-decoration-color: #008000\">DEBUG   </span> <span style=\"font-weight: bold\">&lt;</span><span style=\"color: #ff00ff; text-decoration-color: #ff00ff; font-weight: bold\">switch.py:</span><span style=\"color: #008080; text-decoration-color: #008080; font-weight: bold\">66</span><span style=\"font-weight: bold\">&gt;</span> Valve <span style=\"font-weight: bold\">(</span>Valve <span style=\"color: #008080; text-decoration-color: #008080; font-weight: bold\">3</span><span style=\"font-weight: bold\">)</span> set to <span style=\"font-weight: bold\">ValveState.CLOSED_FLOW</span>                       <a href=\"file:///Users/satyamtiwary/Documents/Python-Things/OpenOligo/openoligo/driver/switch.py\" target=\"_blank\"><span style=\"color: #7f7f7f; text-decoration-color: #7f7f7f\">switch.py</span></a><span style=\"color: #7f7f7f; text-decoration-color: #7f7f7f\">:</span><a href=\"file:///Users/satyamtiwary/Documents/Python-Things/OpenOligo/openoligo/driver/switch.py#66\" target=\"_blank\"><span style=\"color: #7f7f7f; text-decoration-color: #7f7f7f\">66</span></a>\n",
       "</pre>\n"
      ],
      "text/plain": [
       "\u001b[2;36m          \u001b[0m\u001b[2;36m \u001b[0m\u001b[32mDEBUG   \u001b[0m \u001b[1m<\u001b[0m\u001b[1;95mswitch.py:\u001b[0m\u001b[1;36m66\u001b[0m\u001b[1m>\u001b[0m Valve \u001b[1m(\u001b[0mValve \u001b[1;36m3\u001b[0m\u001b[1m)\u001b[0m set to \u001b[1mValveState.CLOSED_FLOW\u001b[0m                       \u001b]8;id=812810;file:///Users/satyamtiwary/Documents/Python-Things/OpenOligo/openoligo/driver/switch.py\u001b\\\u001b[2mswitch.py\u001b[0m\u001b]8;;\u001b\\\u001b[2m:\u001b[0m\u001b]8;id=272032;file:///Users/satyamtiwary/Documents/Python-Things/OpenOligo/openoligo/driver/switch.py#66\u001b\\\u001b[2m66\u001b[0m\u001b]8;;\u001b\\\n"
      ]
     },
     "metadata": {},
     "output_type": "display_data"
    },
    {
     "name": "stdout",
     "output_type": "stream",
     "text": [
      "[0[True], 1[False], 2[False], 3[False]]\n"
     ]
    },
    {
     "data": {
      "text/html": [
       "<pre style=\"white-space:pre;overflow-x:auto;line-height:normal;font-family:Menlo,'DejaVu Sans Mono',consolas,'Courier New',monospace\"><span style=\"color: #7fbfbf; text-decoration-color: #7fbfbf\">           </span><span style=\"color: #008000; text-decoration-color: #008000\">DEBUG   </span> <span style=\"font-weight: bold\">&lt;</span><span style=\"color: #ff00ff; text-decoration-color: #ff00ff; font-weight: bold\">switch.py:</span><span style=\"color: #008080; text-decoration-color: #008080; font-weight: bold\">66</span><span style=\"font-weight: bold\">&gt;</span> Valve <span style=\"font-weight: bold\">(</span>Valve <span style=\"color: #008080; text-decoration-color: #008080; font-weight: bold\">0</span><span style=\"font-weight: bold\">)</span> set to <span style=\"font-weight: bold\">ValveState.CLOSED_FLOW</span>                       <a href=\"file:///Users/satyamtiwary/Documents/Python-Things/OpenOligo/openoligo/driver/switch.py\" target=\"_blank\"><span style=\"color: #7f7f7f; text-decoration-color: #7f7f7f\">switch.py</span></a><span style=\"color: #7f7f7f; text-decoration-color: #7f7f7f\">:</span><a href=\"file:///Users/satyamtiwary/Documents/Python-Things/OpenOligo/openoligo/driver/switch.py#66\" target=\"_blank\"><span style=\"color: #7f7f7f; text-decoration-color: #7f7f7f\">66</span></a>\n",
       "</pre>\n"
      ],
      "text/plain": [
       "\u001b[2;36m          \u001b[0m\u001b[2;36m \u001b[0m\u001b[32mDEBUG   \u001b[0m \u001b[1m<\u001b[0m\u001b[1;95mswitch.py:\u001b[0m\u001b[1;36m66\u001b[0m\u001b[1m>\u001b[0m Valve \u001b[1m(\u001b[0mValve \u001b[1;36m0\u001b[0m\u001b[1m)\u001b[0m set to \u001b[1mValveState.CLOSED_FLOW\u001b[0m                       \u001b]8;id=78685;file:///Users/satyamtiwary/Documents/Python-Things/OpenOligo/openoligo/driver/switch.py\u001b\\\u001b[2mswitch.py\u001b[0m\u001b]8;;\u001b\\\u001b[2m:\u001b[0m\u001b]8;id=992675;file:///Users/satyamtiwary/Documents/Python-Things/OpenOligo/openoligo/driver/switch.py#66\u001b\\\u001b[2m66\u001b[0m\u001b]8;;\u001b\\\n"
      ]
     },
     "metadata": {},
     "output_type": "display_data"
    },
    {
     "data": {
      "text/html": [
       "<pre style=\"white-space:pre;overflow-x:auto;line-height:normal;font-family:Menlo,'DejaVu Sans Mono',consolas,'Courier New',monospace\"><span style=\"color: #7fbfbf; text-decoration-color: #7fbfbf\">           </span><span style=\"color: #008000; text-decoration-color: #008000\">DEBUG   </span> <span style=\"font-weight: bold\">&lt;</span><span style=\"color: #ff00ff; text-decoration-color: #ff00ff; font-weight: bold\">switch.py:</span><span style=\"color: #008080; text-decoration-color: #008080; font-weight: bold\">66</span><span style=\"font-weight: bold\">&gt;</span> Valve <span style=\"font-weight: bold\">(</span>Valve <span style=\"color: #008080; text-decoration-color: #008080; font-weight: bold\">1</span><span style=\"font-weight: bold\">)</span> set to <span style=\"font-weight: bold\">ValveState.OPEN_FLOW</span>                         <a href=\"file:///Users/satyamtiwary/Documents/Python-Things/OpenOligo/openoligo/driver/switch.py\" target=\"_blank\"><span style=\"color: #7f7f7f; text-decoration-color: #7f7f7f\">switch.py</span></a><span style=\"color: #7f7f7f; text-decoration-color: #7f7f7f\">:</span><a href=\"file:///Users/satyamtiwary/Documents/Python-Things/OpenOligo/openoligo/driver/switch.py#66\" target=\"_blank\"><span style=\"color: #7f7f7f; text-decoration-color: #7f7f7f\">66</span></a>\n",
       "</pre>\n"
      ],
      "text/plain": [
       "\u001b[2;36m          \u001b[0m\u001b[2;36m \u001b[0m\u001b[32mDEBUG   \u001b[0m \u001b[1m<\u001b[0m\u001b[1;95mswitch.py:\u001b[0m\u001b[1;36m66\u001b[0m\u001b[1m>\u001b[0m Valve \u001b[1m(\u001b[0mValve \u001b[1;36m1\u001b[0m\u001b[1m)\u001b[0m set to \u001b[1mValveState.OPEN_FLOW\u001b[0m                         \u001b]8;id=239547;file:///Users/satyamtiwary/Documents/Python-Things/OpenOligo/openoligo/driver/switch.py\u001b\\\u001b[2mswitch.py\u001b[0m\u001b]8;;\u001b\\\u001b[2m:\u001b[0m\u001b]8;id=594696;file:///Users/satyamtiwary/Documents/Python-Things/OpenOligo/openoligo/driver/switch.py#66\u001b\\\u001b[2m66\u001b[0m\u001b]8;;\u001b\\\n"
      ]
     },
     "metadata": {},
     "output_type": "display_data"
    },
    {
     "data": {
      "text/html": [
       "<pre style=\"white-space:pre;overflow-x:auto;line-height:normal;font-family:Menlo,'DejaVu Sans Mono',consolas,'Courier New',monospace\"><span style=\"color: #7fbfbf; text-decoration-color: #7fbfbf\">           </span><span style=\"color: #008000; text-decoration-color: #008000\">DEBUG   </span> <span style=\"font-weight: bold\">&lt;</span><span style=\"color: #ff00ff; text-decoration-color: #ff00ff; font-weight: bold\">switch.py:</span><span style=\"color: #008080; text-decoration-color: #008080; font-weight: bold\">66</span><span style=\"font-weight: bold\">&gt;</span> Valve <span style=\"font-weight: bold\">(</span>Valve <span style=\"color: #008080; text-decoration-color: #008080; font-weight: bold\">2</span><span style=\"font-weight: bold\">)</span> set to <span style=\"font-weight: bold\">ValveState.CLOSED_FLOW</span>                       <a href=\"file:///Users/satyamtiwary/Documents/Python-Things/OpenOligo/openoligo/driver/switch.py\" target=\"_blank\"><span style=\"color: #7f7f7f; text-decoration-color: #7f7f7f\">switch.py</span></a><span style=\"color: #7f7f7f; text-decoration-color: #7f7f7f\">:</span><a href=\"file:///Users/satyamtiwary/Documents/Python-Things/OpenOligo/openoligo/driver/switch.py#66\" target=\"_blank\"><span style=\"color: #7f7f7f; text-decoration-color: #7f7f7f\">66</span></a>\n",
       "</pre>\n"
      ],
      "text/plain": [
       "\u001b[2;36m          \u001b[0m\u001b[2;36m \u001b[0m\u001b[32mDEBUG   \u001b[0m \u001b[1m<\u001b[0m\u001b[1;95mswitch.py:\u001b[0m\u001b[1;36m66\u001b[0m\u001b[1m>\u001b[0m Valve \u001b[1m(\u001b[0mValve \u001b[1;36m2\u001b[0m\u001b[1m)\u001b[0m set to \u001b[1mValveState.CLOSED_FLOW\u001b[0m                       \u001b]8;id=353409;file:///Users/satyamtiwary/Documents/Python-Things/OpenOligo/openoligo/driver/switch.py\u001b\\\u001b[2mswitch.py\u001b[0m\u001b]8;;\u001b\\\u001b[2m:\u001b[0m\u001b]8;id=672839;file:///Users/satyamtiwary/Documents/Python-Things/OpenOligo/openoligo/driver/switch.py#66\u001b\\\u001b[2m66\u001b[0m\u001b]8;;\u001b\\\n"
      ]
     },
     "metadata": {},
     "output_type": "display_data"
    },
    {
     "data": {
      "text/html": [
       "<pre style=\"white-space:pre;overflow-x:auto;line-height:normal;font-family:Menlo,'DejaVu Sans Mono',consolas,'Courier New',monospace\"><span style=\"color: #7fbfbf; text-decoration-color: #7fbfbf\">           </span><span style=\"color: #008000; text-decoration-color: #008000\">DEBUG   </span> <span style=\"font-weight: bold\">&lt;</span><span style=\"color: #ff00ff; text-decoration-color: #ff00ff; font-weight: bold\">switch.py:</span><span style=\"color: #008080; text-decoration-color: #008080; font-weight: bold\">66</span><span style=\"font-weight: bold\">&gt;</span> Valve <span style=\"font-weight: bold\">(</span>Valve <span style=\"color: #008080; text-decoration-color: #008080; font-weight: bold\">3</span><span style=\"font-weight: bold\">)</span> set to <span style=\"font-weight: bold\">ValveState.CLOSED_FLOW</span>                       <a href=\"file:///Users/satyamtiwary/Documents/Python-Things/OpenOligo/openoligo/driver/switch.py\" target=\"_blank\"><span style=\"color: #7f7f7f; text-decoration-color: #7f7f7f\">switch.py</span></a><span style=\"color: #7f7f7f; text-decoration-color: #7f7f7f\">:</span><a href=\"file:///Users/satyamtiwary/Documents/Python-Things/OpenOligo/openoligo/driver/switch.py#66\" target=\"_blank\"><span style=\"color: #7f7f7f; text-decoration-color: #7f7f7f\">66</span></a>\n",
       "</pre>\n"
      ],
      "text/plain": [
       "\u001b[2;36m          \u001b[0m\u001b[2;36m \u001b[0m\u001b[32mDEBUG   \u001b[0m \u001b[1m<\u001b[0m\u001b[1;95mswitch.py:\u001b[0m\u001b[1;36m66\u001b[0m\u001b[1m>\u001b[0m Valve \u001b[1m(\u001b[0mValve \u001b[1;36m3\u001b[0m\u001b[1m)\u001b[0m set to \u001b[1mValveState.CLOSED_FLOW\u001b[0m                       \u001b]8;id=238758;file:///Users/satyamtiwary/Documents/Python-Things/OpenOligo/openoligo/driver/switch.py\u001b\\\u001b[2mswitch.py\u001b[0m\u001b]8;;\u001b\\\u001b[2m:\u001b[0m\u001b]8;id=680680;file:///Users/satyamtiwary/Documents/Python-Things/OpenOligo/openoligo/driver/switch.py#66\u001b\\\u001b[2m66\u001b[0m\u001b]8;;\u001b\\\n"
      ]
     },
     "metadata": {},
     "output_type": "display_data"
    },
    {
     "name": "stdout",
     "output_type": "stream",
     "text": [
      "[0[False], 1[True], 2[False], 3[False]]\n"
     ]
    },
    {
     "data": {
      "text/html": [
       "<pre style=\"white-space:pre;overflow-x:auto;line-height:normal;font-family:Menlo,'DejaVu Sans Mono',consolas,'Courier New',monospace\"><span style=\"color: #7fbfbf; text-decoration-color: #7fbfbf\">           </span><span style=\"color: #008000; text-decoration-color: #008000\">DEBUG   </span> <span style=\"font-weight: bold\">&lt;</span><span style=\"color: #ff00ff; text-decoration-color: #ff00ff; font-weight: bold\">switch.py:</span><span style=\"color: #008080; text-decoration-color: #008080; font-weight: bold\">66</span><span style=\"font-weight: bold\">&gt;</span> Valve <span style=\"font-weight: bold\">(</span>Valve <span style=\"color: #008080; text-decoration-color: #008080; font-weight: bold\">0</span><span style=\"font-weight: bold\">)</span> set to <span style=\"font-weight: bold\">ValveState.CLOSED_FLOW</span>                       <a href=\"file:///Users/satyamtiwary/Documents/Python-Things/OpenOligo/openoligo/driver/switch.py\" target=\"_blank\"><span style=\"color: #7f7f7f; text-decoration-color: #7f7f7f\">switch.py</span></a><span style=\"color: #7f7f7f; text-decoration-color: #7f7f7f\">:</span><a href=\"file:///Users/satyamtiwary/Documents/Python-Things/OpenOligo/openoligo/driver/switch.py#66\" target=\"_blank\"><span style=\"color: #7f7f7f; text-decoration-color: #7f7f7f\">66</span></a>\n",
       "</pre>\n"
      ],
      "text/plain": [
       "\u001b[2;36m          \u001b[0m\u001b[2;36m \u001b[0m\u001b[32mDEBUG   \u001b[0m \u001b[1m<\u001b[0m\u001b[1;95mswitch.py:\u001b[0m\u001b[1;36m66\u001b[0m\u001b[1m>\u001b[0m Valve \u001b[1m(\u001b[0mValve \u001b[1;36m0\u001b[0m\u001b[1m)\u001b[0m set to \u001b[1mValveState.CLOSED_FLOW\u001b[0m                       \u001b]8;id=522241;file:///Users/satyamtiwary/Documents/Python-Things/OpenOligo/openoligo/driver/switch.py\u001b\\\u001b[2mswitch.py\u001b[0m\u001b]8;;\u001b\\\u001b[2m:\u001b[0m\u001b]8;id=504732;file:///Users/satyamtiwary/Documents/Python-Things/OpenOligo/openoligo/driver/switch.py#66\u001b\\\u001b[2m66\u001b[0m\u001b]8;;\u001b\\\n"
      ]
     },
     "metadata": {},
     "output_type": "display_data"
    },
    {
     "data": {
      "text/html": [
       "<pre style=\"white-space:pre;overflow-x:auto;line-height:normal;font-family:Menlo,'DejaVu Sans Mono',consolas,'Courier New',monospace\"><span style=\"color: #7fbfbf; text-decoration-color: #7fbfbf\">           </span><span style=\"color: #008000; text-decoration-color: #008000\">DEBUG   </span> <span style=\"font-weight: bold\">&lt;</span><span style=\"color: #ff00ff; text-decoration-color: #ff00ff; font-weight: bold\">switch.py:</span><span style=\"color: #008080; text-decoration-color: #008080; font-weight: bold\">66</span><span style=\"font-weight: bold\">&gt;</span> Valve <span style=\"font-weight: bold\">(</span>Valve <span style=\"color: #008080; text-decoration-color: #008080; font-weight: bold\">1</span><span style=\"font-weight: bold\">)</span> set to <span style=\"font-weight: bold\">ValveState.CLOSED_FLOW</span>                       <a href=\"file:///Users/satyamtiwary/Documents/Python-Things/OpenOligo/openoligo/driver/switch.py\" target=\"_blank\"><span style=\"color: #7f7f7f; text-decoration-color: #7f7f7f\">switch.py</span></a><span style=\"color: #7f7f7f; text-decoration-color: #7f7f7f\">:</span><a href=\"file:///Users/satyamtiwary/Documents/Python-Things/OpenOligo/openoligo/driver/switch.py#66\" target=\"_blank\"><span style=\"color: #7f7f7f; text-decoration-color: #7f7f7f\">66</span></a>\n",
       "</pre>\n"
      ],
      "text/plain": [
       "\u001b[2;36m          \u001b[0m\u001b[2;36m \u001b[0m\u001b[32mDEBUG   \u001b[0m \u001b[1m<\u001b[0m\u001b[1;95mswitch.py:\u001b[0m\u001b[1;36m66\u001b[0m\u001b[1m>\u001b[0m Valve \u001b[1m(\u001b[0mValve \u001b[1;36m1\u001b[0m\u001b[1m)\u001b[0m set to \u001b[1mValveState.CLOSED_FLOW\u001b[0m                       \u001b]8;id=61078;file:///Users/satyamtiwary/Documents/Python-Things/OpenOligo/openoligo/driver/switch.py\u001b\\\u001b[2mswitch.py\u001b[0m\u001b]8;;\u001b\\\u001b[2m:\u001b[0m\u001b]8;id=105701;file:///Users/satyamtiwary/Documents/Python-Things/OpenOligo/openoligo/driver/switch.py#66\u001b\\\u001b[2m66\u001b[0m\u001b]8;;\u001b\\\n"
      ]
     },
     "metadata": {},
     "output_type": "display_data"
    },
    {
     "data": {
      "text/html": [
       "<pre style=\"white-space:pre;overflow-x:auto;line-height:normal;font-family:Menlo,'DejaVu Sans Mono',consolas,'Courier New',monospace\"><span style=\"color: #7fbfbf; text-decoration-color: #7fbfbf\">           </span><span style=\"color: #008000; text-decoration-color: #008000\">DEBUG   </span> <span style=\"font-weight: bold\">&lt;</span><span style=\"color: #ff00ff; text-decoration-color: #ff00ff; font-weight: bold\">switch.py:</span><span style=\"color: #008080; text-decoration-color: #008080; font-weight: bold\">66</span><span style=\"font-weight: bold\">&gt;</span> Valve <span style=\"font-weight: bold\">(</span>Valve <span style=\"color: #008080; text-decoration-color: #008080; font-weight: bold\">2</span><span style=\"font-weight: bold\">)</span> set to <span style=\"font-weight: bold\">ValveState.OPEN_FLOW</span>                         <a href=\"file:///Users/satyamtiwary/Documents/Python-Things/OpenOligo/openoligo/driver/switch.py\" target=\"_blank\"><span style=\"color: #7f7f7f; text-decoration-color: #7f7f7f\">switch.py</span></a><span style=\"color: #7f7f7f; text-decoration-color: #7f7f7f\">:</span><a href=\"file:///Users/satyamtiwary/Documents/Python-Things/OpenOligo/openoligo/driver/switch.py#66\" target=\"_blank\"><span style=\"color: #7f7f7f; text-decoration-color: #7f7f7f\">66</span></a>\n",
       "</pre>\n"
      ],
      "text/plain": [
       "\u001b[2;36m          \u001b[0m\u001b[2;36m \u001b[0m\u001b[32mDEBUG   \u001b[0m \u001b[1m<\u001b[0m\u001b[1;95mswitch.py:\u001b[0m\u001b[1;36m66\u001b[0m\u001b[1m>\u001b[0m Valve \u001b[1m(\u001b[0mValve \u001b[1;36m2\u001b[0m\u001b[1m)\u001b[0m set to \u001b[1mValveState.OPEN_FLOW\u001b[0m                         \u001b]8;id=919413;file:///Users/satyamtiwary/Documents/Python-Things/OpenOligo/openoligo/driver/switch.py\u001b\\\u001b[2mswitch.py\u001b[0m\u001b]8;;\u001b\\\u001b[2m:\u001b[0m\u001b]8;id=809662;file:///Users/satyamtiwary/Documents/Python-Things/OpenOligo/openoligo/driver/switch.py#66\u001b\\\u001b[2m66\u001b[0m\u001b]8;;\u001b\\\n"
      ]
     },
     "metadata": {},
     "output_type": "display_data"
    },
    {
     "data": {
      "text/html": [
       "<pre style=\"white-space:pre;overflow-x:auto;line-height:normal;font-family:Menlo,'DejaVu Sans Mono',consolas,'Courier New',monospace\"><span style=\"color: #7fbfbf; text-decoration-color: #7fbfbf\">           </span><span style=\"color: #008000; text-decoration-color: #008000\">DEBUG   </span> <span style=\"font-weight: bold\">&lt;</span><span style=\"color: #ff00ff; text-decoration-color: #ff00ff; font-weight: bold\">switch.py:</span><span style=\"color: #008080; text-decoration-color: #008080; font-weight: bold\">66</span><span style=\"font-weight: bold\">&gt;</span> Valve <span style=\"font-weight: bold\">(</span>Valve <span style=\"color: #008080; text-decoration-color: #008080; font-weight: bold\">3</span><span style=\"font-weight: bold\">)</span> set to <span style=\"font-weight: bold\">ValveState.CLOSED_FLOW</span>                       <a href=\"file:///Users/satyamtiwary/Documents/Python-Things/OpenOligo/openoligo/driver/switch.py\" target=\"_blank\"><span style=\"color: #7f7f7f; text-decoration-color: #7f7f7f\">switch.py</span></a><span style=\"color: #7f7f7f; text-decoration-color: #7f7f7f\">:</span><a href=\"file:///Users/satyamtiwary/Documents/Python-Things/OpenOligo/openoligo/driver/switch.py#66\" target=\"_blank\"><span style=\"color: #7f7f7f; text-decoration-color: #7f7f7f\">66</span></a>\n",
       "</pre>\n"
      ],
      "text/plain": [
       "\u001b[2;36m          \u001b[0m\u001b[2;36m \u001b[0m\u001b[32mDEBUG   \u001b[0m \u001b[1m<\u001b[0m\u001b[1;95mswitch.py:\u001b[0m\u001b[1;36m66\u001b[0m\u001b[1m>\u001b[0m Valve \u001b[1m(\u001b[0mValve \u001b[1;36m3\u001b[0m\u001b[1m)\u001b[0m set to \u001b[1mValveState.CLOSED_FLOW\u001b[0m                       \u001b]8;id=187546;file:///Users/satyamtiwary/Documents/Python-Things/OpenOligo/openoligo/driver/switch.py\u001b\\\u001b[2mswitch.py\u001b[0m\u001b]8;;\u001b\\\u001b[2m:\u001b[0m\u001b]8;id=644971;file:///Users/satyamtiwary/Documents/Python-Things/OpenOligo/openoligo/driver/switch.py#66\u001b\\\u001b[2m66\u001b[0m\u001b]8;;\u001b\\\n"
      ]
     },
     "metadata": {},
     "output_type": "display_data"
    },
    {
     "name": "stdout",
     "output_type": "stream",
     "text": [
      "[0[False], 1[False], 2[True], 3[False]]\n"
     ]
    },
    {
     "data": {
      "text/html": [
       "<pre style=\"white-space:pre;overflow-x:auto;line-height:normal;font-family:Menlo,'DejaVu Sans Mono',consolas,'Courier New',monospace\"><span style=\"color: #7fbfbf; text-decoration-color: #7fbfbf\">           </span><span style=\"color: #008000; text-decoration-color: #008000\">DEBUG   </span> <span style=\"font-weight: bold\">&lt;</span><span style=\"color: #ff00ff; text-decoration-color: #ff00ff; font-weight: bold\">switch.py:</span><span style=\"color: #008080; text-decoration-color: #008080; font-weight: bold\">66</span><span style=\"font-weight: bold\">&gt;</span> Valve <span style=\"font-weight: bold\">(</span>Valve <span style=\"color: #008080; text-decoration-color: #008080; font-weight: bold\">0</span><span style=\"font-weight: bold\">)</span> set to <span style=\"font-weight: bold\">ValveState.CLOSED_FLOW</span>                       <a href=\"file:///Users/satyamtiwary/Documents/Python-Things/OpenOligo/openoligo/driver/switch.py\" target=\"_blank\"><span style=\"color: #7f7f7f; text-decoration-color: #7f7f7f\">switch.py</span></a><span style=\"color: #7f7f7f; text-decoration-color: #7f7f7f\">:</span><a href=\"file:///Users/satyamtiwary/Documents/Python-Things/OpenOligo/openoligo/driver/switch.py#66\" target=\"_blank\"><span style=\"color: #7f7f7f; text-decoration-color: #7f7f7f\">66</span></a>\n",
       "</pre>\n"
      ],
      "text/plain": [
       "\u001b[2;36m          \u001b[0m\u001b[2;36m \u001b[0m\u001b[32mDEBUG   \u001b[0m \u001b[1m<\u001b[0m\u001b[1;95mswitch.py:\u001b[0m\u001b[1;36m66\u001b[0m\u001b[1m>\u001b[0m Valve \u001b[1m(\u001b[0mValve \u001b[1;36m0\u001b[0m\u001b[1m)\u001b[0m set to \u001b[1mValveState.CLOSED_FLOW\u001b[0m                       \u001b]8;id=874613;file:///Users/satyamtiwary/Documents/Python-Things/OpenOligo/openoligo/driver/switch.py\u001b\\\u001b[2mswitch.py\u001b[0m\u001b]8;;\u001b\\\u001b[2m:\u001b[0m\u001b]8;id=6895;file:///Users/satyamtiwary/Documents/Python-Things/OpenOligo/openoligo/driver/switch.py#66\u001b\\\u001b[2m66\u001b[0m\u001b]8;;\u001b\\\n"
      ]
     },
     "metadata": {},
     "output_type": "display_data"
    },
    {
     "data": {
      "text/html": [
       "<pre style=\"white-space:pre;overflow-x:auto;line-height:normal;font-family:Menlo,'DejaVu Sans Mono',consolas,'Courier New',monospace\"><span style=\"color: #7fbfbf; text-decoration-color: #7fbfbf\">           </span><span style=\"color: #008000; text-decoration-color: #008000\">DEBUG   </span> <span style=\"font-weight: bold\">&lt;</span><span style=\"color: #ff00ff; text-decoration-color: #ff00ff; font-weight: bold\">switch.py:</span><span style=\"color: #008080; text-decoration-color: #008080; font-weight: bold\">66</span><span style=\"font-weight: bold\">&gt;</span> Valve <span style=\"font-weight: bold\">(</span>Valve <span style=\"color: #008080; text-decoration-color: #008080; font-weight: bold\">1</span><span style=\"font-weight: bold\">)</span> set to <span style=\"font-weight: bold\">ValveState.CLOSED_FLOW</span>                       <a href=\"file:///Users/satyamtiwary/Documents/Python-Things/OpenOligo/openoligo/driver/switch.py\" target=\"_blank\"><span style=\"color: #7f7f7f; text-decoration-color: #7f7f7f\">switch.py</span></a><span style=\"color: #7f7f7f; text-decoration-color: #7f7f7f\">:</span><a href=\"file:///Users/satyamtiwary/Documents/Python-Things/OpenOligo/openoligo/driver/switch.py#66\" target=\"_blank\"><span style=\"color: #7f7f7f; text-decoration-color: #7f7f7f\">66</span></a>\n",
       "</pre>\n"
      ],
      "text/plain": [
       "\u001b[2;36m          \u001b[0m\u001b[2;36m \u001b[0m\u001b[32mDEBUG   \u001b[0m \u001b[1m<\u001b[0m\u001b[1;95mswitch.py:\u001b[0m\u001b[1;36m66\u001b[0m\u001b[1m>\u001b[0m Valve \u001b[1m(\u001b[0mValve \u001b[1;36m1\u001b[0m\u001b[1m)\u001b[0m set to \u001b[1mValveState.CLOSED_FLOW\u001b[0m                       \u001b]8;id=941283;file:///Users/satyamtiwary/Documents/Python-Things/OpenOligo/openoligo/driver/switch.py\u001b\\\u001b[2mswitch.py\u001b[0m\u001b]8;;\u001b\\\u001b[2m:\u001b[0m\u001b]8;id=73679;file:///Users/satyamtiwary/Documents/Python-Things/OpenOligo/openoligo/driver/switch.py#66\u001b\\\u001b[2m66\u001b[0m\u001b]8;;\u001b\\\n"
      ]
     },
     "metadata": {},
     "output_type": "display_data"
    },
    {
     "data": {
      "text/html": [
       "<pre style=\"white-space:pre;overflow-x:auto;line-height:normal;font-family:Menlo,'DejaVu Sans Mono',consolas,'Courier New',monospace\"><span style=\"color: #7fbfbf; text-decoration-color: #7fbfbf\">           </span><span style=\"color: #008000; text-decoration-color: #008000\">DEBUG   </span> <span style=\"font-weight: bold\">&lt;</span><span style=\"color: #ff00ff; text-decoration-color: #ff00ff; font-weight: bold\">switch.py:</span><span style=\"color: #008080; text-decoration-color: #008080; font-weight: bold\">66</span><span style=\"font-weight: bold\">&gt;</span> Valve <span style=\"font-weight: bold\">(</span>Valve <span style=\"color: #008080; text-decoration-color: #008080; font-weight: bold\">2</span><span style=\"font-weight: bold\">)</span> set to <span style=\"font-weight: bold\">ValveState.CLOSED_FLOW</span>                       <a href=\"file:///Users/satyamtiwary/Documents/Python-Things/OpenOligo/openoligo/driver/switch.py\" target=\"_blank\"><span style=\"color: #7f7f7f; text-decoration-color: #7f7f7f\">switch.py</span></a><span style=\"color: #7f7f7f; text-decoration-color: #7f7f7f\">:</span><a href=\"file:///Users/satyamtiwary/Documents/Python-Things/OpenOligo/openoligo/driver/switch.py#66\" target=\"_blank\"><span style=\"color: #7f7f7f; text-decoration-color: #7f7f7f\">66</span></a>\n",
       "</pre>\n"
      ],
      "text/plain": [
       "\u001b[2;36m          \u001b[0m\u001b[2;36m \u001b[0m\u001b[32mDEBUG   \u001b[0m \u001b[1m<\u001b[0m\u001b[1;95mswitch.py:\u001b[0m\u001b[1;36m66\u001b[0m\u001b[1m>\u001b[0m Valve \u001b[1m(\u001b[0mValve \u001b[1;36m2\u001b[0m\u001b[1m)\u001b[0m set to \u001b[1mValveState.CLOSED_FLOW\u001b[0m                       \u001b]8;id=533412;file:///Users/satyamtiwary/Documents/Python-Things/OpenOligo/openoligo/driver/switch.py\u001b\\\u001b[2mswitch.py\u001b[0m\u001b]8;;\u001b\\\u001b[2m:\u001b[0m\u001b]8;id=463662;file:///Users/satyamtiwary/Documents/Python-Things/OpenOligo/openoligo/driver/switch.py#66\u001b\\\u001b[2m66\u001b[0m\u001b]8;;\u001b\\\n"
      ]
     },
     "metadata": {},
     "output_type": "display_data"
    },
    {
     "data": {
      "text/html": [
       "<pre style=\"white-space:pre;overflow-x:auto;line-height:normal;font-family:Menlo,'DejaVu Sans Mono',consolas,'Courier New',monospace\"><span style=\"color: #7fbfbf; text-decoration-color: #7fbfbf\">           </span><span style=\"color: #008000; text-decoration-color: #008000\">DEBUG   </span> <span style=\"font-weight: bold\">&lt;</span><span style=\"color: #ff00ff; text-decoration-color: #ff00ff; font-weight: bold\">switch.py:</span><span style=\"color: #008080; text-decoration-color: #008080; font-weight: bold\">66</span><span style=\"font-weight: bold\">&gt;</span> Valve <span style=\"font-weight: bold\">(</span>Valve <span style=\"color: #008080; text-decoration-color: #008080; font-weight: bold\">3</span><span style=\"font-weight: bold\">)</span> set to <span style=\"font-weight: bold\">ValveState.OPEN_FLOW</span>                         <a href=\"file:///Users/satyamtiwary/Documents/Python-Things/OpenOligo/openoligo/driver/switch.py\" target=\"_blank\"><span style=\"color: #7f7f7f; text-decoration-color: #7f7f7f\">switch.py</span></a><span style=\"color: #7f7f7f; text-decoration-color: #7f7f7f\">:</span><a href=\"file:///Users/satyamtiwary/Documents/Python-Things/OpenOligo/openoligo/driver/switch.py#66\" target=\"_blank\"><span style=\"color: #7f7f7f; text-decoration-color: #7f7f7f\">66</span></a>\n",
       "</pre>\n"
      ],
      "text/plain": [
       "\u001b[2;36m          \u001b[0m\u001b[2;36m \u001b[0m\u001b[32mDEBUG   \u001b[0m \u001b[1m<\u001b[0m\u001b[1;95mswitch.py:\u001b[0m\u001b[1;36m66\u001b[0m\u001b[1m>\u001b[0m Valve \u001b[1m(\u001b[0mValve \u001b[1;36m3\u001b[0m\u001b[1m)\u001b[0m set to \u001b[1mValveState.OPEN_FLOW\u001b[0m                         \u001b]8;id=768588;file:///Users/satyamtiwary/Documents/Python-Things/OpenOligo/openoligo/driver/switch.py\u001b\\\u001b[2mswitch.py\u001b[0m\u001b]8;;\u001b\\\u001b[2m:\u001b[0m\u001b]8;id=972482;file:///Users/satyamtiwary/Documents/Python-Things/OpenOligo/openoligo/driver/switch.py#66\u001b\\\u001b[2m66\u001b[0m\u001b]8;;\u001b\\\n"
      ]
     },
     "metadata": {},
     "output_type": "display_data"
    },
    {
     "name": "stdout",
     "output_type": "stream",
     "text": [
      "[0[False], 1[False], 2[False], 3[True]]\n"
     ]
    }
   ],
   "source": [
    "for i in range(4):\n",
    "    m.activate_flow(i)\n",
    "    print(m.valves)"
   ]
  },
  {
   "cell_type": "code",
   "execution_count": 10,
   "id": "d1b328c8-eee6-4947-9d09-4acc5cfd627d",
   "metadata": {},
   "outputs": [
    {
     "data": {
      "text/html": [
       "<pre style=\"white-space:pre;overflow-x:auto;line-height:normal;font-family:Menlo,'DejaVu Sans Mono',consolas,'Courier New',monospace\"><span style=\"color: #7fbfbf; text-decoration-color: #7fbfbf\">[15:45:19] </span><span style=\"color: #008000; text-decoration-color: #008000\">DEBUG   </span> <span style=\"font-weight: bold\">&lt;</span><span style=\"color: #ff00ff; text-decoration-color: #ff00ff; font-weight: bold\">switch.py:</span><span style=\"color: #008080; text-decoration-color: #008080; font-weight: bold\">66</span><span style=\"font-weight: bold\">&gt;</span> Valve <span style=\"font-weight: bold\">(</span>Valve <span style=\"color: #008080; text-decoration-color: #008080; font-weight: bold\">0</span><span style=\"font-weight: bold\">)</span> set to <span style=\"font-weight: bold\">ValveState.OPEN_FLOW</span>                         <a href=\"file:///Users/satyamtiwary/Documents/Python-Things/OpenOligo/openoligo/driver/switch.py\" target=\"_blank\"><span style=\"color: #7f7f7f; text-decoration-color: #7f7f7f\">switch.py</span></a><span style=\"color: #7f7f7f; text-decoration-color: #7f7f7f\">:</span><a href=\"file:///Users/satyamtiwary/Documents/Python-Things/OpenOligo/openoligo/driver/switch.py#66\" target=\"_blank\"><span style=\"color: #7f7f7f; text-decoration-color: #7f7f7f\">66</span></a>\n",
       "</pre>\n"
      ],
      "text/plain": [
       "\u001b[2;36m[15:45:19]\u001b[0m\u001b[2;36m \u001b[0m\u001b[32mDEBUG   \u001b[0m \u001b[1m<\u001b[0m\u001b[1;95mswitch.py:\u001b[0m\u001b[1;36m66\u001b[0m\u001b[1m>\u001b[0m Valve \u001b[1m(\u001b[0mValve \u001b[1;36m0\u001b[0m\u001b[1m)\u001b[0m set to \u001b[1mValveState.OPEN_FLOW\u001b[0m                         \u001b]8;id=725642;file:///Users/satyamtiwary/Documents/Python-Things/OpenOligo/openoligo/driver/switch.py\u001b\\\u001b[2mswitch.py\u001b[0m\u001b]8;;\u001b\\\u001b[2m:\u001b[0m\u001b]8;id=865968;file:///Users/satyamtiwary/Documents/Python-Things/OpenOligo/openoligo/driver/switch.py#66\u001b\\\u001b[2m66\u001b[0m\u001b]8;;\u001b\\\n"
      ]
     },
     "metadata": {},
     "output_type": "display_data"
    },
    {
     "data": {
      "text/html": [
       "<pre style=\"white-space:pre;overflow-x:auto;line-height:normal;font-family:Menlo,'DejaVu Sans Mono',consolas,'Courier New',monospace\"><span style=\"color: #7fbfbf; text-decoration-color: #7fbfbf\">           </span><span style=\"color: #008000; text-decoration-color: #008000\">DEBUG   </span> <span style=\"font-weight: bold\">&lt;</span><span style=\"color: #ff00ff; text-decoration-color: #ff00ff; font-weight: bold\">switch.py:</span><span style=\"color: #008080; text-decoration-color: #008080; font-weight: bold\">66</span><span style=\"font-weight: bold\">&gt;</span> Valve <span style=\"font-weight: bold\">(</span>Valve <span style=\"color: #008080; text-decoration-color: #008080; font-weight: bold\">1</span><span style=\"font-weight: bold\">)</span> set to <span style=\"font-weight: bold\">ValveState.OPEN_FLOW</span>                         <a href=\"file:///Users/satyamtiwary/Documents/Python-Things/OpenOligo/openoligo/driver/switch.py\" target=\"_blank\"><span style=\"color: #7f7f7f; text-decoration-color: #7f7f7f\">switch.py</span></a><span style=\"color: #7f7f7f; text-decoration-color: #7f7f7f\">:</span><a href=\"file:///Users/satyamtiwary/Documents/Python-Things/OpenOligo/openoligo/driver/switch.py#66\" target=\"_blank\"><span style=\"color: #7f7f7f; text-decoration-color: #7f7f7f\">66</span></a>\n",
       "</pre>\n"
      ],
      "text/plain": [
       "\u001b[2;36m          \u001b[0m\u001b[2;36m \u001b[0m\u001b[32mDEBUG   \u001b[0m \u001b[1m<\u001b[0m\u001b[1;95mswitch.py:\u001b[0m\u001b[1;36m66\u001b[0m\u001b[1m>\u001b[0m Valve \u001b[1m(\u001b[0mValve \u001b[1;36m1\u001b[0m\u001b[1m)\u001b[0m set to \u001b[1mValveState.OPEN_FLOW\u001b[0m                         \u001b]8;id=621584;file:///Users/satyamtiwary/Documents/Python-Things/OpenOligo/openoligo/driver/switch.py\u001b\\\u001b[2mswitch.py\u001b[0m\u001b]8;;\u001b\\\u001b[2m:\u001b[0m\u001b]8;id=334477;file:///Users/satyamtiwary/Documents/Python-Things/OpenOligo/openoligo/driver/switch.py#66\u001b\\\u001b[2m66\u001b[0m\u001b]8;;\u001b\\\n"
      ]
     },
     "metadata": {},
     "output_type": "display_data"
    },
    {
     "data": {
      "text/html": [
       "<pre style=\"white-space:pre;overflow-x:auto;line-height:normal;font-family:Menlo,'DejaVu Sans Mono',consolas,'Courier New',monospace\"><span style=\"color: #7fbfbf; text-decoration-color: #7fbfbf\">           </span><span style=\"color: #008000; text-decoration-color: #008000\">DEBUG   </span> <span style=\"font-weight: bold\">&lt;</span><span style=\"color: #ff00ff; text-decoration-color: #ff00ff; font-weight: bold\">switch.py:</span><span style=\"color: #008080; text-decoration-color: #008080; font-weight: bold\">66</span><span style=\"font-weight: bold\">&gt;</span> Valve <span style=\"font-weight: bold\">(</span>Valve <span style=\"color: #008080; text-decoration-color: #008080; font-weight: bold\">2</span><span style=\"font-weight: bold\">)</span> set to <span style=\"font-weight: bold\">ValveState.CLOSED_FLOW</span>                       <a href=\"file:///Users/satyamtiwary/Documents/Python-Things/OpenOligo/openoligo/driver/switch.py\" target=\"_blank\"><span style=\"color: #7f7f7f; text-decoration-color: #7f7f7f\">switch.py</span></a><span style=\"color: #7f7f7f; text-decoration-color: #7f7f7f\">:</span><a href=\"file:///Users/satyamtiwary/Documents/Python-Things/OpenOligo/openoligo/driver/switch.py#66\" target=\"_blank\"><span style=\"color: #7f7f7f; text-decoration-color: #7f7f7f\">66</span></a>\n",
       "</pre>\n"
      ],
      "text/plain": [
       "\u001b[2;36m          \u001b[0m\u001b[2;36m \u001b[0m\u001b[32mDEBUG   \u001b[0m \u001b[1m<\u001b[0m\u001b[1;95mswitch.py:\u001b[0m\u001b[1;36m66\u001b[0m\u001b[1m>\u001b[0m Valve \u001b[1m(\u001b[0mValve \u001b[1;36m2\u001b[0m\u001b[1m)\u001b[0m set to \u001b[1mValveState.CLOSED_FLOW\u001b[0m                       \u001b]8;id=253571;file:///Users/satyamtiwary/Documents/Python-Things/OpenOligo/openoligo/driver/switch.py\u001b\\\u001b[2mswitch.py\u001b[0m\u001b]8;;\u001b\\\u001b[2m:\u001b[0m\u001b]8;id=411438;file:///Users/satyamtiwary/Documents/Python-Things/OpenOligo/openoligo/driver/switch.py#66\u001b\\\u001b[2m66\u001b[0m\u001b]8;;\u001b\\\n"
      ]
     },
     "metadata": {},
     "output_type": "display_data"
    },
    {
     "data": {
      "text/html": [
       "<pre style=\"white-space:pre;overflow-x:auto;line-height:normal;font-family:Menlo,'DejaVu Sans Mono',consolas,'Courier New',monospace\"><span style=\"color: #7fbfbf; text-decoration-color: #7fbfbf\">           </span><span style=\"color: #008000; text-decoration-color: #008000\">DEBUG   </span> <span style=\"font-weight: bold\">&lt;</span><span style=\"color: #ff00ff; text-decoration-color: #ff00ff; font-weight: bold\">switch.py:</span><span style=\"color: #008080; text-decoration-color: #008080; font-weight: bold\">66</span><span style=\"font-weight: bold\">&gt;</span> Valve <span style=\"font-weight: bold\">(</span>Valve <span style=\"color: #008080; text-decoration-color: #008080; font-weight: bold\">3</span><span style=\"font-weight: bold\">)</span> set to <span style=\"font-weight: bold\">ValveState.CLOSED_FLOW</span>                       <a href=\"file:///Users/satyamtiwary/Documents/Python-Things/OpenOligo/openoligo/driver/switch.py\" target=\"_blank\"><span style=\"color: #7f7f7f; text-decoration-color: #7f7f7f\">switch.py</span></a><span style=\"color: #7f7f7f; text-decoration-color: #7f7f7f\">:</span><a href=\"file:///Users/satyamtiwary/Documents/Python-Things/OpenOligo/openoligo/driver/switch.py#66\" target=\"_blank\"><span style=\"color: #7f7f7f; text-decoration-color: #7f7f7f\">66</span></a>\n",
       "</pre>\n"
      ],
      "text/plain": [
       "\u001b[2;36m          \u001b[0m\u001b[2;36m \u001b[0m\u001b[32mDEBUG   \u001b[0m \u001b[1m<\u001b[0m\u001b[1;95mswitch.py:\u001b[0m\u001b[1;36m66\u001b[0m\u001b[1m>\u001b[0m Valve \u001b[1m(\u001b[0mValve \u001b[1;36m3\u001b[0m\u001b[1m)\u001b[0m set to \u001b[1mValveState.CLOSED_FLOW\u001b[0m                       \u001b]8;id=820911;file:///Users/satyamtiwary/Documents/Python-Things/OpenOligo/openoligo/driver/switch.py\u001b\\\u001b[2mswitch.py\u001b[0m\u001b]8;;\u001b\\\u001b[2m:\u001b[0m\u001b]8;id=722058;file:///Users/satyamtiwary/Documents/Python-Things/OpenOligo/openoligo/driver/switch.py#66\u001b\\\u001b[2m66\u001b[0m\u001b]8;;\u001b\\\n"
      ]
     },
     "metadata": {},
     "output_type": "display_data"
    },
    {
     "data": {
      "text/plain": [
       "[0[True], 1[True], 2[False], 3[False]]"
      ]
     },
     "execution_count": 10,
     "metadata": {},
     "output_type": "execute_result"
    }
   ],
   "source": [
    "m.activate_n_flows([0, 1])\n",
    "m.valves"
   ]
  },
  {
   "cell_type": "markdown",
   "id": "7446af38-f1ea-407f-872f-bfa8078b062d",
   "metadata": {},
   "source": [
    "# Board API"
   ]
  },
  {
   "cell_type": "code",
   "execution_count": 19,
   "id": "8f551581-1759-40a9-930d-ac61ac86ee5b",
   "metadata": {},
   "outputs": [
    {
     "data": {
      "text/html": [
       "<pre style=\"white-space:pre;overflow-x:auto;line-height:normal;font-family:Menlo,'DejaVu Sans Mono',consolas,'Courier New',monospace\"><span style=\"color: #7fbfbf; text-decoration-color: #7fbfbf\">[23:10:46] </span><span style=\"color: #008000; text-decoration-color: #008000\">DEBUG   </span> <span style=\"font-weight: bold\">&lt;</span><span style=\"color: #ff00ff; text-decoration-color: #ff00ff; font-weight: bold\">board.py:</span><span style=\"color: #008080; text-decoration-color: #008080; font-weight: bold\">45</span><span style=\"font-weight: bold\">&gt;</span> Setting pin RPi.PIN3 to <span style=\"color: #00ff00; text-decoration-color: #00ff00; font-style: italic\">True</span>                                          <a href=\"file:///Users/satyamtiwary/Documents/Python-Things/OpenOligo/openoligo/driver/board.py\" target=\"_blank\"><span style=\"color: #7f7f7f; text-decoration-color: #7f7f7f\">board.py</span></a><span style=\"color: #7f7f7f; text-decoration-color: #7f7f7f\">:</span><a href=\"file:///Users/satyamtiwary/Documents/Python-Things/OpenOligo/openoligo/driver/board.py#45\" target=\"_blank\"><span style=\"color: #7f7f7f; text-decoration-color: #7f7f7f\">45</span></a>\n",
       "</pre>\n"
      ],
      "text/plain": [
       "\u001b[2;36m[23:10:46]\u001b[0m\u001b[2;36m \u001b[0m\u001b[32mDEBUG   \u001b[0m \u001b[1m<\u001b[0m\u001b[1;95mboard.py:\u001b[0m\u001b[1;36m45\u001b[0m\u001b[1m>\u001b[0m Setting pin RPi.PIN3 to \u001b[3;92mTrue\u001b[0m                                          \u001b]8;id=441034;file:///Users/satyamtiwary/Documents/Python-Things/OpenOligo/openoligo/driver/board.py\u001b\\\u001b[2mboard.py\u001b[0m\u001b]8;;\u001b\\\u001b[2m:\u001b[0m\u001b]8;id=206692;file:///Users/satyamtiwary/Documents/Python-Things/OpenOligo/openoligo/driver/board.py#45\u001b\\\u001b[2m45\u001b[0m\u001b]8;;\u001b\\\n"
      ]
     },
     "metadata": {},
     "output_type": "display_data"
    },
    {
     "data": {
      "text/html": [
       "<pre style=\"white-space:pre;overflow-x:auto;line-height:normal;font-family:Menlo,'DejaVu Sans Mono',consolas,'Courier New',monospace\"><span style=\"color: #7fbfbf; text-decoration-color: #7fbfbf\">           </span><span style=\"color: #008000; text-decoration-color: #008000\">DEBUG   </span> <span style=\"font-weight: bold\">&lt;</span><span style=\"color: #ff00ff; text-decoration-color: #ff00ff; font-weight: bold\">board.py:</span><span style=\"color: #008080; text-decoration-color: #008080; font-weight: bold\">45</span><span style=\"font-weight: bold\">&gt;</span> Setting pin RPi.PIN10 to <span style=\"color: #00ff00; text-decoration-color: #00ff00; font-style: italic\">True</span>                                         <a href=\"file:///Users/satyamtiwary/Documents/Python-Things/OpenOligo/openoligo/driver/board.py\" target=\"_blank\"><span style=\"color: #7f7f7f; text-decoration-color: #7f7f7f\">board.py</span></a><span style=\"color: #7f7f7f; text-decoration-color: #7f7f7f\">:</span><a href=\"file:///Users/satyamtiwary/Documents/Python-Things/OpenOligo/openoligo/driver/board.py#45\" target=\"_blank\"><span style=\"color: #7f7f7f; text-decoration-color: #7f7f7f\">45</span></a>\n",
       "</pre>\n"
      ],
      "text/plain": [
       "\u001b[2;36m          \u001b[0m\u001b[2;36m \u001b[0m\u001b[32mDEBUG   \u001b[0m \u001b[1m<\u001b[0m\u001b[1;95mboard.py:\u001b[0m\u001b[1;36m45\u001b[0m\u001b[1m>\u001b[0m Setting pin RPi.PIN10 to \u001b[3;92mTrue\u001b[0m                                         \u001b]8;id=507478;file:///Users/satyamtiwary/Documents/Python-Things/OpenOligo/openoligo/driver/board.py\u001b\\\u001b[2mboard.py\u001b[0m\u001b]8;;\u001b\\\u001b[2m:\u001b[0m\u001b]8;id=63566;file:///Users/satyamtiwary/Documents/Python-Things/OpenOligo/openoligo/driver/board.py#45\u001b\\\u001b[2m45\u001b[0m\u001b]8;;\u001b\\\n"
      ]
     },
     "metadata": {},
     "output_type": "display_data"
    },
    {
     "data": {
      "text/html": [
       "<pre style=\"white-space:pre;overflow-x:auto;line-height:normal;font-family:Menlo,'DejaVu Sans Mono',consolas,'Courier New',monospace\"><span style=\"color: #7fbfbf; text-decoration-color: #7fbfbf\">           </span><span style=\"color: #008000; text-decoration-color: #008000\">DEBUG   </span> <span style=\"font-weight: bold\">&lt;</span><span style=\"color: #ff00ff; text-decoration-color: #ff00ff; font-weight: bold\">board.py:</span><span style=\"color: #008080; text-decoration-color: #008080; font-weight: bold\">45</span><span style=\"font-weight: bold\">&gt;</span> Setting pin RPi.PIN27 to <span style=\"color: #00ff00; text-decoration-color: #00ff00; font-style: italic\">True</span>                                         <a href=\"file:///Users/satyamtiwary/Documents/Python-Things/OpenOligo/openoligo/driver/board.py\" target=\"_blank\"><span style=\"color: #7f7f7f; text-decoration-color: #7f7f7f\">board.py</span></a><span style=\"color: #7f7f7f; text-decoration-color: #7f7f7f\">:</span><a href=\"file:///Users/satyamtiwary/Documents/Python-Things/OpenOligo/openoligo/driver/board.py#45\" target=\"_blank\"><span style=\"color: #7f7f7f; text-decoration-color: #7f7f7f\">45</span></a>\n",
       "</pre>\n"
      ],
      "text/plain": [
       "\u001b[2;36m          \u001b[0m\u001b[2;36m \u001b[0m\u001b[32mDEBUG   \u001b[0m \u001b[1m<\u001b[0m\u001b[1;95mboard.py:\u001b[0m\u001b[1;36m45\u001b[0m\u001b[1m>\u001b[0m Setting pin RPi.PIN27 to \u001b[3;92mTrue\u001b[0m                                         \u001b]8;id=20478;file:///Users/satyamtiwary/Documents/Python-Things/OpenOligo/openoligo/driver/board.py\u001b\\\u001b[2mboard.py\u001b[0m\u001b]8;;\u001b\\\u001b[2m:\u001b[0m\u001b]8;id=938573;file:///Users/satyamtiwary/Documents/Python-Things/OpenOligo/openoligo/driver/board.py#45\u001b\\\u001b[2m45\u001b[0m\u001b]8;;\u001b\\\n"
      ]
     },
     "metadata": {},
     "output_type": "display_data"
    },
    {
     "data": {
      "text/html": [
       "<pre style=\"white-space:pre;overflow-x:auto;line-height:normal;font-family:Menlo,'DejaVu Sans Mono',consolas,'Courier New',monospace\"><span style=\"color: #7fbfbf; text-decoration-color: #7fbfbf\">           </span><span style=\"color: #008000; text-decoration-color: #008000\">DEBUG   </span> <span style=\"font-weight: bold\">&lt;</span><span style=\"color: #ff00ff; text-decoration-color: #ff00ff; font-weight: bold\">board.py:</span><span style=\"color: #008080; text-decoration-color: #008080; font-weight: bold\">45</span><span style=\"font-weight: bold\">&gt;</span> Setting pin RPi.PIN3 to <span style=\"color: #ff0000; text-decoration-color: #ff0000; font-style: italic\">False</span>                                         <a href=\"file:///Users/satyamtiwary/Documents/Python-Things/OpenOligo/openoligo/driver/board.py\" target=\"_blank\"><span style=\"color: #7f7f7f; text-decoration-color: #7f7f7f\">board.py</span></a><span style=\"color: #7f7f7f; text-decoration-color: #7f7f7f\">:</span><a href=\"file:///Users/satyamtiwary/Documents/Python-Things/OpenOligo/openoligo/driver/board.py#45\" target=\"_blank\"><span style=\"color: #7f7f7f; text-decoration-color: #7f7f7f\">45</span></a>\n",
       "</pre>\n"
      ],
      "text/plain": [
       "\u001b[2;36m          \u001b[0m\u001b[2;36m \u001b[0m\u001b[32mDEBUG   \u001b[0m \u001b[1m<\u001b[0m\u001b[1;95mboard.py:\u001b[0m\u001b[1;36m45\u001b[0m\u001b[1m>\u001b[0m Setting pin RPi.PIN3 to \u001b[3;91mFalse\u001b[0m                                         \u001b]8;id=400985;file:///Users/satyamtiwary/Documents/Python-Things/OpenOligo/openoligo/driver/board.py\u001b\\\u001b[2mboard.py\u001b[0m\u001b]8;;\u001b\\\u001b[2m:\u001b[0m\u001b]8;id=902899;file:///Users/satyamtiwary/Documents/Python-Things/OpenOligo/openoligo/driver/board.py#45\u001b\\\u001b[2m45\u001b[0m\u001b]8;;\u001b\\\n"
      ]
     },
     "metadata": {},
     "output_type": "display_data"
    },
    {
     "data": {
      "text/html": [
       "<pre style=\"white-space:pre;overflow-x:auto;line-height:normal;font-family:Menlo,'DejaVu Sans Mono',consolas,'Courier New',monospace\"><span style=\"color: #7fbfbf; text-decoration-color: #7fbfbf\">           </span><span style=\"color: #008000; text-decoration-color: #008000\">DEBUG   </span> <span style=\"font-weight: bold\">&lt;</span><span style=\"color: #ff00ff; text-decoration-color: #ff00ff; font-weight: bold\">board.py:</span><span style=\"color: #008080; text-decoration-color: #008080; font-weight: bold\">45</span><span style=\"font-weight: bold\">&gt;</span> Setting pin RPi.PIN5 to <span style=\"color: #ff0000; text-decoration-color: #ff0000; font-style: italic\">False</span>                                         <a href=\"file:///Users/satyamtiwary/Documents/Python-Things/OpenOligo/openoligo/driver/board.py\" target=\"_blank\"><span style=\"color: #7f7f7f; text-decoration-color: #7f7f7f\">board.py</span></a><span style=\"color: #7f7f7f; text-decoration-color: #7f7f7f\">:</span><a href=\"file:///Users/satyamtiwary/Documents/Python-Things/OpenOligo/openoligo/driver/board.py#45\" target=\"_blank\"><span style=\"color: #7f7f7f; text-decoration-color: #7f7f7f\">45</span></a>\n",
       "</pre>\n"
      ],
      "text/plain": [
       "\u001b[2;36m          \u001b[0m\u001b[2;36m \u001b[0m\u001b[32mDEBUG   \u001b[0m \u001b[1m<\u001b[0m\u001b[1;95mboard.py:\u001b[0m\u001b[1;36m45\u001b[0m\u001b[1m>\u001b[0m Setting pin RPi.PIN5 to \u001b[3;91mFalse\u001b[0m                                         \u001b]8;id=426790;file:///Users/satyamtiwary/Documents/Python-Things/OpenOligo/openoligo/driver/board.py\u001b\\\u001b[2mboard.py\u001b[0m\u001b]8;;\u001b\\\u001b[2m:\u001b[0m\u001b]8;id=930956;file:///Users/satyamtiwary/Documents/Python-Things/OpenOligo/openoligo/driver/board.py#45\u001b\\\u001b[2m45\u001b[0m\u001b]8;;\u001b\\\n"
      ]
     },
     "metadata": {},
     "output_type": "display_data"
    },
    {
     "data": {
      "text/html": [
       "<pre style=\"white-space:pre;overflow-x:auto;line-height:normal;font-family:Menlo,'DejaVu Sans Mono',consolas,'Courier New',monospace\"><span style=\"color: #7fbfbf; text-decoration-color: #7fbfbf\">           </span><span style=\"color: #008000; text-decoration-color: #008000\">DEBUG   </span> <span style=\"font-weight: bold\">&lt;</span><span style=\"color: #ff00ff; text-decoration-color: #ff00ff; font-weight: bold\">board.py:</span><span style=\"color: #008080; text-decoration-color: #008080; font-weight: bold\">45</span><span style=\"font-weight: bold\">&gt;</span> Setting pin RPi.PIN7 to <span style=\"color: #ff0000; text-decoration-color: #ff0000; font-style: italic\">False</span>                                         <a href=\"file:///Users/satyamtiwary/Documents/Python-Things/OpenOligo/openoligo/driver/board.py\" target=\"_blank\"><span style=\"color: #7f7f7f; text-decoration-color: #7f7f7f\">board.py</span></a><span style=\"color: #7f7f7f; text-decoration-color: #7f7f7f\">:</span><a href=\"file:///Users/satyamtiwary/Documents/Python-Things/OpenOligo/openoligo/driver/board.py#45\" target=\"_blank\"><span style=\"color: #7f7f7f; text-decoration-color: #7f7f7f\">45</span></a>\n",
       "</pre>\n"
      ],
      "text/plain": [
       "\u001b[2;36m          \u001b[0m\u001b[2;36m \u001b[0m\u001b[32mDEBUG   \u001b[0m \u001b[1m<\u001b[0m\u001b[1;95mboard.py:\u001b[0m\u001b[1;36m45\u001b[0m\u001b[1m>\u001b[0m Setting pin RPi.PIN7 to \u001b[3;91mFalse\u001b[0m                                         \u001b]8;id=718453;file:///Users/satyamtiwary/Documents/Python-Things/OpenOligo/openoligo/driver/board.py\u001b\\\u001b[2mboard.py\u001b[0m\u001b]8;;\u001b\\\u001b[2m:\u001b[0m\u001b]8;id=275299;file:///Users/satyamtiwary/Documents/Python-Things/OpenOligo/openoligo/driver/board.py#45\u001b\\\u001b[2m45\u001b[0m\u001b]8;;\u001b\\\n"
      ]
     },
     "metadata": {},
     "output_type": "display_data"
    },
    {
     "data": {
      "text/html": [
       "<pre style=\"white-space:pre;overflow-x:auto;line-height:normal;font-family:Menlo,'DejaVu Sans Mono',consolas,'Courier New',monospace\"><span style=\"color: #7fbfbf; text-decoration-color: #7fbfbf\">           </span><span style=\"color: #008000; text-decoration-color: #008000\">DEBUG   </span> <span style=\"font-weight: bold\">&lt;</span><span style=\"color: #ff00ff; text-decoration-color: #ff00ff; font-weight: bold\">board.py:</span><span style=\"color: #008080; text-decoration-color: #008080; font-weight: bold\">45</span><span style=\"font-weight: bold\">&gt;</span> Setting pin RPi.PIN8 to <span style=\"color: #ff0000; text-decoration-color: #ff0000; font-style: italic\">False</span>                                         <a href=\"file:///Users/satyamtiwary/Documents/Python-Things/OpenOligo/openoligo/driver/board.py\" target=\"_blank\"><span style=\"color: #7f7f7f; text-decoration-color: #7f7f7f\">board.py</span></a><span style=\"color: #7f7f7f; text-decoration-color: #7f7f7f\">:</span><a href=\"file:///Users/satyamtiwary/Documents/Python-Things/OpenOligo/openoligo/driver/board.py#45\" target=\"_blank\"><span style=\"color: #7f7f7f; text-decoration-color: #7f7f7f\">45</span></a>\n",
       "</pre>\n"
      ],
      "text/plain": [
       "\u001b[2;36m          \u001b[0m\u001b[2;36m \u001b[0m\u001b[32mDEBUG   \u001b[0m \u001b[1m<\u001b[0m\u001b[1;95mboard.py:\u001b[0m\u001b[1;36m45\u001b[0m\u001b[1m>\u001b[0m Setting pin RPi.PIN8 to \u001b[3;91mFalse\u001b[0m                                         \u001b]8;id=148007;file:///Users/satyamtiwary/Documents/Python-Things/OpenOligo/openoligo/driver/board.py\u001b\\\u001b[2mboard.py\u001b[0m\u001b]8;;\u001b\\\u001b[2m:\u001b[0m\u001b]8;id=189438;file:///Users/satyamtiwary/Documents/Python-Things/OpenOligo/openoligo/driver/board.py#45\u001b\\\u001b[2m45\u001b[0m\u001b]8;;\u001b\\\n"
      ]
     },
     "metadata": {},
     "output_type": "display_data"
    },
    {
     "data": {
      "text/html": [
       "<pre style=\"white-space:pre;overflow-x:auto;line-height:normal;font-family:Menlo,'DejaVu Sans Mono',consolas,'Courier New',monospace\"><span style=\"color: #7fbfbf; text-decoration-color: #7fbfbf\">           </span><span style=\"color: #008000; text-decoration-color: #008000\">DEBUG   </span> <span style=\"font-weight: bold\">&lt;</span><span style=\"color: #ff00ff; text-decoration-color: #ff00ff; font-weight: bold\">board.py:</span><span style=\"color: #008080; text-decoration-color: #008080; font-weight: bold\">45</span><span style=\"font-weight: bold\">&gt;</span> Setting pin RPi.PIN10 to <span style=\"color: #ff0000; text-decoration-color: #ff0000; font-style: italic\">False</span>                                        <a href=\"file:///Users/satyamtiwary/Documents/Python-Things/OpenOligo/openoligo/driver/board.py\" target=\"_blank\"><span style=\"color: #7f7f7f; text-decoration-color: #7f7f7f\">board.py</span></a><span style=\"color: #7f7f7f; text-decoration-color: #7f7f7f\">:</span><a href=\"file:///Users/satyamtiwary/Documents/Python-Things/OpenOligo/openoligo/driver/board.py#45\" target=\"_blank\"><span style=\"color: #7f7f7f; text-decoration-color: #7f7f7f\">45</span></a>\n",
       "</pre>\n"
      ],
      "text/plain": [
       "\u001b[2;36m          \u001b[0m\u001b[2;36m \u001b[0m\u001b[32mDEBUG   \u001b[0m \u001b[1m<\u001b[0m\u001b[1;95mboard.py:\u001b[0m\u001b[1;36m45\u001b[0m\u001b[1m>\u001b[0m Setting pin RPi.PIN10 to \u001b[3;91mFalse\u001b[0m                                        \u001b]8;id=188962;file:///Users/satyamtiwary/Documents/Python-Things/OpenOligo/openoligo/driver/board.py\u001b\\\u001b[2mboard.py\u001b[0m\u001b]8;;\u001b\\\u001b[2m:\u001b[0m\u001b]8;id=257948;file:///Users/satyamtiwary/Documents/Python-Things/OpenOligo/openoligo/driver/board.py#45\u001b\\\u001b[2m45\u001b[0m\u001b]8;;\u001b\\\n"
      ]
     },
     "metadata": {},
     "output_type": "display_data"
    },
    {
     "data": {
      "text/html": [
       "<pre style=\"white-space:pre;overflow-x:auto;line-height:normal;font-family:Menlo,'DejaVu Sans Mono',consolas,'Courier New',monospace\"><span style=\"color: #7fbfbf; text-decoration-color: #7fbfbf\">           </span><span style=\"color: #008000; text-decoration-color: #008000\">DEBUG   </span> <span style=\"font-weight: bold\">&lt;</span><span style=\"color: #ff00ff; text-decoration-color: #ff00ff; font-weight: bold\">board.py:</span><span style=\"color: #008080; text-decoration-color: #008080; font-weight: bold\">45</span><span style=\"font-weight: bold\">&gt;</span> Setting pin RPi.PIN11 to <span style=\"color: #ff0000; text-decoration-color: #ff0000; font-style: italic\">False</span>                                        <a href=\"file:///Users/satyamtiwary/Documents/Python-Things/OpenOligo/openoligo/driver/board.py\" target=\"_blank\"><span style=\"color: #7f7f7f; text-decoration-color: #7f7f7f\">board.py</span></a><span style=\"color: #7f7f7f; text-decoration-color: #7f7f7f\">:</span><a href=\"file:///Users/satyamtiwary/Documents/Python-Things/OpenOligo/openoligo/driver/board.py#45\" target=\"_blank\"><span style=\"color: #7f7f7f; text-decoration-color: #7f7f7f\">45</span></a>\n",
       "</pre>\n"
      ],
      "text/plain": [
       "\u001b[2;36m          \u001b[0m\u001b[2;36m \u001b[0m\u001b[32mDEBUG   \u001b[0m \u001b[1m<\u001b[0m\u001b[1;95mboard.py:\u001b[0m\u001b[1;36m45\u001b[0m\u001b[1m>\u001b[0m Setting pin RPi.PIN11 to \u001b[3;91mFalse\u001b[0m                                        \u001b]8;id=618519;file:///Users/satyamtiwary/Documents/Python-Things/OpenOligo/openoligo/driver/board.py\u001b\\\u001b[2mboard.py\u001b[0m\u001b]8;;\u001b\\\u001b[2m:\u001b[0m\u001b]8;id=976675;file:///Users/satyamtiwary/Documents/Python-Things/OpenOligo/openoligo/driver/board.py#45\u001b\\\u001b[2m45\u001b[0m\u001b]8;;\u001b\\\n"
      ]
     },
     "metadata": {},
     "output_type": "display_data"
    },
    {
     "data": {
      "text/html": [
       "<pre style=\"white-space:pre;overflow-x:auto;line-height:normal;font-family:Menlo,'DejaVu Sans Mono',consolas,'Courier New',monospace\"><span style=\"color: #7fbfbf; text-decoration-color: #7fbfbf\">           </span><span style=\"color: #008000; text-decoration-color: #008000\">DEBUG   </span> <span style=\"font-weight: bold\">&lt;</span><span style=\"color: #ff00ff; text-decoration-color: #ff00ff; font-weight: bold\">board.py:</span><span style=\"color: #008080; text-decoration-color: #008080; font-weight: bold\">45</span><span style=\"font-weight: bold\">&gt;</span> Setting pin RPi.PIN12 to <span style=\"color: #ff0000; text-decoration-color: #ff0000; font-style: italic\">False</span>                                        <a href=\"file:///Users/satyamtiwary/Documents/Python-Things/OpenOligo/openoligo/driver/board.py\" target=\"_blank\"><span style=\"color: #7f7f7f; text-decoration-color: #7f7f7f\">board.py</span></a><span style=\"color: #7f7f7f; text-decoration-color: #7f7f7f\">:</span><a href=\"file:///Users/satyamtiwary/Documents/Python-Things/OpenOligo/openoligo/driver/board.py#45\" target=\"_blank\"><span style=\"color: #7f7f7f; text-decoration-color: #7f7f7f\">45</span></a>\n",
       "</pre>\n"
      ],
      "text/plain": [
       "\u001b[2;36m          \u001b[0m\u001b[2;36m \u001b[0m\u001b[32mDEBUG   \u001b[0m \u001b[1m<\u001b[0m\u001b[1;95mboard.py:\u001b[0m\u001b[1;36m45\u001b[0m\u001b[1m>\u001b[0m Setting pin RPi.PIN12 to \u001b[3;91mFalse\u001b[0m                                        \u001b]8;id=330815;file:///Users/satyamtiwary/Documents/Python-Things/OpenOligo/openoligo/driver/board.py\u001b\\\u001b[2mboard.py\u001b[0m\u001b]8;;\u001b\\\u001b[2m:\u001b[0m\u001b]8;id=560818;file:///Users/satyamtiwary/Documents/Python-Things/OpenOligo/openoligo/driver/board.py#45\u001b\\\u001b[2m45\u001b[0m\u001b]8;;\u001b\\\n"
      ]
     },
     "metadata": {},
     "output_type": "display_data"
    },
    {
     "data": {
      "text/html": [
       "<pre style=\"white-space:pre;overflow-x:auto;line-height:normal;font-family:Menlo,'DejaVu Sans Mono',consolas,'Courier New',monospace\"><span style=\"color: #7fbfbf; text-decoration-color: #7fbfbf\">           </span><span style=\"color: #008000; text-decoration-color: #008000\">DEBUG   </span> <span style=\"font-weight: bold\">&lt;</span><span style=\"color: #ff00ff; text-decoration-color: #ff00ff; font-weight: bold\">board.py:</span><span style=\"color: #008080; text-decoration-color: #008080; font-weight: bold\">45</span><span style=\"font-weight: bold\">&gt;</span> Setting pin RPi.PIN13 to <span style=\"color: #ff0000; text-decoration-color: #ff0000; font-style: italic\">False</span>                                        <a href=\"file:///Users/satyamtiwary/Documents/Python-Things/OpenOligo/openoligo/driver/board.py\" target=\"_blank\"><span style=\"color: #7f7f7f; text-decoration-color: #7f7f7f\">board.py</span></a><span style=\"color: #7f7f7f; text-decoration-color: #7f7f7f\">:</span><a href=\"file:///Users/satyamtiwary/Documents/Python-Things/OpenOligo/openoligo/driver/board.py#45\" target=\"_blank\"><span style=\"color: #7f7f7f; text-decoration-color: #7f7f7f\">45</span></a>\n",
       "</pre>\n"
      ],
      "text/plain": [
       "\u001b[2;36m          \u001b[0m\u001b[2;36m \u001b[0m\u001b[32mDEBUG   \u001b[0m \u001b[1m<\u001b[0m\u001b[1;95mboard.py:\u001b[0m\u001b[1;36m45\u001b[0m\u001b[1m>\u001b[0m Setting pin RPi.PIN13 to \u001b[3;91mFalse\u001b[0m                                        \u001b]8;id=458788;file:///Users/satyamtiwary/Documents/Python-Things/OpenOligo/openoligo/driver/board.py\u001b\\\u001b[2mboard.py\u001b[0m\u001b]8;;\u001b\\\u001b[2m:\u001b[0m\u001b]8;id=838429;file:///Users/satyamtiwary/Documents/Python-Things/OpenOligo/openoligo/driver/board.py#45\u001b\\\u001b[2m45\u001b[0m\u001b]8;;\u001b\\\n"
      ]
     },
     "metadata": {},
     "output_type": "display_data"
    },
    {
     "data": {
      "text/html": [
       "<pre style=\"white-space:pre;overflow-x:auto;line-height:normal;font-family:Menlo,'DejaVu Sans Mono',consolas,'Courier New',monospace\"><span style=\"color: #7fbfbf; text-decoration-color: #7fbfbf\">           </span><span style=\"color: #008000; text-decoration-color: #008000\">DEBUG   </span> <span style=\"font-weight: bold\">&lt;</span><span style=\"color: #ff00ff; text-decoration-color: #ff00ff; font-weight: bold\">board.py:</span><span style=\"color: #008080; text-decoration-color: #008080; font-weight: bold\">45</span><span style=\"font-weight: bold\">&gt;</span> Setting pin RPi.PIN15 to <span style=\"color: #ff0000; text-decoration-color: #ff0000; font-style: italic\">False</span>                                        <a href=\"file:///Users/satyamtiwary/Documents/Python-Things/OpenOligo/openoligo/driver/board.py\" target=\"_blank\"><span style=\"color: #7f7f7f; text-decoration-color: #7f7f7f\">board.py</span></a><span style=\"color: #7f7f7f; text-decoration-color: #7f7f7f\">:</span><a href=\"file:///Users/satyamtiwary/Documents/Python-Things/OpenOligo/openoligo/driver/board.py#45\" target=\"_blank\"><span style=\"color: #7f7f7f; text-decoration-color: #7f7f7f\">45</span></a>\n",
       "</pre>\n"
      ],
      "text/plain": [
       "\u001b[2;36m          \u001b[0m\u001b[2;36m \u001b[0m\u001b[32mDEBUG   \u001b[0m \u001b[1m<\u001b[0m\u001b[1;95mboard.py:\u001b[0m\u001b[1;36m45\u001b[0m\u001b[1m>\u001b[0m Setting pin RPi.PIN15 to \u001b[3;91mFalse\u001b[0m                                        \u001b]8;id=560164;file:///Users/satyamtiwary/Documents/Python-Things/OpenOligo/openoligo/driver/board.py\u001b\\\u001b[2mboard.py\u001b[0m\u001b]8;;\u001b\\\u001b[2m:\u001b[0m\u001b]8;id=831300;file:///Users/satyamtiwary/Documents/Python-Things/OpenOligo/openoligo/driver/board.py#45\u001b\\\u001b[2m45\u001b[0m\u001b]8;;\u001b\\\n"
      ]
     },
     "metadata": {},
     "output_type": "display_data"
    },
    {
     "data": {
      "text/html": [
       "<pre style=\"white-space:pre;overflow-x:auto;line-height:normal;font-family:Menlo,'DejaVu Sans Mono',consolas,'Courier New',monospace\"><span style=\"color: #7fbfbf; text-decoration-color: #7fbfbf\">           </span><span style=\"color: #008000; text-decoration-color: #008000\">DEBUG   </span> <span style=\"font-weight: bold\">&lt;</span><span style=\"color: #ff00ff; text-decoration-color: #ff00ff; font-weight: bold\">board.py:</span><span style=\"color: #008080; text-decoration-color: #008080; font-weight: bold\">45</span><span style=\"font-weight: bold\">&gt;</span> Setting pin RPi.PIN16 to <span style=\"color: #ff0000; text-decoration-color: #ff0000; font-style: italic\">False</span>                                        <a href=\"file:///Users/satyamtiwary/Documents/Python-Things/OpenOligo/openoligo/driver/board.py\" target=\"_blank\"><span style=\"color: #7f7f7f; text-decoration-color: #7f7f7f\">board.py</span></a><span style=\"color: #7f7f7f; text-decoration-color: #7f7f7f\">:</span><a href=\"file:///Users/satyamtiwary/Documents/Python-Things/OpenOligo/openoligo/driver/board.py#45\" target=\"_blank\"><span style=\"color: #7f7f7f; text-decoration-color: #7f7f7f\">45</span></a>\n",
       "</pre>\n"
      ],
      "text/plain": [
       "\u001b[2;36m          \u001b[0m\u001b[2;36m \u001b[0m\u001b[32mDEBUG   \u001b[0m \u001b[1m<\u001b[0m\u001b[1;95mboard.py:\u001b[0m\u001b[1;36m45\u001b[0m\u001b[1m>\u001b[0m Setting pin RPi.PIN16 to \u001b[3;91mFalse\u001b[0m                                        \u001b]8;id=143974;file:///Users/satyamtiwary/Documents/Python-Things/OpenOligo/openoligo/driver/board.py\u001b\\\u001b[2mboard.py\u001b[0m\u001b]8;;\u001b\\\u001b[2m:\u001b[0m\u001b]8;id=297540;file:///Users/satyamtiwary/Documents/Python-Things/OpenOligo/openoligo/driver/board.py#45\u001b\\\u001b[2m45\u001b[0m\u001b]8;;\u001b\\\n"
      ]
     },
     "metadata": {},
     "output_type": "display_data"
    },
    {
     "data": {
      "text/html": [
       "<pre style=\"white-space:pre;overflow-x:auto;line-height:normal;font-family:Menlo,'DejaVu Sans Mono',consolas,'Courier New',monospace\"><span style=\"color: #7fbfbf; text-decoration-color: #7fbfbf\">           </span><span style=\"color: #008000; text-decoration-color: #008000\">DEBUG   </span> <span style=\"font-weight: bold\">&lt;</span><span style=\"color: #ff00ff; text-decoration-color: #ff00ff; font-weight: bold\">board.py:</span><span style=\"color: #008080; text-decoration-color: #008080; font-weight: bold\">45</span><span style=\"font-weight: bold\">&gt;</span> Setting pin RPi.PIN18 to <span style=\"color: #ff0000; text-decoration-color: #ff0000; font-style: italic\">False</span>                                        <a href=\"file:///Users/satyamtiwary/Documents/Python-Things/OpenOligo/openoligo/driver/board.py\" target=\"_blank\"><span style=\"color: #7f7f7f; text-decoration-color: #7f7f7f\">board.py</span></a><span style=\"color: #7f7f7f; text-decoration-color: #7f7f7f\">:</span><a href=\"file:///Users/satyamtiwary/Documents/Python-Things/OpenOligo/openoligo/driver/board.py#45\" target=\"_blank\"><span style=\"color: #7f7f7f; text-decoration-color: #7f7f7f\">45</span></a>\n",
       "</pre>\n"
      ],
      "text/plain": [
       "\u001b[2;36m          \u001b[0m\u001b[2;36m \u001b[0m\u001b[32mDEBUG   \u001b[0m \u001b[1m<\u001b[0m\u001b[1;95mboard.py:\u001b[0m\u001b[1;36m45\u001b[0m\u001b[1m>\u001b[0m Setting pin RPi.PIN18 to \u001b[3;91mFalse\u001b[0m                                        \u001b]8;id=794516;file:///Users/satyamtiwary/Documents/Python-Things/OpenOligo/openoligo/driver/board.py\u001b\\\u001b[2mboard.py\u001b[0m\u001b]8;;\u001b\\\u001b[2m:\u001b[0m\u001b]8;id=893764;file:///Users/satyamtiwary/Documents/Python-Things/OpenOligo/openoligo/driver/board.py#45\u001b\\\u001b[2m45\u001b[0m\u001b]8;;\u001b\\\n"
      ]
     },
     "metadata": {},
     "output_type": "display_data"
    },
    {
     "data": {
      "text/html": [
       "<pre style=\"white-space:pre;overflow-x:auto;line-height:normal;font-family:Menlo,'DejaVu Sans Mono',consolas,'Courier New',monospace\"><span style=\"color: #7fbfbf; text-decoration-color: #7fbfbf\">           </span><span style=\"color: #008000; text-decoration-color: #008000\">DEBUG   </span> <span style=\"font-weight: bold\">&lt;</span><span style=\"color: #ff00ff; text-decoration-color: #ff00ff; font-weight: bold\">board.py:</span><span style=\"color: #008080; text-decoration-color: #008080; font-weight: bold\">45</span><span style=\"font-weight: bold\">&gt;</span> Setting pin RPi.PIN19 to <span style=\"color: #ff0000; text-decoration-color: #ff0000; font-style: italic\">False</span>                                        <a href=\"file:///Users/satyamtiwary/Documents/Python-Things/OpenOligo/openoligo/driver/board.py\" target=\"_blank\"><span style=\"color: #7f7f7f; text-decoration-color: #7f7f7f\">board.py</span></a><span style=\"color: #7f7f7f; text-decoration-color: #7f7f7f\">:</span><a href=\"file:///Users/satyamtiwary/Documents/Python-Things/OpenOligo/openoligo/driver/board.py#45\" target=\"_blank\"><span style=\"color: #7f7f7f; text-decoration-color: #7f7f7f\">45</span></a>\n",
       "</pre>\n"
      ],
      "text/plain": [
       "\u001b[2;36m          \u001b[0m\u001b[2;36m \u001b[0m\u001b[32mDEBUG   \u001b[0m \u001b[1m<\u001b[0m\u001b[1;95mboard.py:\u001b[0m\u001b[1;36m45\u001b[0m\u001b[1m>\u001b[0m Setting pin RPi.PIN19 to \u001b[3;91mFalse\u001b[0m                                        \u001b]8;id=635834;file:///Users/satyamtiwary/Documents/Python-Things/OpenOligo/openoligo/driver/board.py\u001b\\\u001b[2mboard.py\u001b[0m\u001b]8;;\u001b\\\u001b[2m:\u001b[0m\u001b]8;id=131986;file:///Users/satyamtiwary/Documents/Python-Things/OpenOligo/openoligo/driver/board.py#45\u001b\\\u001b[2m45\u001b[0m\u001b]8;;\u001b\\\n"
      ]
     },
     "metadata": {},
     "output_type": "display_data"
    },
    {
     "data": {
      "text/html": [
       "<pre style=\"white-space:pre;overflow-x:auto;line-height:normal;font-family:Menlo,'DejaVu Sans Mono',consolas,'Courier New',monospace\"><span style=\"color: #7fbfbf; text-decoration-color: #7fbfbf\">           </span><span style=\"color: #008000; text-decoration-color: #008000\">DEBUG   </span> <span style=\"font-weight: bold\">&lt;</span><span style=\"color: #ff00ff; text-decoration-color: #ff00ff; font-weight: bold\">board.py:</span><span style=\"color: #008080; text-decoration-color: #008080; font-weight: bold\">45</span><span style=\"font-weight: bold\">&gt;</span> Setting pin RPi.PIN21 to <span style=\"color: #ff0000; text-decoration-color: #ff0000; font-style: italic\">False</span>                                        <a href=\"file:///Users/satyamtiwary/Documents/Python-Things/OpenOligo/openoligo/driver/board.py\" target=\"_blank\"><span style=\"color: #7f7f7f; text-decoration-color: #7f7f7f\">board.py</span></a><span style=\"color: #7f7f7f; text-decoration-color: #7f7f7f\">:</span><a href=\"file:///Users/satyamtiwary/Documents/Python-Things/OpenOligo/openoligo/driver/board.py#45\" target=\"_blank\"><span style=\"color: #7f7f7f; text-decoration-color: #7f7f7f\">45</span></a>\n",
       "</pre>\n"
      ],
      "text/plain": [
       "\u001b[2;36m          \u001b[0m\u001b[2;36m \u001b[0m\u001b[32mDEBUG   \u001b[0m \u001b[1m<\u001b[0m\u001b[1;95mboard.py:\u001b[0m\u001b[1;36m45\u001b[0m\u001b[1m>\u001b[0m Setting pin RPi.PIN21 to \u001b[3;91mFalse\u001b[0m                                        \u001b]8;id=580146;file:///Users/satyamtiwary/Documents/Python-Things/OpenOligo/openoligo/driver/board.py\u001b\\\u001b[2mboard.py\u001b[0m\u001b]8;;\u001b\\\u001b[2m:\u001b[0m\u001b]8;id=964031;file:///Users/satyamtiwary/Documents/Python-Things/OpenOligo/openoligo/driver/board.py#45\u001b\\\u001b[2m45\u001b[0m\u001b]8;;\u001b\\\n"
      ]
     },
     "metadata": {},
     "output_type": "display_data"
    },
    {
     "data": {
      "text/html": [
       "<pre style=\"white-space:pre;overflow-x:auto;line-height:normal;font-family:Menlo,'DejaVu Sans Mono',consolas,'Courier New',monospace\"><span style=\"color: #7fbfbf; text-decoration-color: #7fbfbf\">           </span><span style=\"color: #008000; text-decoration-color: #008000\">DEBUG   </span> <span style=\"font-weight: bold\">&lt;</span><span style=\"color: #ff00ff; text-decoration-color: #ff00ff; font-weight: bold\">board.py:</span><span style=\"color: #008080; text-decoration-color: #008080; font-weight: bold\">45</span><span style=\"font-weight: bold\">&gt;</span> Setting pin RPi.PIN22 to <span style=\"color: #ff0000; text-decoration-color: #ff0000; font-style: italic\">False</span>                                        <a href=\"file:///Users/satyamtiwary/Documents/Python-Things/OpenOligo/openoligo/driver/board.py\" target=\"_blank\"><span style=\"color: #7f7f7f; text-decoration-color: #7f7f7f\">board.py</span></a><span style=\"color: #7f7f7f; text-decoration-color: #7f7f7f\">:</span><a href=\"file:///Users/satyamtiwary/Documents/Python-Things/OpenOligo/openoligo/driver/board.py#45\" target=\"_blank\"><span style=\"color: #7f7f7f; text-decoration-color: #7f7f7f\">45</span></a>\n",
       "</pre>\n"
      ],
      "text/plain": [
       "\u001b[2;36m          \u001b[0m\u001b[2;36m \u001b[0m\u001b[32mDEBUG   \u001b[0m \u001b[1m<\u001b[0m\u001b[1;95mboard.py:\u001b[0m\u001b[1;36m45\u001b[0m\u001b[1m>\u001b[0m Setting pin RPi.PIN22 to \u001b[3;91mFalse\u001b[0m                                        \u001b]8;id=333282;file:///Users/satyamtiwary/Documents/Python-Things/OpenOligo/openoligo/driver/board.py\u001b\\\u001b[2mboard.py\u001b[0m\u001b]8;;\u001b\\\u001b[2m:\u001b[0m\u001b]8;id=973652;file:///Users/satyamtiwary/Documents/Python-Things/OpenOligo/openoligo/driver/board.py#45\u001b\\\u001b[2m45\u001b[0m\u001b]8;;\u001b\\\n"
      ]
     },
     "metadata": {},
     "output_type": "display_data"
    },
    {
     "data": {
      "text/html": [
       "<pre style=\"white-space:pre;overflow-x:auto;line-height:normal;font-family:Menlo,'DejaVu Sans Mono',consolas,'Courier New',monospace\"><span style=\"color: #7fbfbf; text-decoration-color: #7fbfbf\">           </span><span style=\"color: #008000; text-decoration-color: #008000\">DEBUG   </span> <span style=\"font-weight: bold\">&lt;</span><span style=\"color: #ff00ff; text-decoration-color: #ff00ff; font-weight: bold\">board.py:</span><span style=\"color: #008080; text-decoration-color: #008080; font-weight: bold\">45</span><span style=\"font-weight: bold\">&gt;</span> Setting pin RPi.PIN23 to <span style=\"color: #ff0000; text-decoration-color: #ff0000; font-style: italic\">False</span>                                        <a href=\"file:///Users/satyamtiwary/Documents/Python-Things/OpenOligo/openoligo/driver/board.py\" target=\"_blank\"><span style=\"color: #7f7f7f; text-decoration-color: #7f7f7f\">board.py</span></a><span style=\"color: #7f7f7f; text-decoration-color: #7f7f7f\">:</span><a href=\"file:///Users/satyamtiwary/Documents/Python-Things/OpenOligo/openoligo/driver/board.py#45\" target=\"_blank\"><span style=\"color: #7f7f7f; text-decoration-color: #7f7f7f\">45</span></a>\n",
       "</pre>\n"
      ],
      "text/plain": [
       "\u001b[2;36m          \u001b[0m\u001b[2;36m \u001b[0m\u001b[32mDEBUG   \u001b[0m \u001b[1m<\u001b[0m\u001b[1;95mboard.py:\u001b[0m\u001b[1;36m45\u001b[0m\u001b[1m>\u001b[0m Setting pin RPi.PIN23 to \u001b[3;91mFalse\u001b[0m                                        \u001b]8;id=25052;file:///Users/satyamtiwary/Documents/Python-Things/OpenOligo/openoligo/driver/board.py\u001b\\\u001b[2mboard.py\u001b[0m\u001b]8;;\u001b\\\u001b[2m:\u001b[0m\u001b]8;id=453984;file:///Users/satyamtiwary/Documents/Python-Things/OpenOligo/openoligo/driver/board.py#45\u001b\\\u001b[2m45\u001b[0m\u001b]8;;\u001b\\\n"
      ]
     },
     "metadata": {},
     "output_type": "display_data"
    },
    {
     "data": {
      "text/html": [
       "<pre style=\"white-space:pre;overflow-x:auto;line-height:normal;font-family:Menlo,'DejaVu Sans Mono',consolas,'Courier New',monospace\"><span style=\"color: #7fbfbf; text-decoration-color: #7fbfbf\">           </span><span style=\"color: #008000; text-decoration-color: #008000\">DEBUG   </span> <span style=\"font-weight: bold\">&lt;</span><span style=\"color: #ff00ff; text-decoration-color: #ff00ff; font-weight: bold\">board.py:</span><span style=\"color: #008080; text-decoration-color: #008080; font-weight: bold\">45</span><span style=\"font-weight: bold\">&gt;</span> Setting pin RPi.PIN24 to <span style=\"color: #ff0000; text-decoration-color: #ff0000; font-style: italic\">False</span>                                        <a href=\"file:///Users/satyamtiwary/Documents/Python-Things/OpenOligo/openoligo/driver/board.py\" target=\"_blank\"><span style=\"color: #7f7f7f; text-decoration-color: #7f7f7f\">board.py</span></a><span style=\"color: #7f7f7f; text-decoration-color: #7f7f7f\">:</span><a href=\"file:///Users/satyamtiwary/Documents/Python-Things/OpenOligo/openoligo/driver/board.py#45\" target=\"_blank\"><span style=\"color: #7f7f7f; text-decoration-color: #7f7f7f\">45</span></a>\n",
       "</pre>\n"
      ],
      "text/plain": [
       "\u001b[2;36m          \u001b[0m\u001b[2;36m \u001b[0m\u001b[32mDEBUG   \u001b[0m \u001b[1m<\u001b[0m\u001b[1;95mboard.py:\u001b[0m\u001b[1;36m45\u001b[0m\u001b[1m>\u001b[0m Setting pin RPi.PIN24 to \u001b[3;91mFalse\u001b[0m                                        \u001b]8;id=320886;file:///Users/satyamtiwary/Documents/Python-Things/OpenOligo/openoligo/driver/board.py\u001b\\\u001b[2mboard.py\u001b[0m\u001b]8;;\u001b\\\u001b[2m:\u001b[0m\u001b]8;id=423873;file:///Users/satyamtiwary/Documents/Python-Things/OpenOligo/openoligo/driver/board.py#45\u001b\\\u001b[2m45\u001b[0m\u001b]8;;\u001b\\\n"
      ]
     },
     "metadata": {},
     "output_type": "display_data"
    },
    {
     "data": {
      "text/html": [
       "<pre style=\"white-space:pre;overflow-x:auto;line-height:normal;font-family:Menlo,'DejaVu Sans Mono',consolas,'Courier New',monospace\"><span style=\"color: #7fbfbf; text-decoration-color: #7fbfbf\">           </span><span style=\"color: #008000; text-decoration-color: #008000\">DEBUG   </span> <span style=\"font-weight: bold\">&lt;</span><span style=\"color: #ff00ff; text-decoration-color: #ff00ff; font-weight: bold\">board.py:</span><span style=\"color: #008080; text-decoration-color: #008080; font-weight: bold\">45</span><span style=\"font-weight: bold\">&gt;</span> Setting pin RPi.PIN26 to <span style=\"color: #ff0000; text-decoration-color: #ff0000; font-style: italic\">False</span>                                        <a href=\"file:///Users/satyamtiwary/Documents/Python-Things/OpenOligo/openoligo/driver/board.py\" target=\"_blank\"><span style=\"color: #7f7f7f; text-decoration-color: #7f7f7f\">board.py</span></a><span style=\"color: #7f7f7f; text-decoration-color: #7f7f7f\">:</span><a href=\"file:///Users/satyamtiwary/Documents/Python-Things/OpenOligo/openoligo/driver/board.py#45\" target=\"_blank\"><span style=\"color: #7f7f7f; text-decoration-color: #7f7f7f\">45</span></a>\n",
       "</pre>\n"
      ],
      "text/plain": [
       "\u001b[2;36m          \u001b[0m\u001b[2;36m \u001b[0m\u001b[32mDEBUG   \u001b[0m \u001b[1m<\u001b[0m\u001b[1;95mboard.py:\u001b[0m\u001b[1;36m45\u001b[0m\u001b[1m>\u001b[0m Setting pin RPi.PIN26 to \u001b[3;91mFalse\u001b[0m                                        \u001b]8;id=987940;file:///Users/satyamtiwary/Documents/Python-Things/OpenOligo/openoligo/driver/board.py\u001b\\\u001b[2mboard.py\u001b[0m\u001b]8;;\u001b\\\u001b[2m:\u001b[0m\u001b]8;id=710672;file:///Users/satyamtiwary/Documents/Python-Things/OpenOligo/openoligo/driver/board.py#45\u001b\\\u001b[2m45\u001b[0m\u001b]8;;\u001b\\\n"
      ]
     },
     "metadata": {},
     "output_type": "display_data"
    },
    {
     "data": {
      "text/html": [
       "<pre style=\"white-space:pre;overflow-x:auto;line-height:normal;font-family:Menlo,'DejaVu Sans Mono',consolas,'Courier New',monospace\"><span style=\"color: #7fbfbf; text-decoration-color: #7fbfbf\">           </span><span style=\"color: #008000; text-decoration-color: #008000\">DEBUG   </span> <span style=\"font-weight: bold\">&lt;</span><span style=\"color: #ff00ff; text-decoration-color: #ff00ff; font-weight: bold\">board.py:</span><span style=\"color: #008080; text-decoration-color: #008080; font-weight: bold\">45</span><span style=\"font-weight: bold\">&gt;</span> Setting pin RPi.PIN27 to <span style=\"color: #ff0000; text-decoration-color: #ff0000; font-style: italic\">False</span>                                        <a href=\"file:///Users/satyamtiwary/Documents/Python-Things/OpenOligo/openoligo/driver/board.py\" target=\"_blank\"><span style=\"color: #7f7f7f; text-decoration-color: #7f7f7f\">board.py</span></a><span style=\"color: #7f7f7f; text-decoration-color: #7f7f7f\">:</span><a href=\"file:///Users/satyamtiwary/Documents/Python-Things/OpenOligo/openoligo/driver/board.py#45\" target=\"_blank\"><span style=\"color: #7f7f7f; text-decoration-color: #7f7f7f\">45</span></a>\n",
       "</pre>\n"
      ],
      "text/plain": [
       "\u001b[2;36m          \u001b[0m\u001b[2;36m \u001b[0m\u001b[32mDEBUG   \u001b[0m \u001b[1m<\u001b[0m\u001b[1;95mboard.py:\u001b[0m\u001b[1;36m45\u001b[0m\u001b[1m>\u001b[0m Setting pin RPi.PIN27 to \u001b[3;91mFalse\u001b[0m                                        \u001b]8;id=258469;file:///Users/satyamtiwary/Documents/Python-Things/OpenOligo/openoligo/driver/board.py\u001b\\\u001b[2mboard.py\u001b[0m\u001b]8;;\u001b\\\u001b[2m:\u001b[0m\u001b]8;id=563142;file:///Users/satyamtiwary/Documents/Python-Things/OpenOligo/openoligo/driver/board.py#45\u001b\\\u001b[2m45\u001b[0m\u001b]8;;\u001b\\\n"
      ]
     },
     "metadata": {},
     "output_type": "display_data"
    },
    {
     "data": {
      "text/html": [
       "<pre style=\"white-space:pre;overflow-x:auto;line-height:normal;font-family:Menlo,'DejaVu Sans Mono',consolas,'Courier New',monospace\"><span style=\"color: #7fbfbf; text-decoration-color: #7fbfbf\">           </span><span style=\"color: #008000; text-decoration-color: #008000\">DEBUG   </span> <span style=\"font-weight: bold\">&lt;</span><span style=\"color: #ff00ff; text-decoration-color: #ff00ff; font-weight: bold\">board.py:</span><span style=\"color: #008080; text-decoration-color: #008080; font-weight: bold\">45</span><span style=\"font-weight: bold\">&gt;</span> Setting pin RPi.PIN28 to <span style=\"color: #ff0000; text-decoration-color: #ff0000; font-style: italic\">False</span>                                        <a href=\"file:///Users/satyamtiwary/Documents/Python-Things/OpenOligo/openoligo/driver/board.py\" target=\"_blank\"><span style=\"color: #7f7f7f; text-decoration-color: #7f7f7f\">board.py</span></a><span style=\"color: #7f7f7f; text-decoration-color: #7f7f7f\">:</span><a href=\"file:///Users/satyamtiwary/Documents/Python-Things/OpenOligo/openoligo/driver/board.py#45\" target=\"_blank\"><span style=\"color: #7f7f7f; text-decoration-color: #7f7f7f\">45</span></a>\n",
       "</pre>\n"
      ],
      "text/plain": [
       "\u001b[2;36m          \u001b[0m\u001b[2;36m \u001b[0m\u001b[32mDEBUG   \u001b[0m \u001b[1m<\u001b[0m\u001b[1;95mboard.py:\u001b[0m\u001b[1;36m45\u001b[0m\u001b[1m>\u001b[0m Setting pin RPi.PIN28 to \u001b[3;91mFalse\u001b[0m                                        \u001b]8;id=972679;file:///Users/satyamtiwary/Documents/Python-Things/OpenOligo/openoligo/driver/board.py\u001b\\\u001b[2mboard.py\u001b[0m\u001b]8;;\u001b\\\u001b[2m:\u001b[0m\u001b]8;id=418577;file:///Users/satyamtiwary/Documents/Python-Things/OpenOligo/openoligo/driver/board.py#45\u001b\\\u001b[2m45\u001b[0m\u001b]8;;\u001b\\\n"
      ]
     },
     "metadata": {},
     "output_type": "display_data"
    },
    {
     "data": {
      "text/html": [
       "<pre style=\"white-space:pre;overflow-x:auto;line-height:normal;font-family:Menlo,'DejaVu Sans Mono',consolas,'Courier New',monospace\"><span style=\"color: #7fbfbf; text-decoration-color: #7fbfbf\">           </span><span style=\"color: #008000; text-decoration-color: #008000\">DEBUG   </span> <span style=\"font-weight: bold\">&lt;</span><span style=\"color: #ff00ff; text-decoration-color: #ff00ff; font-weight: bold\">board.py:</span><span style=\"color: #008080; text-decoration-color: #008080; font-weight: bold\">45</span><span style=\"font-weight: bold\">&gt;</span> Setting pin RPi.PIN29 to <span style=\"color: #ff0000; text-decoration-color: #ff0000; font-style: italic\">False</span>                                        <a href=\"file:///Users/satyamtiwary/Documents/Python-Things/OpenOligo/openoligo/driver/board.py\" target=\"_blank\"><span style=\"color: #7f7f7f; text-decoration-color: #7f7f7f\">board.py</span></a><span style=\"color: #7f7f7f; text-decoration-color: #7f7f7f\">:</span><a href=\"file:///Users/satyamtiwary/Documents/Python-Things/OpenOligo/openoligo/driver/board.py#45\" target=\"_blank\"><span style=\"color: #7f7f7f; text-decoration-color: #7f7f7f\">45</span></a>\n",
       "</pre>\n"
      ],
      "text/plain": [
       "\u001b[2;36m          \u001b[0m\u001b[2;36m \u001b[0m\u001b[32mDEBUG   \u001b[0m \u001b[1m<\u001b[0m\u001b[1;95mboard.py:\u001b[0m\u001b[1;36m45\u001b[0m\u001b[1m>\u001b[0m Setting pin RPi.PIN29 to \u001b[3;91mFalse\u001b[0m                                        \u001b]8;id=658854;file:///Users/satyamtiwary/Documents/Python-Things/OpenOligo/openoligo/driver/board.py\u001b\\\u001b[2mboard.py\u001b[0m\u001b]8;;\u001b\\\u001b[2m:\u001b[0m\u001b]8;id=881153;file:///Users/satyamtiwary/Documents/Python-Things/OpenOligo/openoligo/driver/board.py#45\u001b\\\u001b[2m45\u001b[0m\u001b]8;;\u001b\\\n"
      ]
     },
     "metadata": {},
     "output_type": "display_data"
    },
    {
     "data": {
      "text/html": [
       "<pre style=\"white-space:pre;overflow-x:auto;line-height:normal;font-family:Menlo,'DejaVu Sans Mono',consolas,'Courier New',monospace\"><span style=\"color: #7fbfbf; text-decoration-color: #7fbfbf\">           </span><span style=\"color: #008000; text-decoration-color: #008000\">DEBUG   </span> <span style=\"font-weight: bold\">&lt;</span><span style=\"color: #ff00ff; text-decoration-color: #ff00ff; font-weight: bold\">board.py:</span><span style=\"color: #008080; text-decoration-color: #008080; font-weight: bold\">45</span><span style=\"font-weight: bold\">&gt;</span> Setting pin RPi.PIN31 to <span style=\"color: #ff0000; text-decoration-color: #ff0000; font-style: italic\">False</span>                                        <a href=\"file:///Users/satyamtiwary/Documents/Python-Things/OpenOligo/openoligo/driver/board.py\" target=\"_blank\"><span style=\"color: #7f7f7f; text-decoration-color: #7f7f7f\">board.py</span></a><span style=\"color: #7f7f7f; text-decoration-color: #7f7f7f\">:</span><a href=\"file:///Users/satyamtiwary/Documents/Python-Things/OpenOligo/openoligo/driver/board.py#45\" target=\"_blank\"><span style=\"color: #7f7f7f; text-decoration-color: #7f7f7f\">45</span></a>\n",
       "</pre>\n"
      ],
      "text/plain": [
       "\u001b[2;36m          \u001b[0m\u001b[2;36m \u001b[0m\u001b[32mDEBUG   \u001b[0m \u001b[1m<\u001b[0m\u001b[1;95mboard.py:\u001b[0m\u001b[1;36m45\u001b[0m\u001b[1m>\u001b[0m Setting pin RPi.PIN31 to \u001b[3;91mFalse\u001b[0m                                        \u001b]8;id=747213;file:///Users/satyamtiwary/Documents/Python-Things/OpenOligo/openoligo/driver/board.py\u001b\\\u001b[2mboard.py\u001b[0m\u001b]8;;\u001b\\\u001b[2m:\u001b[0m\u001b]8;id=989616;file:///Users/satyamtiwary/Documents/Python-Things/OpenOligo/openoligo/driver/board.py#45\u001b\\\u001b[2m45\u001b[0m\u001b]8;;\u001b\\\n"
      ]
     },
     "metadata": {},
     "output_type": "display_data"
    },
    {
     "data": {
      "text/html": [
       "<pre style=\"white-space:pre;overflow-x:auto;line-height:normal;font-family:Menlo,'DejaVu Sans Mono',consolas,'Courier New',monospace\"><span style=\"color: #7fbfbf; text-decoration-color: #7fbfbf\">           </span><span style=\"color: #008000; text-decoration-color: #008000\">DEBUG   </span> <span style=\"font-weight: bold\">&lt;</span><span style=\"color: #ff00ff; text-decoration-color: #ff00ff; font-weight: bold\">board.py:</span><span style=\"color: #008080; text-decoration-color: #008080; font-weight: bold\">45</span><span style=\"font-weight: bold\">&gt;</span> Setting pin RPi.PIN32 to <span style=\"color: #ff0000; text-decoration-color: #ff0000; font-style: italic\">False</span>                                        <a href=\"file:///Users/satyamtiwary/Documents/Python-Things/OpenOligo/openoligo/driver/board.py\" target=\"_blank\"><span style=\"color: #7f7f7f; text-decoration-color: #7f7f7f\">board.py</span></a><span style=\"color: #7f7f7f; text-decoration-color: #7f7f7f\">:</span><a href=\"file:///Users/satyamtiwary/Documents/Python-Things/OpenOligo/openoligo/driver/board.py#45\" target=\"_blank\"><span style=\"color: #7f7f7f; text-decoration-color: #7f7f7f\">45</span></a>\n",
       "</pre>\n"
      ],
      "text/plain": [
       "\u001b[2;36m          \u001b[0m\u001b[2;36m \u001b[0m\u001b[32mDEBUG   \u001b[0m \u001b[1m<\u001b[0m\u001b[1;95mboard.py:\u001b[0m\u001b[1;36m45\u001b[0m\u001b[1m>\u001b[0m Setting pin RPi.PIN32 to \u001b[3;91mFalse\u001b[0m                                        \u001b]8;id=704466;file:///Users/satyamtiwary/Documents/Python-Things/OpenOligo/openoligo/driver/board.py\u001b\\\u001b[2mboard.py\u001b[0m\u001b]8;;\u001b\\\u001b[2m:\u001b[0m\u001b]8;id=532588;file:///Users/satyamtiwary/Documents/Python-Things/OpenOligo/openoligo/driver/board.py#45\u001b\\\u001b[2m45\u001b[0m\u001b]8;;\u001b\\\n"
      ]
     },
     "metadata": {},
     "output_type": "display_data"
    },
    {
     "data": {
      "text/html": [
       "<pre style=\"white-space:pre;overflow-x:auto;line-height:normal;font-family:Menlo,'DejaVu Sans Mono',consolas,'Courier New',monospace\"><span style=\"color: #7fbfbf; text-decoration-color: #7fbfbf\">           </span><span style=\"color: #008000; text-decoration-color: #008000\">DEBUG   </span> <span style=\"font-weight: bold\">&lt;</span><span style=\"color: #ff00ff; text-decoration-color: #ff00ff; font-weight: bold\">board.py:</span><span style=\"color: #008080; text-decoration-color: #008080; font-weight: bold\">45</span><span style=\"font-weight: bold\">&gt;</span> Setting pin RPi.PIN33 to <span style=\"color: #ff0000; text-decoration-color: #ff0000; font-style: italic\">False</span>                                        <a href=\"file:///Users/satyamtiwary/Documents/Python-Things/OpenOligo/openoligo/driver/board.py\" target=\"_blank\"><span style=\"color: #7f7f7f; text-decoration-color: #7f7f7f\">board.py</span></a><span style=\"color: #7f7f7f; text-decoration-color: #7f7f7f\">:</span><a href=\"file:///Users/satyamtiwary/Documents/Python-Things/OpenOligo/openoligo/driver/board.py#45\" target=\"_blank\"><span style=\"color: #7f7f7f; text-decoration-color: #7f7f7f\">45</span></a>\n",
       "</pre>\n"
      ],
      "text/plain": [
       "\u001b[2;36m          \u001b[0m\u001b[2;36m \u001b[0m\u001b[32mDEBUG   \u001b[0m \u001b[1m<\u001b[0m\u001b[1;95mboard.py:\u001b[0m\u001b[1;36m45\u001b[0m\u001b[1m>\u001b[0m Setting pin RPi.PIN33 to \u001b[3;91mFalse\u001b[0m                                        \u001b]8;id=623523;file:///Users/satyamtiwary/Documents/Python-Things/OpenOligo/openoligo/driver/board.py\u001b\\\u001b[2mboard.py\u001b[0m\u001b]8;;\u001b\\\u001b[2m:\u001b[0m\u001b]8;id=685544;file:///Users/satyamtiwary/Documents/Python-Things/OpenOligo/openoligo/driver/board.py#45\u001b\\\u001b[2m45\u001b[0m\u001b]8;;\u001b\\\n"
      ]
     },
     "metadata": {},
     "output_type": "display_data"
    },
    {
     "data": {
      "text/html": [
       "<pre style=\"white-space:pre;overflow-x:auto;line-height:normal;font-family:Menlo,'DejaVu Sans Mono',consolas,'Courier New',monospace\"><span style=\"color: #7fbfbf; text-decoration-color: #7fbfbf\">           </span><span style=\"color: #008000; text-decoration-color: #008000\">DEBUG   </span> <span style=\"font-weight: bold\">&lt;</span><span style=\"color: #ff00ff; text-decoration-color: #ff00ff; font-weight: bold\">board.py:</span><span style=\"color: #008080; text-decoration-color: #008080; font-weight: bold\">45</span><span style=\"font-weight: bold\">&gt;</span> Setting pin RPi.PIN35 to <span style=\"color: #ff0000; text-decoration-color: #ff0000; font-style: italic\">False</span>                                        <a href=\"file:///Users/satyamtiwary/Documents/Python-Things/OpenOligo/openoligo/driver/board.py\" target=\"_blank\"><span style=\"color: #7f7f7f; text-decoration-color: #7f7f7f\">board.py</span></a><span style=\"color: #7f7f7f; text-decoration-color: #7f7f7f\">:</span><a href=\"file:///Users/satyamtiwary/Documents/Python-Things/OpenOligo/openoligo/driver/board.py#45\" target=\"_blank\"><span style=\"color: #7f7f7f; text-decoration-color: #7f7f7f\">45</span></a>\n",
       "</pre>\n"
      ],
      "text/plain": [
       "\u001b[2;36m          \u001b[0m\u001b[2;36m \u001b[0m\u001b[32mDEBUG   \u001b[0m \u001b[1m<\u001b[0m\u001b[1;95mboard.py:\u001b[0m\u001b[1;36m45\u001b[0m\u001b[1m>\u001b[0m Setting pin RPi.PIN35 to \u001b[3;91mFalse\u001b[0m                                        \u001b]8;id=553281;file:///Users/satyamtiwary/Documents/Python-Things/OpenOligo/openoligo/driver/board.py\u001b\\\u001b[2mboard.py\u001b[0m\u001b]8;;\u001b\\\u001b[2m:\u001b[0m\u001b]8;id=514176;file:///Users/satyamtiwary/Documents/Python-Things/OpenOligo/openoligo/driver/board.py#45\u001b\\\u001b[2m45\u001b[0m\u001b]8;;\u001b\\\n"
      ]
     },
     "metadata": {},
     "output_type": "display_data"
    },
    {
     "data": {
      "text/html": [
       "<pre style=\"white-space:pre;overflow-x:auto;line-height:normal;font-family:Menlo,'DejaVu Sans Mono',consolas,'Courier New',monospace\"><span style=\"color: #7fbfbf; text-decoration-color: #7fbfbf\">           </span><span style=\"color: #008000; text-decoration-color: #008000\">DEBUG   </span> <span style=\"font-weight: bold\">&lt;</span><span style=\"color: #ff00ff; text-decoration-color: #ff00ff; font-weight: bold\">board.py:</span><span style=\"color: #008080; text-decoration-color: #008080; font-weight: bold\">45</span><span style=\"font-weight: bold\">&gt;</span> Setting pin RPi.PIN36 to <span style=\"color: #ff0000; text-decoration-color: #ff0000; font-style: italic\">False</span>                                        <a href=\"file:///Users/satyamtiwary/Documents/Python-Things/OpenOligo/openoligo/driver/board.py\" target=\"_blank\"><span style=\"color: #7f7f7f; text-decoration-color: #7f7f7f\">board.py</span></a><span style=\"color: #7f7f7f; text-decoration-color: #7f7f7f\">:</span><a href=\"file:///Users/satyamtiwary/Documents/Python-Things/OpenOligo/openoligo/driver/board.py#45\" target=\"_blank\"><span style=\"color: #7f7f7f; text-decoration-color: #7f7f7f\">45</span></a>\n",
       "</pre>\n"
      ],
      "text/plain": [
       "\u001b[2;36m          \u001b[0m\u001b[2;36m \u001b[0m\u001b[32mDEBUG   \u001b[0m \u001b[1m<\u001b[0m\u001b[1;95mboard.py:\u001b[0m\u001b[1;36m45\u001b[0m\u001b[1m>\u001b[0m Setting pin RPi.PIN36 to \u001b[3;91mFalse\u001b[0m                                        \u001b]8;id=154395;file:///Users/satyamtiwary/Documents/Python-Things/OpenOligo/openoligo/driver/board.py\u001b\\\u001b[2mboard.py\u001b[0m\u001b]8;;\u001b\\\u001b[2m:\u001b[0m\u001b]8;id=899953;file:///Users/satyamtiwary/Documents/Python-Things/OpenOligo/openoligo/driver/board.py#45\u001b\\\u001b[2m45\u001b[0m\u001b]8;;\u001b\\\n"
      ]
     },
     "metadata": {},
     "output_type": "display_data"
    },
    {
     "data": {
      "text/html": [
       "<pre style=\"white-space:pre;overflow-x:auto;line-height:normal;font-family:Menlo,'DejaVu Sans Mono',consolas,'Courier New',monospace\"><span style=\"color: #7fbfbf; text-decoration-color: #7fbfbf\">           </span><span style=\"color: #008000; text-decoration-color: #008000\">DEBUG   </span> <span style=\"font-weight: bold\">&lt;</span><span style=\"color: #ff00ff; text-decoration-color: #ff00ff; font-weight: bold\">board.py:</span><span style=\"color: #008080; text-decoration-color: #008080; font-weight: bold\">45</span><span style=\"font-weight: bold\">&gt;</span> Setting pin RPi.PIN37 to <span style=\"color: #ff0000; text-decoration-color: #ff0000; font-style: italic\">False</span>                                        <a href=\"file:///Users/satyamtiwary/Documents/Python-Things/OpenOligo/openoligo/driver/board.py\" target=\"_blank\"><span style=\"color: #7f7f7f; text-decoration-color: #7f7f7f\">board.py</span></a><span style=\"color: #7f7f7f; text-decoration-color: #7f7f7f\">:</span><a href=\"file:///Users/satyamtiwary/Documents/Python-Things/OpenOligo/openoligo/driver/board.py#45\" target=\"_blank\"><span style=\"color: #7f7f7f; text-decoration-color: #7f7f7f\">45</span></a>\n",
       "</pre>\n"
      ],
      "text/plain": [
       "\u001b[2;36m          \u001b[0m\u001b[2;36m \u001b[0m\u001b[32mDEBUG   \u001b[0m \u001b[1m<\u001b[0m\u001b[1;95mboard.py:\u001b[0m\u001b[1;36m45\u001b[0m\u001b[1m>\u001b[0m Setting pin RPi.PIN37 to \u001b[3;91mFalse\u001b[0m                                        \u001b]8;id=213573;file:///Users/satyamtiwary/Documents/Python-Things/OpenOligo/openoligo/driver/board.py\u001b\\\u001b[2mboard.py\u001b[0m\u001b]8;;\u001b\\\u001b[2m:\u001b[0m\u001b]8;id=56393;file:///Users/satyamtiwary/Documents/Python-Things/OpenOligo/openoligo/driver/board.py#45\u001b\\\u001b[2m45\u001b[0m\u001b]8;;\u001b\\\n"
      ]
     },
     "metadata": {},
     "output_type": "display_data"
    },
    {
     "data": {
      "text/html": [
       "<pre style=\"white-space:pre;overflow-x:auto;line-height:normal;font-family:Menlo,'DejaVu Sans Mono',consolas,'Courier New',monospace\"><span style=\"color: #7fbfbf; text-decoration-color: #7fbfbf\">           </span><span style=\"color: #008000; text-decoration-color: #008000\">DEBUG   </span> <span style=\"font-weight: bold\">&lt;</span><span style=\"color: #ff00ff; text-decoration-color: #ff00ff; font-weight: bold\">board.py:</span><span style=\"color: #008080; text-decoration-color: #008080; font-weight: bold\">45</span><span style=\"font-weight: bold\">&gt;</span> Setting pin RPi.PIN38 to <span style=\"color: #ff0000; text-decoration-color: #ff0000; font-style: italic\">False</span>                                        <a href=\"file:///Users/satyamtiwary/Documents/Python-Things/OpenOligo/openoligo/driver/board.py\" target=\"_blank\"><span style=\"color: #7f7f7f; text-decoration-color: #7f7f7f\">board.py</span></a><span style=\"color: #7f7f7f; text-decoration-color: #7f7f7f\">:</span><a href=\"file:///Users/satyamtiwary/Documents/Python-Things/OpenOligo/openoligo/driver/board.py#45\" target=\"_blank\"><span style=\"color: #7f7f7f; text-decoration-color: #7f7f7f\">45</span></a>\n",
       "</pre>\n"
      ],
      "text/plain": [
       "\u001b[2;36m          \u001b[0m\u001b[2;36m \u001b[0m\u001b[32mDEBUG   \u001b[0m \u001b[1m<\u001b[0m\u001b[1;95mboard.py:\u001b[0m\u001b[1;36m45\u001b[0m\u001b[1m>\u001b[0m Setting pin RPi.PIN38 to \u001b[3;91mFalse\u001b[0m                                        \u001b]8;id=317852;file:///Users/satyamtiwary/Documents/Python-Things/OpenOligo/openoligo/driver/board.py\u001b\\\u001b[2mboard.py\u001b[0m\u001b]8;;\u001b\\\u001b[2m:\u001b[0m\u001b]8;id=342545;file:///Users/satyamtiwary/Documents/Python-Things/OpenOligo/openoligo/driver/board.py#45\u001b\\\u001b[2m45\u001b[0m\u001b]8;;\u001b\\\n"
      ]
     },
     "metadata": {},
     "output_type": "display_data"
    },
    {
     "data": {
      "text/html": [
       "<pre style=\"white-space:pre;overflow-x:auto;line-height:normal;font-family:Menlo,'DejaVu Sans Mono',consolas,'Courier New',monospace\"><span style=\"color: #7fbfbf; text-decoration-color: #7fbfbf\">           </span><span style=\"color: #008000; text-decoration-color: #008000\">DEBUG   </span> <span style=\"font-weight: bold\">&lt;</span><span style=\"color: #ff00ff; text-decoration-color: #ff00ff; font-weight: bold\">board.py:</span><span style=\"color: #008080; text-decoration-color: #008080; font-weight: bold\">45</span><span style=\"font-weight: bold\">&gt;</span> Setting pin RPi.PIN40 to <span style=\"color: #ff0000; text-decoration-color: #ff0000; font-style: italic\">False</span>                                        <a href=\"file:///Users/satyamtiwary/Documents/Python-Things/OpenOligo/openoligo/driver/board.py\" target=\"_blank\"><span style=\"color: #7f7f7f; text-decoration-color: #7f7f7f\">board.py</span></a><span style=\"color: #7f7f7f; text-decoration-color: #7f7f7f\">:</span><a href=\"file:///Users/satyamtiwary/Documents/Python-Things/OpenOligo/openoligo/driver/board.py#45\" target=\"_blank\"><span style=\"color: #7f7f7f; text-decoration-color: #7f7f7f\">45</span></a>\n",
       "</pre>\n"
      ],
      "text/plain": [
       "\u001b[2;36m          \u001b[0m\u001b[2;36m \u001b[0m\u001b[32mDEBUG   \u001b[0m \u001b[1m<\u001b[0m\u001b[1;95mboard.py:\u001b[0m\u001b[1;36m45\u001b[0m\u001b[1m>\u001b[0m Setting pin RPi.PIN40 to \u001b[3;91mFalse\u001b[0m                                        \u001b]8;id=624778;file:///Users/satyamtiwary/Documents/Python-Things/OpenOligo/openoligo/driver/board.py\u001b\\\u001b[2mboard.py\u001b[0m\u001b]8;;\u001b\\\u001b[2m:\u001b[0m\u001b]8;id=553238;file:///Users/satyamtiwary/Documents/Python-Things/OpenOligo/openoligo/driver/board.py#45\u001b\\\u001b[2m45\u001b[0m\u001b]8;;\u001b\\\n"
      ]
     },
     "metadata": {},
     "output_type": "display_data"
    }
   ],
   "source": [
    "from openoligo import Board, RPi\n",
    "\n",
    "with Board() as b:\n",
    "    b.set(RPi.PIN3,  True)\n",
    "    b.set(RPi.PIN10, True)\n",
    "    b.set(RPi.PIN27, True)"
   ]
  },
  {
   "cell_type": "code",
   "execution_count": null,
   "id": "399422dc-c808-47da-9f8a-3ef7aa73d272",
   "metadata": {},
   "outputs": [],
   "source": []
  }
 ],
 "metadata": {
  "kernelspec": {
   "display_name": "Python 3 (ipykernel)",
   "language": "python",
   "name": "python3"
  },
  "language_info": {
   "codemirror_mode": {
    "name": "ipython",
    "version": 3
   },
   "file_extension": ".py",
   "mimetype": "text/x-python",
   "name": "python",
   "nbconvert_exporter": "python",
   "pygments_lexer": "ipython3",
   "version": "3.9.16"
  }
 },
 "nbformat": 4,
 "nbformat_minor": 5
}
