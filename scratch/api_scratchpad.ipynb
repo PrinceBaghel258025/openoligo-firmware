{
 "cells": [
  {
   "attachments": {},
   "cell_type": "markdown",
   "id": "d150b9cc-5663-465d-b4c9-15a4868fe0a5",
   "metadata": {},
   "source": [
    "# API 1"
   ]
  },
  {
   "cell_type": "code",
   "execution_count": 2,
   "id": "ac3562be-2e39-4acf-9506-889300831e84",
   "metadata": {},
   "outputs": [
    {
     "name": "stdout",
     "output_type": "stream",
     "text": [
      "Manifold(valve_class=<class 'openoligo.driver.switch.PneumaticNoValve'>, size=4, manifold_type=<ValveType.NORMALLY_OPEN: 1>, valves=[0[True], 1[True], 2[True], 3[True]]) Manifold(valve_class=<class 'openoligo.driver.switch.PneumaticNoValve'>, size=4, manifold_type=<ValveType.NORMALLY_OPEN: 1>, valves=[0[True], 1[True], 2[True], 3[True]])\n"
     ]
    }
   ],
   "source": [
    "# Convinient\n",
    "from openoligo import Manifold, PneumaticNoValve\n",
    "\n",
    "m1 = Manifold(PneumaticNoValve, 4)\n",
    "m2 = Manifold(PneumaticNoValve, 4)\n",
    "\n",
    "print(m1, m2)"
   ]
  },
  {
   "attachments": {},
   "cell_type": "markdown",
   "id": "c48ff180-25fd-4fbe-97c4-1aa0305ce4f5",
   "metadata": {},
   "source": [
    "## Trying out the API"
   ]
  },
  {
   "cell_type": "code",
   "execution_count": 3,
   "id": "5d532fdf-ce94-4b12-9e6f-f47b95c550a0",
   "metadata": {},
   "outputs": [
    {
     "data": {
      "text/plain": [
       "<enum 'RPi'>"
      ]
     },
     "execution_count": 3,
     "metadata": {},
     "output_type": "execute_result"
    }
   ],
   "source": [
    "# Implicit\n",
    "import openoligo as oo\n",
    "oo.RPi"
   ]
  },
  {
   "cell_type": "code",
   "execution_count": 4,
   "id": "69844c89-941a-411e-87d2-0a0ab683abab",
   "metadata": {},
   "outputs": [
    {
     "name": "stdout",
     "output_type": "stream",
     "text": [
      "pin=<RPi.PIN3: 3>\n",
      "pin=<RPi.PIN5: 5>\n",
      "pin=<RPi.PIN7: 7>\n",
      "pin=<RPi.PIN8: 8>\n",
      "pin=<RPi.PIN10: 10>\n",
      "pin=<RPi.PIN11: 11>\n",
      "pin=<RPi.PIN12: 12>\n",
      "pin=<RPi.PIN13: 13>\n",
      "pin=<RPi.PIN15: 15>\n",
      "pin=<RPi.PIN16: 16>\n",
      "pin=<RPi.PIN18: 18>\n",
      "pin=<RPi.PIN19: 19>\n",
      "pin=<RPi.PIN21: 21>\n",
      "pin=<RPi.PIN22: 22>\n",
      "pin=<RPi.PIN23: 23>\n",
      "pin=<RPi.PIN24: 24>\n",
      "pin=<RPi.PIN26: 26>\n",
      "pin=<RPi.PIN27: 27>\n",
      "pin=<RPi.PIN28: 28>\n",
      "pin=<RPi.PIN29: 29>\n",
      "pin=<RPi.PIN31: 31>\n",
      "pin=<RPi.PIN32: 32>\n",
      "pin=<RPi.PIN33: 33>\n",
      "pin=<RPi.PIN35: 35>\n",
      "pin=<RPi.PIN36: 36>\n",
      "pin=<RPi.PIN37: 37>\n",
      "pin=<RPi.PIN38: 38>\n",
      "pin=<RPi.PIN40: 40>\n"
     ]
    }
   ],
   "source": [
    "for pin in oo.RPi:\n",
    "    print(f\"{pin=}\")"
   ]
  },
  {
   "cell_type": "code",
   "execution_count": 5,
   "id": "97628869-dde6-4ecc-9072-239ff07aa020",
   "metadata": {},
   "outputs": [],
   "source": [
    "oo.Manifold(oo.PneumaticNoValve, 8)\n",
    "m = oo.Manifold(valve_class=PneumaticNoValve, size=4)"
   ]
  },
  {
   "cell_type": "code",
   "execution_count": 6,
   "id": "43263e2c-7881-438d-afe7-9b59e00447bd",
   "metadata": {},
   "outputs": [],
   "source": [
    "# oo.set_one_hot(m, 2) # DEPRECATED\n",
    "# m.valves"
   ]
  },
  {
   "cell_type": "code",
   "execution_count": 7,
   "id": "ab2a6758-973e-4469-a242-8937878ef071",
   "metadata": {},
   "outputs": [],
   "source": [
    "# oo.set_one_hot(m, 3) # DEPRECATED\n",
    "# m.valves"
   ]
  },
  {
   "cell_type": "code",
   "execution_count": 8,
   "id": "1cfaa7f3-be15-4051-aecf-adcff800eb52",
   "metadata": {},
   "outputs": [],
   "source": [
    "# oo.set_manifold(m, True) # DEPRECATED\n",
    "# m.valves"
   ]
  },
  {
   "attachments": {},
   "cell_type": "markdown",
   "id": "a9d7b7b8-bb43-440f-9eb1-7644b612137b",
   "metadata": {},
   "source": [
    "# Perhaps a better API?\n",
    "\n",
    "```py\n",
    "m.all(True)\n",
    "# oo.set_manifold(m, True)\n",
    "\n",
    "m.one_hot(4)\n",
    "# oo.set_one_hot(m, 3)\n",
    "\n",
    "m.n_hot([2, 3, 4])\n",
    "\n",
    "wait(m.one_hot(4), ms(100))\n",
    "wait(m.one_hot(3), s(2))\n",
    "\n",
    "# OR\n",
    "\n",
    "m.one_hot(4)\n",
    "wait_ms(100)\n",
    "m.one_hot(3)\n",
    "wait(2)\n",
    "```\n",
    "\n",
    "## Flow\n",
    "- Define a manifold (a set of n valves)\n",
    "- Start the connection to the motor board\n",
    "- Get the motor in the correct position\n",
    "- Close all valves\n",
    "- Open the gas inlet\n",
    "- Start switching valves on for various durations, one by one"
   ]
  },
  {
   "cell_type": "code",
   "execution_count": 9,
   "id": "eaa732d6-f87e-45ae-a65d-ff4c7548334d",
   "metadata": {},
   "outputs": [
    {
     "data": {
      "text/plain": [
       "[0[True], 1[True], 2[True], 3[True]]"
      ]
     },
     "execution_count": 9,
     "metadata": {},
     "output_type": "execute_result"
    }
   ],
   "source": [
    "from openoligo import Manifold, PneumaticNoValve\n",
    "\n",
    "m = Manifold(PneumaticNoValve, 4)\n",
    "m.valves"
   ]
  },
  {
   "cell_type": "code",
   "execution_count": 10,
   "id": "0b62d607-b596-4cdf-ac0a-36d7fb4bd381",
   "metadata": {},
   "outputs": [
    {
     "data": {
      "text/plain": [
       "[0[True], 1[True], 2[True], 3[True]]"
      ]
     },
     "execution_count": 10,
     "metadata": {},
     "output_type": "execute_result"
    }
   ],
   "source": [
    "m.all(True)\n",
    "m.valves"
   ]
  },
  {
   "cell_type": "code",
   "execution_count": 11,
   "id": "22da7289-10ef-4cc7-a00f-690c10934723",
   "metadata": {},
   "outputs": [
    {
     "data": {
      "text/plain": [
       "[0[True], 1[True], 2[True], 3[True]]"
      ]
     },
     "execution_count": 11,
     "metadata": {},
     "output_type": "execute_result"
    }
   ],
   "source": [
    "m.all(False)\n",
    "m.toggle()\n",
    "m.valves"
   ]
  },
  {
   "cell_type": "code",
   "execution_count": 12,
   "id": "f462ec92-3e1f-4d2a-b7a4-41b95e56462b",
   "metadata": {},
   "outputs": [
    {
     "name": "stdout",
     "output_type": "stream",
     "text": [
      "[0[True], 1[False], 2[False], 3[False]]\n",
      "[0[False], 1[True], 2[False], 3[False]]\n",
      "[0[False], 1[False], 2[True], 3[False]]\n",
      "[0[False], 1[False], 2[False], 3[True]]\n"
     ]
    }
   ],
   "source": [
    "for i in range(4):\n",
    "    m.activate_flow(i)\n",
    "    print(m.valves)"
   ]
  },
  {
   "cell_type": "code",
   "execution_count": 13,
   "id": "d1b328c8-eee6-4947-9d09-4acc5cfd627d",
   "metadata": {},
   "outputs": [
    {
     "data": {
      "text/plain": [
       "[0[True], 1[True], 2[False], 3[False]]"
      ]
     },
     "execution_count": 13,
     "metadata": {},
     "output_type": "execute_result"
    }
   ],
   "source": [
    "m.activate_n_flows([0, 1])\n",
    "m.valves"
   ]
  },
  {
   "cell_type": "code",
   "execution_count": null,
   "id": "f359c47c",
   "metadata": {},
   "outputs": [],
   "source": []
  }
 ],
 "metadata": {
  "kernelspec": {
   "display_name": "Python 3 (ipykernel)",
   "language": "python",
   "name": "python3"
  },
  "language_info": {
   "codemirror_mode": {
    "name": "ipython",
    "version": 3
   },
   "file_extension": ".py",
   "mimetype": "text/x-python",
   "name": "python",
   "nbconvert_exporter": "python",
   "pygments_lexer": "ipython3",
   "version": "3.9.16"
  }
 },
 "nbformat": 4,
 "nbformat_minor": 5
}
