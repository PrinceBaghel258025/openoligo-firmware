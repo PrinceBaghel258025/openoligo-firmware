{
  "cells": [
    {
      "attachments": {},
      "cell_type": "markdown",
      "id": "c48ff180-25fd-4fbe-97c4-1aa0305ce4f5",
      "metadata": {},
      "source": [
        "## Trying out the API"
      ]
    },
    {
      "cell_type": "code",
      "execution_count": 2,
      "id": "5d532fdf-ce94-4b12-9e6f-f47b95c550a0",
      "metadata": {},
      "outputs": [
        {
          "data": {
            "text/plain": [
              "<enum 'Board'>"
            ]
          },
          "execution_count": 2,
          "metadata": {},
          "output_type": "execute_result"
        }
      ],
      "source": [
        "# Implicit\n",
        "import openoligo as oo\n",
        "oo.Board"
      ]
    },
    {
      "cell_type": "code",
      "execution_count": 3,
      "id": "69844c89-941a-411e-87d2-0a0ab683abab",
      "metadata": {},
      "outputs": [
        {
          "name": "stdout",
          "output_type": "stream",
          "text": [
            "pin=<Board.P3: 3>\n",
            "pin=<Board.P5: 5>\n",
            "pin=<Board.P7: 7>\n",
            "pin=<Board.P8: 8>\n",
            "pin=<Board.P10: 10>\n",
            "pin=<Board.P11: 11>\n",
            "pin=<Board.P12: 12>\n",
            "pin=<Board.P13: 13>\n",
            "pin=<Board.P15: 15>\n",
            "pin=<Board.P16: 16>\n",
            "pin=<Board.P18: 18>\n",
            "pin=<Board.P19: 19>\n",
            "pin=<Board.P21: 21>\n",
            "pin=<Board.P22: 22>\n",
            "pin=<Board.P23: 23>\n",
            "pin=<Board.P24: 24>\n",
            "pin=<Board.P26: 26>\n",
            "pin=<Board.P27: 27>\n",
            "pin=<Board.P28: 28>\n",
            "pin=<Board.P29: 29>\n",
            "pin=<Board.P31: 31>\n",
            "pin=<Board.P32: 32>\n",
            "pin=<Board.P33: 33>\n",
            "pin=<Board.P35: 35>\n",
            "pin=<Board.P36: 36>\n",
            "pin=<Board.P37: 37>\n",
            "pin=<Board.P38: 38>\n",
            "pin=<Board.P40: 40>\n"
          ]
        }
      ],
      "source": [
        "for pin in oo.Board:\n",
        "    print(f\"{pin=}\")"
      ]
    },
    {
      "attachments": {},
      "cell_type": "markdown",
      "id": "a9d7b7b8-bb43-440f-9eb1-7644b612137b",
      "metadata": {
        "jp-MarkdownHeadingCollapsed": true
      },
      "source": [
        "# Perhaps a better API?\n",
        "\n",
        "```py\n",
        "m.all(True)\n",
        "# oo.set_manifold(m, True)\n",
        "\n",
        "m.one_hot(4)\n",
        "# oo.set_one_hot(m, 3)\n",
        "\n",
        "m.n_hot([2, 3, 4])\n",
        "\n",
        "wait(m.one_hot(4), ms(100))\n",
        "wait(m.one_hot(3), s(2))\n",
        "\n",
        "# OR\n",
        "\n",
        "m.one_hot(4)\n",
        "wait_ms(100)\n",
        "m.one_hot(3)\n",
        "wait(2)\n",
        "```\n",
        "\n",
        "## Flow\n",
        "- Define a manifold (a set of n valves)\n",
        "- Start the connection to the motor board\n",
        "- Get the motor in the correct position\n",
        "- Close all valves\n",
        "- Open the gas inlet\n",
        "- Start switching valves on for various durations, one by one"
      ]
    },
    {
      "cell_type": "code",
      "execution_count": 5,
      "id": "0e178925-a173-4edf-bc6f-6c6fc53974ed",
      "metadata": {},
      "outputs": [
        {
          "data": {
            "text/plain": [
              "'DEBUG'"
            ]
          },
          "execution_count": 5,
          "metadata": {},
          "output_type": "execute_result"
        }
      ],
      "source": [
        "!export OO_LOG_LEVEL=INFO\n",
        "\n",
        "import os\n",
        "os.getenv(\"OO_LOG_LEVEL\")"
      ]
    },
    {
      "cell_type": "code",
      "execution_count": 6,
      "id": "eaa732d6-f87e-45ae-a65d-ff4c7548334d",
      "metadata": {},
      "outputs": [
        {
          "data": {
            "text/plain": [
              "[0[True], 1[True], 2[True], 3[True]]"
            ]
          },
          "execution_count": 6,
          "metadata": {},
          "output_type": "execute_result"
        }
      ],
      "source": [
        "from openoligo import Manifold, PneumaticNoValve\n",
        "\n",
        "m = Manifold(PneumaticNoValve, 4)\n",
        "m.valves"
      ]
    },
    {
      "cell_type": "code",
      "execution_count": 7,
      "id": "0b62d607-b596-4cdf-ac0a-36d7fb4bd381",
      "metadata": {},
      "outputs": [
        {
          "data": {
            "text/html": [
              "<pre style=\"white-space:pre;overflow-x:auto;line-height:normal;font-family:Menlo,'DejaVu Sans Mono',consolas,'Courier New',monospace\"><span style=\"color: #7fbfbf; text-decoration-color: #7fbfbf\">[15:45:14] </span><span style=\"color: #008000; text-decoration-color: #008000\">DEBUG   </span> <span style=\"font-weight: bold\">&lt;</span><span style=\"color: #ff00ff; text-decoration-color: #ff00ff; font-weight: bold\">switch.py:</span><span style=\"color: #008080; text-decoration-color: #008080; font-weight: bold\">66</span><span style=\"font-weight: bold\">&gt;</span> Valve <span style=\"font-weight: bold\">(</span>Valve <span style=\"color: #008080; text-decoration-color: #008080; font-weight: bold\">0</span><span style=\"font-weight: bold\">)</span> set to <span style=\"font-weight: bold\">ValveState.OPEN_FLOW</span>                         <a href=\"file:///Users/satyamtiwary/Documents/Python-Things/OpenOligo/openoligo/driver/switch.py\" target=\"_blank\"><span style=\"color: #7f7f7f; text-decoration-color: #7f7f7f\">switch.py</span></a><span style=\"color: #7f7f7f; text-decoration-color: #7f7f7f\">:</span><a href=\"file:///Users/satyamtiwary/Documents/Python-Things/OpenOligo/openoligo/driver/switch.py#66\" target=\"_blank\"><span style=\"color: #7f7f7f; text-decoration-color: #7f7f7f\">66</span></a>\n",
              "</pre>\n"
            ],
            "text/plain": [
              "\u001b[2;36m[15:45:14]\u001b[0m\u001b[2;36m \u001b[0m\u001b[32mDEBUG   \u001b[0m \u001b[1m<\u001b[0m\u001b[1;95mswitch.py:\u001b[0m\u001b[1;36m66\u001b[0m\u001b[1m>\u001b[0m Valve \u001b[1m(\u001b[0mValve \u001b[1;36m0\u001b[0m\u001b[1m)\u001b[0m set to \u001b[1mValveState.OPEN_FLOW\u001b[0m                         \u001b]8;id=382720;file:///Users/satyamtiwary/Documents/Python-Things/OpenOligo/openoligo/driver/switch.py\u001b\\\u001b[2mswitch.py\u001b[0m\u001b]8;;\u001b\\\u001b[2m:\u001b[0m\u001b]8;id=586915;file:///Users/satyamtiwary/Documents/Python-Things/OpenOligo/openoligo/driver/switch.py#66\u001b\\\u001b[2m66\u001b[0m\u001b]8;;\u001b\\\n"
            ]
          },
          "metadata": {},
          "output_type": "display_data"
        },
        {
          "data": {
            "text/html": [
              "<pre style=\"white-space:pre;overflow-x:auto;line-height:normal;font-family:Menlo,'DejaVu Sans Mono',consolas,'Courier New',monospace\"><span style=\"color: #7fbfbf; text-decoration-color: #7fbfbf\">           </span><span style=\"color: #008000; text-decoration-color: #008000\">DEBUG   </span> <span style=\"font-weight: bold\">&lt;</span><span style=\"color: #ff00ff; text-decoration-color: #ff00ff; font-weight: bold\">switch.py:</span><span style=\"color: #008080; text-decoration-color: #008080; font-weight: bold\">66</span><span style=\"font-weight: bold\">&gt;</span> Valve <span style=\"font-weight: bold\">(</span>Valve <span style=\"color: #008080; text-decoration-color: #008080; font-weight: bold\">1</span><span style=\"font-weight: bold\">)</span> set to <span style=\"font-weight: bold\">ValveState.OPEN_FLOW</span>                         <a href=\"file:///Users/satyamtiwary/Documents/Python-Things/OpenOligo/openoligo/driver/switch.py\" target=\"_blank\"><span style=\"color: #7f7f7f; text-decoration-color: #7f7f7f\">switch.py</span></a><span style=\"color: #7f7f7f; text-decoration-color: #7f7f7f\">:</span><a href=\"file:///Users/satyamtiwary/Documents/Python-Things/OpenOligo/openoligo/driver/switch.py#66\" target=\"_blank\"><span style=\"color: #7f7f7f; text-decoration-color: #7f7f7f\">66</span></a>\n",
              "</pre>\n"
            ],
            "text/plain": [
              "\u001b[2;36m          \u001b[0m\u001b[2;36m \u001b[0m\u001b[32mDEBUG   \u001b[0m \u001b[1m<\u001b[0m\u001b[1;95mswitch.py:\u001b[0m\u001b[1;36m66\u001b[0m\u001b[1m>\u001b[0m Valve \u001b[1m(\u001b[0mValve \u001b[1;36m1\u001b[0m\u001b[1m)\u001b[0m set to \u001b[1mValveState.OPEN_FLOW\u001b[0m                         \u001b]8;id=921272;file:///Users/satyamtiwary/Documents/Python-Things/OpenOligo/openoligo/driver/switch.py\u001b\\\u001b[2mswitch.py\u001b[0m\u001b]8;;\u001b\\\u001b[2m:\u001b[0m\u001b]8;id=968976;file:///Users/satyamtiwary/Documents/Python-Things/OpenOligo/openoligo/driver/switch.py#66\u001b\\\u001b[2m66\u001b[0m\u001b]8;;\u001b\\\n"
            ]
          },
          "metadata": {},
          "output_type": "display_data"
        },
        {
          "data": {
            "text/html": [
              "<pre style=\"white-space:pre;overflow-x:auto;line-height:normal;font-family:Menlo,'DejaVu Sans Mono',consolas,'Courier New',monospace\"><span style=\"color: #7fbfbf; text-decoration-color: #7fbfbf\">           </span><span style=\"color: #008000; text-decoration-color: #008000\">DEBUG   </span> <span style=\"font-weight: bold\">&lt;</span><span style=\"color: #ff00ff; text-decoration-color: #ff00ff; font-weight: bold\">switch.py:</span><span style=\"color: #008080; text-decoration-color: #008080; font-weight: bold\">66</span><span style=\"font-weight: bold\">&gt;</span> Valve <span style=\"font-weight: bold\">(</span>Valve <span style=\"color: #008080; text-decoration-color: #008080; font-weight: bold\">2</span><span style=\"font-weight: bold\">)</span> set to <span style=\"font-weight: bold\">ValveState.OPEN_FLOW</span>                         <a href=\"file:///Users/satyamtiwary/Documents/Python-Things/OpenOligo/openoligo/driver/switch.py\" target=\"_blank\"><span style=\"color: #7f7f7f; text-decoration-color: #7f7f7f\">switch.py</span></a><span style=\"color: #7f7f7f; text-decoration-color: #7f7f7f\">:</span><a href=\"file:///Users/satyamtiwary/Documents/Python-Things/OpenOligo/openoligo/driver/switch.py#66\" target=\"_blank\"><span style=\"color: #7f7f7f; text-decoration-color: #7f7f7f\">66</span></a>\n",
              "</pre>\n"
            ],
            "text/plain": [
              "\u001b[2;36m          \u001b[0m\u001b[2;36m \u001b[0m\u001b[32mDEBUG   \u001b[0m \u001b[1m<\u001b[0m\u001b[1;95mswitch.py:\u001b[0m\u001b[1;36m66\u001b[0m\u001b[1m>\u001b[0m Valve \u001b[1m(\u001b[0mValve \u001b[1;36m2\u001b[0m\u001b[1m)\u001b[0m set to \u001b[1mValveState.OPEN_FLOW\u001b[0m                         \u001b]8;id=669006;file:///Users/satyamtiwary/Documents/Python-Things/OpenOligo/openoligo/driver/switch.py\u001b\\\u001b[2mswitch.py\u001b[0m\u001b]8;;\u001b\\\u001b[2m:\u001b[0m\u001b]8;id=908909;file:///Users/satyamtiwary/Documents/Python-Things/OpenOligo/openoligo/driver/switch.py#66\u001b\\\u001b[2m66\u001b[0m\u001b]8;;\u001b\\\n"
            ]
          },
          "metadata": {},
          "output_type": "display_data"
        },
        {
          "data": {
            "text/html": [
              "<pre style=\"white-space:pre;overflow-x:auto;line-height:normal;font-family:Menlo,'DejaVu Sans Mono',consolas,'Courier New',monospace\"><span style=\"color: #7fbfbf; text-decoration-color: #7fbfbf\">           </span><span style=\"color: #008000; text-decoration-color: #008000\">DEBUG   </span> <span style=\"font-weight: bold\">&lt;</span><span style=\"color: #ff00ff; text-decoration-color: #ff00ff; font-weight: bold\">switch.py:</span><span style=\"color: #008080; text-decoration-color: #008080; font-weight: bold\">66</span><span style=\"font-weight: bold\">&gt;</span> Valve <span style=\"font-weight: bold\">(</span>Valve <span style=\"color: #008080; text-decoration-color: #008080; font-weight: bold\">3</span><span style=\"font-weight: bold\">)</span> set to <span style=\"font-weight: bold\">ValveState.OPEN_FLOW</span>                         <a href=\"file:///Users/satyamtiwary/Documents/Python-Things/OpenOligo/openoligo/driver/switch.py\" target=\"_blank\"><span style=\"color: #7f7f7f; text-decoration-color: #7f7f7f\">switch.py</span></a><span style=\"color: #7f7f7f; text-decoration-color: #7f7f7f\">:</span><a href=\"file:///Users/satyamtiwary/Documents/Python-Things/OpenOligo/openoligo/driver/switch.py#66\" target=\"_blank\"><span style=\"color: #7f7f7f; text-decoration-color: #7f7f7f\">66</span></a>\n",
              "</pre>\n"
            ],
            "text/plain": [
              "\u001b[2;36m          \u001b[0m\u001b[2;36m \u001b[0m\u001b[32mDEBUG   \u001b[0m \u001b[1m<\u001b[0m\u001b[1;95mswitch.py:\u001b[0m\u001b[1;36m66\u001b[0m\u001b[1m>\u001b[0m Valve \u001b[1m(\u001b[0mValve \u001b[1;36m3\u001b[0m\u001b[1m)\u001b[0m set to \u001b[1mValveState.OPEN_FLOW\u001b[0m                         \u001b]8;id=880240;file:///Users/satyamtiwary/Documents/Python-Things/OpenOligo/openoligo/driver/switch.py\u001b\\\u001b[2mswitch.py\u001b[0m\u001b]8;;\u001b\\\u001b[2m:\u001b[0m\u001b]8;id=944827;file:///Users/satyamtiwary/Documents/Python-Things/OpenOligo/openoligo/driver/switch.py#66\u001b\\\u001b[2m66\u001b[0m\u001b]8;;\u001b\\\n"
            ]
          },
          "metadata": {},
          "output_type": "display_data"
        },
        {
          "data": {
            "text/plain": [
              "[0[True], 1[True], 2[True], 3[True]]"
            ]
          },
          "execution_count": 7,
          "metadata": {},
          "output_type": "execute_result"
        }
      ],
      "source": [
        "m.all(True)\n",
        "m.valves"
      ]
    },
    {
      "cell_type": "code",
      "execution_count": 8,
      "id": "22da7289-10ef-4cc7-a00f-690c10934723",
      "metadata": {},
      "outputs": [
        {
          "data": {
            "text/html": [
              "<pre style=\"white-space:pre;overflow-x:auto;line-height:normal;font-family:Menlo,'DejaVu Sans Mono',consolas,'Courier New',monospace\"><span style=\"color: #7fbfbf; text-decoration-color: #7fbfbf\">           </span><span style=\"color: #008000; text-decoration-color: #008000\">DEBUG   </span> <span style=\"font-weight: bold\">&lt;</span><span style=\"color: #ff00ff; text-decoration-color: #ff00ff; font-weight: bold\">switch.py:</span><span style=\"color: #008080; text-decoration-color: #008080; font-weight: bold\">66</span><span style=\"font-weight: bold\">&gt;</span> Valve <span style=\"font-weight: bold\">(</span>Valve <span style=\"color: #008080; text-decoration-color: #008080; font-weight: bold\">0</span><span style=\"font-weight: bold\">)</span> set to <span style=\"font-weight: bold\">ValveState.CLOSED_FLOW</span>                       <a href=\"file:///Users/satyamtiwary/Documents/Python-Things/OpenOligo/openoligo/driver/switch.py\" target=\"_blank\"><span style=\"color: #7f7f7f; text-decoration-color: #7f7f7f\">switch.py</span></a><span style=\"color: #7f7f7f; text-decoration-color: #7f7f7f\">:</span><a href=\"file:///Users/satyamtiwary/Documents/Python-Things/OpenOligo/openoligo/driver/switch.py#66\" target=\"_blank\"><span style=\"color: #7f7f7f; text-decoration-color: #7f7f7f\">66</span></a>\n",
              "</pre>\n"
            ],
            "text/plain": [
              "\u001b[2;36m          \u001b[0m\u001b[2;36m \u001b[0m\u001b[32mDEBUG   \u001b[0m \u001b[1m<\u001b[0m\u001b[1;95mswitch.py:\u001b[0m\u001b[1;36m66\u001b[0m\u001b[1m>\u001b[0m Valve \u001b[1m(\u001b[0mValve \u001b[1;36m0\u001b[0m\u001b[1m)\u001b[0m set to \u001b[1mValveState.CLOSED_FLOW\u001b[0m                       \u001b]8;id=600103;file:///Users/satyamtiwary/Documents/Python-Things/OpenOligo/openoligo/driver/switch.py\u001b\\\u001b[2mswitch.py\u001b[0m\u001b]8;;\u001b\\\u001b[2m:\u001b[0m\u001b]8;id=149911;file:///Users/satyamtiwary/Documents/Python-Things/OpenOligo/openoligo/driver/switch.py#66\u001b\\\u001b[2m66\u001b[0m\u001b]8;;\u001b\\\n"
            ]
          },
          "metadata": {},
          "output_type": "display_data"
        },
        {
          "data": {
            "text/html": [
              "<pre style=\"white-space:pre;overflow-x:auto;line-height:normal;font-family:Menlo,'DejaVu Sans Mono',consolas,'Courier New',monospace\"><span style=\"color: #7fbfbf; text-decoration-color: #7fbfbf\">           </span><span style=\"color: #008000; text-decoration-color: #008000\">DEBUG   </span> <span style=\"font-weight: bold\">&lt;</span><span style=\"color: #ff00ff; text-decoration-color: #ff00ff; font-weight: bold\">switch.py:</span><span style=\"color: #008080; text-decoration-color: #008080; font-weight: bold\">66</span><span style=\"font-weight: bold\">&gt;</span> Valve <span style=\"font-weight: bold\">(</span>Valve <span style=\"color: #008080; text-decoration-color: #008080; font-weight: bold\">1</span><span style=\"font-weight: bold\">)</span> set to <span style=\"font-weight: bold\">ValveState.CLOSED_FLOW</span>                       <a href=\"file:///Users/satyamtiwary/Documents/Python-Things/OpenOligo/openoligo/driver/switch.py\" target=\"_blank\"><span style=\"color: #7f7f7f; text-decoration-color: #7f7f7f\">switch.py</span></a><span style=\"color: #7f7f7f; text-decoration-color: #7f7f7f\">:</span><a href=\"file:///Users/satyamtiwary/Documents/Python-Things/OpenOligo/openoligo/driver/switch.py#66\" target=\"_blank\"><span style=\"color: #7f7f7f; text-decoration-color: #7f7f7f\">66</span></a>\n",
              "</pre>\n"
            ],
            "text/plain": [
              "\u001b[2;36m          \u001b[0m\u001b[2;36m \u001b[0m\u001b[32mDEBUG   \u001b[0m \u001b[1m<\u001b[0m\u001b[1;95mswitch.py:\u001b[0m\u001b[1;36m66\u001b[0m\u001b[1m>\u001b[0m Valve \u001b[1m(\u001b[0mValve \u001b[1;36m1\u001b[0m\u001b[1m)\u001b[0m set to \u001b[1mValveState.CLOSED_FLOW\u001b[0m                       \u001b]8;id=559252;file:///Users/satyamtiwary/Documents/Python-Things/OpenOligo/openoligo/driver/switch.py\u001b\\\u001b[2mswitch.py\u001b[0m\u001b]8;;\u001b\\\u001b[2m:\u001b[0m\u001b]8;id=797692;file:///Users/satyamtiwary/Documents/Python-Things/OpenOligo/openoligo/driver/switch.py#66\u001b\\\u001b[2m66\u001b[0m\u001b]8;;\u001b\\\n"
            ]
          },
          "metadata": {},
          "output_type": "display_data"
        },
        {
          "data": {
            "text/html": [
              "<pre style=\"white-space:pre;overflow-x:auto;line-height:normal;font-family:Menlo,'DejaVu Sans Mono',consolas,'Courier New',monospace\"><span style=\"color: #7fbfbf; text-decoration-color: #7fbfbf\">           </span><span style=\"color: #008000; text-decoration-color: #008000\">DEBUG   </span> <span style=\"font-weight: bold\">&lt;</span><span style=\"color: #ff00ff; text-decoration-color: #ff00ff; font-weight: bold\">switch.py:</span><span style=\"color: #008080; text-decoration-color: #008080; font-weight: bold\">66</span><span style=\"font-weight: bold\">&gt;</span> Valve <span style=\"font-weight: bold\">(</span>Valve <span style=\"color: #008080; text-decoration-color: #008080; font-weight: bold\">2</span><span style=\"font-weight: bold\">)</span> set to <span style=\"font-weight: bold\">ValveState.CLOSED_FLOW</span>                       <a href=\"file:///Users/satyamtiwary/Documents/Python-Things/OpenOligo/openoligo/driver/switch.py\" target=\"_blank\"><span style=\"color: #7f7f7f; text-decoration-color: #7f7f7f\">switch.py</span></a><span style=\"color: #7f7f7f; text-decoration-color: #7f7f7f\">:</span><a href=\"file:///Users/satyamtiwary/Documents/Python-Things/OpenOligo/openoligo/driver/switch.py#66\" target=\"_blank\"><span style=\"color: #7f7f7f; text-decoration-color: #7f7f7f\">66</span></a>\n",
              "</pre>\n"
            ],
            "text/plain": [
              "\u001b[2;36m          \u001b[0m\u001b[2;36m \u001b[0m\u001b[32mDEBUG   \u001b[0m \u001b[1m<\u001b[0m\u001b[1;95mswitch.py:\u001b[0m\u001b[1;36m66\u001b[0m\u001b[1m>\u001b[0m Valve \u001b[1m(\u001b[0mValve \u001b[1;36m2\u001b[0m\u001b[1m)\u001b[0m set to \u001b[1mValveState.CLOSED_FLOW\u001b[0m                       \u001b]8;id=236044;file:///Users/satyamtiwary/Documents/Python-Things/OpenOligo/openoligo/driver/switch.py\u001b\\\u001b[2mswitch.py\u001b[0m\u001b]8;;\u001b\\\u001b[2m:\u001b[0m\u001b]8;id=216401;file:///Users/satyamtiwary/Documents/Python-Things/OpenOligo/openoligo/driver/switch.py#66\u001b\\\u001b[2m66\u001b[0m\u001b]8;;\u001b\\\n"
            ]
          },
          "metadata": {},
          "output_type": "display_data"
        },
        {
          "data": {
            "text/html": [
              "<pre style=\"white-space:pre;overflow-x:auto;line-height:normal;font-family:Menlo,'DejaVu Sans Mono',consolas,'Courier New',monospace\"><span style=\"color: #7fbfbf; text-decoration-color: #7fbfbf\">           </span><span style=\"color: #008000; text-decoration-color: #008000\">DEBUG   </span> <span style=\"font-weight: bold\">&lt;</span><span style=\"color: #ff00ff; text-decoration-color: #ff00ff; font-weight: bold\">switch.py:</span><span style=\"color: #008080; text-decoration-color: #008080; font-weight: bold\">66</span><span style=\"font-weight: bold\">&gt;</span> Valve <span style=\"font-weight: bold\">(</span>Valve <span style=\"color: #008080; text-decoration-color: #008080; font-weight: bold\">3</span><span style=\"font-weight: bold\">)</span> set to <span style=\"font-weight: bold\">ValveState.CLOSED_FLOW</span>                       <a href=\"file:///Users/satyamtiwary/Documents/Python-Things/OpenOligo/openoligo/driver/switch.py\" target=\"_blank\"><span style=\"color: #7f7f7f; text-decoration-color: #7f7f7f\">switch.py</span></a><span style=\"color: #7f7f7f; text-decoration-color: #7f7f7f\">:</span><a href=\"file:///Users/satyamtiwary/Documents/Python-Things/OpenOligo/openoligo/driver/switch.py#66\" target=\"_blank\"><span style=\"color: #7f7f7f; text-decoration-color: #7f7f7f\">66</span></a>\n",
              "</pre>\n"
            ],
            "text/plain": [
              "\u001b[2;36m          \u001b[0m\u001b[2;36m \u001b[0m\u001b[32mDEBUG   \u001b[0m \u001b[1m<\u001b[0m\u001b[1;95mswitch.py:\u001b[0m\u001b[1;36m66\u001b[0m\u001b[1m>\u001b[0m Valve \u001b[1m(\u001b[0mValve \u001b[1;36m3\u001b[0m\u001b[1m)\u001b[0m set to \u001b[1mValveState.CLOSED_FLOW\u001b[0m                       \u001b]8;id=18084;file:///Users/satyamtiwary/Documents/Python-Things/OpenOligo/openoligo/driver/switch.py\u001b\\\u001b[2mswitch.py\u001b[0m\u001b]8;;\u001b\\\u001b[2m:\u001b[0m\u001b]8;id=277271;file:///Users/satyamtiwary/Documents/Python-Things/OpenOligo/openoligo/driver/switch.py#66\u001b\\\u001b[2m66\u001b[0m\u001b]8;;\u001b\\\n"
            ]
          },
          "metadata": {},
          "output_type": "display_data"
        },
        {
          "data": {
            "text/html": [
              "<pre style=\"white-space:pre;overflow-x:auto;line-height:normal;font-family:Menlo,'DejaVu Sans Mono',consolas,'Courier New',monospace\"><span style=\"color: #7fbfbf; text-decoration-color: #7fbfbf\">           </span><span style=\"color: #008000; text-decoration-color: #008000\">DEBUG   </span> <span style=\"font-weight: bold\">&lt;</span><span style=\"color: #ff00ff; text-decoration-color: #ff00ff; font-weight: bold\">switch.py:</span><span style=\"color: #008080; text-decoration-color: #008080; font-weight: bold\">66</span><span style=\"font-weight: bold\">&gt;</span> Valve <span style=\"font-weight: bold\">(</span>Valve <span style=\"color: #008080; text-decoration-color: #008080; font-weight: bold\">0</span><span style=\"font-weight: bold\">)</span> set to <span style=\"font-weight: bold\">ValveState.OPEN_FLOW</span>                         <a href=\"file:///Users/satyamtiwary/Documents/Python-Things/OpenOligo/openoligo/driver/switch.py\" target=\"_blank\"><span style=\"color: #7f7f7f; text-decoration-color: #7f7f7f\">switch.py</span></a><span style=\"color: #7f7f7f; text-decoration-color: #7f7f7f\">:</span><a href=\"file:///Users/satyamtiwary/Documents/Python-Things/OpenOligo/openoligo/driver/switch.py#66\" target=\"_blank\"><span style=\"color: #7f7f7f; text-decoration-color: #7f7f7f\">66</span></a>\n",
              "</pre>\n"
            ],
            "text/plain": [
              "\u001b[2;36m          \u001b[0m\u001b[2;36m \u001b[0m\u001b[32mDEBUG   \u001b[0m \u001b[1m<\u001b[0m\u001b[1;95mswitch.py:\u001b[0m\u001b[1;36m66\u001b[0m\u001b[1m>\u001b[0m Valve \u001b[1m(\u001b[0mValve \u001b[1;36m0\u001b[0m\u001b[1m)\u001b[0m set to \u001b[1mValveState.OPEN_FLOW\u001b[0m                         \u001b]8;id=331728;file:///Users/satyamtiwary/Documents/Python-Things/OpenOligo/openoligo/driver/switch.py\u001b\\\u001b[2mswitch.py\u001b[0m\u001b]8;;\u001b\\\u001b[2m:\u001b[0m\u001b]8;id=445865;file:///Users/satyamtiwary/Documents/Python-Things/OpenOligo/openoligo/driver/switch.py#66\u001b\\\u001b[2m66\u001b[0m\u001b]8;;\u001b\\\n"
            ]
          },
          "metadata": {},
          "output_type": "display_data"
        },
        {
          "data": {
            "text/html": [
              "<pre style=\"white-space:pre;overflow-x:auto;line-height:normal;font-family:Menlo,'DejaVu Sans Mono',consolas,'Courier New',monospace\"><span style=\"color: #7fbfbf; text-decoration-color: #7fbfbf\">           </span><span style=\"color: #008000; text-decoration-color: #008000\">DEBUG   </span> <span style=\"font-weight: bold\">&lt;</span><span style=\"color: #ff00ff; text-decoration-color: #ff00ff; font-weight: bold\">switch.py:</span><span style=\"color: #008080; text-decoration-color: #008080; font-weight: bold\">123</span><span style=\"font-weight: bold\">&gt;</span> Toggled the switch: <span style=\"color: #008080; text-decoration-color: #008080; font-weight: bold\">0</span><span style=\"font-weight: bold\">[</span><span style=\"color: #00ff00; text-decoration-color: #00ff00; font-style: italic\">True</span><span style=\"font-weight: bold\">]</span>                                       <a href=\"file:///Users/satyamtiwary/Documents/Python-Things/OpenOligo/openoligo/driver/switch.py\" target=\"_blank\"><span style=\"color: #7f7f7f; text-decoration-color: #7f7f7f\">switch.py</span></a><span style=\"color: #7f7f7f; text-decoration-color: #7f7f7f\">:</span><a href=\"file:///Users/satyamtiwary/Documents/Python-Things/OpenOligo/openoligo/driver/switch.py#123\" target=\"_blank\"><span style=\"color: #7f7f7f; text-decoration-color: #7f7f7f\">123</span></a>\n",
              "</pre>\n"
            ],
            "text/plain": [
              "\u001b[2;36m          \u001b[0m\u001b[2;36m \u001b[0m\u001b[32mDEBUG   \u001b[0m \u001b[1m<\u001b[0m\u001b[1;95mswitch.py:\u001b[0m\u001b[1;36m123\u001b[0m\u001b[1m>\u001b[0m Toggled the switch: \u001b[1;36m0\u001b[0m\u001b[1m[\u001b[0m\u001b[3;92mTrue\u001b[0m\u001b[1m]\u001b[0m                                       \u001b]8;id=964275;file:///Users/satyamtiwary/Documents/Python-Things/OpenOligo/openoligo/driver/switch.py\u001b\\\u001b[2mswitch.py\u001b[0m\u001b]8;;\u001b\\\u001b[2m:\u001b[0m\u001b]8;id=739314;file:///Users/satyamtiwary/Documents/Python-Things/OpenOligo/openoligo/driver/switch.py#123\u001b\\\u001b[2m123\u001b[0m\u001b]8;;\u001b\\\n"
            ]
          },
          "metadata": {},
          "output_type": "display_data"
        },
        {
          "data": {
            "text/html": [
              "<pre style=\"white-space:pre;overflow-x:auto;line-height:normal;font-family:Menlo,'DejaVu Sans Mono',consolas,'Courier New',monospace\"><span style=\"color: #7fbfbf; text-decoration-color: #7fbfbf\">           </span><span style=\"color: #008000; text-decoration-color: #008000\">DEBUG   </span> <span style=\"font-weight: bold\">&lt;</span><span style=\"color: #ff00ff; text-decoration-color: #ff00ff; font-weight: bold\">switch.py:</span><span style=\"color: #008080; text-decoration-color: #008080; font-weight: bold\">66</span><span style=\"font-weight: bold\">&gt;</span> Valve <span style=\"font-weight: bold\">(</span>Valve <span style=\"color: #008080; text-decoration-color: #008080; font-weight: bold\">1</span><span style=\"font-weight: bold\">)</span> set to <span style=\"font-weight: bold\">ValveState.OPEN_FLOW</span>                         <a href=\"file:///Users/satyamtiwary/Documents/Python-Things/OpenOligo/openoligo/driver/switch.py\" target=\"_blank\"><span style=\"color: #7f7f7f; text-decoration-color: #7f7f7f\">switch.py</span></a><span style=\"color: #7f7f7f; text-decoration-color: #7f7f7f\">:</span><a href=\"file:///Users/satyamtiwary/Documents/Python-Things/OpenOligo/openoligo/driver/switch.py#66\" target=\"_blank\"><span style=\"color: #7f7f7f; text-decoration-color: #7f7f7f\">66</span></a>\n",
              "</pre>\n"
            ],
            "text/plain": [
              "\u001b[2;36m          \u001b[0m\u001b[2;36m \u001b[0m\u001b[32mDEBUG   \u001b[0m \u001b[1m<\u001b[0m\u001b[1;95mswitch.py:\u001b[0m\u001b[1;36m66\u001b[0m\u001b[1m>\u001b[0m Valve \u001b[1m(\u001b[0mValve \u001b[1;36m1\u001b[0m\u001b[1m)\u001b[0m set to \u001b[1mValveState.OPEN_FLOW\u001b[0m                         \u001b]8;id=876365;file:///Users/satyamtiwary/Documents/Python-Things/OpenOligo/openoligo/driver/switch.py\u001b\\\u001b[2mswitch.py\u001b[0m\u001b]8;;\u001b\\\u001b[2m:\u001b[0m\u001b]8;id=43987;file:///Users/satyamtiwary/Documents/Python-Things/OpenOligo/openoligo/driver/switch.py#66\u001b\\\u001b[2m66\u001b[0m\u001b]8;;\u001b\\\n"
            ]
          },
          "metadata": {},
          "output_type": "display_data"
        },
        {
          "data": {
            "text/html": [
              "<pre style=\"white-space:pre;overflow-x:auto;line-height:normal;font-family:Menlo,'DejaVu Sans Mono',consolas,'Courier New',monospace\"><span style=\"color: #7fbfbf; text-decoration-color: #7fbfbf\">           </span><span style=\"color: #008000; text-decoration-color: #008000\">DEBUG   </span> <span style=\"font-weight: bold\">&lt;</span><span style=\"color: #ff00ff; text-decoration-color: #ff00ff; font-weight: bold\">switch.py:</span><span style=\"color: #008080; text-decoration-color: #008080; font-weight: bold\">123</span><span style=\"font-weight: bold\">&gt;</span> Toggled the switch: <span style=\"color: #008080; text-decoration-color: #008080; font-weight: bold\">1</span><span style=\"font-weight: bold\">[</span><span style=\"color: #00ff00; text-decoration-color: #00ff00; font-style: italic\">True</span><span style=\"font-weight: bold\">]</span>                                       <a href=\"file:///Users/satyamtiwary/Documents/Python-Things/OpenOligo/openoligo/driver/switch.py\" target=\"_blank\"><span style=\"color: #7f7f7f; text-decoration-color: #7f7f7f\">switch.py</span></a><span style=\"color: #7f7f7f; text-decoration-color: #7f7f7f\">:</span><a href=\"file:///Users/satyamtiwary/Documents/Python-Things/OpenOligo/openoligo/driver/switch.py#123\" target=\"_blank\"><span style=\"color: #7f7f7f; text-decoration-color: #7f7f7f\">123</span></a>\n",
              "</pre>\n"
            ],
            "text/plain": [
              "\u001b[2;36m          \u001b[0m\u001b[2;36m \u001b[0m\u001b[32mDEBUG   \u001b[0m \u001b[1m<\u001b[0m\u001b[1;95mswitch.py:\u001b[0m\u001b[1;36m123\u001b[0m\u001b[1m>\u001b[0m Toggled the switch: \u001b[1;36m1\u001b[0m\u001b[1m[\u001b[0m\u001b[3;92mTrue\u001b[0m\u001b[1m]\u001b[0m                                       \u001b]8;id=984236;file:///Users/satyamtiwary/Documents/Python-Things/OpenOligo/openoligo/driver/switch.py\u001b\\\u001b[2mswitch.py\u001b[0m\u001b]8;;\u001b\\\u001b[2m:\u001b[0m\u001b]8;id=890846;file:///Users/satyamtiwary/Documents/Python-Things/OpenOligo/openoligo/driver/switch.py#123\u001b\\\u001b[2m123\u001b[0m\u001b]8;;\u001b\\\n"
            ]
          },
          "metadata": {},
          "output_type": "display_data"
        },
        {
          "data": {
            "text/html": [
              "<pre style=\"white-space:pre;overflow-x:auto;line-height:normal;font-family:Menlo,'DejaVu Sans Mono',consolas,'Courier New',monospace\"><span style=\"color: #7fbfbf; text-decoration-color: #7fbfbf\">           </span><span style=\"color: #008000; text-decoration-color: #008000\">DEBUG   </span> <span style=\"font-weight: bold\">&lt;</span><span style=\"color: #ff00ff; text-decoration-color: #ff00ff; font-weight: bold\">switch.py:</span><span style=\"color: #008080; text-decoration-color: #008080; font-weight: bold\">66</span><span style=\"font-weight: bold\">&gt;</span> Valve <span style=\"font-weight: bold\">(</span>Valve <span style=\"color: #008080; text-decoration-color: #008080; font-weight: bold\">2</span><span style=\"font-weight: bold\">)</span> set to <span style=\"font-weight: bold\">ValveState.OPEN_FLOW</span>                         <a href=\"file:///Users/satyamtiwary/Documents/Python-Things/OpenOligo/openoligo/driver/switch.py\" target=\"_blank\"><span style=\"color: #7f7f7f; text-decoration-color: #7f7f7f\">switch.py</span></a><span style=\"color: #7f7f7f; text-decoration-color: #7f7f7f\">:</span><a href=\"file:///Users/satyamtiwary/Documents/Python-Things/OpenOligo/openoligo/driver/switch.py#66\" target=\"_blank\"><span style=\"color: #7f7f7f; text-decoration-color: #7f7f7f\">66</span></a>\n",
              "</pre>\n"
            ],
            "text/plain": [
              "\u001b[2;36m          \u001b[0m\u001b[2;36m \u001b[0m\u001b[32mDEBUG   \u001b[0m \u001b[1m<\u001b[0m\u001b[1;95mswitch.py:\u001b[0m\u001b[1;36m66\u001b[0m\u001b[1m>\u001b[0m Valve \u001b[1m(\u001b[0mValve \u001b[1;36m2\u001b[0m\u001b[1m)\u001b[0m set to \u001b[1mValveState.OPEN_FLOW\u001b[0m                         \u001b]8;id=259113;file:///Users/satyamtiwary/Documents/Python-Things/OpenOligo/openoligo/driver/switch.py\u001b\\\u001b[2mswitch.py\u001b[0m\u001b]8;;\u001b\\\u001b[2m:\u001b[0m\u001b]8;id=710973;file:///Users/satyamtiwary/Documents/Python-Things/OpenOligo/openoligo/driver/switch.py#66\u001b\\\u001b[2m66\u001b[0m\u001b]8;;\u001b\\\n"
            ]
          },
          "metadata": {},
          "output_type": "display_data"
        },
        {
          "data": {
            "text/html": [
              "<pre style=\"white-space:pre;overflow-x:auto;line-height:normal;font-family:Menlo,'DejaVu Sans Mono',consolas,'Courier New',monospace\"><span style=\"color: #7fbfbf; text-decoration-color: #7fbfbf\">           </span><span style=\"color: #008000; text-decoration-color: #008000\">DEBUG   </span> <span style=\"font-weight: bold\">&lt;</span><span style=\"color: #ff00ff; text-decoration-color: #ff00ff; font-weight: bold\">switch.py:</span><span style=\"color: #008080; text-decoration-color: #008080; font-weight: bold\">123</span><span style=\"font-weight: bold\">&gt;</span> Toggled the switch: <span style=\"color: #008080; text-decoration-color: #008080; font-weight: bold\">2</span><span style=\"font-weight: bold\">[</span><span style=\"color: #00ff00; text-decoration-color: #00ff00; font-style: italic\">True</span><span style=\"font-weight: bold\">]</span>                                       <a href=\"file:///Users/satyamtiwary/Documents/Python-Things/OpenOligo/openoligo/driver/switch.py\" target=\"_blank\"><span style=\"color: #7f7f7f; text-decoration-color: #7f7f7f\">switch.py</span></a><span style=\"color: #7f7f7f; text-decoration-color: #7f7f7f\">:</span><a href=\"file:///Users/satyamtiwary/Documents/Python-Things/OpenOligo/openoligo/driver/switch.py#123\" target=\"_blank\"><span style=\"color: #7f7f7f; text-decoration-color: #7f7f7f\">123</span></a>\n",
              "</pre>\n"
            ],
            "text/plain": [
              "\u001b[2;36m          \u001b[0m\u001b[2;36m \u001b[0m\u001b[32mDEBUG   \u001b[0m \u001b[1m<\u001b[0m\u001b[1;95mswitch.py:\u001b[0m\u001b[1;36m123\u001b[0m\u001b[1m>\u001b[0m Toggled the switch: \u001b[1;36m2\u001b[0m\u001b[1m[\u001b[0m\u001b[3;92mTrue\u001b[0m\u001b[1m]\u001b[0m                                       \u001b]8;id=74224;file:///Users/satyamtiwary/Documents/Python-Things/OpenOligo/openoligo/driver/switch.py\u001b\\\u001b[2mswitch.py\u001b[0m\u001b]8;;\u001b\\\u001b[2m:\u001b[0m\u001b]8;id=921527;file:///Users/satyamtiwary/Documents/Python-Things/OpenOligo/openoligo/driver/switch.py#123\u001b\\\u001b[2m123\u001b[0m\u001b]8;;\u001b\\\n"
            ]
          },
          "metadata": {},
          "output_type": "display_data"
        },
        {
          "data": {
            "text/html": [
              "<pre style=\"white-space:pre;overflow-x:auto;line-height:normal;font-family:Menlo,'DejaVu Sans Mono',consolas,'Courier New',monospace\"><span style=\"color: #7fbfbf; text-decoration-color: #7fbfbf\">           </span><span style=\"color: #008000; text-decoration-color: #008000\">DEBUG   </span> <span style=\"font-weight: bold\">&lt;</span><span style=\"color: #ff00ff; text-decoration-color: #ff00ff; font-weight: bold\">switch.py:</span><span style=\"color: #008080; text-decoration-color: #008080; font-weight: bold\">66</span><span style=\"font-weight: bold\">&gt;</span> Valve <span style=\"font-weight: bold\">(</span>Valve <span style=\"color: #008080; text-decoration-color: #008080; font-weight: bold\">3</span><span style=\"font-weight: bold\">)</span> set to <span style=\"font-weight: bold\">ValveState.OPEN_FLOW</span>                         <a href=\"file:///Users/satyamtiwary/Documents/Python-Things/OpenOligo/openoligo/driver/switch.py\" target=\"_blank\"><span style=\"color: #7f7f7f; text-decoration-color: #7f7f7f\">switch.py</span></a><span style=\"color: #7f7f7f; text-decoration-color: #7f7f7f\">:</span><a href=\"file:///Users/satyamtiwary/Documents/Python-Things/OpenOligo/openoligo/driver/switch.py#66\" target=\"_blank\"><span style=\"color: #7f7f7f; text-decoration-color: #7f7f7f\">66</span></a>\n",
              "</pre>\n"
            ],
            "text/plain": [
              "\u001b[2;36m          \u001b[0m\u001b[2;36m \u001b[0m\u001b[32mDEBUG   \u001b[0m \u001b[1m<\u001b[0m\u001b[1;95mswitch.py:\u001b[0m\u001b[1;36m66\u001b[0m\u001b[1m>\u001b[0m Valve \u001b[1m(\u001b[0mValve \u001b[1;36m3\u001b[0m\u001b[1m)\u001b[0m set to \u001b[1mValveState.OPEN_FLOW\u001b[0m                         \u001b]8;id=350902;file:///Users/satyamtiwary/Documents/Python-Things/OpenOligo/openoligo/driver/switch.py\u001b\\\u001b[2mswitch.py\u001b[0m\u001b]8;;\u001b\\\u001b[2m:\u001b[0m\u001b]8;id=597789;file:///Users/satyamtiwary/Documents/Python-Things/OpenOligo/openoligo/driver/switch.py#66\u001b\\\u001b[2m66\u001b[0m\u001b]8;;\u001b\\\n"
            ]
          },
          "metadata": {},
          "output_type": "display_data"
        },
        {
          "data": {
            "text/html": [
              "<pre style=\"white-space:pre;overflow-x:auto;line-height:normal;font-family:Menlo,'DejaVu Sans Mono',consolas,'Courier New',monospace\"><span style=\"color: #7fbfbf; text-decoration-color: #7fbfbf\">           </span><span style=\"color: #008000; text-decoration-color: #008000\">DEBUG   </span> <span style=\"font-weight: bold\">&lt;</span><span style=\"color: #ff00ff; text-decoration-color: #ff00ff; font-weight: bold\">switch.py:</span><span style=\"color: #008080; text-decoration-color: #008080; font-weight: bold\">123</span><span style=\"font-weight: bold\">&gt;</span> Toggled the switch: <span style=\"color: #008080; text-decoration-color: #008080; font-weight: bold\">3</span><span style=\"font-weight: bold\">[</span><span style=\"color: #00ff00; text-decoration-color: #00ff00; font-style: italic\">True</span><span style=\"font-weight: bold\">]</span>                                       <a href=\"file:///Users/satyamtiwary/Documents/Python-Things/OpenOligo/openoligo/driver/switch.py\" target=\"_blank\"><span style=\"color: #7f7f7f; text-decoration-color: #7f7f7f\">switch.py</span></a><span style=\"color: #7f7f7f; text-decoration-color: #7f7f7f\">:</span><a href=\"file:///Users/satyamtiwary/Documents/Python-Things/OpenOligo/openoligo/driver/switch.py#123\" target=\"_blank\"><span style=\"color: #7f7f7f; text-decoration-color: #7f7f7f\">123</span></a>\n",
              "</pre>\n"
            ],
            "text/plain": [
              "\u001b[2;36m          \u001b[0m\u001b[2;36m \u001b[0m\u001b[32mDEBUG   \u001b[0m \u001b[1m<\u001b[0m\u001b[1;95mswitch.py:\u001b[0m\u001b[1;36m123\u001b[0m\u001b[1m>\u001b[0m Toggled the switch: \u001b[1;36m3\u001b[0m\u001b[1m[\u001b[0m\u001b[3;92mTrue\u001b[0m\u001b[1m]\u001b[0m                                       \u001b]8;id=598575;file:///Users/satyamtiwary/Documents/Python-Things/OpenOligo/openoligo/driver/switch.py\u001b\\\u001b[2mswitch.py\u001b[0m\u001b]8;;\u001b\\\u001b[2m:\u001b[0m\u001b]8;id=54993;file:///Users/satyamtiwary/Documents/Python-Things/OpenOligo/openoligo/driver/switch.py#123\u001b\\\u001b[2m123\u001b[0m\u001b]8;;\u001b\\\n"
            ]
          },
          "metadata": {},
          "output_type": "display_data"
        },
        {
          "data": {
            "text/plain": [
              "[0[True], 1[True], 2[True], 3[True]]"
            ]
          },
          "execution_count": 8,
          "metadata": {},
          "output_type": "execute_result"
        }
      ],
      "source": [
        "m.all(False)\n",
        "m.toggle()\n",
        "m.valves"
      ]
    },
    {
      "cell_type": "code",
      "execution_count": 9,
      "id": "f462ec92-3e1f-4d2a-b7a4-41b95e56462b",
      "metadata": {},
      "outputs": [
        {
          "data": {
            "text/html": [
              "<pre style=\"white-space:pre;overflow-x:auto;line-height:normal;font-family:Menlo,'DejaVu Sans Mono',consolas,'Courier New',monospace\"><span style=\"color: #7fbfbf; text-decoration-color: #7fbfbf\">[15:45:17] </span><span style=\"color: #008000; text-decoration-color: #008000\">DEBUG   </span> <span style=\"font-weight: bold\">&lt;</span><span style=\"color: #ff00ff; text-decoration-color: #ff00ff; font-weight: bold\">switch.py:</span><span style=\"color: #008080; text-decoration-color: #008080; font-weight: bold\">66</span><span style=\"font-weight: bold\">&gt;</span> Valve <span style=\"font-weight: bold\">(</span>Valve <span style=\"color: #008080; text-decoration-color: #008080; font-weight: bold\">0</span><span style=\"font-weight: bold\">)</span> set to <span style=\"font-weight: bold\">ValveState.OPEN_FLOW</span>                         <a href=\"file:///Users/satyamtiwary/Documents/Python-Things/OpenOligo/openoligo/driver/switch.py\" target=\"_blank\"><span style=\"color: #7f7f7f; text-decoration-color: #7f7f7f\">switch.py</span></a><span style=\"color: #7f7f7f; text-decoration-color: #7f7f7f\">:</span><a href=\"file:///Users/satyamtiwary/Documents/Python-Things/OpenOligo/openoligo/driver/switch.py#66\" target=\"_blank\"><span style=\"color: #7f7f7f; text-decoration-color: #7f7f7f\">66</span></a>\n",
              "</pre>\n"
            ],
            "text/plain": [
              "\u001b[2;36m[15:45:17]\u001b[0m\u001b[2;36m \u001b[0m\u001b[32mDEBUG   \u001b[0m \u001b[1m<\u001b[0m\u001b[1;95mswitch.py:\u001b[0m\u001b[1;36m66\u001b[0m\u001b[1m>\u001b[0m Valve \u001b[1m(\u001b[0mValve \u001b[1;36m0\u001b[0m\u001b[1m)\u001b[0m set to \u001b[1mValveState.OPEN_FLOW\u001b[0m                         \u001b]8;id=62197;file:///Users/satyamtiwary/Documents/Python-Things/OpenOligo/openoligo/driver/switch.py\u001b\\\u001b[2mswitch.py\u001b[0m\u001b]8;;\u001b\\\u001b[2m:\u001b[0m\u001b]8;id=181403;file:///Users/satyamtiwary/Documents/Python-Things/OpenOligo/openoligo/driver/switch.py#66\u001b\\\u001b[2m66\u001b[0m\u001b]8;;\u001b\\\n"
            ]
          },
          "metadata": {},
          "output_type": "display_data"
        },
        {
          "data": {
            "text/html": [
              "<pre style=\"white-space:pre;overflow-x:auto;line-height:normal;font-family:Menlo,'DejaVu Sans Mono',consolas,'Courier New',monospace\"><span style=\"color: #7fbfbf; text-decoration-color: #7fbfbf\">           </span><span style=\"color: #008000; text-decoration-color: #008000\">DEBUG   </span> <span style=\"font-weight: bold\">&lt;</span><span style=\"color: #ff00ff; text-decoration-color: #ff00ff; font-weight: bold\">switch.py:</span><span style=\"color: #008080; text-decoration-color: #008080; font-weight: bold\">66</span><span style=\"font-weight: bold\">&gt;</span> Valve <span style=\"font-weight: bold\">(</span>Valve <span style=\"color: #008080; text-decoration-color: #008080; font-weight: bold\">1</span><span style=\"font-weight: bold\">)</span> set to <span style=\"font-weight: bold\">ValveState.CLOSED_FLOW</span>                       <a href=\"file:///Users/satyamtiwary/Documents/Python-Things/OpenOligo/openoligo/driver/switch.py\" target=\"_blank\"><span style=\"color: #7f7f7f; text-decoration-color: #7f7f7f\">switch.py</span></a><span style=\"color: #7f7f7f; text-decoration-color: #7f7f7f\">:</span><a href=\"file:///Users/satyamtiwary/Documents/Python-Things/OpenOligo/openoligo/driver/switch.py#66\" target=\"_blank\"><span style=\"color: #7f7f7f; text-decoration-color: #7f7f7f\">66</span></a>\n",
              "</pre>\n"
            ],
            "text/plain": [
              "\u001b[2;36m          \u001b[0m\u001b[2;36m \u001b[0m\u001b[32mDEBUG   \u001b[0m \u001b[1m<\u001b[0m\u001b[1;95mswitch.py:\u001b[0m\u001b[1;36m66\u001b[0m\u001b[1m>\u001b[0m Valve \u001b[1m(\u001b[0mValve \u001b[1;36m1\u001b[0m\u001b[1m)\u001b[0m set to \u001b[1mValveState.CLOSED_FLOW\u001b[0m                       \u001b]8;id=161907;file:///Users/satyamtiwary/Documents/Python-Things/OpenOligo/openoligo/driver/switch.py\u001b\\\u001b[2mswitch.py\u001b[0m\u001b]8;;\u001b\\\u001b[2m:\u001b[0m\u001b]8;id=954146;file:///Users/satyamtiwary/Documents/Python-Things/OpenOligo/openoligo/driver/switch.py#66\u001b\\\u001b[2m66\u001b[0m\u001b]8;;\u001b\\\n"
            ]
          },
          "metadata": {},
          "output_type": "display_data"
        },
        {
          "data": {
            "text/html": [
              "<pre style=\"white-space:pre;overflow-x:auto;line-height:normal;font-family:Menlo,'DejaVu Sans Mono',consolas,'Courier New',monospace\"><span style=\"color: #7fbfbf; text-decoration-color: #7fbfbf\">           </span><span style=\"color: #008000; text-decoration-color: #008000\">DEBUG   </span> <span style=\"font-weight: bold\">&lt;</span><span style=\"color: #ff00ff; text-decoration-color: #ff00ff; font-weight: bold\">switch.py:</span><span style=\"color: #008080; text-decoration-color: #008080; font-weight: bold\">66</span><span style=\"font-weight: bold\">&gt;</span> Valve <span style=\"font-weight: bold\">(</span>Valve <span style=\"color: #008080; text-decoration-color: #008080; font-weight: bold\">2</span><span style=\"font-weight: bold\">)</span> set to <span style=\"font-weight: bold\">ValveState.CLOSED_FLOW</span>                       <a href=\"file:///Users/satyamtiwary/Documents/Python-Things/OpenOligo/openoligo/driver/switch.py\" target=\"_blank\"><span style=\"color: #7f7f7f; text-decoration-color: #7f7f7f\">switch.py</span></a><span style=\"color: #7f7f7f; text-decoration-color: #7f7f7f\">:</span><a href=\"file:///Users/satyamtiwary/Documents/Python-Things/OpenOligo/openoligo/driver/switch.py#66\" target=\"_blank\"><span style=\"color: #7f7f7f; text-decoration-color: #7f7f7f\">66</span></a>\n",
              "</pre>\n"
            ],
            "text/plain": [
              "\u001b[2;36m          \u001b[0m\u001b[2;36m \u001b[0m\u001b[32mDEBUG   \u001b[0m \u001b[1m<\u001b[0m\u001b[1;95mswitch.py:\u001b[0m\u001b[1;36m66\u001b[0m\u001b[1m>\u001b[0m Valve \u001b[1m(\u001b[0mValve \u001b[1;36m2\u001b[0m\u001b[1m)\u001b[0m set to \u001b[1mValveState.CLOSED_FLOW\u001b[0m                       \u001b]8;id=744571;file:///Users/satyamtiwary/Documents/Python-Things/OpenOligo/openoligo/driver/switch.py\u001b\\\u001b[2mswitch.py\u001b[0m\u001b]8;;\u001b\\\u001b[2m:\u001b[0m\u001b]8;id=913042;file:///Users/satyamtiwary/Documents/Python-Things/OpenOligo/openoligo/driver/switch.py#66\u001b\\\u001b[2m66\u001b[0m\u001b]8;;\u001b\\\n"
            ]
          },
          "metadata": {},
          "output_type": "display_data"
        },
        {
          "data": {
            "text/html": [
              "<pre style=\"white-space:pre;overflow-x:auto;line-height:normal;font-family:Menlo,'DejaVu Sans Mono',consolas,'Courier New',monospace\"><span style=\"color: #7fbfbf; text-decoration-color: #7fbfbf\">           </span><span style=\"color: #008000; text-decoration-color: #008000\">DEBUG   </span> <span style=\"font-weight: bold\">&lt;</span><span style=\"color: #ff00ff; text-decoration-color: #ff00ff; font-weight: bold\">switch.py:</span><span style=\"color: #008080; text-decoration-color: #008080; font-weight: bold\">66</span><span style=\"font-weight: bold\">&gt;</span> Valve <span style=\"font-weight: bold\">(</span>Valve <span style=\"color: #008080; text-decoration-color: #008080; font-weight: bold\">3</span><span style=\"font-weight: bold\">)</span> set to <span style=\"font-weight: bold\">ValveState.CLOSED_FLOW</span>                       <a href=\"file:///Users/satyamtiwary/Documents/Python-Things/OpenOligo/openoligo/driver/switch.py\" target=\"_blank\"><span style=\"color: #7f7f7f; text-decoration-color: #7f7f7f\">switch.py</span></a><span style=\"color: #7f7f7f; text-decoration-color: #7f7f7f\">:</span><a href=\"file:///Users/satyamtiwary/Documents/Python-Things/OpenOligo/openoligo/driver/switch.py#66\" target=\"_blank\"><span style=\"color: #7f7f7f; text-decoration-color: #7f7f7f\">66</span></a>\n",
              "</pre>\n"
            ],
            "text/plain": [
              "\u001b[2;36m          \u001b[0m\u001b[2;36m \u001b[0m\u001b[32mDEBUG   \u001b[0m \u001b[1m<\u001b[0m\u001b[1;95mswitch.py:\u001b[0m\u001b[1;36m66\u001b[0m\u001b[1m>\u001b[0m Valve \u001b[1m(\u001b[0mValve \u001b[1;36m3\u001b[0m\u001b[1m)\u001b[0m set to \u001b[1mValveState.CLOSED_FLOW\u001b[0m                       \u001b]8;id=812810;file:///Users/satyamtiwary/Documents/Python-Things/OpenOligo/openoligo/driver/switch.py\u001b\\\u001b[2mswitch.py\u001b[0m\u001b]8;;\u001b\\\u001b[2m:\u001b[0m\u001b]8;id=272032;file:///Users/satyamtiwary/Documents/Python-Things/OpenOligo/openoligo/driver/switch.py#66\u001b\\\u001b[2m66\u001b[0m\u001b]8;;\u001b\\\n"
            ]
          },
          "metadata": {},
          "output_type": "display_data"
        },
        {
          "name": "stdout",
          "output_type": "stream",
          "text": [
            "[0[True], 1[False], 2[False], 3[False]]\n"
          ]
        },
        {
          "data": {
            "text/html": [
              "<pre style=\"white-space:pre;overflow-x:auto;line-height:normal;font-family:Menlo,'DejaVu Sans Mono',consolas,'Courier New',monospace\"><span style=\"color: #7fbfbf; text-decoration-color: #7fbfbf\">           </span><span style=\"color: #008000; text-decoration-color: #008000\">DEBUG   </span> <span style=\"font-weight: bold\">&lt;</span><span style=\"color: #ff00ff; text-decoration-color: #ff00ff; font-weight: bold\">switch.py:</span><span style=\"color: #008080; text-decoration-color: #008080; font-weight: bold\">66</span><span style=\"font-weight: bold\">&gt;</span> Valve <span style=\"font-weight: bold\">(</span>Valve <span style=\"color: #008080; text-decoration-color: #008080; font-weight: bold\">0</span><span style=\"font-weight: bold\">)</span> set to <span style=\"font-weight: bold\">ValveState.CLOSED_FLOW</span>                       <a href=\"file:///Users/satyamtiwary/Documents/Python-Things/OpenOligo/openoligo/driver/switch.py\" target=\"_blank\"><span style=\"color: #7f7f7f; text-decoration-color: #7f7f7f\">switch.py</span></a><span style=\"color: #7f7f7f; text-decoration-color: #7f7f7f\">:</span><a href=\"file:///Users/satyamtiwary/Documents/Python-Things/OpenOligo/openoligo/driver/switch.py#66\" target=\"_blank\"><span style=\"color: #7f7f7f; text-decoration-color: #7f7f7f\">66</span></a>\n",
              "</pre>\n"
            ],
            "text/plain": [
              "\u001b[2;36m          \u001b[0m\u001b[2;36m \u001b[0m\u001b[32mDEBUG   \u001b[0m \u001b[1m<\u001b[0m\u001b[1;95mswitch.py:\u001b[0m\u001b[1;36m66\u001b[0m\u001b[1m>\u001b[0m Valve \u001b[1m(\u001b[0mValve \u001b[1;36m0\u001b[0m\u001b[1m)\u001b[0m set to \u001b[1mValveState.CLOSED_FLOW\u001b[0m                       \u001b]8;id=78685;file:///Users/satyamtiwary/Documents/Python-Things/OpenOligo/openoligo/driver/switch.py\u001b\\\u001b[2mswitch.py\u001b[0m\u001b]8;;\u001b\\\u001b[2m:\u001b[0m\u001b]8;id=992675;file:///Users/satyamtiwary/Documents/Python-Things/OpenOligo/openoligo/driver/switch.py#66\u001b\\\u001b[2m66\u001b[0m\u001b]8;;\u001b\\\n"
            ]
          },
          "metadata": {},
          "output_type": "display_data"
        },
        {
          "data": {
            "text/html": [
              "<pre style=\"white-space:pre;overflow-x:auto;line-height:normal;font-family:Menlo,'DejaVu Sans Mono',consolas,'Courier New',monospace\"><span style=\"color: #7fbfbf; text-decoration-color: #7fbfbf\">           </span><span style=\"color: #008000; text-decoration-color: #008000\">DEBUG   </span> <span style=\"font-weight: bold\">&lt;</span><span style=\"color: #ff00ff; text-decoration-color: #ff00ff; font-weight: bold\">switch.py:</span><span style=\"color: #008080; text-decoration-color: #008080; font-weight: bold\">66</span><span style=\"font-weight: bold\">&gt;</span> Valve <span style=\"font-weight: bold\">(</span>Valve <span style=\"color: #008080; text-decoration-color: #008080; font-weight: bold\">1</span><span style=\"font-weight: bold\">)</span> set to <span style=\"font-weight: bold\">ValveState.OPEN_FLOW</span>                         <a href=\"file:///Users/satyamtiwary/Documents/Python-Things/OpenOligo/openoligo/driver/switch.py\" target=\"_blank\"><span style=\"color: #7f7f7f; text-decoration-color: #7f7f7f\">switch.py</span></a><span style=\"color: #7f7f7f; text-decoration-color: #7f7f7f\">:</span><a href=\"file:///Users/satyamtiwary/Documents/Python-Things/OpenOligo/openoligo/driver/switch.py#66\" target=\"_blank\"><span style=\"color: #7f7f7f; text-decoration-color: #7f7f7f\">66</span></a>\n",
              "</pre>\n"
            ],
            "text/plain": [
              "\u001b[2;36m          \u001b[0m\u001b[2;36m \u001b[0m\u001b[32mDEBUG   \u001b[0m \u001b[1m<\u001b[0m\u001b[1;95mswitch.py:\u001b[0m\u001b[1;36m66\u001b[0m\u001b[1m>\u001b[0m Valve \u001b[1m(\u001b[0mValve \u001b[1;36m1\u001b[0m\u001b[1m)\u001b[0m set to \u001b[1mValveState.OPEN_FLOW\u001b[0m                         \u001b]8;id=239547;file:///Users/satyamtiwary/Documents/Python-Things/OpenOligo/openoligo/driver/switch.py\u001b\\\u001b[2mswitch.py\u001b[0m\u001b]8;;\u001b\\\u001b[2m:\u001b[0m\u001b]8;id=594696;file:///Users/satyamtiwary/Documents/Python-Things/OpenOligo/openoligo/driver/switch.py#66\u001b\\\u001b[2m66\u001b[0m\u001b]8;;\u001b\\\n"
            ]
          },
          "metadata": {},
          "output_type": "display_data"
        },
        {
          "data": {
            "text/html": [
              "<pre style=\"white-space:pre;overflow-x:auto;line-height:normal;font-family:Menlo,'DejaVu Sans Mono',consolas,'Courier New',monospace\"><span style=\"color: #7fbfbf; text-decoration-color: #7fbfbf\">           </span><span style=\"color: #008000; text-decoration-color: #008000\">DEBUG   </span> <span style=\"font-weight: bold\">&lt;</span><span style=\"color: #ff00ff; text-decoration-color: #ff00ff; font-weight: bold\">switch.py:</span><span style=\"color: #008080; text-decoration-color: #008080; font-weight: bold\">66</span><span style=\"font-weight: bold\">&gt;</span> Valve <span style=\"font-weight: bold\">(</span>Valve <span style=\"color: #008080; text-decoration-color: #008080; font-weight: bold\">2</span><span style=\"font-weight: bold\">)</span> set to <span style=\"font-weight: bold\">ValveState.CLOSED_FLOW</span>                       <a href=\"file:///Users/satyamtiwary/Documents/Python-Things/OpenOligo/openoligo/driver/switch.py\" target=\"_blank\"><span style=\"color: #7f7f7f; text-decoration-color: #7f7f7f\">switch.py</span></a><span style=\"color: #7f7f7f; text-decoration-color: #7f7f7f\">:</span><a href=\"file:///Users/satyamtiwary/Documents/Python-Things/OpenOligo/openoligo/driver/switch.py#66\" target=\"_blank\"><span style=\"color: #7f7f7f; text-decoration-color: #7f7f7f\">66</span></a>\n",
              "</pre>\n"
            ],
            "text/plain": [
              "\u001b[2;36m          \u001b[0m\u001b[2;36m \u001b[0m\u001b[32mDEBUG   \u001b[0m \u001b[1m<\u001b[0m\u001b[1;95mswitch.py:\u001b[0m\u001b[1;36m66\u001b[0m\u001b[1m>\u001b[0m Valve \u001b[1m(\u001b[0mValve \u001b[1;36m2\u001b[0m\u001b[1m)\u001b[0m set to \u001b[1mValveState.CLOSED_FLOW\u001b[0m                       \u001b]8;id=353409;file:///Users/satyamtiwary/Documents/Python-Things/OpenOligo/openoligo/driver/switch.py\u001b\\\u001b[2mswitch.py\u001b[0m\u001b]8;;\u001b\\\u001b[2m:\u001b[0m\u001b]8;id=672839;file:///Users/satyamtiwary/Documents/Python-Things/OpenOligo/openoligo/driver/switch.py#66\u001b\\\u001b[2m66\u001b[0m\u001b]8;;\u001b\\\n"
            ]
          },
          "metadata": {},
          "output_type": "display_data"
        },
        {
          "data": {
            "text/html": [
              "<pre style=\"white-space:pre;overflow-x:auto;line-height:normal;font-family:Menlo,'DejaVu Sans Mono',consolas,'Courier New',monospace\"><span style=\"color: #7fbfbf; text-decoration-color: #7fbfbf\">           </span><span style=\"color: #008000; text-decoration-color: #008000\">DEBUG   </span> <span style=\"font-weight: bold\">&lt;</span><span style=\"color: #ff00ff; text-decoration-color: #ff00ff; font-weight: bold\">switch.py:</span><span style=\"color: #008080; text-decoration-color: #008080; font-weight: bold\">66</span><span style=\"font-weight: bold\">&gt;</span> Valve <span style=\"font-weight: bold\">(</span>Valve <span style=\"color: #008080; text-decoration-color: #008080; font-weight: bold\">3</span><span style=\"font-weight: bold\">)</span> set to <span style=\"font-weight: bold\">ValveState.CLOSED_FLOW</span>                       <a href=\"file:///Users/satyamtiwary/Documents/Python-Things/OpenOligo/openoligo/driver/switch.py\" target=\"_blank\"><span style=\"color: #7f7f7f; text-decoration-color: #7f7f7f\">switch.py</span></a><span style=\"color: #7f7f7f; text-decoration-color: #7f7f7f\">:</span><a href=\"file:///Users/satyamtiwary/Documents/Python-Things/OpenOligo/openoligo/driver/switch.py#66\" target=\"_blank\"><span style=\"color: #7f7f7f; text-decoration-color: #7f7f7f\">66</span></a>\n",
              "</pre>\n"
            ],
            "text/plain": [
              "\u001b[2;36m          \u001b[0m\u001b[2;36m \u001b[0m\u001b[32mDEBUG   \u001b[0m \u001b[1m<\u001b[0m\u001b[1;95mswitch.py:\u001b[0m\u001b[1;36m66\u001b[0m\u001b[1m>\u001b[0m Valve \u001b[1m(\u001b[0mValve \u001b[1;36m3\u001b[0m\u001b[1m)\u001b[0m set to \u001b[1mValveState.CLOSED_FLOW\u001b[0m                       \u001b]8;id=238758;file:///Users/satyamtiwary/Documents/Python-Things/OpenOligo/openoligo/driver/switch.py\u001b\\\u001b[2mswitch.py\u001b[0m\u001b]8;;\u001b\\\u001b[2m:\u001b[0m\u001b]8;id=680680;file:///Users/satyamtiwary/Documents/Python-Things/OpenOligo/openoligo/driver/switch.py#66\u001b\\\u001b[2m66\u001b[0m\u001b]8;;\u001b\\\n"
            ]
          },
          "metadata": {},
          "output_type": "display_data"
        },
        {
          "name": "stdout",
          "output_type": "stream",
          "text": [
            "[0[False], 1[True], 2[False], 3[False]]\n"
          ]
        },
        {
          "data": {
            "text/html": [
              "<pre style=\"white-space:pre;overflow-x:auto;line-height:normal;font-family:Menlo,'DejaVu Sans Mono',consolas,'Courier New',monospace\"><span style=\"color: #7fbfbf; text-decoration-color: #7fbfbf\">           </span><span style=\"color: #008000; text-decoration-color: #008000\">DEBUG   </span> <span style=\"font-weight: bold\">&lt;</span><span style=\"color: #ff00ff; text-decoration-color: #ff00ff; font-weight: bold\">switch.py:</span><span style=\"color: #008080; text-decoration-color: #008080; font-weight: bold\">66</span><span style=\"font-weight: bold\">&gt;</span> Valve <span style=\"font-weight: bold\">(</span>Valve <span style=\"color: #008080; text-decoration-color: #008080; font-weight: bold\">0</span><span style=\"font-weight: bold\">)</span> set to <span style=\"font-weight: bold\">ValveState.CLOSED_FLOW</span>                       <a href=\"file:///Users/satyamtiwary/Documents/Python-Things/OpenOligo/openoligo/driver/switch.py\" target=\"_blank\"><span style=\"color: #7f7f7f; text-decoration-color: #7f7f7f\">switch.py</span></a><span style=\"color: #7f7f7f; text-decoration-color: #7f7f7f\">:</span><a href=\"file:///Users/satyamtiwary/Documents/Python-Things/OpenOligo/openoligo/driver/switch.py#66\" target=\"_blank\"><span style=\"color: #7f7f7f; text-decoration-color: #7f7f7f\">66</span></a>\n",
              "</pre>\n"
            ],
            "text/plain": [
              "\u001b[2;36m          \u001b[0m\u001b[2;36m \u001b[0m\u001b[32mDEBUG   \u001b[0m \u001b[1m<\u001b[0m\u001b[1;95mswitch.py:\u001b[0m\u001b[1;36m66\u001b[0m\u001b[1m>\u001b[0m Valve \u001b[1m(\u001b[0mValve \u001b[1;36m0\u001b[0m\u001b[1m)\u001b[0m set to \u001b[1mValveState.CLOSED_FLOW\u001b[0m                       \u001b]8;id=522241;file:///Users/satyamtiwary/Documents/Python-Things/OpenOligo/openoligo/driver/switch.py\u001b\\\u001b[2mswitch.py\u001b[0m\u001b]8;;\u001b\\\u001b[2m:\u001b[0m\u001b]8;id=504732;file:///Users/satyamtiwary/Documents/Python-Things/OpenOligo/openoligo/driver/switch.py#66\u001b\\\u001b[2m66\u001b[0m\u001b]8;;\u001b\\\n"
            ]
          },
          "metadata": {},
          "output_type": "display_data"
        },
        {
          "data": {
            "text/html": [
              "<pre style=\"white-space:pre;overflow-x:auto;line-height:normal;font-family:Menlo,'DejaVu Sans Mono',consolas,'Courier New',monospace\"><span style=\"color: #7fbfbf; text-decoration-color: #7fbfbf\">           </span><span style=\"color: #008000; text-decoration-color: #008000\">DEBUG   </span> <span style=\"font-weight: bold\">&lt;</span><span style=\"color: #ff00ff; text-decoration-color: #ff00ff; font-weight: bold\">switch.py:</span><span style=\"color: #008080; text-decoration-color: #008080; font-weight: bold\">66</span><span style=\"font-weight: bold\">&gt;</span> Valve <span style=\"font-weight: bold\">(</span>Valve <span style=\"color: #008080; text-decoration-color: #008080; font-weight: bold\">1</span><span style=\"font-weight: bold\">)</span> set to <span style=\"font-weight: bold\">ValveState.CLOSED_FLOW</span>                       <a href=\"file:///Users/satyamtiwary/Documents/Python-Things/OpenOligo/openoligo/driver/switch.py\" target=\"_blank\"><span style=\"color: #7f7f7f; text-decoration-color: #7f7f7f\">switch.py</span></a><span style=\"color: #7f7f7f; text-decoration-color: #7f7f7f\">:</span><a href=\"file:///Users/satyamtiwary/Documents/Python-Things/OpenOligo/openoligo/driver/switch.py#66\" target=\"_blank\"><span style=\"color: #7f7f7f; text-decoration-color: #7f7f7f\">66</span></a>\n",
              "</pre>\n"
            ],
            "text/plain": [
              "\u001b[2;36m          \u001b[0m\u001b[2;36m \u001b[0m\u001b[32mDEBUG   \u001b[0m \u001b[1m<\u001b[0m\u001b[1;95mswitch.py:\u001b[0m\u001b[1;36m66\u001b[0m\u001b[1m>\u001b[0m Valve \u001b[1m(\u001b[0mValve \u001b[1;36m1\u001b[0m\u001b[1m)\u001b[0m set to \u001b[1mValveState.CLOSED_FLOW\u001b[0m                       \u001b]8;id=61078;file:///Users/satyamtiwary/Documents/Python-Things/OpenOligo/openoligo/driver/switch.py\u001b\\\u001b[2mswitch.py\u001b[0m\u001b]8;;\u001b\\\u001b[2m:\u001b[0m\u001b]8;id=105701;file:///Users/satyamtiwary/Documents/Python-Things/OpenOligo/openoligo/driver/switch.py#66\u001b\\\u001b[2m66\u001b[0m\u001b]8;;\u001b\\\n"
            ]
          },
          "metadata": {},
          "output_type": "display_data"
        },
        {
          "data": {
            "text/html": [
              "<pre style=\"white-space:pre;overflow-x:auto;line-height:normal;font-family:Menlo,'DejaVu Sans Mono',consolas,'Courier New',monospace\"><span style=\"color: #7fbfbf; text-decoration-color: #7fbfbf\">           </span><span style=\"color: #008000; text-decoration-color: #008000\">DEBUG   </span> <span style=\"font-weight: bold\">&lt;</span><span style=\"color: #ff00ff; text-decoration-color: #ff00ff; font-weight: bold\">switch.py:</span><span style=\"color: #008080; text-decoration-color: #008080; font-weight: bold\">66</span><span style=\"font-weight: bold\">&gt;</span> Valve <span style=\"font-weight: bold\">(</span>Valve <span style=\"color: #008080; text-decoration-color: #008080; font-weight: bold\">2</span><span style=\"font-weight: bold\">)</span> set to <span style=\"font-weight: bold\">ValveState.OPEN_FLOW</span>                         <a href=\"file:///Users/satyamtiwary/Documents/Python-Things/OpenOligo/openoligo/driver/switch.py\" target=\"_blank\"><span style=\"color: #7f7f7f; text-decoration-color: #7f7f7f\">switch.py</span></a><span style=\"color: #7f7f7f; text-decoration-color: #7f7f7f\">:</span><a href=\"file:///Users/satyamtiwary/Documents/Python-Things/OpenOligo/openoligo/driver/switch.py#66\" target=\"_blank\"><span style=\"color: #7f7f7f; text-decoration-color: #7f7f7f\">66</span></a>\n",
              "</pre>\n"
            ],
            "text/plain": [
              "\u001b[2;36m          \u001b[0m\u001b[2;36m \u001b[0m\u001b[32mDEBUG   \u001b[0m \u001b[1m<\u001b[0m\u001b[1;95mswitch.py:\u001b[0m\u001b[1;36m66\u001b[0m\u001b[1m>\u001b[0m Valve \u001b[1m(\u001b[0mValve \u001b[1;36m2\u001b[0m\u001b[1m)\u001b[0m set to \u001b[1mValveState.OPEN_FLOW\u001b[0m                         \u001b]8;id=919413;file:///Users/satyamtiwary/Documents/Python-Things/OpenOligo/openoligo/driver/switch.py\u001b\\\u001b[2mswitch.py\u001b[0m\u001b]8;;\u001b\\\u001b[2m:\u001b[0m\u001b]8;id=809662;file:///Users/satyamtiwary/Documents/Python-Things/OpenOligo/openoligo/driver/switch.py#66\u001b\\\u001b[2m66\u001b[0m\u001b]8;;\u001b\\\n"
            ]
          },
          "metadata": {},
          "output_type": "display_data"
        },
        {
          "data": {
            "text/html": [
              "<pre style=\"white-space:pre;overflow-x:auto;line-height:normal;font-family:Menlo,'DejaVu Sans Mono',consolas,'Courier New',monospace\"><span style=\"color: #7fbfbf; text-decoration-color: #7fbfbf\">           </span><span style=\"color: #008000; text-decoration-color: #008000\">DEBUG   </span> <span style=\"font-weight: bold\">&lt;</span><span style=\"color: #ff00ff; text-decoration-color: #ff00ff; font-weight: bold\">switch.py:</span><span style=\"color: #008080; text-decoration-color: #008080; font-weight: bold\">66</span><span style=\"font-weight: bold\">&gt;</span> Valve <span style=\"font-weight: bold\">(</span>Valve <span style=\"color: #008080; text-decoration-color: #008080; font-weight: bold\">3</span><span style=\"font-weight: bold\">)</span> set to <span style=\"font-weight: bold\">ValveState.CLOSED_FLOW</span>                       <a href=\"file:///Users/satyamtiwary/Documents/Python-Things/OpenOligo/openoligo/driver/switch.py\" target=\"_blank\"><span style=\"color: #7f7f7f; text-decoration-color: #7f7f7f\">switch.py</span></a><span style=\"color: #7f7f7f; text-decoration-color: #7f7f7f\">:</span><a href=\"file:///Users/satyamtiwary/Documents/Python-Things/OpenOligo/openoligo/driver/switch.py#66\" target=\"_blank\"><span style=\"color: #7f7f7f; text-decoration-color: #7f7f7f\">66</span></a>\n",
              "</pre>\n"
            ],
            "text/plain": [
              "\u001b[2;36m          \u001b[0m\u001b[2;36m \u001b[0m\u001b[32mDEBUG   \u001b[0m \u001b[1m<\u001b[0m\u001b[1;95mswitch.py:\u001b[0m\u001b[1;36m66\u001b[0m\u001b[1m>\u001b[0m Valve \u001b[1m(\u001b[0mValve \u001b[1;36m3\u001b[0m\u001b[1m)\u001b[0m set to \u001b[1mValveState.CLOSED_FLOW\u001b[0m                       \u001b]8;id=187546;file:///Users/satyamtiwary/Documents/Python-Things/OpenOligo/openoligo/driver/switch.py\u001b\\\u001b[2mswitch.py\u001b[0m\u001b]8;;\u001b\\\u001b[2m:\u001b[0m\u001b]8;id=644971;file:///Users/satyamtiwary/Documents/Python-Things/OpenOligo/openoligo/driver/switch.py#66\u001b\\\u001b[2m66\u001b[0m\u001b]8;;\u001b\\\n"
            ]
          },
          "metadata": {},
          "output_type": "display_data"
        },
        {
          "name": "stdout",
          "output_type": "stream",
          "text": [
            "[0[False], 1[False], 2[True], 3[False]]\n"
          ]
        },
        {
          "data": {
            "text/html": [
              "<pre style=\"white-space:pre;overflow-x:auto;line-height:normal;font-family:Menlo,'DejaVu Sans Mono',consolas,'Courier New',monospace\"><span style=\"color: #7fbfbf; text-decoration-color: #7fbfbf\">           </span><span style=\"color: #008000; text-decoration-color: #008000\">DEBUG   </span> <span style=\"font-weight: bold\">&lt;</span><span style=\"color: #ff00ff; text-decoration-color: #ff00ff; font-weight: bold\">switch.py:</span><span style=\"color: #008080; text-decoration-color: #008080; font-weight: bold\">66</span><span style=\"font-weight: bold\">&gt;</span> Valve <span style=\"font-weight: bold\">(</span>Valve <span style=\"color: #008080; text-decoration-color: #008080; font-weight: bold\">0</span><span style=\"font-weight: bold\">)</span> set to <span style=\"font-weight: bold\">ValveState.CLOSED_FLOW</span>                       <a href=\"file:///Users/satyamtiwary/Documents/Python-Things/OpenOligo/openoligo/driver/switch.py\" target=\"_blank\"><span style=\"color: #7f7f7f; text-decoration-color: #7f7f7f\">switch.py</span></a><span style=\"color: #7f7f7f; text-decoration-color: #7f7f7f\">:</span><a href=\"file:///Users/satyamtiwary/Documents/Python-Things/OpenOligo/openoligo/driver/switch.py#66\" target=\"_blank\"><span style=\"color: #7f7f7f; text-decoration-color: #7f7f7f\">66</span></a>\n",
              "</pre>\n"
            ],
            "text/plain": [
              "\u001b[2;36m          \u001b[0m\u001b[2;36m \u001b[0m\u001b[32mDEBUG   \u001b[0m \u001b[1m<\u001b[0m\u001b[1;95mswitch.py:\u001b[0m\u001b[1;36m66\u001b[0m\u001b[1m>\u001b[0m Valve \u001b[1m(\u001b[0mValve \u001b[1;36m0\u001b[0m\u001b[1m)\u001b[0m set to \u001b[1mValveState.CLOSED_FLOW\u001b[0m                       \u001b]8;id=874613;file:///Users/satyamtiwary/Documents/Python-Things/OpenOligo/openoligo/driver/switch.py\u001b\\\u001b[2mswitch.py\u001b[0m\u001b]8;;\u001b\\\u001b[2m:\u001b[0m\u001b]8;id=6895;file:///Users/satyamtiwary/Documents/Python-Things/OpenOligo/openoligo/driver/switch.py#66\u001b\\\u001b[2m66\u001b[0m\u001b]8;;\u001b\\\n"
            ]
          },
          "metadata": {},
          "output_type": "display_data"
        },
        {
          "data": {
            "text/html": [
              "<pre style=\"white-space:pre;overflow-x:auto;line-height:normal;font-family:Menlo,'DejaVu Sans Mono',consolas,'Courier New',monospace\"><span style=\"color: #7fbfbf; text-decoration-color: #7fbfbf\">           </span><span style=\"color: #008000; text-decoration-color: #008000\">DEBUG   </span> <span style=\"font-weight: bold\">&lt;</span><span style=\"color: #ff00ff; text-decoration-color: #ff00ff; font-weight: bold\">switch.py:</span><span style=\"color: #008080; text-decoration-color: #008080; font-weight: bold\">66</span><span style=\"font-weight: bold\">&gt;</span> Valve <span style=\"font-weight: bold\">(</span>Valve <span style=\"color: #008080; text-decoration-color: #008080; font-weight: bold\">1</span><span style=\"font-weight: bold\">)</span> set to <span style=\"font-weight: bold\">ValveState.CLOSED_FLOW</span>                       <a href=\"file:///Users/satyamtiwary/Documents/Python-Things/OpenOligo/openoligo/driver/switch.py\" target=\"_blank\"><span style=\"color: #7f7f7f; text-decoration-color: #7f7f7f\">switch.py</span></a><span style=\"color: #7f7f7f; text-decoration-color: #7f7f7f\">:</span><a href=\"file:///Users/satyamtiwary/Documents/Python-Things/OpenOligo/openoligo/driver/switch.py#66\" target=\"_blank\"><span style=\"color: #7f7f7f; text-decoration-color: #7f7f7f\">66</span></a>\n",
              "</pre>\n"
            ],
            "text/plain": [
              "\u001b[2;36m          \u001b[0m\u001b[2;36m \u001b[0m\u001b[32mDEBUG   \u001b[0m \u001b[1m<\u001b[0m\u001b[1;95mswitch.py:\u001b[0m\u001b[1;36m66\u001b[0m\u001b[1m>\u001b[0m Valve \u001b[1m(\u001b[0mValve \u001b[1;36m1\u001b[0m\u001b[1m)\u001b[0m set to \u001b[1mValveState.CLOSED_FLOW\u001b[0m                       \u001b]8;id=941283;file:///Users/satyamtiwary/Documents/Python-Things/OpenOligo/openoligo/driver/switch.py\u001b\\\u001b[2mswitch.py\u001b[0m\u001b]8;;\u001b\\\u001b[2m:\u001b[0m\u001b]8;id=73679;file:///Users/satyamtiwary/Documents/Python-Things/OpenOligo/openoligo/driver/switch.py#66\u001b\\\u001b[2m66\u001b[0m\u001b]8;;\u001b\\\n"
            ]
          },
          "metadata": {},
          "output_type": "display_data"
        },
        {
          "data": {
            "text/html": [
              "<pre style=\"white-space:pre;overflow-x:auto;line-height:normal;font-family:Menlo,'DejaVu Sans Mono',consolas,'Courier New',monospace\"><span style=\"color: #7fbfbf; text-decoration-color: #7fbfbf\">           </span><span style=\"color: #008000; text-decoration-color: #008000\">DEBUG   </span> <span style=\"font-weight: bold\">&lt;</span><span style=\"color: #ff00ff; text-decoration-color: #ff00ff; font-weight: bold\">switch.py:</span><span style=\"color: #008080; text-decoration-color: #008080; font-weight: bold\">66</span><span style=\"font-weight: bold\">&gt;</span> Valve <span style=\"font-weight: bold\">(</span>Valve <span style=\"color: #008080; text-decoration-color: #008080; font-weight: bold\">2</span><span style=\"font-weight: bold\">)</span> set to <span style=\"font-weight: bold\">ValveState.CLOSED_FLOW</span>                       <a href=\"file:///Users/satyamtiwary/Documents/Python-Things/OpenOligo/openoligo/driver/switch.py\" target=\"_blank\"><span style=\"color: #7f7f7f; text-decoration-color: #7f7f7f\">switch.py</span></a><span style=\"color: #7f7f7f; text-decoration-color: #7f7f7f\">:</span><a href=\"file:///Users/satyamtiwary/Documents/Python-Things/OpenOligo/openoligo/driver/switch.py#66\" target=\"_blank\"><span style=\"color: #7f7f7f; text-decoration-color: #7f7f7f\">66</span></a>\n",
              "</pre>\n"
            ],
            "text/plain": [
              "\u001b[2;36m          \u001b[0m\u001b[2;36m \u001b[0m\u001b[32mDEBUG   \u001b[0m \u001b[1m<\u001b[0m\u001b[1;95mswitch.py:\u001b[0m\u001b[1;36m66\u001b[0m\u001b[1m>\u001b[0m Valve \u001b[1m(\u001b[0mValve \u001b[1;36m2\u001b[0m\u001b[1m)\u001b[0m set to \u001b[1mValveState.CLOSED_FLOW\u001b[0m                       \u001b]8;id=533412;file:///Users/satyamtiwary/Documents/Python-Things/OpenOligo/openoligo/driver/switch.py\u001b\\\u001b[2mswitch.py\u001b[0m\u001b]8;;\u001b\\\u001b[2m:\u001b[0m\u001b]8;id=463662;file:///Users/satyamtiwary/Documents/Python-Things/OpenOligo/openoligo/driver/switch.py#66\u001b\\\u001b[2m66\u001b[0m\u001b]8;;\u001b\\\n"
            ]
          },
          "metadata": {},
          "output_type": "display_data"
        },
        {
          "data": {
            "text/html": [
              "<pre style=\"white-space:pre;overflow-x:auto;line-height:normal;font-family:Menlo,'DejaVu Sans Mono',consolas,'Courier New',monospace\"><span style=\"color: #7fbfbf; text-decoration-color: #7fbfbf\">           </span><span style=\"color: #008000; text-decoration-color: #008000\">DEBUG   </span> <span style=\"font-weight: bold\">&lt;</span><span style=\"color: #ff00ff; text-decoration-color: #ff00ff; font-weight: bold\">switch.py:</span><span style=\"color: #008080; text-decoration-color: #008080; font-weight: bold\">66</span><span style=\"font-weight: bold\">&gt;</span> Valve <span style=\"font-weight: bold\">(</span>Valve <span style=\"color: #008080; text-decoration-color: #008080; font-weight: bold\">3</span><span style=\"font-weight: bold\">)</span> set to <span style=\"font-weight: bold\">ValveState.OPEN_FLOW</span>                         <a href=\"file:///Users/satyamtiwary/Documents/Python-Things/OpenOligo/openoligo/driver/switch.py\" target=\"_blank\"><span style=\"color: #7f7f7f; text-decoration-color: #7f7f7f\">switch.py</span></a><span style=\"color: #7f7f7f; text-decoration-color: #7f7f7f\">:</span><a href=\"file:///Users/satyamtiwary/Documents/Python-Things/OpenOligo/openoligo/driver/switch.py#66\" target=\"_blank\"><span style=\"color: #7f7f7f; text-decoration-color: #7f7f7f\">66</span></a>\n",
              "</pre>\n"
            ],
            "text/plain": [
              "\u001b[2;36m          \u001b[0m\u001b[2;36m \u001b[0m\u001b[32mDEBUG   \u001b[0m \u001b[1m<\u001b[0m\u001b[1;95mswitch.py:\u001b[0m\u001b[1;36m66\u001b[0m\u001b[1m>\u001b[0m Valve \u001b[1m(\u001b[0mValve \u001b[1;36m3\u001b[0m\u001b[1m)\u001b[0m set to \u001b[1mValveState.OPEN_FLOW\u001b[0m                         \u001b]8;id=768588;file:///Users/satyamtiwary/Documents/Python-Things/OpenOligo/openoligo/driver/switch.py\u001b\\\u001b[2mswitch.py\u001b[0m\u001b]8;;\u001b\\\u001b[2m:\u001b[0m\u001b]8;id=972482;file:///Users/satyamtiwary/Documents/Python-Things/OpenOligo/openoligo/driver/switch.py#66\u001b\\\u001b[2m66\u001b[0m\u001b]8;;\u001b\\\n"
            ]
          },
          "metadata": {},
          "output_type": "display_data"
        },
        {
          "name": "stdout",
          "output_type": "stream",
          "text": [
            "[0[False], 1[False], 2[False], 3[True]]\n"
          ]
        }
      ],
      "source": [
        "for i in range(4):\n",
        "    m.activate_flow(i)\n",
        "    print(m.valves)"
      ]
    },
    {
      "cell_type": "code",
      "execution_count": 10,
      "id": "d1b328c8-eee6-4947-9d09-4acc5cfd627d",
      "metadata": {},
      "outputs": [
        {
          "data": {
            "text/html": [
              "<pre style=\"white-space:pre;overflow-x:auto;line-height:normal;font-family:Menlo,'DejaVu Sans Mono',consolas,'Courier New',monospace\"><span style=\"color: #7fbfbf; text-decoration-color: #7fbfbf\">[15:45:19] </span><span style=\"color: #008000; text-decoration-color: #008000\">DEBUG   </span> <span style=\"font-weight: bold\">&lt;</span><span style=\"color: #ff00ff; text-decoration-color: #ff00ff; font-weight: bold\">switch.py:</span><span style=\"color: #008080; text-decoration-color: #008080; font-weight: bold\">66</span><span style=\"font-weight: bold\">&gt;</span> Valve <span style=\"font-weight: bold\">(</span>Valve <span style=\"color: #008080; text-decoration-color: #008080; font-weight: bold\">0</span><span style=\"font-weight: bold\">)</span> set to <span style=\"font-weight: bold\">ValveState.OPEN_FLOW</span>                         <a href=\"file:///Users/satyamtiwary/Documents/Python-Things/OpenOligo/openoligo/driver/switch.py\" target=\"_blank\"><span style=\"color: #7f7f7f; text-decoration-color: #7f7f7f\">switch.py</span></a><span style=\"color: #7f7f7f; text-decoration-color: #7f7f7f\">:</span><a href=\"file:///Users/satyamtiwary/Documents/Python-Things/OpenOligo/openoligo/driver/switch.py#66\" target=\"_blank\"><span style=\"color: #7f7f7f; text-decoration-color: #7f7f7f\">66</span></a>\n",
              "</pre>\n"
            ],
            "text/plain": [
              "\u001b[2;36m[15:45:19]\u001b[0m\u001b[2;36m \u001b[0m\u001b[32mDEBUG   \u001b[0m \u001b[1m<\u001b[0m\u001b[1;95mswitch.py:\u001b[0m\u001b[1;36m66\u001b[0m\u001b[1m>\u001b[0m Valve \u001b[1m(\u001b[0mValve \u001b[1;36m0\u001b[0m\u001b[1m)\u001b[0m set to \u001b[1mValveState.OPEN_FLOW\u001b[0m                         \u001b]8;id=725642;file:///Users/satyamtiwary/Documents/Python-Things/OpenOligo/openoligo/driver/switch.py\u001b\\\u001b[2mswitch.py\u001b[0m\u001b]8;;\u001b\\\u001b[2m:\u001b[0m\u001b]8;id=865968;file:///Users/satyamtiwary/Documents/Python-Things/OpenOligo/openoligo/driver/switch.py#66\u001b\\\u001b[2m66\u001b[0m\u001b]8;;\u001b\\\n"
            ]
          },
          "metadata": {},
          "output_type": "display_data"
        },
        {
          "data": {
            "text/html": [
              "<pre style=\"white-space:pre;overflow-x:auto;line-height:normal;font-family:Menlo,'DejaVu Sans Mono',consolas,'Courier New',monospace\"><span style=\"color: #7fbfbf; text-decoration-color: #7fbfbf\">           </span><span style=\"color: #008000; text-decoration-color: #008000\">DEBUG   </span> <span style=\"font-weight: bold\">&lt;</span><span style=\"color: #ff00ff; text-decoration-color: #ff00ff; font-weight: bold\">switch.py:</span><span style=\"color: #008080; text-decoration-color: #008080; font-weight: bold\">66</span><span style=\"font-weight: bold\">&gt;</span> Valve <span style=\"font-weight: bold\">(</span>Valve <span style=\"color: #008080; text-decoration-color: #008080; font-weight: bold\">1</span><span style=\"font-weight: bold\">)</span> set to <span style=\"font-weight: bold\">ValveState.OPEN_FLOW</span>                         <a href=\"file:///Users/satyamtiwary/Documents/Python-Things/OpenOligo/openoligo/driver/switch.py\" target=\"_blank\"><span style=\"color: #7f7f7f; text-decoration-color: #7f7f7f\">switch.py</span></a><span style=\"color: #7f7f7f; text-decoration-color: #7f7f7f\">:</span><a href=\"file:///Users/satyamtiwary/Documents/Python-Things/OpenOligo/openoligo/driver/switch.py#66\" target=\"_blank\"><span style=\"color: #7f7f7f; text-decoration-color: #7f7f7f\">66</span></a>\n",
              "</pre>\n"
            ],
            "text/plain": [
              "\u001b[2;36m          \u001b[0m\u001b[2;36m \u001b[0m\u001b[32mDEBUG   \u001b[0m \u001b[1m<\u001b[0m\u001b[1;95mswitch.py:\u001b[0m\u001b[1;36m66\u001b[0m\u001b[1m>\u001b[0m Valve \u001b[1m(\u001b[0mValve \u001b[1;36m1\u001b[0m\u001b[1m)\u001b[0m set to \u001b[1mValveState.OPEN_FLOW\u001b[0m                         \u001b]8;id=621584;file:///Users/satyamtiwary/Documents/Python-Things/OpenOligo/openoligo/driver/switch.py\u001b\\\u001b[2mswitch.py\u001b[0m\u001b]8;;\u001b\\\u001b[2m:\u001b[0m\u001b]8;id=334477;file:///Users/satyamtiwary/Documents/Python-Things/OpenOligo/openoligo/driver/switch.py#66\u001b\\\u001b[2m66\u001b[0m\u001b]8;;\u001b\\\n"
            ]
          },
          "metadata": {},
          "output_type": "display_data"
        },
        {
          "data": {
            "text/html": [
              "<pre style=\"white-space:pre;overflow-x:auto;line-height:normal;font-family:Menlo,'DejaVu Sans Mono',consolas,'Courier New',monospace\"><span style=\"color: #7fbfbf; text-decoration-color: #7fbfbf\">           </span><span style=\"color: #008000; text-decoration-color: #008000\">DEBUG   </span> <span style=\"font-weight: bold\">&lt;</span><span style=\"color: #ff00ff; text-decoration-color: #ff00ff; font-weight: bold\">switch.py:</span><span style=\"color: #008080; text-decoration-color: #008080; font-weight: bold\">66</span><span style=\"font-weight: bold\">&gt;</span> Valve <span style=\"font-weight: bold\">(</span>Valve <span style=\"color: #008080; text-decoration-color: #008080; font-weight: bold\">2</span><span style=\"font-weight: bold\">)</span> set to <span style=\"font-weight: bold\">ValveState.CLOSED_FLOW</span>                       <a href=\"file:///Users/satyamtiwary/Documents/Python-Things/OpenOligo/openoligo/driver/switch.py\" target=\"_blank\"><span style=\"color: #7f7f7f; text-decoration-color: #7f7f7f\">switch.py</span></a><span style=\"color: #7f7f7f; text-decoration-color: #7f7f7f\">:</span><a href=\"file:///Users/satyamtiwary/Documents/Python-Things/OpenOligo/openoligo/driver/switch.py#66\" target=\"_blank\"><span style=\"color: #7f7f7f; text-decoration-color: #7f7f7f\">66</span></a>\n",
              "</pre>\n"
            ],
            "text/plain": [
              "\u001b[2;36m          \u001b[0m\u001b[2;36m \u001b[0m\u001b[32mDEBUG   \u001b[0m \u001b[1m<\u001b[0m\u001b[1;95mswitch.py:\u001b[0m\u001b[1;36m66\u001b[0m\u001b[1m>\u001b[0m Valve \u001b[1m(\u001b[0mValve \u001b[1;36m2\u001b[0m\u001b[1m)\u001b[0m set to \u001b[1mValveState.CLOSED_FLOW\u001b[0m                       \u001b]8;id=253571;file:///Users/satyamtiwary/Documents/Python-Things/OpenOligo/openoligo/driver/switch.py\u001b\\\u001b[2mswitch.py\u001b[0m\u001b]8;;\u001b\\\u001b[2m:\u001b[0m\u001b]8;id=411438;file:///Users/satyamtiwary/Documents/Python-Things/OpenOligo/openoligo/driver/switch.py#66\u001b\\\u001b[2m66\u001b[0m\u001b]8;;\u001b\\\n"
            ]
          },
          "metadata": {},
          "output_type": "display_data"
        },
        {
          "data": {
            "text/html": [
              "<pre style=\"white-space:pre;overflow-x:auto;line-height:normal;font-family:Menlo,'DejaVu Sans Mono',consolas,'Courier New',monospace\"><span style=\"color: #7fbfbf; text-decoration-color: #7fbfbf\">           </span><span style=\"color: #008000; text-decoration-color: #008000\">DEBUG   </span> <span style=\"font-weight: bold\">&lt;</span><span style=\"color: #ff00ff; text-decoration-color: #ff00ff; font-weight: bold\">switch.py:</span><span style=\"color: #008080; text-decoration-color: #008080; font-weight: bold\">66</span><span style=\"font-weight: bold\">&gt;</span> Valve <span style=\"font-weight: bold\">(</span>Valve <span style=\"color: #008080; text-decoration-color: #008080; font-weight: bold\">3</span><span style=\"font-weight: bold\">)</span> set to <span style=\"font-weight: bold\">ValveState.CLOSED_FLOW</span>                       <a href=\"file:///Users/satyamtiwary/Documents/Python-Things/OpenOligo/openoligo/driver/switch.py\" target=\"_blank\"><span style=\"color: #7f7f7f; text-decoration-color: #7f7f7f\">switch.py</span></a><span style=\"color: #7f7f7f; text-decoration-color: #7f7f7f\">:</span><a href=\"file:///Users/satyamtiwary/Documents/Python-Things/OpenOligo/openoligo/driver/switch.py#66\" target=\"_blank\"><span style=\"color: #7f7f7f; text-decoration-color: #7f7f7f\">66</span></a>\n",
              "</pre>\n"
            ],
            "text/plain": [
              "\u001b[2;36m          \u001b[0m\u001b[2;36m \u001b[0m\u001b[32mDEBUG   \u001b[0m \u001b[1m<\u001b[0m\u001b[1;95mswitch.py:\u001b[0m\u001b[1;36m66\u001b[0m\u001b[1m>\u001b[0m Valve \u001b[1m(\u001b[0mValve \u001b[1;36m3\u001b[0m\u001b[1m)\u001b[0m set to \u001b[1mValveState.CLOSED_FLOW\u001b[0m                       \u001b]8;id=820911;file:///Users/satyamtiwary/Documents/Python-Things/OpenOligo/openoligo/driver/switch.py\u001b\\\u001b[2mswitch.py\u001b[0m\u001b]8;;\u001b\\\u001b[2m:\u001b[0m\u001b]8;id=722058;file:///Users/satyamtiwary/Documents/Python-Things/OpenOligo/openoligo/driver/switch.py#66\u001b\\\u001b[2m66\u001b[0m\u001b]8;;\u001b\\\n"
            ]
          },
          "metadata": {},
          "output_type": "display_data"
        },
        {
          "data": {
            "text/plain": [
              "[0[True], 1[True], 2[False], 3[False]]"
            ]
          },
          "execution_count": 10,
          "metadata": {},
          "output_type": "execute_result"
        }
      ],
      "source": [
        "m.activate_n_flows([0, 1])\n",
        "m.valves"
      ]
    },
    {
      "attachments": {},
      "cell_type": "markdown",
      "id": "7446af38-f1ea-407f-872f-bfa8078b062d",
      "metadata": {},
      "source": [
        "# Board API"
      ]
    },
    {
      "cell_type": "code",
      "execution_count": 1,
      "id": "8f551581-1759-40a9-930d-ac61ac86ee5b",
      "metadata": {},
      "outputs": [
        {
          "data": {
            "text/html": [
              "<pre style=\"white-space:pre;overflow-x:auto;line-height:normal;font-family:Menlo,'DejaVu Sans Mono',consolas,'Courier New',monospace\"><span style=\"color: #7fbfbf; text-decoration-color: #7fbfbf\">[18:10:43] </span><span style=\"color: #008000; text-decoration-color: #008000\">DEBUG   </span> <span style=\"font-weight: bold\">&lt;</span><span style=\"color: #ff00ff; text-decoration-color: #ff00ff; font-weight: bold\">board.py:</span><span style=\"color: #008080; text-decoration-color: #008080; font-weight: bold\">45</span><span style=\"font-weight: bold\">&gt;</span> Setting pin Board.P3 to <span style=\"color: #00ff00; text-decoration-color: #00ff00; font-style: italic\">True</span>                                          <a href=\"file:///Users/satyamtiwary/Documents/Python-Things/OpenOligo/openoligo/driver/board.py\" target=\"_blank\"><span style=\"color: #7f7f7f; text-decoration-color: #7f7f7f\">board.py</span></a><span style=\"color: #7f7f7f; text-decoration-color: #7f7f7f\">:</span><a href=\"file:///Users/satyamtiwary/Documents/Python-Things/OpenOligo/openoligo/driver/board.py#45\" target=\"_blank\"><span style=\"color: #7f7f7f; text-decoration-color: #7f7f7f\">45</span></a>\n",
              "</pre>\n"
            ],
            "text/plain": [
              "\u001b[2;36m[18:10:43]\u001b[0m\u001b[2;36m \u001b[0m\u001b[32mDEBUG   \u001b[0m \u001b[1m<\u001b[0m\u001b[1;95mboard.py:\u001b[0m\u001b[1;36m45\u001b[0m\u001b[1m>\u001b[0m Setting pin Board.P3 to \u001b[3;92mTrue\u001b[0m                                          \u001b]8;id=685524;file:///Users/satyamtiwary/Documents/Python-Things/OpenOligo/openoligo/driver/board.py\u001b\\\u001b[2mboard.py\u001b[0m\u001b]8;;\u001b\\\u001b[2m:\u001b[0m\u001b]8;id=899166;file:///Users/satyamtiwary/Documents/Python-Things/OpenOligo/openoligo/driver/board.py#45\u001b\\\u001b[2m45\u001b[0m\u001b]8;;\u001b\\\n"
            ]
          },
          "metadata": {},
          "output_type": "display_data"
        },
        {
          "data": {
            "text/html": [
              "<pre style=\"white-space:pre;overflow-x:auto;line-height:normal;font-family:Menlo,'DejaVu Sans Mono',consolas,'Courier New',monospace\"><span style=\"color: #7fbfbf; text-decoration-color: #7fbfbf\">           </span><span style=\"color: #008000; text-decoration-color: #008000\">DEBUG   </span> <span style=\"font-weight: bold\">&lt;</span><span style=\"color: #ff00ff; text-decoration-color: #ff00ff; font-weight: bold\">board.py:</span><span style=\"color: #008080; text-decoration-color: #008080; font-weight: bold\">45</span><span style=\"font-weight: bold\">&gt;</span> Setting pin Board.P10 to <span style=\"color: #00ff00; text-decoration-color: #00ff00; font-style: italic\">True</span>                                         <a href=\"file:///Users/satyamtiwary/Documents/Python-Things/OpenOligo/openoligo/driver/board.py\" target=\"_blank\"><span style=\"color: #7f7f7f; text-decoration-color: #7f7f7f\">board.py</span></a><span style=\"color: #7f7f7f; text-decoration-color: #7f7f7f\">:</span><a href=\"file:///Users/satyamtiwary/Documents/Python-Things/OpenOligo/openoligo/driver/board.py#45\" target=\"_blank\"><span style=\"color: #7f7f7f; text-decoration-color: #7f7f7f\">45</span></a>\n",
              "</pre>\n"
            ],
            "text/plain": [
              "\u001b[2;36m          \u001b[0m\u001b[2;36m \u001b[0m\u001b[32mDEBUG   \u001b[0m \u001b[1m<\u001b[0m\u001b[1;95mboard.py:\u001b[0m\u001b[1;36m45\u001b[0m\u001b[1m>\u001b[0m Setting pin Board.P10 to \u001b[3;92mTrue\u001b[0m                                         \u001b]8;id=126499;file:///Users/satyamtiwary/Documents/Python-Things/OpenOligo/openoligo/driver/board.py\u001b\\\u001b[2mboard.py\u001b[0m\u001b]8;;\u001b\\\u001b[2m:\u001b[0m\u001b]8;id=136588;file:///Users/satyamtiwary/Documents/Python-Things/OpenOligo/openoligo/driver/board.py#45\u001b\\\u001b[2m45\u001b[0m\u001b]8;;\u001b\\\n"
            ]
          },
          "metadata": {},
          "output_type": "display_data"
        },
        {
          "data": {
            "text/html": [
              "<pre style=\"white-space:pre;overflow-x:auto;line-height:normal;font-family:Menlo,'DejaVu Sans Mono',consolas,'Courier New',monospace\"><span style=\"color: #7fbfbf; text-decoration-color: #7fbfbf\">           </span><span style=\"color: #008000; text-decoration-color: #008000\">DEBUG   </span> <span style=\"font-weight: bold\">&lt;</span><span style=\"color: #ff00ff; text-decoration-color: #ff00ff; font-weight: bold\">board.py:</span><span style=\"color: #008080; text-decoration-color: #008080; font-weight: bold\">45</span><span style=\"font-weight: bold\">&gt;</span> Setting pin Board.P27 to <span style=\"color: #00ff00; text-decoration-color: #00ff00; font-style: italic\">True</span>                                         <a href=\"file:///Users/satyamtiwary/Documents/Python-Things/OpenOligo/openoligo/driver/board.py\" target=\"_blank\"><span style=\"color: #7f7f7f; text-decoration-color: #7f7f7f\">board.py</span></a><span style=\"color: #7f7f7f; text-decoration-color: #7f7f7f\">:</span><a href=\"file:///Users/satyamtiwary/Documents/Python-Things/OpenOligo/openoligo/driver/board.py#45\" target=\"_blank\"><span style=\"color: #7f7f7f; text-decoration-color: #7f7f7f\">45</span></a>\n",
              "</pre>\n"
            ],
            "text/plain": [
              "\u001b[2;36m          \u001b[0m\u001b[2;36m \u001b[0m\u001b[32mDEBUG   \u001b[0m \u001b[1m<\u001b[0m\u001b[1;95mboard.py:\u001b[0m\u001b[1;36m45\u001b[0m\u001b[1m>\u001b[0m Setting pin Board.P27 to \u001b[3;92mTrue\u001b[0m                                         \u001b]8;id=318286;file:///Users/satyamtiwary/Documents/Python-Things/OpenOligo/openoligo/driver/board.py\u001b\\\u001b[2mboard.py\u001b[0m\u001b]8;;\u001b\\\u001b[2m:\u001b[0m\u001b]8;id=519656;file:///Users/satyamtiwary/Documents/Python-Things/OpenOligo/openoligo/driver/board.py#45\u001b\\\u001b[2m45\u001b[0m\u001b]8;;\u001b\\\n"
            ]
          },
          "metadata": {},
          "output_type": "display_data"
        },
        {
          "data": {
            "text/html": [
              "<pre style=\"white-space:pre;overflow-x:auto;line-height:normal;font-family:Menlo,'DejaVu Sans Mono',consolas,'Courier New',monospace\"><span style=\"color: #7fbfbf; text-decoration-color: #7fbfbf\">           </span><span style=\"color: #008000; text-decoration-color: #008000\">DEBUG   </span> <span style=\"font-weight: bold\">&lt;</span><span style=\"color: #ff00ff; text-decoration-color: #ff00ff; font-weight: bold\">board.py:</span><span style=\"color: #008080; text-decoration-color: #008080; font-weight: bold\">45</span><span style=\"font-weight: bold\">&gt;</span> Setting pin Board.P3 to <span style=\"color: #ff0000; text-decoration-color: #ff0000; font-style: italic\">False</span>                                         <a href=\"file:///Users/satyamtiwary/Documents/Python-Things/OpenOligo/openoligo/driver/board.py\" target=\"_blank\"><span style=\"color: #7f7f7f; text-decoration-color: #7f7f7f\">board.py</span></a><span style=\"color: #7f7f7f; text-decoration-color: #7f7f7f\">:</span><a href=\"file:///Users/satyamtiwary/Documents/Python-Things/OpenOligo/openoligo/driver/board.py#45\" target=\"_blank\"><span style=\"color: #7f7f7f; text-decoration-color: #7f7f7f\">45</span></a>\n",
              "</pre>\n"
            ],
            "text/plain": [
              "\u001b[2;36m          \u001b[0m\u001b[2;36m \u001b[0m\u001b[32mDEBUG   \u001b[0m \u001b[1m<\u001b[0m\u001b[1;95mboard.py:\u001b[0m\u001b[1;36m45\u001b[0m\u001b[1m>\u001b[0m Setting pin Board.P3 to \u001b[3;91mFalse\u001b[0m                                         \u001b]8;id=230632;file:///Users/satyamtiwary/Documents/Python-Things/OpenOligo/openoligo/driver/board.py\u001b\\\u001b[2mboard.py\u001b[0m\u001b]8;;\u001b\\\u001b[2m:\u001b[0m\u001b]8;id=617048;file:///Users/satyamtiwary/Documents/Python-Things/OpenOligo/openoligo/driver/board.py#45\u001b\\\u001b[2m45\u001b[0m\u001b]8;;\u001b\\\n"
            ]
          },
          "metadata": {},
          "output_type": "display_data"
        },
        {
          "data": {
            "text/html": [
              "<pre style=\"white-space:pre;overflow-x:auto;line-height:normal;font-family:Menlo,'DejaVu Sans Mono',consolas,'Courier New',monospace\"><span style=\"color: #7fbfbf; text-decoration-color: #7fbfbf\">           </span><span style=\"color: #008000; text-decoration-color: #008000\">DEBUG   </span> <span style=\"font-weight: bold\">&lt;</span><span style=\"color: #ff00ff; text-decoration-color: #ff00ff; font-weight: bold\">board.py:</span><span style=\"color: #008080; text-decoration-color: #008080; font-weight: bold\">45</span><span style=\"font-weight: bold\">&gt;</span> Setting pin Board.P5 to <span style=\"color: #ff0000; text-decoration-color: #ff0000; font-style: italic\">False</span>                                         <a href=\"file:///Users/satyamtiwary/Documents/Python-Things/OpenOligo/openoligo/driver/board.py\" target=\"_blank\"><span style=\"color: #7f7f7f; text-decoration-color: #7f7f7f\">board.py</span></a><span style=\"color: #7f7f7f; text-decoration-color: #7f7f7f\">:</span><a href=\"file:///Users/satyamtiwary/Documents/Python-Things/OpenOligo/openoligo/driver/board.py#45\" target=\"_blank\"><span style=\"color: #7f7f7f; text-decoration-color: #7f7f7f\">45</span></a>\n",
              "</pre>\n"
            ],
            "text/plain": [
              "\u001b[2;36m          \u001b[0m\u001b[2;36m \u001b[0m\u001b[32mDEBUG   \u001b[0m \u001b[1m<\u001b[0m\u001b[1;95mboard.py:\u001b[0m\u001b[1;36m45\u001b[0m\u001b[1m>\u001b[0m Setting pin Board.P5 to \u001b[3;91mFalse\u001b[0m                                         \u001b]8;id=404936;file:///Users/satyamtiwary/Documents/Python-Things/OpenOligo/openoligo/driver/board.py\u001b\\\u001b[2mboard.py\u001b[0m\u001b]8;;\u001b\\\u001b[2m:\u001b[0m\u001b]8;id=221187;file:///Users/satyamtiwary/Documents/Python-Things/OpenOligo/openoligo/driver/board.py#45\u001b\\\u001b[2m45\u001b[0m\u001b]8;;\u001b\\\n"
            ]
          },
          "metadata": {},
          "output_type": "display_data"
        },
        {
          "data": {
            "text/html": [
              "<pre style=\"white-space:pre;overflow-x:auto;line-height:normal;font-family:Menlo,'DejaVu Sans Mono',consolas,'Courier New',monospace\"><span style=\"color: #7fbfbf; text-decoration-color: #7fbfbf\">           </span><span style=\"color: #008000; text-decoration-color: #008000\">DEBUG   </span> <span style=\"font-weight: bold\">&lt;</span><span style=\"color: #ff00ff; text-decoration-color: #ff00ff; font-weight: bold\">board.py:</span><span style=\"color: #008080; text-decoration-color: #008080; font-weight: bold\">45</span><span style=\"font-weight: bold\">&gt;</span> Setting pin Board.P7 to <span style=\"color: #ff0000; text-decoration-color: #ff0000; font-style: italic\">False</span>                                         <a href=\"file:///Users/satyamtiwary/Documents/Python-Things/OpenOligo/openoligo/driver/board.py\" target=\"_blank\"><span style=\"color: #7f7f7f; text-decoration-color: #7f7f7f\">board.py</span></a><span style=\"color: #7f7f7f; text-decoration-color: #7f7f7f\">:</span><a href=\"file:///Users/satyamtiwary/Documents/Python-Things/OpenOligo/openoligo/driver/board.py#45\" target=\"_blank\"><span style=\"color: #7f7f7f; text-decoration-color: #7f7f7f\">45</span></a>\n",
              "</pre>\n"
            ],
            "text/plain": [
              "\u001b[2;36m          \u001b[0m\u001b[2;36m \u001b[0m\u001b[32mDEBUG   \u001b[0m \u001b[1m<\u001b[0m\u001b[1;95mboard.py:\u001b[0m\u001b[1;36m45\u001b[0m\u001b[1m>\u001b[0m Setting pin Board.P7 to \u001b[3;91mFalse\u001b[0m                                         \u001b]8;id=820721;file:///Users/satyamtiwary/Documents/Python-Things/OpenOligo/openoligo/driver/board.py\u001b\\\u001b[2mboard.py\u001b[0m\u001b]8;;\u001b\\\u001b[2m:\u001b[0m\u001b]8;id=566143;file:///Users/satyamtiwary/Documents/Python-Things/OpenOligo/openoligo/driver/board.py#45\u001b\\\u001b[2m45\u001b[0m\u001b]8;;\u001b\\\n"
            ]
          },
          "metadata": {},
          "output_type": "display_data"
        },
        {
          "data": {
            "text/html": [
              "<pre style=\"white-space:pre;overflow-x:auto;line-height:normal;font-family:Menlo,'DejaVu Sans Mono',consolas,'Courier New',monospace\"><span style=\"color: #7fbfbf; text-decoration-color: #7fbfbf\">           </span><span style=\"color: #008000; text-decoration-color: #008000\">DEBUG   </span> <span style=\"font-weight: bold\">&lt;</span><span style=\"color: #ff00ff; text-decoration-color: #ff00ff; font-weight: bold\">board.py:</span><span style=\"color: #008080; text-decoration-color: #008080; font-weight: bold\">45</span><span style=\"font-weight: bold\">&gt;</span> Setting pin Board.P8 to <span style=\"color: #ff0000; text-decoration-color: #ff0000; font-style: italic\">False</span>                                         <a href=\"file:///Users/satyamtiwary/Documents/Python-Things/OpenOligo/openoligo/driver/board.py\" target=\"_blank\"><span style=\"color: #7f7f7f; text-decoration-color: #7f7f7f\">board.py</span></a><span style=\"color: #7f7f7f; text-decoration-color: #7f7f7f\">:</span><a href=\"file:///Users/satyamtiwary/Documents/Python-Things/OpenOligo/openoligo/driver/board.py#45\" target=\"_blank\"><span style=\"color: #7f7f7f; text-decoration-color: #7f7f7f\">45</span></a>\n",
              "</pre>\n"
            ],
            "text/plain": [
              "\u001b[2;36m          \u001b[0m\u001b[2;36m \u001b[0m\u001b[32mDEBUG   \u001b[0m \u001b[1m<\u001b[0m\u001b[1;95mboard.py:\u001b[0m\u001b[1;36m45\u001b[0m\u001b[1m>\u001b[0m Setting pin Board.P8 to \u001b[3;91mFalse\u001b[0m                                         \u001b]8;id=604477;file:///Users/satyamtiwary/Documents/Python-Things/OpenOligo/openoligo/driver/board.py\u001b\\\u001b[2mboard.py\u001b[0m\u001b]8;;\u001b\\\u001b[2m:\u001b[0m\u001b]8;id=50931;file:///Users/satyamtiwary/Documents/Python-Things/OpenOligo/openoligo/driver/board.py#45\u001b\\\u001b[2m45\u001b[0m\u001b]8;;\u001b\\\n"
            ]
          },
          "metadata": {},
          "output_type": "display_data"
        },
        {
          "data": {
            "text/html": [
              "<pre style=\"white-space:pre;overflow-x:auto;line-height:normal;font-family:Menlo,'DejaVu Sans Mono',consolas,'Courier New',monospace\"><span style=\"color: #7fbfbf; text-decoration-color: #7fbfbf\">           </span><span style=\"color: #008000; text-decoration-color: #008000\">DEBUG   </span> <span style=\"font-weight: bold\">&lt;</span><span style=\"color: #ff00ff; text-decoration-color: #ff00ff; font-weight: bold\">board.py:</span><span style=\"color: #008080; text-decoration-color: #008080; font-weight: bold\">45</span><span style=\"font-weight: bold\">&gt;</span> Setting pin Board.P10 to <span style=\"color: #ff0000; text-decoration-color: #ff0000; font-style: italic\">False</span>                                        <a href=\"file:///Users/satyamtiwary/Documents/Python-Things/OpenOligo/openoligo/driver/board.py\" target=\"_blank\"><span style=\"color: #7f7f7f; text-decoration-color: #7f7f7f\">board.py</span></a><span style=\"color: #7f7f7f; text-decoration-color: #7f7f7f\">:</span><a href=\"file:///Users/satyamtiwary/Documents/Python-Things/OpenOligo/openoligo/driver/board.py#45\" target=\"_blank\"><span style=\"color: #7f7f7f; text-decoration-color: #7f7f7f\">45</span></a>\n",
              "</pre>\n"
            ],
            "text/plain": [
              "\u001b[2;36m          \u001b[0m\u001b[2;36m \u001b[0m\u001b[32mDEBUG   \u001b[0m \u001b[1m<\u001b[0m\u001b[1;95mboard.py:\u001b[0m\u001b[1;36m45\u001b[0m\u001b[1m>\u001b[0m Setting pin Board.P10 to \u001b[3;91mFalse\u001b[0m                                        \u001b]8;id=784155;file:///Users/satyamtiwary/Documents/Python-Things/OpenOligo/openoligo/driver/board.py\u001b\\\u001b[2mboard.py\u001b[0m\u001b]8;;\u001b\\\u001b[2m:\u001b[0m\u001b]8;id=904015;file:///Users/satyamtiwary/Documents/Python-Things/OpenOligo/openoligo/driver/board.py#45\u001b\\\u001b[2m45\u001b[0m\u001b]8;;\u001b\\\n"
            ]
          },
          "metadata": {},
          "output_type": "display_data"
        },
        {
          "data": {
            "text/html": [
              "<pre style=\"white-space:pre;overflow-x:auto;line-height:normal;font-family:Menlo,'DejaVu Sans Mono',consolas,'Courier New',monospace\"><span style=\"color: #7fbfbf; text-decoration-color: #7fbfbf\">           </span><span style=\"color: #008000; text-decoration-color: #008000\">DEBUG   </span> <span style=\"font-weight: bold\">&lt;</span><span style=\"color: #ff00ff; text-decoration-color: #ff00ff; font-weight: bold\">board.py:</span><span style=\"color: #008080; text-decoration-color: #008080; font-weight: bold\">45</span><span style=\"font-weight: bold\">&gt;</span> Setting pin Board.P11 to <span style=\"color: #ff0000; text-decoration-color: #ff0000; font-style: italic\">False</span>                                        <a href=\"file:///Users/satyamtiwary/Documents/Python-Things/OpenOligo/openoligo/driver/board.py\" target=\"_blank\"><span style=\"color: #7f7f7f; text-decoration-color: #7f7f7f\">board.py</span></a><span style=\"color: #7f7f7f; text-decoration-color: #7f7f7f\">:</span><a href=\"file:///Users/satyamtiwary/Documents/Python-Things/OpenOligo/openoligo/driver/board.py#45\" target=\"_blank\"><span style=\"color: #7f7f7f; text-decoration-color: #7f7f7f\">45</span></a>\n",
              "</pre>\n"
            ],
            "text/plain": [
              "\u001b[2;36m          \u001b[0m\u001b[2;36m \u001b[0m\u001b[32mDEBUG   \u001b[0m \u001b[1m<\u001b[0m\u001b[1;95mboard.py:\u001b[0m\u001b[1;36m45\u001b[0m\u001b[1m>\u001b[0m Setting pin Board.P11 to \u001b[3;91mFalse\u001b[0m                                        \u001b]8;id=848532;file:///Users/satyamtiwary/Documents/Python-Things/OpenOligo/openoligo/driver/board.py\u001b\\\u001b[2mboard.py\u001b[0m\u001b]8;;\u001b\\\u001b[2m:\u001b[0m\u001b]8;id=102199;file:///Users/satyamtiwary/Documents/Python-Things/OpenOligo/openoligo/driver/board.py#45\u001b\\\u001b[2m45\u001b[0m\u001b]8;;\u001b\\\n"
            ]
          },
          "metadata": {},
          "output_type": "display_data"
        },
        {
          "data": {
            "text/html": [
              "<pre style=\"white-space:pre;overflow-x:auto;line-height:normal;font-family:Menlo,'DejaVu Sans Mono',consolas,'Courier New',monospace\"><span style=\"color: #7fbfbf; text-decoration-color: #7fbfbf\">           </span><span style=\"color: #008000; text-decoration-color: #008000\">DEBUG   </span> <span style=\"font-weight: bold\">&lt;</span><span style=\"color: #ff00ff; text-decoration-color: #ff00ff; font-weight: bold\">board.py:</span><span style=\"color: #008080; text-decoration-color: #008080; font-weight: bold\">45</span><span style=\"font-weight: bold\">&gt;</span> Setting pin Board.P12 to <span style=\"color: #ff0000; text-decoration-color: #ff0000; font-style: italic\">False</span>                                        <a href=\"file:///Users/satyamtiwary/Documents/Python-Things/OpenOligo/openoligo/driver/board.py\" target=\"_blank\"><span style=\"color: #7f7f7f; text-decoration-color: #7f7f7f\">board.py</span></a><span style=\"color: #7f7f7f; text-decoration-color: #7f7f7f\">:</span><a href=\"file:///Users/satyamtiwary/Documents/Python-Things/OpenOligo/openoligo/driver/board.py#45\" target=\"_blank\"><span style=\"color: #7f7f7f; text-decoration-color: #7f7f7f\">45</span></a>\n",
              "</pre>\n"
            ],
            "text/plain": [
              "\u001b[2;36m          \u001b[0m\u001b[2;36m \u001b[0m\u001b[32mDEBUG   \u001b[0m \u001b[1m<\u001b[0m\u001b[1;95mboard.py:\u001b[0m\u001b[1;36m45\u001b[0m\u001b[1m>\u001b[0m Setting pin Board.P12 to \u001b[3;91mFalse\u001b[0m                                        \u001b]8;id=128734;file:///Users/satyamtiwary/Documents/Python-Things/OpenOligo/openoligo/driver/board.py\u001b\\\u001b[2mboard.py\u001b[0m\u001b]8;;\u001b\\\u001b[2m:\u001b[0m\u001b]8;id=780086;file:///Users/satyamtiwary/Documents/Python-Things/OpenOligo/openoligo/driver/board.py#45\u001b\\\u001b[2m45\u001b[0m\u001b]8;;\u001b\\\n"
            ]
          },
          "metadata": {},
          "output_type": "display_data"
        },
        {
          "data": {
            "text/html": [
              "<pre style=\"white-space:pre;overflow-x:auto;line-height:normal;font-family:Menlo,'DejaVu Sans Mono',consolas,'Courier New',monospace\"><span style=\"color: #7fbfbf; text-decoration-color: #7fbfbf\">           </span><span style=\"color: #008000; text-decoration-color: #008000\">DEBUG   </span> <span style=\"font-weight: bold\">&lt;</span><span style=\"color: #ff00ff; text-decoration-color: #ff00ff; font-weight: bold\">board.py:</span><span style=\"color: #008080; text-decoration-color: #008080; font-weight: bold\">45</span><span style=\"font-weight: bold\">&gt;</span> Setting pin Board.P13 to <span style=\"color: #ff0000; text-decoration-color: #ff0000; font-style: italic\">False</span>                                        <a href=\"file:///Users/satyamtiwary/Documents/Python-Things/OpenOligo/openoligo/driver/board.py\" target=\"_blank\"><span style=\"color: #7f7f7f; text-decoration-color: #7f7f7f\">board.py</span></a><span style=\"color: #7f7f7f; text-decoration-color: #7f7f7f\">:</span><a href=\"file:///Users/satyamtiwary/Documents/Python-Things/OpenOligo/openoligo/driver/board.py#45\" target=\"_blank\"><span style=\"color: #7f7f7f; text-decoration-color: #7f7f7f\">45</span></a>\n",
              "</pre>\n"
            ],
            "text/plain": [
              "\u001b[2;36m          \u001b[0m\u001b[2;36m \u001b[0m\u001b[32mDEBUG   \u001b[0m \u001b[1m<\u001b[0m\u001b[1;95mboard.py:\u001b[0m\u001b[1;36m45\u001b[0m\u001b[1m>\u001b[0m Setting pin Board.P13 to \u001b[3;91mFalse\u001b[0m                                        \u001b]8;id=869264;file:///Users/satyamtiwary/Documents/Python-Things/OpenOligo/openoligo/driver/board.py\u001b\\\u001b[2mboard.py\u001b[0m\u001b]8;;\u001b\\\u001b[2m:\u001b[0m\u001b]8;id=363930;file:///Users/satyamtiwary/Documents/Python-Things/OpenOligo/openoligo/driver/board.py#45\u001b\\\u001b[2m45\u001b[0m\u001b]8;;\u001b\\\n"
            ]
          },
          "metadata": {},
          "output_type": "display_data"
        },
        {
          "data": {
            "text/html": [
              "<pre style=\"white-space:pre;overflow-x:auto;line-height:normal;font-family:Menlo,'DejaVu Sans Mono',consolas,'Courier New',monospace\"><span style=\"color: #7fbfbf; text-decoration-color: #7fbfbf\">           </span><span style=\"color: #008000; text-decoration-color: #008000\">DEBUG   </span> <span style=\"font-weight: bold\">&lt;</span><span style=\"color: #ff00ff; text-decoration-color: #ff00ff; font-weight: bold\">board.py:</span><span style=\"color: #008080; text-decoration-color: #008080; font-weight: bold\">45</span><span style=\"font-weight: bold\">&gt;</span> Setting pin Board.P15 to <span style=\"color: #ff0000; text-decoration-color: #ff0000; font-style: italic\">False</span>                                        <a href=\"file:///Users/satyamtiwary/Documents/Python-Things/OpenOligo/openoligo/driver/board.py\" target=\"_blank\"><span style=\"color: #7f7f7f; text-decoration-color: #7f7f7f\">board.py</span></a><span style=\"color: #7f7f7f; text-decoration-color: #7f7f7f\">:</span><a href=\"file:///Users/satyamtiwary/Documents/Python-Things/OpenOligo/openoligo/driver/board.py#45\" target=\"_blank\"><span style=\"color: #7f7f7f; text-decoration-color: #7f7f7f\">45</span></a>\n",
              "</pre>\n"
            ],
            "text/plain": [
              "\u001b[2;36m          \u001b[0m\u001b[2;36m \u001b[0m\u001b[32mDEBUG   \u001b[0m \u001b[1m<\u001b[0m\u001b[1;95mboard.py:\u001b[0m\u001b[1;36m45\u001b[0m\u001b[1m>\u001b[0m Setting pin Board.P15 to \u001b[3;91mFalse\u001b[0m                                        \u001b]8;id=626710;file:///Users/satyamtiwary/Documents/Python-Things/OpenOligo/openoligo/driver/board.py\u001b\\\u001b[2mboard.py\u001b[0m\u001b]8;;\u001b\\\u001b[2m:\u001b[0m\u001b]8;id=232339;file:///Users/satyamtiwary/Documents/Python-Things/OpenOligo/openoligo/driver/board.py#45\u001b\\\u001b[2m45\u001b[0m\u001b]8;;\u001b\\\n"
            ]
          },
          "metadata": {},
          "output_type": "display_data"
        },
        {
          "data": {
            "text/html": [
              "<pre style=\"white-space:pre;overflow-x:auto;line-height:normal;font-family:Menlo,'DejaVu Sans Mono',consolas,'Courier New',monospace\"><span style=\"color: #7fbfbf; text-decoration-color: #7fbfbf\">           </span><span style=\"color: #008000; text-decoration-color: #008000\">DEBUG   </span> <span style=\"font-weight: bold\">&lt;</span><span style=\"color: #ff00ff; text-decoration-color: #ff00ff; font-weight: bold\">board.py:</span><span style=\"color: #008080; text-decoration-color: #008080; font-weight: bold\">45</span><span style=\"font-weight: bold\">&gt;</span> Setting pin Board.P16 to <span style=\"color: #ff0000; text-decoration-color: #ff0000; font-style: italic\">False</span>                                        <a href=\"file:///Users/satyamtiwary/Documents/Python-Things/OpenOligo/openoligo/driver/board.py\" target=\"_blank\"><span style=\"color: #7f7f7f; text-decoration-color: #7f7f7f\">board.py</span></a><span style=\"color: #7f7f7f; text-decoration-color: #7f7f7f\">:</span><a href=\"file:///Users/satyamtiwary/Documents/Python-Things/OpenOligo/openoligo/driver/board.py#45\" target=\"_blank\"><span style=\"color: #7f7f7f; text-decoration-color: #7f7f7f\">45</span></a>\n",
              "</pre>\n"
            ],
            "text/plain": [
              "\u001b[2;36m          \u001b[0m\u001b[2;36m \u001b[0m\u001b[32mDEBUG   \u001b[0m \u001b[1m<\u001b[0m\u001b[1;95mboard.py:\u001b[0m\u001b[1;36m45\u001b[0m\u001b[1m>\u001b[0m Setting pin Board.P16 to \u001b[3;91mFalse\u001b[0m                                        \u001b]8;id=153167;file:///Users/satyamtiwary/Documents/Python-Things/OpenOligo/openoligo/driver/board.py\u001b\\\u001b[2mboard.py\u001b[0m\u001b]8;;\u001b\\\u001b[2m:\u001b[0m\u001b]8;id=167208;file:///Users/satyamtiwary/Documents/Python-Things/OpenOligo/openoligo/driver/board.py#45\u001b\\\u001b[2m45\u001b[0m\u001b]8;;\u001b\\\n"
            ]
          },
          "metadata": {},
          "output_type": "display_data"
        },
        {
          "data": {
            "text/html": [
              "<pre style=\"white-space:pre;overflow-x:auto;line-height:normal;font-family:Menlo,'DejaVu Sans Mono',consolas,'Courier New',monospace\"><span style=\"color: #7fbfbf; text-decoration-color: #7fbfbf\">           </span><span style=\"color: #008000; text-decoration-color: #008000\">DEBUG   </span> <span style=\"font-weight: bold\">&lt;</span><span style=\"color: #ff00ff; text-decoration-color: #ff00ff; font-weight: bold\">board.py:</span><span style=\"color: #008080; text-decoration-color: #008080; font-weight: bold\">45</span><span style=\"font-weight: bold\">&gt;</span> Setting pin Board.P18 to <span style=\"color: #ff0000; text-decoration-color: #ff0000; font-style: italic\">False</span>                                        <a href=\"file:///Users/satyamtiwary/Documents/Python-Things/OpenOligo/openoligo/driver/board.py\" target=\"_blank\"><span style=\"color: #7f7f7f; text-decoration-color: #7f7f7f\">board.py</span></a><span style=\"color: #7f7f7f; text-decoration-color: #7f7f7f\">:</span><a href=\"file:///Users/satyamtiwary/Documents/Python-Things/OpenOligo/openoligo/driver/board.py#45\" target=\"_blank\"><span style=\"color: #7f7f7f; text-decoration-color: #7f7f7f\">45</span></a>\n",
              "</pre>\n"
            ],
            "text/plain": [
              "\u001b[2;36m          \u001b[0m\u001b[2;36m \u001b[0m\u001b[32mDEBUG   \u001b[0m \u001b[1m<\u001b[0m\u001b[1;95mboard.py:\u001b[0m\u001b[1;36m45\u001b[0m\u001b[1m>\u001b[0m Setting pin Board.P18 to \u001b[3;91mFalse\u001b[0m                                        \u001b]8;id=308295;file:///Users/satyamtiwary/Documents/Python-Things/OpenOligo/openoligo/driver/board.py\u001b\\\u001b[2mboard.py\u001b[0m\u001b]8;;\u001b\\\u001b[2m:\u001b[0m\u001b]8;id=921419;file:///Users/satyamtiwary/Documents/Python-Things/OpenOligo/openoligo/driver/board.py#45\u001b\\\u001b[2m45\u001b[0m\u001b]8;;\u001b\\\n"
            ]
          },
          "metadata": {},
          "output_type": "display_data"
        },
        {
          "data": {
            "text/html": [
              "<pre style=\"white-space:pre;overflow-x:auto;line-height:normal;font-family:Menlo,'DejaVu Sans Mono',consolas,'Courier New',monospace\"><span style=\"color: #7fbfbf; text-decoration-color: #7fbfbf\">           </span><span style=\"color: #008000; text-decoration-color: #008000\">DEBUG   </span> <span style=\"font-weight: bold\">&lt;</span><span style=\"color: #ff00ff; text-decoration-color: #ff00ff; font-weight: bold\">board.py:</span><span style=\"color: #008080; text-decoration-color: #008080; font-weight: bold\">45</span><span style=\"font-weight: bold\">&gt;</span> Setting pin Board.P19 to <span style=\"color: #ff0000; text-decoration-color: #ff0000; font-style: italic\">False</span>                                        <a href=\"file:///Users/satyamtiwary/Documents/Python-Things/OpenOligo/openoligo/driver/board.py\" target=\"_blank\"><span style=\"color: #7f7f7f; text-decoration-color: #7f7f7f\">board.py</span></a><span style=\"color: #7f7f7f; text-decoration-color: #7f7f7f\">:</span><a href=\"file:///Users/satyamtiwary/Documents/Python-Things/OpenOligo/openoligo/driver/board.py#45\" target=\"_blank\"><span style=\"color: #7f7f7f; text-decoration-color: #7f7f7f\">45</span></a>\n",
              "</pre>\n"
            ],
            "text/plain": [
              "\u001b[2;36m          \u001b[0m\u001b[2;36m \u001b[0m\u001b[32mDEBUG   \u001b[0m \u001b[1m<\u001b[0m\u001b[1;95mboard.py:\u001b[0m\u001b[1;36m45\u001b[0m\u001b[1m>\u001b[0m Setting pin Board.P19 to \u001b[3;91mFalse\u001b[0m                                        \u001b]8;id=753612;file:///Users/satyamtiwary/Documents/Python-Things/OpenOligo/openoligo/driver/board.py\u001b\\\u001b[2mboard.py\u001b[0m\u001b]8;;\u001b\\\u001b[2m:\u001b[0m\u001b]8;id=710033;file:///Users/satyamtiwary/Documents/Python-Things/OpenOligo/openoligo/driver/board.py#45\u001b\\\u001b[2m45\u001b[0m\u001b]8;;\u001b\\\n"
            ]
          },
          "metadata": {},
          "output_type": "display_data"
        },
        {
          "data": {
            "text/html": [
              "<pre style=\"white-space:pre;overflow-x:auto;line-height:normal;font-family:Menlo,'DejaVu Sans Mono',consolas,'Courier New',monospace\"><span style=\"color: #7fbfbf; text-decoration-color: #7fbfbf\">           </span><span style=\"color: #008000; text-decoration-color: #008000\">DEBUG   </span> <span style=\"font-weight: bold\">&lt;</span><span style=\"color: #ff00ff; text-decoration-color: #ff00ff; font-weight: bold\">board.py:</span><span style=\"color: #008080; text-decoration-color: #008080; font-weight: bold\">45</span><span style=\"font-weight: bold\">&gt;</span> Setting pin Board.P21 to <span style=\"color: #ff0000; text-decoration-color: #ff0000; font-style: italic\">False</span>                                        <a href=\"file:///Users/satyamtiwary/Documents/Python-Things/OpenOligo/openoligo/driver/board.py\" target=\"_blank\"><span style=\"color: #7f7f7f; text-decoration-color: #7f7f7f\">board.py</span></a><span style=\"color: #7f7f7f; text-decoration-color: #7f7f7f\">:</span><a href=\"file:///Users/satyamtiwary/Documents/Python-Things/OpenOligo/openoligo/driver/board.py#45\" target=\"_blank\"><span style=\"color: #7f7f7f; text-decoration-color: #7f7f7f\">45</span></a>\n",
              "</pre>\n"
            ],
            "text/plain": [
              "\u001b[2;36m          \u001b[0m\u001b[2;36m \u001b[0m\u001b[32mDEBUG   \u001b[0m \u001b[1m<\u001b[0m\u001b[1;95mboard.py:\u001b[0m\u001b[1;36m45\u001b[0m\u001b[1m>\u001b[0m Setting pin Board.P21 to \u001b[3;91mFalse\u001b[0m                                        \u001b]8;id=928060;file:///Users/satyamtiwary/Documents/Python-Things/OpenOligo/openoligo/driver/board.py\u001b\\\u001b[2mboard.py\u001b[0m\u001b]8;;\u001b\\\u001b[2m:\u001b[0m\u001b]8;id=592341;file:///Users/satyamtiwary/Documents/Python-Things/OpenOligo/openoligo/driver/board.py#45\u001b\\\u001b[2m45\u001b[0m\u001b]8;;\u001b\\\n"
            ]
          },
          "metadata": {},
          "output_type": "display_data"
        },
        {
          "data": {
            "text/html": [
              "<pre style=\"white-space:pre;overflow-x:auto;line-height:normal;font-family:Menlo,'DejaVu Sans Mono',consolas,'Courier New',monospace\"><span style=\"color: #7fbfbf; text-decoration-color: #7fbfbf\">           </span><span style=\"color: #008000; text-decoration-color: #008000\">DEBUG   </span> <span style=\"font-weight: bold\">&lt;</span><span style=\"color: #ff00ff; text-decoration-color: #ff00ff; font-weight: bold\">board.py:</span><span style=\"color: #008080; text-decoration-color: #008080; font-weight: bold\">45</span><span style=\"font-weight: bold\">&gt;</span> Setting pin Board.P22 to <span style=\"color: #ff0000; text-decoration-color: #ff0000; font-style: italic\">False</span>                                        <a href=\"file:///Users/satyamtiwary/Documents/Python-Things/OpenOligo/openoligo/driver/board.py\" target=\"_blank\"><span style=\"color: #7f7f7f; text-decoration-color: #7f7f7f\">board.py</span></a><span style=\"color: #7f7f7f; text-decoration-color: #7f7f7f\">:</span><a href=\"file:///Users/satyamtiwary/Documents/Python-Things/OpenOligo/openoligo/driver/board.py#45\" target=\"_blank\"><span style=\"color: #7f7f7f; text-decoration-color: #7f7f7f\">45</span></a>\n",
              "</pre>\n"
            ],
            "text/plain": [
              "\u001b[2;36m          \u001b[0m\u001b[2;36m \u001b[0m\u001b[32mDEBUG   \u001b[0m \u001b[1m<\u001b[0m\u001b[1;95mboard.py:\u001b[0m\u001b[1;36m45\u001b[0m\u001b[1m>\u001b[0m Setting pin Board.P22 to \u001b[3;91mFalse\u001b[0m                                        \u001b]8;id=749389;file:///Users/satyamtiwary/Documents/Python-Things/OpenOligo/openoligo/driver/board.py\u001b\\\u001b[2mboard.py\u001b[0m\u001b]8;;\u001b\\\u001b[2m:\u001b[0m\u001b]8;id=678656;file:///Users/satyamtiwary/Documents/Python-Things/OpenOligo/openoligo/driver/board.py#45\u001b\\\u001b[2m45\u001b[0m\u001b]8;;\u001b\\\n"
            ]
          },
          "metadata": {},
          "output_type": "display_data"
        },
        {
          "data": {
            "text/html": [
              "<pre style=\"white-space:pre;overflow-x:auto;line-height:normal;font-family:Menlo,'DejaVu Sans Mono',consolas,'Courier New',monospace\"><span style=\"color: #7fbfbf; text-decoration-color: #7fbfbf\">           </span><span style=\"color: #008000; text-decoration-color: #008000\">DEBUG   </span> <span style=\"font-weight: bold\">&lt;</span><span style=\"color: #ff00ff; text-decoration-color: #ff00ff; font-weight: bold\">board.py:</span><span style=\"color: #008080; text-decoration-color: #008080; font-weight: bold\">45</span><span style=\"font-weight: bold\">&gt;</span> Setting pin Board.P23 to <span style=\"color: #ff0000; text-decoration-color: #ff0000; font-style: italic\">False</span>                                        <a href=\"file:///Users/satyamtiwary/Documents/Python-Things/OpenOligo/openoligo/driver/board.py\" target=\"_blank\"><span style=\"color: #7f7f7f; text-decoration-color: #7f7f7f\">board.py</span></a><span style=\"color: #7f7f7f; text-decoration-color: #7f7f7f\">:</span><a href=\"file:///Users/satyamtiwary/Documents/Python-Things/OpenOligo/openoligo/driver/board.py#45\" target=\"_blank\"><span style=\"color: #7f7f7f; text-decoration-color: #7f7f7f\">45</span></a>\n",
              "</pre>\n"
            ],
            "text/plain": [
              "\u001b[2;36m          \u001b[0m\u001b[2;36m \u001b[0m\u001b[32mDEBUG   \u001b[0m \u001b[1m<\u001b[0m\u001b[1;95mboard.py:\u001b[0m\u001b[1;36m45\u001b[0m\u001b[1m>\u001b[0m Setting pin Board.P23 to \u001b[3;91mFalse\u001b[0m                                        \u001b]8;id=975828;file:///Users/satyamtiwary/Documents/Python-Things/OpenOligo/openoligo/driver/board.py\u001b\\\u001b[2mboard.py\u001b[0m\u001b]8;;\u001b\\\u001b[2m:\u001b[0m\u001b]8;id=643179;file:///Users/satyamtiwary/Documents/Python-Things/OpenOligo/openoligo/driver/board.py#45\u001b\\\u001b[2m45\u001b[0m\u001b]8;;\u001b\\\n"
            ]
          },
          "metadata": {},
          "output_type": "display_data"
        },
        {
          "data": {
            "text/html": [
              "<pre style=\"white-space:pre;overflow-x:auto;line-height:normal;font-family:Menlo,'DejaVu Sans Mono',consolas,'Courier New',monospace\"><span style=\"color: #7fbfbf; text-decoration-color: #7fbfbf\">           </span><span style=\"color: #008000; text-decoration-color: #008000\">DEBUG   </span> <span style=\"font-weight: bold\">&lt;</span><span style=\"color: #ff00ff; text-decoration-color: #ff00ff; font-weight: bold\">board.py:</span><span style=\"color: #008080; text-decoration-color: #008080; font-weight: bold\">45</span><span style=\"font-weight: bold\">&gt;</span> Setting pin Board.P24 to <span style=\"color: #ff0000; text-decoration-color: #ff0000; font-style: italic\">False</span>                                        <a href=\"file:///Users/satyamtiwary/Documents/Python-Things/OpenOligo/openoligo/driver/board.py\" target=\"_blank\"><span style=\"color: #7f7f7f; text-decoration-color: #7f7f7f\">board.py</span></a><span style=\"color: #7f7f7f; text-decoration-color: #7f7f7f\">:</span><a href=\"file:///Users/satyamtiwary/Documents/Python-Things/OpenOligo/openoligo/driver/board.py#45\" target=\"_blank\"><span style=\"color: #7f7f7f; text-decoration-color: #7f7f7f\">45</span></a>\n",
              "</pre>\n"
            ],
            "text/plain": [
              "\u001b[2;36m          \u001b[0m\u001b[2;36m \u001b[0m\u001b[32mDEBUG   \u001b[0m \u001b[1m<\u001b[0m\u001b[1;95mboard.py:\u001b[0m\u001b[1;36m45\u001b[0m\u001b[1m>\u001b[0m Setting pin Board.P24 to \u001b[3;91mFalse\u001b[0m                                        \u001b]8;id=239558;file:///Users/satyamtiwary/Documents/Python-Things/OpenOligo/openoligo/driver/board.py\u001b\\\u001b[2mboard.py\u001b[0m\u001b]8;;\u001b\\\u001b[2m:\u001b[0m\u001b]8;id=315258;file:///Users/satyamtiwary/Documents/Python-Things/OpenOligo/openoligo/driver/board.py#45\u001b\\\u001b[2m45\u001b[0m\u001b]8;;\u001b\\\n"
            ]
          },
          "metadata": {},
          "output_type": "display_data"
        },
        {
          "data": {
            "text/html": [
              "<pre style=\"white-space:pre;overflow-x:auto;line-height:normal;font-family:Menlo,'DejaVu Sans Mono',consolas,'Courier New',monospace\"><span style=\"color: #7fbfbf; text-decoration-color: #7fbfbf\">           </span><span style=\"color: #008000; text-decoration-color: #008000\">DEBUG   </span> <span style=\"font-weight: bold\">&lt;</span><span style=\"color: #ff00ff; text-decoration-color: #ff00ff; font-weight: bold\">board.py:</span><span style=\"color: #008080; text-decoration-color: #008080; font-weight: bold\">45</span><span style=\"font-weight: bold\">&gt;</span> Setting pin Board.P26 to <span style=\"color: #ff0000; text-decoration-color: #ff0000; font-style: italic\">False</span>                                        <a href=\"file:///Users/satyamtiwary/Documents/Python-Things/OpenOligo/openoligo/driver/board.py\" target=\"_blank\"><span style=\"color: #7f7f7f; text-decoration-color: #7f7f7f\">board.py</span></a><span style=\"color: #7f7f7f; text-decoration-color: #7f7f7f\">:</span><a href=\"file:///Users/satyamtiwary/Documents/Python-Things/OpenOligo/openoligo/driver/board.py#45\" target=\"_blank\"><span style=\"color: #7f7f7f; text-decoration-color: #7f7f7f\">45</span></a>\n",
              "</pre>\n"
            ],
            "text/plain": [
              "\u001b[2;36m          \u001b[0m\u001b[2;36m \u001b[0m\u001b[32mDEBUG   \u001b[0m \u001b[1m<\u001b[0m\u001b[1;95mboard.py:\u001b[0m\u001b[1;36m45\u001b[0m\u001b[1m>\u001b[0m Setting pin Board.P26 to \u001b[3;91mFalse\u001b[0m                                        \u001b]8;id=193234;file:///Users/satyamtiwary/Documents/Python-Things/OpenOligo/openoligo/driver/board.py\u001b\\\u001b[2mboard.py\u001b[0m\u001b]8;;\u001b\\\u001b[2m:\u001b[0m\u001b]8;id=376857;file:///Users/satyamtiwary/Documents/Python-Things/OpenOligo/openoligo/driver/board.py#45\u001b\\\u001b[2m45\u001b[0m\u001b]8;;\u001b\\\n"
            ]
          },
          "metadata": {},
          "output_type": "display_data"
        },
        {
          "data": {
            "text/html": [
              "<pre style=\"white-space:pre;overflow-x:auto;line-height:normal;font-family:Menlo,'DejaVu Sans Mono',consolas,'Courier New',monospace\"><span style=\"color: #7fbfbf; text-decoration-color: #7fbfbf\">           </span><span style=\"color: #008000; text-decoration-color: #008000\">DEBUG   </span> <span style=\"font-weight: bold\">&lt;</span><span style=\"color: #ff00ff; text-decoration-color: #ff00ff; font-weight: bold\">board.py:</span><span style=\"color: #008080; text-decoration-color: #008080; font-weight: bold\">45</span><span style=\"font-weight: bold\">&gt;</span> Setting pin Board.P27 to <span style=\"color: #ff0000; text-decoration-color: #ff0000; font-style: italic\">False</span>                                        <a href=\"file:///Users/satyamtiwary/Documents/Python-Things/OpenOligo/openoligo/driver/board.py\" target=\"_blank\"><span style=\"color: #7f7f7f; text-decoration-color: #7f7f7f\">board.py</span></a><span style=\"color: #7f7f7f; text-decoration-color: #7f7f7f\">:</span><a href=\"file:///Users/satyamtiwary/Documents/Python-Things/OpenOligo/openoligo/driver/board.py#45\" target=\"_blank\"><span style=\"color: #7f7f7f; text-decoration-color: #7f7f7f\">45</span></a>\n",
              "</pre>\n"
            ],
            "text/plain": [
              "\u001b[2;36m          \u001b[0m\u001b[2;36m \u001b[0m\u001b[32mDEBUG   \u001b[0m \u001b[1m<\u001b[0m\u001b[1;95mboard.py:\u001b[0m\u001b[1;36m45\u001b[0m\u001b[1m>\u001b[0m Setting pin Board.P27 to \u001b[3;91mFalse\u001b[0m                                        \u001b]8;id=819214;file:///Users/satyamtiwary/Documents/Python-Things/OpenOligo/openoligo/driver/board.py\u001b\\\u001b[2mboard.py\u001b[0m\u001b]8;;\u001b\\\u001b[2m:\u001b[0m\u001b]8;id=775795;file:///Users/satyamtiwary/Documents/Python-Things/OpenOligo/openoligo/driver/board.py#45\u001b\\\u001b[2m45\u001b[0m\u001b]8;;\u001b\\\n"
            ]
          },
          "metadata": {},
          "output_type": "display_data"
        },
        {
          "data": {
            "text/html": [
              "<pre style=\"white-space:pre;overflow-x:auto;line-height:normal;font-family:Menlo,'DejaVu Sans Mono',consolas,'Courier New',monospace\"><span style=\"color: #7fbfbf; text-decoration-color: #7fbfbf\">           </span><span style=\"color: #008000; text-decoration-color: #008000\">DEBUG   </span> <span style=\"font-weight: bold\">&lt;</span><span style=\"color: #ff00ff; text-decoration-color: #ff00ff; font-weight: bold\">board.py:</span><span style=\"color: #008080; text-decoration-color: #008080; font-weight: bold\">45</span><span style=\"font-weight: bold\">&gt;</span> Setting pin Board.P28 to <span style=\"color: #ff0000; text-decoration-color: #ff0000; font-style: italic\">False</span>                                        <a href=\"file:///Users/satyamtiwary/Documents/Python-Things/OpenOligo/openoligo/driver/board.py\" target=\"_blank\"><span style=\"color: #7f7f7f; text-decoration-color: #7f7f7f\">board.py</span></a><span style=\"color: #7f7f7f; text-decoration-color: #7f7f7f\">:</span><a href=\"file:///Users/satyamtiwary/Documents/Python-Things/OpenOligo/openoligo/driver/board.py#45\" target=\"_blank\"><span style=\"color: #7f7f7f; text-decoration-color: #7f7f7f\">45</span></a>\n",
              "</pre>\n"
            ],
            "text/plain": [
              "\u001b[2;36m          \u001b[0m\u001b[2;36m \u001b[0m\u001b[32mDEBUG   \u001b[0m \u001b[1m<\u001b[0m\u001b[1;95mboard.py:\u001b[0m\u001b[1;36m45\u001b[0m\u001b[1m>\u001b[0m Setting pin Board.P28 to \u001b[3;91mFalse\u001b[0m                                        \u001b]8;id=703000;file:///Users/satyamtiwary/Documents/Python-Things/OpenOligo/openoligo/driver/board.py\u001b\\\u001b[2mboard.py\u001b[0m\u001b]8;;\u001b\\\u001b[2m:\u001b[0m\u001b]8;id=613557;file:///Users/satyamtiwary/Documents/Python-Things/OpenOligo/openoligo/driver/board.py#45\u001b\\\u001b[2m45\u001b[0m\u001b]8;;\u001b\\\n"
            ]
          },
          "metadata": {},
          "output_type": "display_data"
        },
        {
          "data": {
            "text/html": [
              "<pre style=\"white-space:pre;overflow-x:auto;line-height:normal;font-family:Menlo,'DejaVu Sans Mono',consolas,'Courier New',monospace\"><span style=\"color: #7fbfbf; text-decoration-color: #7fbfbf\">           </span><span style=\"color: #008000; text-decoration-color: #008000\">DEBUG   </span> <span style=\"font-weight: bold\">&lt;</span><span style=\"color: #ff00ff; text-decoration-color: #ff00ff; font-weight: bold\">board.py:</span><span style=\"color: #008080; text-decoration-color: #008080; font-weight: bold\">45</span><span style=\"font-weight: bold\">&gt;</span> Setting pin Board.P29 to <span style=\"color: #ff0000; text-decoration-color: #ff0000; font-style: italic\">False</span>                                        <a href=\"file:///Users/satyamtiwary/Documents/Python-Things/OpenOligo/openoligo/driver/board.py\" target=\"_blank\"><span style=\"color: #7f7f7f; text-decoration-color: #7f7f7f\">board.py</span></a><span style=\"color: #7f7f7f; text-decoration-color: #7f7f7f\">:</span><a href=\"file:///Users/satyamtiwary/Documents/Python-Things/OpenOligo/openoligo/driver/board.py#45\" target=\"_blank\"><span style=\"color: #7f7f7f; text-decoration-color: #7f7f7f\">45</span></a>\n",
              "</pre>\n"
            ],
            "text/plain": [
              "\u001b[2;36m          \u001b[0m\u001b[2;36m \u001b[0m\u001b[32mDEBUG   \u001b[0m \u001b[1m<\u001b[0m\u001b[1;95mboard.py:\u001b[0m\u001b[1;36m45\u001b[0m\u001b[1m>\u001b[0m Setting pin Board.P29 to \u001b[3;91mFalse\u001b[0m                                        \u001b]8;id=726291;file:///Users/satyamtiwary/Documents/Python-Things/OpenOligo/openoligo/driver/board.py\u001b\\\u001b[2mboard.py\u001b[0m\u001b]8;;\u001b\\\u001b[2m:\u001b[0m\u001b]8;id=116497;file:///Users/satyamtiwary/Documents/Python-Things/OpenOligo/openoligo/driver/board.py#45\u001b\\\u001b[2m45\u001b[0m\u001b]8;;\u001b\\\n"
            ]
          },
          "metadata": {},
          "output_type": "display_data"
        },
        {
          "data": {
            "text/html": [
              "<pre style=\"white-space:pre;overflow-x:auto;line-height:normal;font-family:Menlo,'DejaVu Sans Mono',consolas,'Courier New',monospace\"><span style=\"color: #7fbfbf; text-decoration-color: #7fbfbf\">           </span><span style=\"color: #008000; text-decoration-color: #008000\">DEBUG   </span> <span style=\"font-weight: bold\">&lt;</span><span style=\"color: #ff00ff; text-decoration-color: #ff00ff; font-weight: bold\">board.py:</span><span style=\"color: #008080; text-decoration-color: #008080; font-weight: bold\">45</span><span style=\"font-weight: bold\">&gt;</span> Setting pin Board.P31 to <span style=\"color: #ff0000; text-decoration-color: #ff0000; font-style: italic\">False</span>                                        <a href=\"file:///Users/satyamtiwary/Documents/Python-Things/OpenOligo/openoligo/driver/board.py\" target=\"_blank\"><span style=\"color: #7f7f7f; text-decoration-color: #7f7f7f\">board.py</span></a><span style=\"color: #7f7f7f; text-decoration-color: #7f7f7f\">:</span><a href=\"file:///Users/satyamtiwary/Documents/Python-Things/OpenOligo/openoligo/driver/board.py#45\" target=\"_blank\"><span style=\"color: #7f7f7f; text-decoration-color: #7f7f7f\">45</span></a>\n",
              "</pre>\n"
            ],
            "text/plain": [
              "\u001b[2;36m          \u001b[0m\u001b[2;36m \u001b[0m\u001b[32mDEBUG   \u001b[0m \u001b[1m<\u001b[0m\u001b[1;95mboard.py:\u001b[0m\u001b[1;36m45\u001b[0m\u001b[1m>\u001b[0m Setting pin Board.P31 to \u001b[3;91mFalse\u001b[0m                                        \u001b]8;id=655656;file:///Users/satyamtiwary/Documents/Python-Things/OpenOligo/openoligo/driver/board.py\u001b\\\u001b[2mboard.py\u001b[0m\u001b]8;;\u001b\\\u001b[2m:\u001b[0m\u001b]8;id=115437;file:///Users/satyamtiwary/Documents/Python-Things/OpenOligo/openoligo/driver/board.py#45\u001b\\\u001b[2m45\u001b[0m\u001b]8;;\u001b\\\n"
            ]
          },
          "metadata": {},
          "output_type": "display_data"
        },
        {
          "data": {
            "text/html": [
              "<pre style=\"white-space:pre;overflow-x:auto;line-height:normal;font-family:Menlo,'DejaVu Sans Mono',consolas,'Courier New',monospace\"><span style=\"color: #7fbfbf; text-decoration-color: #7fbfbf\">           </span><span style=\"color: #008000; text-decoration-color: #008000\">DEBUG   </span> <span style=\"font-weight: bold\">&lt;</span><span style=\"color: #ff00ff; text-decoration-color: #ff00ff; font-weight: bold\">board.py:</span><span style=\"color: #008080; text-decoration-color: #008080; font-weight: bold\">45</span><span style=\"font-weight: bold\">&gt;</span> Setting pin Board.P32 to <span style=\"color: #ff0000; text-decoration-color: #ff0000; font-style: italic\">False</span>                                        <a href=\"file:///Users/satyamtiwary/Documents/Python-Things/OpenOligo/openoligo/driver/board.py\" target=\"_blank\"><span style=\"color: #7f7f7f; text-decoration-color: #7f7f7f\">board.py</span></a><span style=\"color: #7f7f7f; text-decoration-color: #7f7f7f\">:</span><a href=\"file:///Users/satyamtiwary/Documents/Python-Things/OpenOligo/openoligo/driver/board.py#45\" target=\"_blank\"><span style=\"color: #7f7f7f; text-decoration-color: #7f7f7f\">45</span></a>\n",
              "</pre>\n"
            ],
            "text/plain": [
              "\u001b[2;36m          \u001b[0m\u001b[2;36m \u001b[0m\u001b[32mDEBUG   \u001b[0m \u001b[1m<\u001b[0m\u001b[1;95mboard.py:\u001b[0m\u001b[1;36m45\u001b[0m\u001b[1m>\u001b[0m Setting pin Board.P32 to \u001b[3;91mFalse\u001b[0m                                        \u001b]8;id=385935;file:///Users/satyamtiwary/Documents/Python-Things/OpenOligo/openoligo/driver/board.py\u001b\\\u001b[2mboard.py\u001b[0m\u001b]8;;\u001b\\\u001b[2m:\u001b[0m\u001b]8;id=578949;file:///Users/satyamtiwary/Documents/Python-Things/OpenOligo/openoligo/driver/board.py#45\u001b\\\u001b[2m45\u001b[0m\u001b]8;;\u001b\\\n"
            ]
          },
          "metadata": {},
          "output_type": "display_data"
        },
        {
          "data": {
            "text/html": [
              "<pre style=\"white-space:pre;overflow-x:auto;line-height:normal;font-family:Menlo,'DejaVu Sans Mono',consolas,'Courier New',monospace\"><span style=\"color: #7fbfbf; text-decoration-color: #7fbfbf\">           </span><span style=\"color: #008000; text-decoration-color: #008000\">DEBUG   </span> <span style=\"font-weight: bold\">&lt;</span><span style=\"color: #ff00ff; text-decoration-color: #ff00ff; font-weight: bold\">board.py:</span><span style=\"color: #008080; text-decoration-color: #008080; font-weight: bold\">45</span><span style=\"font-weight: bold\">&gt;</span> Setting pin Board.P33 to <span style=\"color: #ff0000; text-decoration-color: #ff0000; font-style: italic\">False</span>                                        <a href=\"file:///Users/satyamtiwary/Documents/Python-Things/OpenOligo/openoligo/driver/board.py\" target=\"_blank\"><span style=\"color: #7f7f7f; text-decoration-color: #7f7f7f\">board.py</span></a><span style=\"color: #7f7f7f; text-decoration-color: #7f7f7f\">:</span><a href=\"file:///Users/satyamtiwary/Documents/Python-Things/OpenOligo/openoligo/driver/board.py#45\" target=\"_blank\"><span style=\"color: #7f7f7f; text-decoration-color: #7f7f7f\">45</span></a>\n",
              "</pre>\n"
            ],
            "text/plain": [
              "\u001b[2;36m          \u001b[0m\u001b[2;36m \u001b[0m\u001b[32mDEBUG   \u001b[0m \u001b[1m<\u001b[0m\u001b[1;95mboard.py:\u001b[0m\u001b[1;36m45\u001b[0m\u001b[1m>\u001b[0m Setting pin Board.P33 to \u001b[3;91mFalse\u001b[0m                                        \u001b]8;id=928184;file:///Users/satyamtiwary/Documents/Python-Things/OpenOligo/openoligo/driver/board.py\u001b\\\u001b[2mboard.py\u001b[0m\u001b]8;;\u001b\\\u001b[2m:\u001b[0m\u001b]8;id=589035;file:///Users/satyamtiwary/Documents/Python-Things/OpenOligo/openoligo/driver/board.py#45\u001b\\\u001b[2m45\u001b[0m\u001b]8;;\u001b\\\n"
            ]
          },
          "metadata": {},
          "output_type": "display_data"
        },
        {
          "data": {
            "text/html": [
              "<pre style=\"white-space:pre;overflow-x:auto;line-height:normal;font-family:Menlo,'DejaVu Sans Mono',consolas,'Courier New',monospace\"><span style=\"color: #7fbfbf; text-decoration-color: #7fbfbf\">           </span><span style=\"color: #008000; text-decoration-color: #008000\">DEBUG   </span> <span style=\"font-weight: bold\">&lt;</span><span style=\"color: #ff00ff; text-decoration-color: #ff00ff; font-weight: bold\">board.py:</span><span style=\"color: #008080; text-decoration-color: #008080; font-weight: bold\">45</span><span style=\"font-weight: bold\">&gt;</span> Setting pin Board.P35 to <span style=\"color: #ff0000; text-decoration-color: #ff0000; font-style: italic\">False</span>                                        <a href=\"file:///Users/satyamtiwary/Documents/Python-Things/OpenOligo/openoligo/driver/board.py\" target=\"_blank\"><span style=\"color: #7f7f7f; text-decoration-color: #7f7f7f\">board.py</span></a><span style=\"color: #7f7f7f; text-decoration-color: #7f7f7f\">:</span><a href=\"file:///Users/satyamtiwary/Documents/Python-Things/OpenOligo/openoligo/driver/board.py#45\" target=\"_blank\"><span style=\"color: #7f7f7f; text-decoration-color: #7f7f7f\">45</span></a>\n",
              "</pre>\n"
            ],
            "text/plain": [
              "\u001b[2;36m          \u001b[0m\u001b[2;36m \u001b[0m\u001b[32mDEBUG   \u001b[0m \u001b[1m<\u001b[0m\u001b[1;95mboard.py:\u001b[0m\u001b[1;36m45\u001b[0m\u001b[1m>\u001b[0m Setting pin Board.P35 to \u001b[3;91mFalse\u001b[0m                                        \u001b]8;id=175415;file:///Users/satyamtiwary/Documents/Python-Things/OpenOligo/openoligo/driver/board.py\u001b\\\u001b[2mboard.py\u001b[0m\u001b]8;;\u001b\\\u001b[2m:\u001b[0m\u001b]8;id=211508;file:///Users/satyamtiwary/Documents/Python-Things/OpenOligo/openoligo/driver/board.py#45\u001b\\\u001b[2m45\u001b[0m\u001b]8;;\u001b\\\n"
            ]
          },
          "metadata": {},
          "output_type": "display_data"
        },
        {
          "data": {
            "text/html": [
              "<pre style=\"white-space:pre;overflow-x:auto;line-height:normal;font-family:Menlo,'DejaVu Sans Mono',consolas,'Courier New',monospace\"><span style=\"color: #7fbfbf; text-decoration-color: #7fbfbf\">           </span><span style=\"color: #008000; text-decoration-color: #008000\">DEBUG   </span> <span style=\"font-weight: bold\">&lt;</span><span style=\"color: #ff00ff; text-decoration-color: #ff00ff; font-weight: bold\">board.py:</span><span style=\"color: #008080; text-decoration-color: #008080; font-weight: bold\">45</span><span style=\"font-weight: bold\">&gt;</span> Setting pin Board.P36 to <span style=\"color: #ff0000; text-decoration-color: #ff0000; font-style: italic\">False</span>                                        <a href=\"file:///Users/satyamtiwary/Documents/Python-Things/OpenOligo/openoligo/driver/board.py\" target=\"_blank\"><span style=\"color: #7f7f7f; text-decoration-color: #7f7f7f\">board.py</span></a><span style=\"color: #7f7f7f; text-decoration-color: #7f7f7f\">:</span><a href=\"file:///Users/satyamtiwary/Documents/Python-Things/OpenOligo/openoligo/driver/board.py#45\" target=\"_blank\"><span style=\"color: #7f7f7f; text-decoration-color: #7f7f7f\">45</span></a>\n",
              "</pre>\n"
            ],
            "text/plain": [
              "\u001b[2;36m          \u001b[0m\u001b[2;36m \u001b[0m\u001b[32mDEBUG   \u001b[0m \u001b[1m<\u001b[0m\u001b[1;95mboard.py:\u001b[0m\u001b[1;36m45\u001b[0m\u001b[1m>\u001b[0m Setting pin Board.P36 to \u001b[3;91mFalse\u001b[0m                                        \u001b]8;id=446275;file:///Users/satyamtiwary/Documents/Python-Things/OpenOligo/openoligo/driver/board.py\u001b\\\u001b[2mboard.py\u001b[0m\u001b]8;;\u001b\\\u001b[2m:\u001b[0m\u001b]8;id=578149;file:///Users/satyamtiwary/Documents/Python-Things/OpenOligo/openoligo/driver/board.py#45\u001b\\\u001b[2m45\u001b[0m\u001b]8;;\u001b\\\n"
            ]
          },
          "metadata": {},
          "output_type": "display_data"
        },
        {
          "data": {
            "text/html": [
              "<pre style=\"white-space:pre;overflow-x:auto;line-height:normal;font-family:Menlo,'DejaVu Sans Mono',consolas,'Courier New',monospace\"><span style=\"color: #7fbfbf; text-decoration-color: #7fbfbf\">           </span><span style=\"color: #008000; text-decoration-color: #008000\">DEBUG   </span> <span style=\"font-weight: bold\">&lt;</span><span style=\"color: #ff00ff; text-decoration-color: #ff00ff; font-weight: bold\">board.py:</span><span style=\"color: #008080; text-decoration-color: #008080; font-weight: bold\">45</span><span style=\"font-weight: bold\">&gt;</span> Setting pin Board.P37 to <span style=\"color: #ff0000; text-decoration-color: #ff0000; font-style: italic\">False</span>                                        <a href=\"file:///Users/satyamtiwary/Documents/Python-Things/OpenOligo/openoligo/driver/board.py\" target=\"_blank\"><span style=\"color: #7f7f7f; text-decoration-color: #7f7f7f\">board.py</span></a><span style=\"color: #7f7f7f; text-decoration-color: #7f7f7f\">:</span><a href=\"file:///Users/satyamtiwary/Documents/Python-Things/OpenOligo/openoligo/driver/board.py#45\" target=\"_blank\"><span style=\"color: #7f7f7f; text-decoration-color: #7f7f7f\">45</span></a>\n",
              "</pre>\n"
            ],
            "text/plain": [
              "\u001b[2;36m          \u001b[0m\u001b[2;36m \u001b[0m\u001b[32mDEBUG   \u001b[0m \u001b[1m<\u001b[0m\u001b[1;95mboard.py:\u001b[0m\u001b[1;36m45\u001b[0m\u001b[1m>\u001b[0m Setting pin Board.P37 to \u001b[3;91mFalse\u001b[0m                                        \u001b]8;id=140712;file:///Users/satyamtiwary/Documents/Python-Things/OpenOligo/openoligo/driver/board.py\u001b\\\u001b[2mboard.py\u001b[0m\u001b]8;;\u001b\\\u001b[2m:\u001b[0m\u001b]8;id=167395;file:///Users/satyamtiwary/Documents/Python-Things/OpenOligo/openoligo/driver/board.py#45\u001b\\\u001b[2m45\u001b[0m\u001b]8;;\u001b\\\n"
            ]
          },
          "metadata": {},
          "output_type": "display_data"
        },
        {
          "data": {
            "text/html": [
              "<pre style=\"white-space:pre;overflow-x:auto;line-height:normal;font-family:Menlo,'DejaVu Sans Mono',consolas,'Courier New',monospace\"><span style=\"color: #7fbfbf; text-decoration-color: #7fbfbf\">           </span><span style=\"color: #008000; text-decoration-color: #008000\">DEBUG   </span> <span style=\"font-weight: bold\">&lt;</span><span style=\"color: #ff00ff; text-decoration-color: #ff00ff; font-weight: bold\">board.py:</span><span style=\"color: #008080; text-decoration-color: #008080; font-weight: bold\">45</span><span style=\"font-weight: bold\">&gt;</span> Setting pin Board.P38 to <span style=\"color: #ff0000; text-decoration-color: #ff0000; font-style: italic\">False</span>                                        <a href=\"file:///Users/satyamtiwary/Documents/Python-Things/OpenOligo/openoligo/driver/board.py\" target=\"_blank\"><span style=\"color: #7f7f7f; text-decoration-color: #7f7f7f\">board.py</span></a><span style=\"color: #7f7f7f; text-decoration-color: #7f7f7f\">:</span><a href=\"file:///Users/satyamtiwary/Documents/Python-Things/OpenOligo/openoligo/driver/board.py#45\" target=\"_blank\"><span style=\"color: #7f7f7f; text-decoration-color: #7f7f7f\">45</span></a>\n",
              "</pre>\n"
            ],
            "text/plain": [
              "\u001b[2;36m          \u001b[0m\u001b[2;36m \u001b[0m\u001b[32mDEBUG   \u001b[0m \u001b[1m<\u001b[0m\u001b[1;95mboard.py:\u001b[0m\u001b[1;36m45\u001b[0m\u001b[1m>\u001b[0m Setting pin Board.P38 to \u001b[3;91mFalse\u001b[0m                                        \u001b]8;id=181926;file:///Users/satyamtiwary/Documents/Python-Things/OpenOligo/openoligo/driver/board.py\u001b\\\u001b[2mboard.py\u001b[0m\u001b]8;;\u001b\\\u001b[2m:\u001b[0m\u001b]8;id=701316;file:///Users/satyamtiwary/Documents/Python-Things/OpenOligo/openoligo/driver/board.py#45\u001b\\\u001b[2m45\u001b[0m\u001b]8;;\u001b\\\n"
            ]
          },
          "metadata": {},
          "output_type": "display_data"
        },
        {
          "data": {
            "text/html": [
              "<pre style=\"white-space:pre;overflow-x:auto;line-height:normal;font-family:Menlo,'DejaVu Sans Mono',consolas,'Courier New',monospace\"><span style=\"color: #7fbfbf; text-decoration-color: #7fbfbf\">           </span><span style=\"color: #008000; text-decoration-color: #008000\">DEBUG   </span> <span style=\"font-weight: bold\">&lt;</span><span style=\"color: #ff00ff; text-decoration-color: #ff00ff; font-weight: bold\">board.py:</span><span style=\"color: #008080; text-decoration-color: #008080; font-weight: bold\">45</span><span style=\"font-weight: bold\">&gt;</span> Setting pin Board.P40 to <span style=\"color: #ff0000; text-decoration-color: #ff0000; font-style: italic\">False</span>                                        <a href=\"file:///Users/satyamtiwary/Documents/Python-Things/OpenOligo/openoligo/driver/board.py\" target=\"_blank\"><span style=\"color: #7f7f7f; text-decoration-color: #7f7f7f\">board.py</span></a><span style=\"color: #7f7f7f; text-decoration-color: #7f7f7f\">:</span><a href=\"file:///Users/satyamtiwary/Documents/Python-Things/OpenOligo/openoligo/driver/board.py#45\" target=\"_blank\"><span style=\"color: #7f7f7f; text-decoration-color: #7f7f7f\">45</span></a>\n",
              "</pre>\n"
            ],
            "text/plain": [
              "\u001b[2;36m          \u001b[0m\u001b[2;36m \u001b[0m\u001b[32mDEBUG   \u001b[0m \u001b[1m<\u001b[0m\u001b[1;95mboard.py:\u001b[0m\u001b[1;36m45\u001b[0m\u001b[1m>\u001b[0m Setting pin Board.P40 to \u001b[3;91mFalse\u001b[0m                                        \u001b]8;id=419540;file:///Users/satyamtiwary/Documents/Python-Things/OpenOligo/openoligo/driver/board.py\u001b\\\u001b[2mboard.py\u001b[0m\u001b]8;;\u001b\\\u001b[2m:\u001b[0m\u001b]8;id=126855;file:///Users/satyamtiwary/Documents/Python-Things/OpenOligo/openoligo/driver/board.py#45\u001b\\\u001b[2m45\u001b[0m\u001b]8;;\u001b\\\n"
            ]
          },
          "metadata": {},
          "output_type": "display_data"
        }
      ],
      "source": [
        "from openoligo import Board, Board\n",
        "\n",
        "with Board() as b:\n",
        "    b.set(Board.P3,  True)\n",
        "    b.set(Board.P10, True)\n",
        "    b.set(Board.P27, True)"
      ]
    },
    {
      "attachments": {},
      "cell_type": "markdown",
      "id": "9f6c6cda-ac06-4fc5-8486-5c5560cd6364",
      "metadata": {},
      "source": [
        "# Intent First API (API v3)\n",
        "\n",
        "## Rules\n",
        "- API around high level intent (take reagent x to reaction chamber, clean the entire chip, etc.)"
      ]
    },
    {
      "cell_type": "code",
      "execution_count": 3,
      "id": "ac03d7ab-7b23-4bd5-a7c9-06f3a0b36bca",
      "metadata": {},
      "outputs": [],
      "source": [
        "from openoligo.utils import wait\n",
        "from openoligo.steps.flow import solvent_wash_all, dry_all"
      ]
    },
    {
      "attachments": {},
      "cell_type": "markdown",
      "id": "c41bbf86-f1ba-4752-bfd7-493d0639e04a",
      "metadata": {},
      "source": [
        "## We can define our own reaction steps\n",
        "\n",
        "Define custom steps using `send_to_reactor()` and `wait()`.\n",
        "\n",
        "- `send_to_reactor(REAGENT NAME)`: send a reagent to the reaction well\n",
        "- `wait(DURATION)`: define the residence time"
      ]
    },
    {
      "cell_type": "code",
      "execution_count": 4,
      "id": "840c05a7-4e0b-4c7a-b3ca-964e49ea0421",
      "metadata": {},
      "outputs": [],
      "source": [
        "def detritylate() -> None:\n",
        "    print(\"Add 3% trichloroacetic acid in dichloromethane to the reactor\")\n",
        "    # send_to_reactor(\"3% trichloroacetic acid in dichloromethane\")\n",
        "    wait(1)\n",
        "\n",
        "def activate() -> None:\n",
        "    print(\"Add 0.1 M phosphoramidite monomer and 0.5 M tetrazole to the reactor\")\n",
        "    # send_to_reactor(\"0.1 M phosphoramidite monomer and 0.5 M tetrazole in acetonitrile\")\n",
        "    wait(1)\n",
        "\n",
        "def cap() -> None:\n",
        "    print(\"Add acetic anhydride/pyridine/THF and N-methyl imidazole to the reactor\")\n",
        "    # send_to_reactor(\"acetic anhydride/pyridine/THF and N-methyl imidazole\")\n",
        "    wait(1)\n",
        "\n",
        "def oxidize() -> None:\n",
        "    print(\"Add 0.015 M iodine in water/pyridine/THF to the reactor\")\n",
        "    # send_to_reactor(\"Oxidizing the DNA sequence\")\n",
        "    wait(1)\n",
        "\n",
        "def cleave() -> None:\n",
        "    print(\"Cleaving the DNA sequence from the solid support\")\n",
        "    # send_to_reactor(\"Cleaving the DNA sequence from the solid support\")\n",
        "    wait(1)\n",
        "\n",
        "def deprotect() -> None:\n",
        "    print(\"Removing protecting groups from the DNA sequence\")\n",
        "    # send_to_reactor(\"Removing protecting groups from the DNA sequence\")\n",
        "    wait(1)"
      ]
    },
    {
      "cell_type": "code",
      "execution_count": 5,
      "id": "a96804aa-ba47-4eb5-95c7-c23b1351ee16",
      "metadata": {},
      "outputs": [],
      "source": [
        "from Bio.Seq import Seq\n",
        "from tqdm import tqdm"
      ]
    },
    {
      "cell_type": "code",
      "execution_count": 6,
      "id": "399422dc-c808-47da-9f8a-3ef7aa73d272",
      "metadata": {},
      "outputs": [],
      "source": [
        "def synthesize(seq: Seq) -> None:\n",
        "    print(\"Initiating synthesis of DNA sequence: '%s'\", seq)\n",
        "    with tqdm(total=len(seq) + 2) as pbar:\n",
        "        solvent_wash_all()\n",
        "        dry_all()\n",
        "\n",
        "        pbar.update(1)\n",
        "\n",
        "        for base_index, base in enumerate(seq):\n",
        "            print(\"Adding {}th base '{}' to growing DNA strand\".format(base_index, base))\n",
        "\n",
        "            detritylate()\n",
        "            solvent_wash_all()\n",
        "            dry_all()\n",
        "\n",
        "            activate()\n",
        "            solvent_wash_all()\n",
        "            dry_all()\n",
        "            \n",
        "            cap()\n",
        "            solvent_wash_all()\n",
        "            dry_all()\n",
        "\n",
        "            oxidize()\n",
        "\n",
        "            solvent_wash_all()\n",
        "            dry_all()\n",
        "            pbar.update(1)\n",
        "            wait(1)\n",
        "        cleave()\n",
        "        deprotect()\n",
        "        pbar.update(1)\n",
        "    print(\"Synthesis complete for DNA sequence: '{}'\".format(seq))"
      ]
    },
    {
      "attachments": {},
      "cell_type": "markdown",
      "id": "33eddeff-faf9-4cd8-962a-544e4d4d42b5",
      "metadata": {},
      "source": [
        "Finally we can use our function (the entire reaction procedure) using a simple function call."
      ]
    },
    {
      "cell_type": "code",
      "execution_count": 8,
      "id": "e9900cb6-691e-45d5-a827-9a6c05c759b6",
      "metadata": {},
      "outputs": [],
      "source": [
        "import os\n",
        "os.environ[\"OO_LOG_LEVEL\"] = \"INFO\""
      ]
    },
    {
      "cell_type": "code",
      "execution_count": null,
      "id": "148b5821-5253-4b38-ae80-0f98d7be00ec",
      "metadata": {
        "scrolled": true
      },
      "outputs": [
        {
          "name": "stdout",
          "output_type": "stream",
          "text": [
            "Initiating synthesis of DNA sequence: '%s' GATCATT\n"
          ]
        },
        {
          "name": "stderr",
          "output_type": "stream",
          "text": [
            "  0%|                                                                                 | 0/9 [00:00<?, ?it/s]"
          ]
        },
        {
          "data": {
            "text/html": [
              "<pre style=\"white-space:pre;overflow-x:auto;line-height:normal;font-family:Menlo,'DejaVu Sans Mono',consolas,'Courier New',monospace\"><span style=\"color: #7fbfbf; text-decoration-color: #7fbfbf\">[18:13:46] </span><span style=\"color: #008000; text-decoration-color: #008000\">DEBUG   </span> <span style=\"font-weight: bold\">&lt;</span><span style=\"color: #ff00ff; text-decoration-color: #ff00ff; font-weight: bold\">flow.py:</span><span style=\"color: #008080; text-decoration-color: #008080; font-weight: bold\">44</span><span style=\"font-weight: bold\">&gt;</span> Washing flow branch FlowBranch.REACTION with solvent                    <a href=\"file:///Users/satyamtiwary/Documents/Python-Things/OpenOligo/openoligo/steps/flow.py\" target=\"_blank\"><span style=\"color: #7f7f7f; text-decoration-color: #7f7f7f\">flow.py</span></a><span style=\"color: #7f7f7f; text-decoration-color: #7f7f7f\">:</span><a href=\"file:///Users/satyamtiwary/Documents/Python-Things/OpenOligo/openoligo/steps/flow.py#44\" target=\"_blank\"><span style=\"color: #7f7f7f; text-decoration-color: #7f7f7f\">44</span></a>\n",
              "</pre>\n"
            ],
            "text/plain": [
              "\u001b[2;36m[18:13:46]\u001b[0m\u001b[2;36m \u001b[0m\u001b[32mDEBUG   \u001b[0m \u001b[1m<\u001b[0m\u001b[1;95mflow.py:\u001b[0m\u001b[1;36m44\u001b[0m\u001b[1m>\u001b[0m Washing flow branch FlowBranch.REACTION with solvent                    \u001b]8;id=498685;file:///Users/satyamtiwary/Documents/Python-Things/OpenOligo/openoligo/steps/flow.py\u001b\\\u001b[2mflow.py\u001b[0m\u001b]8;;\u001b\\\u001b[2m:\u001b[0m\u001b]8;id=388157;file:///Users/satyamtiwary/Documents/Python-Things/OpenOligo/openoligo/steps/flow.py#44\u001b\\\u001b[2m44\u001b[0m\u001b]8;;\u001b\\\n"
            ]
          },
          "metadata": {},
          "output_type": "display_data"
        },
        {
          "data": {
            "text/html": [
              "<pre style=\"white-space:pre;overflow-x:auto;line-height:normal;font-family:Menlo,'DejaVu Sans Mono',consolas,'Courier New',monospace\"><span style=\"color: #7fbfbf; text-decoration-color: #7fbfbf\">           </span><span style=\"color: #008000; text-decoration-color: #008000\">DEBUG   </span> <span style=\"font-weight: bold\">&lt;</span><span style=\"color: #ff00ff; text-decoration-color: #ff00ff; font-weight: bold\">flow.py:</span><span style=\"color: #008080; text-decoration-color: #008080; font-weight: bold\">44</span><span style=\"font-weight: bold\">&gt;</span> Washing flow branch FlowBranch.REAGENTS with solvent                    <a href=\"file:///Users/satyamtiwary/Documents/Python-Things/OpenOligo/openoligo/steps/flow.py\" target=\"_blank\"><span style=\"color: #7f7f7f; text-decoration-color: #7f7f7f\">flow.py</span></a><span style=\"color: #7f7f7f; text-decoration-color: #7f7f7f\">:</span><a href=\"file:///Users/satyamtiwary/Documents/Python-Things/OpenOligo/openoligo/steps/flow.py#44\" target=\"_blank\"><span style=\"color: #7f7f7f; text-decoration-color: #7f7f7f\">44</span></a>\n",
              "</pre>\n"
            ],
            "text/plain": [
              "\u001b[2;36m          \u001b[0m\u001b[2;36m \u001b[0m\u001b[32mDEBUG   \u001b[0m \u001b[1m<\u001b[0m\u001b[1;95mflow.py:\u001b[0m\u001b[1;36m44\u001b[0m\u001b[1m>\u001b[0m Washing flow branch FlowBranch.REAGENTS with solvent                    \u001b]8;id=810152;file:///Users/satyamtiwary/Documents/Python-Things/OpenOligo/openoligo/steps/flow.py\u001b\\\u001b[2mflow.py\u001b[0m\u001b]8;;\u001b\\\u001b[2m:\u001b[0m\u001b]8;id=216067;file:///Users/satyamtiwary/Documents/Python-Things/OpenOligo/openoligo/steps/flow.py#44\u001b\\\u001b[2m44\u001b[0m\u001b]8;;\u001b\\\n"
            ]
          },
          "metadata": {},
          "output_type": "display_data"
        },
        {
          "data": {
            "text/html": [
              "<pre style=\"white-space:pre;overflow-x:auto;line-height:normal;font-family:Menlo,'DejaVu Sans Mono',consolas,'Courier New',monospace\"><span style=\"color: #7fbfbf; text-decoration-color: #7fbfbf\">           </span><span style=\"color: #008000; text-decoration-color: #008000\">DEBUG   </span> <span style=\"font-weight: bold\">&lt;</span><span style=\"color: #ff00ff; text-decoration-color: #ff00ff; font-weight: bold\">flow.py:</span><span style=\"color: #008080; text-decoration-color: #008080; font-weight: bold\">65</span><span style=\"font-weight: bold\">&gt;</span> Drying flow branch FlowBranch.REACTION                                  <a href=\"file:///Users/satyamtiwary/Documents/Python-Things/OpenOligo/openoligo/steps/flow.py\" target=\"_blank\"><span style=\"color: #7f7f7f; text-decoration-color: #7f7f7f\">flow.py</span></a><span style=\"color: #7f7f7f; text-decoration-color: #7f7f7f\">:</span><a href=\"file:///Users/satyamtiwary/Documents/Python-Things/OpenOligo/openoligo/steps/flow.py#65\" target=\"_blank\"><span style=\"color: #7f7f7f; text-decoration-color: #7f7f7f\">65</span></a>\n",
              "</pre>\n"
            ],
            "text/plain": [
              "\u001b[2;36m          \u001b[0m\u001b[2;36m \u001b[0m\u001b[32mDEBUG   \u001b[0m \u001b[1m<\u001b[0m\u001b[1;95mflow.py:\u001b[0m\u001b[1;36m65\u001b[0m\u001b[1m>\u001b[0m Drying flow branch FlowBranch.REACTION                                  \u001b]8;id=932539;file:///Users/satyamtiwary/Documents/Python-Things/OpenOligo/openoligo/steps/flow.py\u001b\\\u001b[2mflow.py\u001b[0m\u001b]8;;\u001b\\\u001b[2m:\u001b[0m\u001b]8;id=963108;file:///Users/satyamtiwary/Documents/Python-Things/OpenOligo/openoligo/steps/flow.py#65\u001b\\\u001b[2m65\u001b[0m\u001b]8;;\u001b\\\n"
            ]
          },
          "metadata": {},
          "output_type": "display_data"
        },
        {
          "data": {
            "text/html": [
              "<pre style=\"white-space:pre;overflow-x:auto;line-height:normal;font-family:Menlo,'DejaVu Sans Mono',consolas,'Courier New',monospace\"><span style=\"color: #7fbfbf; text-decoration-color: #7fbfbf\">           </span><span style=\"color: #008000; text-decoration-color: #008000\">DEBUG   </span> <span style=\"font-weight: bold\">&lt;</span><span style=\"color: #ff00ff; text-decoration-color: #ff00ff; font-weight: bold\">flow.py:</span><span style=\"color: #008080; text-decoration-color: #008080; font-weight: bold\">65</span><span style=\"font-weight: bold\">&gt;</span> Drying flow branch FlowBranch.REAGENTS                                  <a href=\"file:///Users/satyamtiwary/Documents/Python-Things/OpenOligo/openoligo/steps/flow.py\" target=\"_blank\"><span style=\"color: #7f7f7f; text-decoration-color: #7f7f7f\">flow.py</span></a><span style=\"color: #7f7f7f; text-decoration-color: #7f7f7f\">:</span><a href=\"file:///Users/satyamtiwary/Documents/Python-Things/OpenOligo/openoligo/steps/flow.py#65\" target=\"_blank\"><span style=\"color: #7f7f7f; text-decoration-color: #7f7f7f\">65</span></a>\n",
              "</pre>\n"
            ],
            "text/plain": [
              "\u001b[2;36m          \u001b[0m\u001b[2;36m \u001b[0m\u001b[32mDEBUG   \u001b[0m \u001b[1m<\u001b[0m\u001b[1;95mflow.py:\u001b[0m\u001b[1;36m65\u001b[0m\u001b[1m>\u001b[0m Drying flow branch FlowBranch.REAGENTS                                  \u001b]8;id=550925;file:///Users/satyamtiwary/Documents/Python-Things/OpenOligo/openoligo/steps/flow.py\u001b\\\u001b[2mflow.py\u001b[0m\u001b]8;;\u001b\\\u001b[2m:\u001b[0m\u001b]8;id=112286;file:///Users/satyamtiwary/Documents/Python-Things/OpenOligo/openoligo/steps/flow.py#65\u001b\\\u001b[2m65\u001b[0m\u001b]8;;\u001b\\\n"
            ]
          },
          "metadata": {},
          "output_type": "display_data"
        },
        {
          "name": "stdout",
          "output_type": "stream",
          "text": [
            "Adding 0th base 'G' to growing DNA strand\n",
            "Add 3% trichloroacetic acid in dichloromethane to the reactor\n"
          ]
        },
        {
          "data": {
            "text/html": [
              "<pre style=\"white-space:pre;overflow-x:auto;line-height:normal;font-family:Menlo,'DejaVu Sans Mono',consolas,'Courier New',monospace\"><span style=\"color: #7fbfbf; text-decoration-color: #7fbfbf\">           </span><span style=\"color: #008000; text-decoration-color: #008000\">DEBUG   </span> <span style=\"font-weight: bold\">&lt;</span><span style=\"color: #ff00ff; text-decoration-color: #ff00ff; font-weight: bold\">wait.py:</span><span style=\"color: #008080; text-decoration-color: #008080; font-weight: bold\">11</span><span style=\"font-weight: bold\">&gt;</span> Start waiting for <span style=\"color: #008080; text-decoration-color: #008080; font-weight: bold\">1.00</span> seconds                                          <a href=\"file:///Users/satyamtiwary/Documents/Python-Things/OpenOligo/openoligo/utils/wait.py\" target=\"_blank\"><span style=\"color: #7f7f7f; text-decoration-color: #7f7f7f\">wait.py</span></a><span style=\"color: #7f7f7f; text-decoration-color: #7f7f7f\">:</span><a href=\"file:///Users/satyamtiwary/Documents/Python-Things/OpenOligo/openoligo/utils/wait.py#11\" target=\"_blank\"><span style=\"color: #7f7f7f; text-decoration-color: #7f7f7f\">11</span></a>\n",
              "</pre>\n"
            ],
            "text/plain": [
              "\u001b[2;36m          \u001b[0m\u001b[2;36m \u001b[0m\u001b[32mDEBUG   \u001b[0m \u001b[1m<\u001b[0m\u001b[1;95mwait.py:\u001b[0m\u001b[1;36m11\u001b[0m\u001b[1m>\u001b[0m Start waiting for \u001b[1;36m1.00\u001b[0m seconds                                          \u001b]8;id=850849;file:///Users/satyamtiwary/Documents/Python-Things/OpenOligo/openoligo/utils/wait.py\u001b\\\u001b[2mwait.py\u001b[0m\u001b]8;;\u001b\\\u001b[2m:\u001b[0m\u001b]8;id=283408;file:///Users/satyamtiwary/Documents/Python-Things/OpenOligo/openoligo/utils/wait.py#11\u001b\\\u001b[2m11\u001b[0m\u001b]8;;\u001b\\\n"
            ]
          },
          "metadata": {},
          "output_type": "display_data"
        },
        {
          "data": {
            "text/html": [
              "<pre style=\"white-space:pre;overflow-x:auto;line-height:normal;font-family:Menlo,'DejaVu Sans Mono',consolas,'Courier New',monospace\"><span style=\"color: #7fbfbf; text-decoration-color: #7fbfbf\">[18:13:47] </span><span style=\"color: #008000; text-decoration-color: #008000\">DEBUG   </span> <span style=\"font-weight: bold\">&lt;</span><span style=\"color: #ff00ff; text-decoration-color: #ff00ff; font-weight: bold\">wait.py:</span><span style=\"color: #008080; text-decoration-color: #008080; font-weight: bold\">13</span><span style=\"font-weight: bold\">&gt;</span> Done waiting for <span style=\"color: #008080; text-decoration-color: #008080; font-weight: bold\">1.00</span> seconds                                           <a href=\"file:///Users/satyamtiwary/Documents/Python-Things/OpenOligo/openoligo/utils/wait.py\" target=\"_blank\"><span style=\"color: #7f7f7f; text-decoration-color: #7f7f7f\">wait.py</span></a><span style=\"color: #7f7f7f; text-decoration-color: #7f7f7f\">:</span><a href=\"file:///Users/satyamtiwary/Documents/Python-Things/OpenOligo/openoligo/utils/wait.py#13\" target=\"_blank\"><span style=\"color: #7f7f7f; text-decoration-color: #7f7f7f\">13</span></a>\n",
              "</pre>\n"
            ],
            "text/plain": [
              "\u001b[2;36m[18:13:47]\u001b[0m\u001b[2;36m \u001b[0m\u001b[32mDEBUG   \u001b[0m \u001b[1m<\u001b[0m\u001b[1;95mwait.py:\u001b[0m\u001b[1;36m13\u001b[0m\u001b[1m>\u001b[0m Done waiting for \u001b[1;36m1.00\u001b[0m seconds                                           \u001b]8;id=801257;file:///Users/satyamtiwary/Documents/Python-Things/OpenOligo/openoligo/utils/wait.py\u001b\\\u001b[2mwait.py\u001b[0m\u001b]8;;\u001b\\\u001b[2m:\u001b[0m\u001b]8;id=944725;file:///Users/satyamtiwary/Documents/Python-Things/OpenOligo/openoligo/utils/wait.py#13\u001b\\\u001b[2m13\u001b[0m\u001b]8;;\u001b\\\n"
            ]
          },
          "metadata": {},
          "output_type": "display_data"
        },
        {
          "data": {
            "text/html": [
              "<pre style=\"white-space:pre;overflow-x:auto;line-height:normal;font-family:Menlo,'DejaVu Sans Mono',consolas,'Courier New',monospace\"><span style=\"color: #7fbfbf; text-decoration-color: #7fbfbf\">           </span><span style=\"color: #008000; text-decoration-color: #008000\">DEBUG   </span> <span style=\"font-weight: bold\">&lt;</span><span style=\"color: #ff00ff; text-decoration-color: #ff00ff; font-weight: bold\">flow.py:</span><span style=\"color: #008080; text-decoration-color: #008080; font-weight: bold\">44</span><span style=\"font-weight: bold\">&gt;</span> Washing flow branch FlowBranch.REACTION with solvent                    <a href=\"file:///Users/satyamtiwary/Documents/Python-Things/OpenOligo/openoligo/steps/flow.py\" target=\"_blank\"><span style=\"color: #7f7f7f; text-decoration-color: #7f7f7f\">flow.py</span></a><span style=\"color: #7f7f7f; text-decoration-color: #7f7f7f\">:</span><a href=\"file:///Users/satyamtiwary/Documents/Python-Things/OpenOligo/openoligo/steps/flow.py#44\" target=\"_blank\"><span style=\"color: #7f7f7f; text-decoration-color: #7f7f7f\">44</span></a>\n",
              "</pre>\n"
            ],
            "text/plain": [
              "\u001b[2;36m          \u001b[0m\u001b[2;36m \u001b[0m\u001b[32mDEBUG   \u001b[0m \u001b[1m<\u001b[0m\u001b[1;95mflow.py:\u001b[0m\u001b[1;36m44\u001b[0m\u001b[1m>\u001b[0m Washing flow branch FlowBranch.REACTION with solvent                    \u001b]8;id=581649;file:///Users/satyamtiwary/Documents/Python-Things/OpenOligo/openoligo/steps/flow.py\u001b\\\u001b[2mflow.py\u001b[0m\u001b]8;;\u001b\\\u001b[2m:\u001b[0m\u001b]8;id=692740;file:///Users/satyamtiwary/Documents/Python-Things/OpenOligo/openoligo/steps/flow.py#44\u001b\\\u001b[2m44\u001b[0m\u001b]8;;\u001b\\\n"
            ]
          },
          "metadata": {},
          "output_type": "display_data"
        },
        {
          "data": {
            "text/html": [
              "<pre style=\"white-space:pre;overflow-x:auto;line-height:normal;font-family:Menlo,'DejaVu Sans Mono',consolas,'Courier New',monospace\"><span style=\"color: #7fbfbf; text-decoration-color: #7fbfbf\">           </span><span style=\"color: #008000; text-decoration-color: #008000\">DEBUG   </span> <span style=\"font-weight: bold\">&lt;</span><span style=\"color: #ff00ff; text-decoration-color: #ff00ff; font-weight: bold\">flow.py:</span><span style=\"color: #008080; text-decoration-color: #008080; font-weight: bold\">44</span><span style=\"font-weight: bold\">&gt;</span> Washing flow branch FlowBranch.REAGENTS with solvent                    <a href=\"file:///Users/satyamtiwary/Documents/Python-Things/OpenOligo/openoligo/steps/flow.py\" target=\"_blank\"><span style=\"color: #7f7f7f; text-decoration-color: #7f7f7f\">flow.py</span></a><span style=\"color: #7f7f7f; text-decoration-color: #7f7f7f\">:</span><a href=\"file:///Users/satyamtiwary/Documents/Python-Things/OpenOligo/openoligo/steps/flow.py#44\" target=\"_blank\"><span style=\"color: #7f7f7f; text-decoration-color: #7f7f7f\">44</span></a>\n",
              "</pre>\n"
            ],
            "text/plain": [
              "\u001b[2;36m          \u001b[0m\u001b[2;36m \u001b[0m\u001b[32mDEBUG   \u001b[0m \u001b[1m<\u001b[0m\u001b[1;95mflow.py:\u001b[0m\u001b[1;36m44\u001b[0m\u001b[1m>\u001b[0m Washing flow branch FlowBranch.REAGENTS with solvent                    \u001b]8;id=951105;file:///Users/satyamtiwary/Documents/Python-Things/OpenOligo/openoligo/steps/flow.py\u001b\\\u001b[2mflow.py\u001b[0m\u001b]8;;\u001b\\\u001b[2m:\u001b[0m\u001b]8;id=229788;file:///Users/satyamtiwary/Documents/Python-Things/OpenOligo/openoligo/steps/flow.py#44\u001b\\\u001b[2m44\u001b[0m\u001b]8;;\u001b\\\n"
            ]
          },
          "metadata": {},
          "output_type": "display_data"
        },
        {
          "data": {
            "text/html": [
              "<pre style=\"white-space:pre;overflow-x:auto;line-height:normal;font-family:Menlo,'DejaVu Sans Mono',consolas,'Courier New',monospace\"><span style=\"color: #7fbfbf; text-decoration-color: #7fbfbf\">           </span><span style=\"color: #008000; text-decoration-color: #008000\">DEBUG   </span> <span style=\"font-weight: bold\">&lt;</span><span style=\"color: #ff00ff; text-decoration-color: #ff00ff; font-weight: bold\">flow.py:</span><span style=\"color: #008080; text-decoration-color: #008080; font-weight: bold\">65</span><span style=\"font-weight: bold\">&gt;</span> Drying flow branch FlowBranch.REACTION                                  <a href=\"file:///Users/satyamtiwary/Documents/Python-Things/OpenOligo/openoligo/steps/flow.py\" target=\"_blank\"><span style=\"color: #7f7f7f; text-decoration-color: #7f7f7f\">flow.py</span></a><span style=\"color: #7f7f7f; text-decoration-color: #7f7f7f\">:</span><a href=\"file:///Users/satyamtiwary/Documents/Python-Things/OpenOligo/openoligo/steps/flow.py#65\" target=\"_blank\"><span style=\"color: #7f7f7f; text-decoration-color: #7f7f7f\">65</span></a>\n",
              "</pre>\n"
            ],
            "text/plain": [
              "\u001b[2;36m          \u001b[0m\u001b[2;36m \u001b[0m\u001b[32mDEBUG   \u001b[0m \u001b[1m<\u001b[0m\u001b[1;95mflow.py:\u001b[0m\u001b[1;36m65\u001b[0m\u001b[1m>\u001b[0m Drying flow branch FlowBranch.REACTION                                  \u001b]8;id=616776;file:///Users/satyamtiwary/Documents/Python-Things/OpenOligo/openoligo/steps/flow.py\u001b\\\u001b[2mflow.py\u001b[0m\u001b]8;;\u001b\\\u001b[2m:\u001b[0m\u001b]8;id=392396;file:///Users/satyamtiwary/Documents/Python-Things/OpenOligo/openoligo/steps/flow.py#65\u001b\\\u001b[2m65\u001b[0m\u001b]8;;\u001b\\\n"
            ]
          },
          "metadata": {},
          "output_type": "display_data"
        },
        {
          "data": {
            "text/html": [
              "<pre style=\"white-space:pre;overflow-x:auto;line-height:normal;font-family:Menlo,'DejaVu Sans Mono',consolas,'Courier New',monospace\"><span style=\"color: #7fbfbf; text-decoration-color: #7fbfbf\">           </span><span style=\"color: #008000; text-decoration-color: #008000\">DEBUG   </span> <span style=\"font-weight: bold\">&lt;</span><span style=\"color: #ff00ff; text-decoration-color: #ff00ff; font-weight: bold\">flow.py:</span><span style=\"color: #008080; text-decoration-color: #008080; font-weight: bold\">65</span><span style=\"font-weight: bold\">&gt;</span> Drying flow branch FlowBranch.REAGENTS                                  <a href=\"file:///Users/satyamtiwary/Documents/Python-Things/OpenOligo/openoligo/steps/flow.py\" target=\"_blank\"><span style=\"color: #7f7f7f; text-decoration-color: #7f7f7f\">flow.py</span></a><span style=\"color: #7f7f7f; text-decoration-color: #7f7f7f\">:</span><a href=\"file:///Users/satyamtiwary/Documents/Python-Things/OpenOligo/openoligo/steps/flow.py#65\" target=\"_blank\"><span style=\"color: #7f7f7f; text-decoration-color: #7f7f7f\">65</span></a>\n",
              "</pre>\n"
            ],
            "text/plain": [
              "\u001b[2;36m          \u001b[0m\u001b[2;36m \u001b[0m\u001b[32mDEBUG   \u001b[0m \u001b[1m<\u001b[0m\u001b[1;95mflow.py:\u001b[0m\u001b[1;36m65\u001b[0m\u001b[1m>\u001b[0m Drying flow branch FlowBranch.REAGENTS                                  \u001b]8;id=582957;file:///Users/satyamtiwary/Documents/Python-Things/OpenOligo/openoligo/steps/flow.py\u001b\\\u001b[2mflow.py\u001b[0m\u001b]8;;\u001b\\\u001b[2m:\u001b[0m\u001b]8;id=454616;file:///Users/satyamtiwary/Documents/Python-Things/OpenOligo/openoligo/steps/flow.py#65\u001b\\\u001b[2m65\u001b[0m\u001b]8;;\u001b\\\n"
            ]
          },
          "metadata": {},
          "output_type": "display_data"
        },
        {
          "name": "stdout",
          "output_type": "stream",
          "text": [
            "Add 0.1 M phosphoramidite monomer and 0.5 M tetrazole to the reactor\n"
          ]
        },
        {
          "data": {
            "text/html": [
              "<pre style=\"white-space:pre;overflow-x:auto;line-height:normal;font-family:Menlo,'DejaVu Sans Mono',consolas,'Courier New',monospace\"><span style=\"color: #7fbfbf; text-decoration-color: #7fbfbf\">           </span><span style=\"color: #008000; text-decoration-color: #008000\">DEBUG   </span> <span style=\"font-weight: bold\">&lt;</span><span style=\"color: #ff00ff; text-decoration-color: #ff00ff; font-weight: bold\">wait.py:</span><span style=\"color: #008080; text-decoration-color: #008080; font-weight: bold\">11</span><span style=\"font-weight: bold\">&gt;</span> Start waiting for <span style=\"color: #008080; text-decoration-color: #008080; font-weight: bold\">1.00</span> seconds                                          <a href=\"file:///Users/satyamtiwary/Documents/Python-Things/OpenOligo/openoligo/utils/wait.py\" target=\"_blank\"><span style=\"color: #7f7f7f; text-decoration-color: #7f7f7f\">wait.py</span></a><span style=\"color: #7f7f7f; text-decoration-color: #7f7f7f\">:</span><a href=\"file:///Users/satyamtiwary/Documents/Python-Things/OpenOligo/openoligo/utils/wait.py#11\" target=\"_blank\"><span style=\"color: #7f7f7f; text-decoration-color: #7f7f7f\">11</span></a>\n",
              "</pre>\n"
            ],
            "text/plain": [
              "\u001b[2;36m          \u001b[0m\u001b[2;36m \u001b[0m\u001b[32mDEBUG   \u001b[0m \u001b[1m<\u001b[0m\u001b[1;95mwait.py:\u001b[0m\u001b[1;36m11\u001b[0m\u001b[1m>\u001b[0m Start waiting for \u001b[1;36m1.00\u001b[0m seconds                                          \u001b]8;id=256861;file:///Users/satyamtiwary/Documents/Python-Things/OpenOligo/openoligo/utils/wait.py\u001b\\\u001b[2mwait.py\u001b[0m\u001b]8;;\u001b\\\u001b[2m:\u001b[0m\u001b]8;id=929717;file:///Users/satyamtiwary/Documents/Python-Things/OpenOligo/openoligo/utils/wait.py#11\u001b\\\u001b[2m11\u001b[0m\u001b]8;;\u001b\\\n"
            ]
          },
          "metadata": {},
          "output_type": "display_data"
        },
        {
          "data": {
            "text/html": [
              "<pre style=\"white-space:pre;overflow-x:auto;line-height:normal;font-family:Menlo,'DejaVu Sans Mono',consolas,'Courier New',monospace\"><span style=\"color: #7fbfbf; text-decoration-color: #7fbfbf\">[18:13:48] </span><span style=\"color: #008000; text-decoration-color: #008000\">DEBUG   </span> <span style=\"font-weight: bold\">&lt;</span><span style=\"color: #ff00ff; text-decoration-color: #ff00ff; font-weight: bold\">wait.py:</span><span style=\"color: #008080; text-decoration-color: #008080; font-weight: bold\">13</span><span style=\"font-weight: bold\">&gt;</span> Done waiting for <span style=\"color: #008080; text-decoration-color: #008080; font-weight: bold\">1.00</span> seconds                                           <a href=\"file:///Users/satyamtiwary/Documents/Python-Things/OpenOligo/openoligo/utils/wait.py\" target=\"_blank\"><span style=\"color: #7f7f7f; text-decoration-color: #7f7f7f\">wait.py</span></a><span style=\"color: #7f7f7f; text-decoration-color: #7f7f7f\">:</span><a href=\"file:///Users/satyamtiwary/Documents/Python-Things/OpenOligo/openoligo/utils/wait.py#13\" target=\"_blank\"><span style=\"color: #7f7f7f; text-decoration-color: #7f7f7f\">13</span></a>\n",
              "</pre>\n"
            ],
            "text/plain": [
              "\u001b[2;36m[18:13:48]\u001b[0m\u001b[2;36m \u001b[0m\u001b[32mDEBUG   \u001b[0m \u001b[1m<\u001b[0m\u001b[1;95mwait.py:\u001b[0m\u001b[1;36m13\u001b[0m\u001b[1m>\u001b[0m Done waiting for \u001b[1;36m1.00\u001b[0m seconds                                           \u001b]8;id=666445;file:///Users/satyamtiwary/Documents/Python-Things/OpenOligo/openoligo/utils/wait.py\u001b\\\u001b[2mwait.py\u001b[0m\u001b]8;;\u001b\\\u001b[2m:\u001b[0m\u001b]8;id=978129;file:///Users/satyamtiwary/Documents/Python-Things/OpenOligo/openoligo/utils/wait.py#13\u001b\\\u001b[2m13\u001b[0m\u001b]8;;\u001b\\\n"
            ]
          },
          "metadata": {},
          "output_type": "display_data"
        },
        {
          "data": {
            "text/html": [
              "<pre style=\"white-space:pre;overflow-x:auto;line-height:normal;font-family:Menlo,'DejaVu Sans Mono',consolas,'Courier New',monospace\"><span style=\"color: #7fbfbf; text-decoration-color: #7fbfbf\">           </span><span style=\"color: #008000; text-decoration-color: #008000\">DEBUG   </span> <span style=\"font-weight: bold\">&lt;</span><span style=\"color: #ff00ff; text-decoration-color: #ff00ff; font-weight: bold\">flow.py:</span><span style=\"color: #008080; text-decoration-color: #008080; font-weight: bold\">44</span><span style=\"font-weight: bold\">&gt;</span> Washing flow branch FlowBranch.REACTION with solvent                    <a href=\"file:///Users/satyamtiwary/Documents/Python-Things/OpenOligo/openoligo/steps/flow.py\" target=\"_blank\"><span style=\"color: #7f7f7f; text-decoration-color: #7f7f7f\">flow.py</span></a><span style=\"color: #7f7f7f; text-decoration-color: #7f7f7f\">:</span><a href=\"file:///Users/satyamtiwary/Documents/Python-Things/OpenOligo/openoligo/steps/flow.py#44\" target=\"_blank\"><span style=\"color: #7f7f7f; text-decoration-color: #7f7f7f\">44</span></a>\n",
              "</pre>\n"
            ],
            "text/plain": [
              "\u001b[2;36m          \u001b[0m\u001b[2;36m \u001b[0m\u001b[32mDEBUG   \u001b[0m \u001b[1m<\u001b[0m\u001b[1;95mflow.py:\u001b[0m\u001b[1;36m44\u001b[0m\u001b[1m>\u001b[0m Washing flow branch FlowBranch.REACTION with solvent                    \u001b]8;id=752992;file:///Users/satyamtiwary/Documents/Python-Things/OpenOligo/openoligo/steps/flow.py\u001b\\\u001b[2mflow.py\u001b[0m\u001b]8;;\u001b\\\u001b[2m:\u001b[0m\u001b]8;id=453536;file:///Users/satyamtiwary/Documents/Python-Things/OpenOligo/openoligo/steps/flow.py#44\u001b\\\u001b[2m44\u001b[0m\u001b]8;;\u001b\\\n"
            ]
          },
          "metadata": {},
          "output_type": "display_data"
        },
        {
          "data": {
            "text/html": [
              "<pre style=\"white-space:pre;overflow-x:auto;line-height:normal;font-family:Menlo,'DejaVu Sans Mono',consolas,'Courier New',monospace\"><span style=\"color: #7fbfbf; text-decoration-color: #7fbfbf\">           </span><span style=\"color: #008000; text-decoration-color: #008000\">DEBUG   </span> <span style=\"font-weight: bold\">&lt;</span><span style=\"color: #ff00ff; text-decoration-color: #ff00ff; font-weight: bold\">flow.py:</span><span style=\"color: #008080; text-decoration-color: #008080; font-weight: bold\">44</span><span style=\"font-weight: bold\">&gt;</span> Washing flow branch FlowBranch.REAGENTS with solvent                    <a href=\"file:///Users/satyamtiwary/Documents/Python-Things/OpenOligo/openoligo/steps/flow.py\" target=\"_blank\"><span style=\"color: #7f7f7f; text-decoration-color: #7f7f7f\">flow.py</span></a><span style=\"color: #7f7f7f; text-decoration-color: #7f7f7f\">:</span><a href=\"file:///Users/satyamtiwary/Documents/Python-Things/OpenOligo/openoligo/steps/flow.py#44\" target=\"_blank\"><span style=\"color: #7f7f7f; text-decoration-color: #7f7f7f\">44</span></a>\n",
              "</pre>\n"
            ],
            "text/plain": [
              "\u001b[2;36m          \u001b[0m\u001b[2;36m \u001b[0m\u001b[32mDEBUG   \u001b[0m \u001b[1m<\u001b[0m\u001b[1;95mflow.py:\u001b[0m\u001b[1;36m44\u001b[0m\u001b[1m>\u001b[0m Washing flow branch FlowBranch.REAGENTS with solvent                    \u001b]8;id=721274;file:///Users/satyamtiwary/Documents/Python-Things/OpenOligo/openoligo/steps/flow.py\u001b\\\u001b[2mflow.py\u001b[0m\u001b]8;;\u001b\\\u001b[2m:\u001b[0m\u001b]8;id=679359;file:///Users/satyamtiwary/Documents/Python-Things/OpenOligo/openoligo/steps/flow.py#44\u001b\\\u001b[2m44\u001b[0m\u001b]8;;\u001b\\\n"
            ]
          },
          "metadata": {},
          "output_type": "display_data"
        },
        {
          "data": {
            "text/html": [
              "<pre style=\"white-space:pre;overflow-x:auto;line-height:normal;font-family:Menlo,'DejaVu Sans Mono',consolas,'Courier New',monospace\"><span style=\"color: #7fbfbf; text-decoration-color: #7fbfbf\">           </span><span style=\"color: #008000; text-decoration-color: #008000\">DEBUG   </span> <span style=\"font-weight: bold\">&lt;</span><span style=\"color: #ff00ff; text-decoration-color: #ff00ff; font-weight: bold\">flow.py:</span><span style=\"color: #008080; text-decoration-color: #008080; font-weight: bold\">65</span><span style=\"font-weight: bold\">&gt;</span> Drying flow branch FlowBranch.REACTION                                  <a href=\"file:///Users/satyamtiwary/Documents/Python-Things/OpenOligo/openoligo/steps/flow.py\" target=\"_blank\"><span style=\"color: #7f7f7f; text-decoration-color: #7f7f7f\">flow.py</span></a><span style=\"color: #7f7f7f; text-decoration-color: #7f7f7f\">:</span><a href=\"file:///Users/satyamtiwary/Documents/Python-Things/OpenOligo/openoligo/steps/flow.py#65\" target=\"_blank\"><span style=\"color: #7f7f7f; text-decoration-color: #7f7f7f\">65</span></a>\n",
              "</pre>\n"
            ],
            "text/plain": [
              "\u001b[2;36m          \u001b[0m\u001b[2;36m \u001b[0m\u001b[32mDEBUG   \u001b[0m \u001b[1m<\u001b[0m\u001b[1;95mflow.py:\u001b[0m\u001b[1;36m65\u001b[0m\u001b[1m>\u001b[0m Drying flow branch FlowBranch.REACTION                                  \u001b]8;id=732197;file:///Users/satyamtiwary/Documents/Python-Things/OpenOligo/openoligo/steps/flow.py\u001b\\\u001b[2mflow.py\u001b[0m\u001b]8;;\u001b\\\u001b[2m:\u001b[0m\u001b]8;id=93819;file:///Users/satyamtiwary/Documents/Python-Things/OpenOligo/openoligo/steps/flow.py#65\u001b\\\u001b[2m65\u001b[0m\u001b]8;;\u001b\\\n"
            ]
          },
          "metadata": {},
          "output_type": "display_data"
        },
        {
          "data": {
            "text/html": [
              "<pre style=\"white-space:pre;overflow-x:auto;line-height:normal;font-family:Menlo,'DejaVu Sans Mono',consolas,'Courier New',monospace\"><span style=\"color: #7fbfbf; text-decoration-color: #7fbfbf\">           </span><span style=\"color: #008000; text-decoration-color: #008000\">DEBUG   </span> <span style=\"font-weight: bold\">&lt;</span><span style=\"color: #ff00ff; text-decoration-color: #ff00ff; font-weight: bold\">flow.py:</span><span style=\"color: #008080; text-decoration-color: #008080; font-weight: bold\">65</span><span style=\"font-weight: bold\">&gt;</span> Drying flow branch FlowBranch.REAGENTS                                  <a href=\"file:///Users/satyamtiwary/Documents/Python-Things/OpenOligo/openoligo/steps/flow.py\" target=\"_blank\"><span style=\"color: #7f7f7f; text-decoration-color: #7f7f7f\">flow.py</span></a><span style=\"color: #7f7f7f; text-decoration-color: #7f7f7f\">:</span><a href=\"file:///Users/satyamtiwary/Documents/Python-Things/OpenOligo/openoligo/steps/flow.py#65\" target=\"_blank\"><span style=\"color: #7f7f7f; text-decoration-color: #7f7f7f\">65</span></a>\n",
              "</pre>\n"
            ],
            "text/plain": [
              "\u001b[2;36m          \u001b[0m\u001b[2;36m \u001b[0m\u001b[32mDEBUG   \u001b[0m \u001b[1m<\u001b[0m\u001b[1;95mflow.py:\u001b[0m\u001b[1;36m65\u001b[0m\u001b[1m>\u001b[0m Drying flow branch FlowBranch.REAGENTS                                  \u001b]8;id=273037;file:///Users/satyamtiwary/Documents/Python-Things/OpenOligo/openoligo/steps/flow.py\u001b\\\u001b[2mflow.py\u001b[0m\u001b]8;;\u001b\\\u001b[2m:\u001b[0m\u001b]8;id=406551;file:///Users/satyamtiwary/Documents/Python-Things/OpenOligo/openoligo/steps/flow.py#65\u001b\\\u001b[2m65\u001b[0m\u001b]8;;\u001b\\\n"
            ]
          },
          "metadata": {},
          "output_type": "display_data"
        },
        {
          "name": "stdout",
          "output_type": "stream",
          "text": [
            "Add acetic anhydride/pyridine/THF and N-methyl imidazole to the reactor\n"
          ]
        },
        {
          "data": {
            "text/html": [
              "<pre style=\"white-space:pre;overflow-x:auto;line-height:normal;font-family:Menlo,'DejaVu Sans Mono',consolas,'Courier New',monospace\"><span style=\"color: #7fbfbf; text-decoration-color: #7fbfbf\">           </span><span style=\"color: #008000; text-decoration-color: #008000\">DEBUG   </span> <span style=\"font-weight: bold\">&lt;</span><span style=\"color: #ff00ff; text-decoration-color: #ff00ff; font-weight: bold\">wait.py:</span><span style=\"color: #008080; text-decoration-color: #008080; font-weight: bold\">11</span><span style=\"font-weight: bold\">&gt;</span> Start waiting for <span style=\"color: #008080; text-decoration-color: #008080; font-weight: bold\">1.00</span> seconds                                          <a href=\"file:///Users/satyamtiwary/Documents/Python-Things/OpenOligo/openoligo/utils/wait.py\" target=\"_blank\"><span style=\"color: #7f7f7f; text-decoration-color: #7f7f7f\">wait.py</span></a><span style=\"color: #7f7f7f; text-decoration-color: #7f7f7f\">:</span><a href=\"file:///Users/satyamtiwary/Documents/Python-Things/OpenOligo/openoligo/utils/wait.py#11\" target=\"_blank\"><span style=\"color: #7f7f7f; text-decoration-color: #7f7f7f\">11</span></a>\n",
              "</pre>\n"
            ],
            "text/plain": [
              "\u001b[2;36m          \u001b[0m\u001b[2;36m \u001b[0m\u001b[32mDEBUG   \u001b[0m \u001b[1m<\u001b[0m\u001b[1;95mwait.py:\u001b[0m\u001b[1;36m11\u001b[0m\u001b[1m>\u001b[0m Start waiting for \u001b[1;36m1.00\u001b[0m seconds                                          \u001b]8;id=352131;file:///Users/satyamtiwary/Documents/Python-Things/OpenOligo/openoligo/utils/wait.py\u001b\\\u001b[2mwait.py\u001b[0m\u001b]8;;\u001b\\\u001b[2m:\u001b[0m\u001b]8;id=873419;file:///Users/satyamtiwary/Documents/Python-Things/OpenOligo/openoligo/utils/wait.py#11\u001b\\\u001b[2m11\u001b[0m\u001b]8;;\u001b\\\n"
            ]
          },
          "metadata": {},
          "output_type": "display_data"
        },
        {
          "data": {
            "text/html": [
              "<pre style=\"white-space:pre;overflow-x:auto;line-height:normal;font-family:Menlo,'DejaVu Sans Mono',consolas,'Courier New',monospace\"><span style=\"color: #7fbfbf; text-decoration-color: #7fbfbf\">[18:13:49] </span><span style=\"color: #008000; text-decoration-color: #008000\">DEBUG   </span> <span style=\"font-weight: bold\">&lt;</span><span style=\"color: #ff00ff; text-decoration-color: #ff00ff; font-weight: bold\">wait.py:</span><span style=\"color: #008080; text-decoration-color: #008080; font-weight: bold\">13</span><span style=\"font-weight: bold\">&gt;</span> Done waiting for <span style=\"color: #008080; text-decoration-color: #008080; font-weight: bold\">1.00</span> seconds                                           <a href=\"file:///Users/satyamtiwary/Documents/Python-Things/OpenOligo/openoligo/utils/wait.py\" target=\"_blank\"><span style=\"color: #7f7f7f; text-decoration-color: #7f7f7f\">wait.py</span></a><span style=\"color: #7f7f7f; text-decoration-color: #7f7f7f\">:</span><a href=\"file:///Users/satyamtiwary/Documents/Python-Things/OpenOligo/openoligo/utils/wait.py#13\" target=\"_blank\"><span style=\"color: #7f7f7f; text-decoration-color: #7f7f7f\">13</span></a>\n",
              "</pre>\n"
            ],
            "text/plain": [
              "\u001b[2;36m[18:13:49]\u001b[0m\u001b[2;36m \u001b[0m\u001b[32mDEBUG   \u001b[0m \u001b[1m<\u001b[0m\u001b[1;95mwait.py:\u001b[0m\u001b[1;36m13\u001b[0m\u001b[1m>\u001b[0m Done waiting for \u001b[1;36m1.00\u001b[0m seconds                                           \u001b]8;id=394412;file:///Users/satyamtiwary/Documents/Python-Things/OpenOligo/openoligo/utils/wait.py\u001b\\\u001b[2mwait.py\u001b[0m\u001b]8;;\u001b\\\u001b[2m:\u001b[0m\u001b]8;id=35288;file:///Users/satyamtiwary/Documents/Python-Things/OpenOligo/openoligo/utils/wait.py#13\u001b\\\u001b[2m13\u001b[0m\u001b]8;;\u001b\\\n"
            ]
          },
          "metadata": {},
          "output_type": "display_data"
        },
        {
          "data": {
            "text/html": [
              "<pre style=\"white-space:pre;overflow-x:auto;line-height:normal;font-family:Menlo,'DejaVu Sans Mono',consolas,'Courier New',monospace\"><span style=\"color: #7fbfbf; text-decoration-color: #7fbfbf\">[18:13:50] </span><span style=\"color: #008000; text-decoration-color: #008000\">DEBUG   </span> <span style=\"font-weight: bold\">&lt;</span><span style=\"color: #ff00ff; text-decoration-color: #ff00ff; font-weight: bold\">flow.py:</span><span style=\"color: #008080; text-decoration-color: #008080; font-weight: bold\">44</span><span style=\"font-weight: bold\">&gt;</span> Washing flow branch FlowBranch.REACTION with solvent                    <a href=\"file:///Users/satyamtiwary/Documents/Python-Things/OpenOligo/openoligo/steps/flow.py\" target=\"_blank\"><span style=\"color: #7f7f7f; text-decoration-color: #7f7f7f\">flow.py</span></a><span style=\"color: #7f7f7f; text-decoration-color: #7f7f7f\">:</span><a href=\"file:///Users/satyamtiwary/Documents/Python-Things/OpenOligo/openoligo/steps/flow.py#44\" target=\"_blank\"><span style=\"color: #7f7f7f; text-decoration-color: #7f7f7f\">44</span></a>\n",
              "</pre>\n"
            ],
            "text/plain": [
              "\u001b[2;36m[18:13:50]\u001b[0m\u001b[2;36m \u001b[0m\u001b[32mDEBUG   \u001b[0m \u001b[1m<\u001b[0m\u001b[1;95mflow.py:\u001b[0m\u001b[1;36m44\u001b[0m\u001b[1m>\u001b[0m Washing flow branch FlowBranch.REACTION with solvent                    \u001b]8;id=99639;file:///Users/satyamtiwary/Documents/Python-Things/OpenOligo/openoligo/steps/flow.py\u001b\\\u001b[2mflow.py\u001b[0m\u001b]8;;\u001b\\\u001b[2m:\u001b[0m\u001b]8;id=306769;file:///Users/satyamtiwary/Documents/Python-Things/OpenOligo/openoligo/steps/flow.py#44\u001b\\\u001b[2m44\u001b[0m\u001b]8;;\u001b\\\n"
            ]
          },
          "metadata": {},
          "output_type": "display_data"
        },
        {
          "data": {
            "text/html": [
              "<pre style=\"white-space:pre;overflow-x:auto;line-height:normal;font-family:Menlo,'DejaVu Sans Mono',consolas,'Courier New',monospace\"><span style=\"color: #7fbfbf; text-decoration-color: #7fbfbf\">           </span><span style=\"color: #008000; text-decoration-color: #008000\">DEBUG   </span> <span style=\"font-weight: bold\">&lt;</span><span style=\"color: #ff00ff; text-decoration-color: #ff00ff; font-weight: bold\">flow.py:</span><span style=\"color: #008080; text-decoration-color: #008080; font-weight: bold\">44</span><span style=\"font-weight: bold\">&gt;</span> Washing flow branch FlowBranch.REAGENTS with solvent                    <a href=\"file:///Users/satyamtiwary/Documents/Python-Things/OpenOligo/openoligo/steps/flow.py\" target=\"_blank\"><span style=\"color: #7f7f7f; text-decoration-color: #7f7f7f\">flow.py</span></a><span style=\"color: #7f7f7f; text-decoration-color: #7f7f7f\">:</span><a href=\"file:///Users/satyamtiwary/Documents/Python-Things/OpenOligo/openoligo/steps/flow.py#44\" target=\"_blank\"><span style=\"color: #7f7f7f; text-decoration-color: #7f7f7f\">44</span></a>\n",
              "</pre>\n"
            ],
            "text/plain": [
              "\u001b[2;36m          \u001b[0m\u001b[2;36m \u001b[0m\u001b[32mDEBUG   \u001b[0m \u001b[1m<\u001b[0m\u001b[1;95mflow.py:\u001b[0m\u001b[1;36m44\u001b[0m\u001b[1m>\u001b[0m Washing flow branch FlowBranch.REAGENTS with solvent                    \u001b]8;id=489901;file:///Users/satyamtiwary/Documents/Python-Things/OpenOligo/openoligo/steps/flow.py\u001b\\\u001b[2mflow.py\u001b[0m\u001b]8;;\u001b\\\u001b[2m:\u001b[0m\u001b]8;id=267826;file:///Users/satyamtiwary/Documents/Python-Things/OpenOligo/openoligo/steps/flow.py#44\u001b\\\u001b[2m44\u001b[0m\u001b]8;;\u001b\\\n"
            ]
          },
          "metadata": {},
          "output_type": "display_data"
        },
        {
          "data": {
            "text/html": [
              "<pre style=\"white-space:pre;overflow-x:auto;line-height:normal;font-family:Menlo,'DejaVu Sans Mono',consolas,'Courier New',monospace\"><span style=\"color: #7fbfbf; text-decoration-color: #7fbfbf\">           </span><span style=\"color: #008000; text-decoration-color: #008000\">DEBUG   </span> <span style=\"font-weight: bold\">&lt;</span><span style=\"color: #ff00ff; text-decoration-color: #ff00ff; font-weight: bold\">flow.py:</span><span style=\"color: #008080; text-decoration-color: #008080; font-weight: bold\">65</span><span style=\"font-weight: bold\">&gt;</span> Drying flow branch FlowBranch.REACTION                                  <a href=\"file:///Users/satyamtiwary/Documents/Python-Things/OpenOligo/openoligo/steps/flow.py\" target=\"_blank\"><span style=\"color: #7f7f7f; text-decoration-color: #7f7f7f\">flow.py</span></a><span style=\"color: #7f7f7f; text-decoration-color: #7f7f7f\">:</span><a href=\"file:///Users/satyamtiwary/Documents/Python-Things/OpenOligo/openoligo/steps/flow.py#65\" target=\"_blank\"><span style=\"color: #7f7f7f; text-decoration-color: #7f7f7f\">65</span></a>\n",
              "</pre>\n"
            ],
            "text/plain": [
              "\u001b[2;36m          \u001b[0m\u001b[2;36m \u001b[0m\u001b[32mDEBUG   \u001b[0m \u001b[1m<\u001b[0m\u001b[1;95mflow.py:\u001b[0m\u001b[1;36m65\u001b[0m\u001b[1m>\u001b[0m Drying flow branch FlowBranch.REACTION                                  \u001b]8;id=478073;file:///Users/satyamtiwary/Documents/Python-Things/OpenOligo/openoligo/steps/flow.py\u001b\\\u001b[2mflow.py\u001b[0m\u001b]8;;\u001b\\\u001b[2m:\u001b[0m\u001b]8;id=720041;file:///Users/satyamtiwary/Documents/Python-Things/OpenOligo/openoligo/steps/flow.py#65\u001b\\\u001b[2m65\u001b[0m\u001b]8;;\u001b\\\n"
            ]
          },
          "metadata": {},
          "output_type": "display_data"
        },
        {
          "data": {
            "text/html": [
              "<pre style=\"white-space:pre;overflow-x:auto;line-height:normal;font-family:Menlo,'DejaVu Sans Mono',consolas,'Courier New',monospace\"><span style=\"color: #7fbfbf; text-decoration-color: #7fbfbf\">           </span><span style=\"color: #008000; text-decoration-color: #008000\">DEBUG   </span> <span style=\"font-weight: bold\">&lt;</span><span style=\"color: #ff00ff; text-decoration-color: #ff00ff; font-weight: bold\">flow.py:</span><span style=\"color: #008080; text-decoration-color: #008080; font-weight: bold\">65</span><span style=\"font-weight: bold\">&gt;</span> Drying flow branch FlowBranch.REAGENTS                                  <a href=\"file:///Users/satyamtiwary/Documents/Python-Things/OpenOligo/openoligo/steps/flow.py\" target=\"_blank\"><span style=\"color: #7f7f7f; text-decoration-color: #7f7f7f\">flow.py</span></a><span style=\"color: #7f7f7f; text-decoration-color: #7f7f7f\">:</span><a href=\"file:///Users/satyamtiwary/Documents/Python-Things/OpenOligo/openoligo/steps/flow.py#65\" target=\"_blank\"><span style=\"color: #7f7f7f; text-decoration-color: #7f7f7f\">65</span></a>\n",
              "</pre>\n"
            ],
            "text/plain": [
              "\u001b[2;36m          \u001b[0m\u001b[2;36m \u001b[0m\u001b[32mDEBUG   \u001b[0m \u001b[1m<\u001b[0m\u001b[1;95mflow.py:\u001b[0m\u001b[1;36m65\u001b[0m\u001b[1m>\u001b[0m Drying flow branch FlowBranch.REAGENTS                                  \u001b]8;id=446711;file:///Users/satyamtiwary/Documents/Python-Things/OpenOligo/openoligo/steps/flow.py\u001b\\\u001b[2mflow.py\u001b[0m\u001b]8;;\u001b\\\u001b[2m:\u001b[0m\u001b]8;id=465719;file:///Users/satyamtiwary/Documents/Python-Things/OpenOligo/openoligo/steps/flow.py#65\u001b\\\u001b[2m65\u001b[0m\u001b]8;;\u001b\\\n"
            ]
          },
          "metadata": {},
          "output_type": "display_data"
        },
        {
          "name": "stdout",
          "output_type": "stream",
          "text": [
            "Add 0.015 M iodine in water/pyridine/THF to the reactor\n"
          ]
        },
        {
          "data": {
            "text/html": [
              "<pre style=\"white-space:pre;overflow-x:auto;line-height:normal;font-family:Menlo,'DejaVu Sans Mono',consolas,'Courier New',monospace\"><span style=\"color: #7fbfbf; text-decoration-color: #7fbfbf\">           </span><span style=\"color: #008000; text-decoration-color: #008000\">DEBUG   </span> <span style=\"font-weight: bold\">&lt;</span><span style=\"color: #ff00ff; text-decoration-color: #ff00ff; font-weight: bold\">wait.py:</span><span style=\"color: #008080; text-decoration-color: #008080; font-weight: bold\">11</span><span style=\"font-weight: bold\">&gt;</span> Start waiting for <span style=\"color: #008080; text-decoration-color: #008080; font-weight: bold\">1.00</span> seconds                                          <a href=\"file:///Users/satyamtiwary/Documents/Python-Things/OpenOligo/openoligo/utils/wait.py\" target=\"_blank\"><span style=\"color: #7f7f7f; text-decoration-color: #7f7f7f\">wait.py</span></a><span style=\"color: #7f7f7f; text-decoration-color: #7f7f7f\">:</span><a href=\"file:///Users/satyamtiwary/Documents/Python-Things/OpenOligo/openoligo/utils/wait.py#11\" target=\"_blank\"><span style=\"color: #7f7f7f; text-decoration-color: #7f7f7f\">11</span></a>\n",
              "</pre>\n"
            ],
            "text/plain": [
              "\u001b[2;36m          \u001b[0m\u001b[2;36m \u001b[0m\u001b[32mDEBUG   \u001b[0m \u001b[1m<\u001b[0m\u001b[1;95mwait.py:\u001b[0m\u001b[1;36m11\u001b[0m\u001b[1m>\u001b[0m Start waiting for \u001b[1;36m1.00\u001b[0m seconds                                          \u001b]8;id=236891;file:///Users/satyamtiwary/Documents/Python-Things/OpenOligo/openoligo/utils/wait.py\u001b\\\u001b[2mwait.py\u001b[0m\u001b]8;;\u001b\\\u001b[2m:\u001b[0m\u001b]8;id=312513;file:///Users/satyamtiwary/Documents/Python-Things/OpenOligo/openoligo/utils/wait.py#11\u001b\\\u001b[2m11\u001b[0m\u001b]8;;\u001b\\\n"
            ]
          },
          "metadata": {},
          "output_type": "display_data"
        },
        {
          "data": {
            "text/html": [
              "<pre style=\"white-space:pre;overflow-x:auto;line-height:normal;font-family:Menlo,'DejaVu Sans Mono',consolas,'Courier New',monospace\"><span style=\"color: #7fbfbf; text-decoration-color: #7fbfbf\">[18:13:51] </span><span style=\"color: #008000; text-decoration-color: #008000\">DEBUG   </span> <span style=\"font-weight: bold\">&lt;</span><span style=\"color: #ff00ff; text-decoration-color: #ff00ff; font-weight: bold\">wait.py:</span><span style=\"color: #008080; text-decoration-color: #008080; font-weight: bold\">13</span><span style=\"font-weight: bold\">&gt;</span> Done waiting for <span style=\"color: #008080; text-decoration-color: #008080; font-weight: bold\">1.00</span> seconds                                           <a href=\"file:///Users/satyamtiwary/Documents/Python-Things/OpenOligo/openoligo/utils/wait.py\" target=\"_blank\"><span style=\"color: #7f7f7f; text-decoration-color: #7f7f7f\">wait.py</span></a><span style=\"color: #7f7f7f; text-decoration-color: #7f7f7f\">:</span><a href=\"file:///Users/satyamtiwary/Documents/Python-Things/OpenOligo/openoligo/utils/wait.py#13\" target=\"_blank\"><span style=\"color: #7f7f7f; text-decoration-color: #7f7f7f\">13</span></a>\n",
              "</pre>\n"
            ],
            "text/plain": [
              "\u001b[2;36m[18:13:51]\u001b[0m\u001b[2;36m \u001b[0m\u001b[32mDEBUG   \u001b[0m \u001b[1m<\u001b[0m\u001b[1;95mwait.py:\u001b[0m\u001b[1;36m13\u001b[0m\u001b[1m>\u001b[0m Done waiting for \u001b[1;36m1.00\u001b[0m seconds                                           \u001b]8;id=878439;file:///Users/satyamtiwary/Documents/Python-Things/OpenOligo/openoligo/utils/wait.py\u001b\\\u001b[2mwait.py\u001b[0m\u001b]8;;\u001b\\\u001b[2m:\u001b[0m\u001b]8;id=694128;file:///Users/satyamtiwary/Documents/Python-Things/OpenOligo/openoligo/utils/wait.py#13\u001b\\\u001b[2m13\u001b[0m\u001b]8;;\u001b\\\n"
            ]
          },
          "metadata": {},
          "output_type": "display_data"
        },
        {
          "data": {
            "text/html": [
              "<pre style=\"white-space:pre;overflow-x:auto;line-height:normal;font-family:Menlo,'DejaVu Sans Mono',consolas,'Courier New',monospace\"><span style=\"color: #7fbfbf; text-decoration-color: #7fbfbf\">           </span><span style=\"color: #008000; text-decoration-color: #008000\">DEBUG   </span> <span style=\"font-weight: bold\">&lt;</span><span style=\"color: #ff00ff; text-decoration-color: #ff00ff; font-weight: bold\">flow.py:</span><span style=\"color: #008080; text-decoration-color: #008080; font-weight: bold\">44</span><span style=\"font-weight: bold\">&gt;</span> Washing flow branch FlowBranch.REACTION with solvent                    <a href=\"file:///Users/satyamtiwary/Documents/Python-Things/OpenOligo/openoligo/steps/flow.py\" target=\"_blank\"><span style=\"color: #7f7f7f; text-decoration-color: #7f7f7f\">flow.py</span></a><span style=\"color: #7f7f7f; text-decoration-color: #7f7f7f\">:</span><a href=\"file:///Users/satyamtiwary/Documents/Python-Things/OpenOligo/openoligo/steps/flow.py#44\" target=\"_blank\"><span style=\"color: #7f7f7f; text-decoration-color: #7f7f7f\">44</span></a>\n",
              "</pre>\n"
            ],
            "text/plain": [
              "\u001b[2;36m          \u001b[0m\u001b[2;36m \u001b[0m\u001b[32mDEBUG   \u001b[0m \u001b[1m<\u001b[0m\u001b[1;95mflow.py:\u001b[0m\u001b[1;36m44\u001b[0m\u001b[1m>\u001b[0m Washing flow branch FlowBranch.REACTION with solvent                    \u001b]8;id=350097;file:///Users/satyamtiwary/Documents/Python-Things/OpenOligo/openoligo/steps/flow.py\u001b\\\u001b[2mflow.py\u001b[0m\u001b]8;;\u001b\\\u001b[2m:\u001b[0m\u001b]8;id=205848;file:///Users/satyamtiwary/Documents/Python-Things/OpenOligo/openoligo/steps/flow.py#44\u001b\\\u001b[2m44\u001b[0m\u001b]8;;\u001b\\\n"
            ]
          },
          "metadata": {},
          "output_type": "display_data"
        },
        {
          "data": {
            "text/html": [
              "<pre style=\"white-space:pre;overflow-x:auto;line-height:normal;font-family:Menlo,'DejaVu Sans Mono',consolas,'Courier New',monospace\"><span style=\"color: #7fbfbf; text-decoration-color: #7fbfbf\">           </span><span style=\"color: #008000; text-decoration-color: #008000\">DEBUG   </span> <span style=\"font-weight: bold\">&lt;</span><span style=\"color: #ff00ff; text-decoration-color: #ff00ff; font-weight: bold\">flow.py:</span><span style=\"color: #008080; text-decoration-color: #008080; font-weight: bold\">44</span><span style=\"font-weight: bold\">&gt;</span> Washing flow branch FlowBranch.REAGENTS with solvent                    <a href=\"file:///Users/satyamtiwary/Documents/Python-Things/OpenOligo/openoligo/steps/flow.py\" target=\"_blank\"><span style=\"color: #7f7f7f; text-decoration-color: #7f7f7f\">flow.py</span></a><span style=\"color: #7f7f7f; text-decoration-color: #7f7f7f\">:</span><a href=\"file:///Users/satyamtiwary/Documents/Python-Things/OpenOligo/openoligo/steps/flow.py#44\" target=\"_blank\"><span style=\"color: #7f7f7f; text-decoration-color: #7f7f7f\">44</span></a>\n",
              "</pre>\n"
            ],
            "text/plain": [
              "\u001b[2;36m          \u001b[0m\u001b[2;36m \u001b[0m\u001b[32mDEBUG   \u001b[0m \u001b[1m<\u001b[0m\u001b[1;95mflow.py:\u001b[0m\u001b[1;36m44\u001b[0m\u001b[1m>\u001b[0m Washing flow branch FlowBranch.REAGENTS with solvent                    \u001b]8;id=964576;file:///Users/satyamtiwary/Documents/Python-Things/OpenOligo/openoligo/steps/flow.py\u001b\\\u001b[2mflow.py\u001b[0m\u001b]8;;\u001b\\\u001b[2m:\u001b[0m\u001b]8;id=723726;file:///Users/satyamtiwary/Documents/Python-Things/OpenOligo/openoligo/steps/flow.py#44\u001b\\\u001b[2m44\u001b[0m\u001b]8;;\u001b\\\n"
            ]
          },
          "metadata": {},
          "output_type": "display_data"
        },
        {
          "data": {
            "text/html": [
              "<pre style=\"white-space:pre;overflow-x:auto;line-height:normal;font-family:Menlo,'DejaVu Sans Mono',consolas,'Courier New',monospace\"><span style=\"color: #7fbfbf; text-decoration-color: #7fbfbf\">           </span><span style=\"color: #008000; text-decoration-color: #008000\">DEBUG   </span> <span style=\"font-weight: bold\">&lt;</span><span style=\"color: #ff00ff; text-decoration-color: #ff00ff; font-weight: bold\">flow.py:</span><span style=\"color: #008080; text-decoration-color: #008080; font-weight: bold\">65</span><span style=\"font-weight: bold\">&gt;</span> Drying flow branch FlowBranch.REACTION                                  <a href=\"file:///Users/satyamtiwary/Documents/Python-Things/OpenOligo/openoligo/steps/flow.py\" target=\"_blank\"><span style=\"color: #7f7f7f; text-decoration-color: #7f7f7f\">flow.py</span></a><span style=\"color: #7f7f7f; text-decoration-color: #7f7f7f\">:</span><a href=\"file:///Users/satyamtiwary/Documents/Python-Things/OpenOligo/openoligo/steps/flow.py#65\" target=\"_blank\"><span style=\"color: #7f7f7f; text-decoration-color: #7f7f7f\">65</span></a>\n",
              "</pre>\n"
            ],
            "text/plain": [
              "\u001b[2;36m          \u001b[0m\u001b[2;36m \u001b[0m\u001b[32mDEBUG   \u001b[0m \u001b[1m<\u001b[0m\u001b[1;95mflow.py:\u001b[0m\u001b[1;36m65\u001b[0m\u001b[1m>\u001b[0m Drying flow branch FlowBranch.REACTION                                  \u001b]8;id=14571;file:///Users/satyamtiwary/Documents/Python-Things/OpenOligo/openoligo/steps/flow.py\u001b\\\u001b[2mflow.py\u001b[0m\u001b]8;;\u001b\\\u001b[2m:\u001b[0m\u001b]8;id=492118;file:///Users/satyamtiwary/Documents/Python-Things/OpenOligo/openoligo/steps/flow.py#65\u001b\\\u001b[2m65\u001b[0m\u001b]8;;\u001b\\\n"
            ]
          },
          "metadata": {},
          "output_type": "display_data"
        },
        {
          "data": {
            "text/html": [
              "<pre style=\"white-space:pre;overflow-x:auto;line-height:normal;font-family:Menlo,'DejaVu Sans Mono',consolas,'Courier New',monospace\"><span style=\"color: #7fbfbf; text-decoration-color: #7fbfbf\">           </span><span style=\"color: #008000; text-decoration-color: #008000\">DEBUG   </span> <span style=\"font-weight: bold\">&lt;</span><span style=\"color: #ff00ff; text-decoration-color: #ff00ff; font-weight: bold\">flow.py:</span><span style=\"color: #008080; text-decoration-color: #008080; font-weight: bold\">65</span><span style=\"font-weight: bold\">&gt;</span> Drying flow branch FlowBranch.REAGENTS                                  <a href=\"file:///Users/satyamtiwary/Documents/Python-Things/OpenOligo/openoligo/steps/flow.py\" target=\"_blank\"><span style=\"color: #7f7f7f; text-decoration-color: #7f7f7f\">flow.py</span></a><span style=\"color: #7f7f7f; text-decoration-color: #7f7f7f\">:</span><a href=\"file:///Users/satyamtiwary/Documents/Python-Things/OpenOligo/openoligo/steps/flow.py#65\" target=\"_blank\"><span style=\"color: #7f7f7f; text-decoration-color: #7f7f7f\">65</span></a>\n",
              "</pre>\n"
            ],
            "text/plain": [
              "\u001b[2;36m          \u001b[0m\u001b[2;36m \u001b[0m\u001b[32mDEBUG   \u001b[0m \u001b[1m<\u001b[0m\u001b[1;95mflow.py:\u001b[0m\u001b[1;36m65\u001b[0m\u001b[1m>\u001b[0m Drying flow branch FlowBranch.REAGENTS                                  \u001b]8;id=533184;file:///Users/satyamtiwary/Documents/Python-Things/OpenOligo/openoligo/steps/flow.py\u001b\\\u001b[2mflow.py\u001b[0m\u001b]8;;\u001b\\\u001b[2m:\u001b[0m\u001b]8;id=723295;file:///Users/satyamtiwary/Documents/Python-Things/OpenOligo/openoligo/steps/flow.py#65\u001b\\\u001b[2m65\u001b[0m\u001b]8;;\u001b\\\n"
            ]
          },
          "metadata": {},
          "output_type": "display_data"
        },
        {
          "name": "stderr",
          "output_type": "stream",
          "text": [
            " 22%|████████████████▏                                                        | 2/9 [00:04<00:14,  2.07s/it]"
          ]
        },
        {
          "data": {
            "text/html": [
              "<pre style=\"white-space:pre;overflow-x:auto;line-height:normal;font-family:Menlo,'DejaVu Sans Mono',consolas,'Courier New',monospace\"><span style=\"color: #7fbfbf; text-decoration-color: #7fbfbf\">           </span><span style=\"color: #008000; text-decoration-color: #008000\">DEBUG   </span> <span style=\"font-weight: bold\">&lt;</span><span style=\"color: #ff00ff; text-decoration-color: #ff00ff; font-weight: bold\">wait.py:</span><span style=\"color: #008080; text-decoration-color: #008080; font-weight: bold\">11</span><span style=\"font-weight: bold\">&gt;</span> Start waiting for <span style=\"color: #008080; text-decoration-color: #008080; font-weight: bold\">1.00</span> seconds                                          <a href=\"file:///Users/satyamtiwary/Documents/Python-Things/OpenOligo/openoligo/utils/wait.py\" target=\"_blank\"><span style=\"color: #7f7f7f; text-decoration-color: #7f7f7f\">wait.py</span></a><span style=\"color: #7f7f7f; text-decoration-color: #7f7f7f\">:</span><a href=\"file:///Users/satyamtiwary/Documents/Python-Things/OpenOligo/openoligo/utils/wait.py#11\" target=\"_blank\"><span style=\"color: #7f7f7f; text-decoration-color: #7f7f7f\">11</span></a>\n",
              "</pre>\n"
            ],
            "text/plain": [
              "\u001b[2;36m          \u001b[0m\u001b[2;36m \u001b[0m\u001b[32mDEBUG   \u001b[0m \u001b[1m<\u001b[0m\u001b[1;95mwait.py:\u001b[0m\u001b[1;36m11\u001b[0m\u001b[1m>\u001b[0m Start waiting for \u001b[1;36m1.00\u001b[0m seconds                                          \u001b]8;id=210335;file:///Users/satyamtiwary/Documents/Python-Things/OpenOligo/openoligo/utils/wait.py\u001b\\\u001b[2mwait.py\u001b[0m\u001b]8;;\u001b\\\u001b[2m:\u001b[0m\u001b]8;id=971410;file:///Users/satyamtiwary/Documents/Python-Things/OpenOligo/openoligo/utils/wait.py#11\u001b\\\u001b[2m11\u001b[0m\u001b]8;;\u001b\\\n"
            ]
          },
          "metadata": {},
          "output_type": "display_data"
        },
        {
          "data": {
            "text/html": [
              "<pre style=\"white-space:pre;overflow-x:auto;line-height:normal;font-family:Menlo,'DejaVu Sans Mono',consolas,'Courier New',monospace\"><span style=\"color: #7fbfbf; text-decoration-color: #7fbfbf\">[18:13:52] </span><span style=\"color: #008000; text-decoration-color: #008000\">DEBUG   </span> <span style=\"font-weight: bold\">&lt;</span><span style=\"color: #ff00ff; text-decoration-color: #ff00ff; font-weight: bold\">wait.py:</span><span style=\"color: #008080; text-decoration-color: #008080; font-weight: bold\">13</span><span style=\"font-weight: bold\">&gt;</span> Done waiting for <span style=\"color: #008080; text-decoration-color: #008080; font-weight: bold\">1.00</span> seconds                                           <a href=\"file:///Users/satyamtiwary/Documents/Python-Things/OpenOligo/openoligo/utils/wait.py\" target=\"_blank\"><span style=\"color: #7f7f7f; text-decoration-color: #7f7f7f\">wait.py</span></a><span style=\"color: #7f7f7f; text-decoration-color: #7f7f7f\">:</span><a href=\"file:///Users/satyamtiwary/Documents/Python-Things/OpenOligo/openoligo/utils/wait.py#13\" target=\"_blank\"><span style=\"color: #7f7f7f; text-decoration-color: #7f7f7f\">13</span></a>\n",
              "</pre>\n"
            ],
            "text/plain": [
              "\u001b[2;36m[18:13:52]\u001b[0m\u001b[2;36m \u001b[0m\u001b[32mDEBUG   \u001b[0m \u001b[1m<\u001b[0m\u001b[1;95mwait.py:\u001b[0m\u001b[1;36m13\u001b[0m\u001b[1m>\u001b[0m Done waiting for \u001b[1;36m1.00\u001b[0m seconds                                           \u001b]8;id=207648;file:///Users/satyamtiwary/Documents/Python-Things/OpenOligo/openoligo/utils/wait.py\u001b\\\u001b[2mwait.py\u001b[0m\u001b]8;;\u001b\\\u001b[2m:\u001b[0m\u001b]8;id=792227;file:///Users/satyamtiwary/Documents/Python-Things/OpenOligo/openoligo/utils/wait.py#13\u001b\\\u001b[2m13\u001b[0m\u001b]8;;\u001b\\\n"
            ]
          },
          "metadata": {},
          "output_type": "display_data"
        },
        {
          "name": "stdout",
          "output_type": "stream",
          "text": [
            "Adding 1th base 'A' to growing DNA strand\n",
            "Add 3% trichloroacetic acid in dichloromethane to the reactor\n"
          ]
        },
        {
          "data": {
            "text/html": [
              "<pre style=\"white-space:pre;overflow-x:auto;line-height:normal;font-family:Menlo,'DejaVu Sans Mono',consolas,'Courier New',monospace\"><span style=\"color: #7fbfbf; text-decoration-color: #7fbfbf\">           </span><span style=\"color: #008000; text-decoration-color: #008000\">DEBUG   </span> <span style=\"font-weight: bold\">&lt;</span><span style=\"color: #ff00ff; text-decoration-color: #ff00ff; font-weight: bold\">wait.py:</span><span style=\"color: #008080; text-decoration-color: #008080; font-weight: bold\">11</span><span style=\"font-weight: bold\">&gt;</span> Start waiting for <span style=\"color: #008080; text-decoration-color: #008080; font-weight: bold\">1.00</span> seconds                                          <a href=\"file:///Users/satyamtiwary/Documents/Python-Things/OpenOligo/openoligo/utils/wait.py\" target=\"_blank\"><span style=\"color: #7f7f7f; text-decoration-color: #7f7f7f\">wait.py</span></a><span style=\"color: #7f7f7f; text-decoration-color: #7f7f7f\">:</span><a href=\"file:///Users/satyamtiwary/Documents/Python-Things/OpenOligo/openoligo/utils/wait.py#11\" target=\"_blank\"><span style=\"color: #7f7f7f; text-decoration-color: #7f7f7f\">11</span></a>\n",
              "</pre>\n"
            ],
            "text/plain": [
              "\u001b[2;36m          \u001b[0m\u001b[2;36m \u001b[0m\u001b[32mDEBUG   \u001b[0m \u001b[1m<\u001b[0m\u001b[1;95mwait.py:\u001b[0m\u001b[1;36m11\u001b[0m\u001b[1m>\u001b[0m Start waiting for \u001b[1;36m1.00\u001b[0m seconds                                          \u001b]8;id=668672;file:///Users/satyamtiwary/Documents/Python-Things/OpenOligo/openoligo/utils/wait.py\u001b\\\u001b[2mwait.py\u001b[0m\u001b]8;;\u001b\\\u001b[2m:\u001b[0m\u001b]8;id=676714;file:///Users/satyamtiwary/Documents/Python-Things/OpenOligo/openoligo/utils/wait.py#11\u001b\\\u001b[2m11\u001b[0m\u001b]8;;\u001b\\\n"
            ]
          },
          "metadata": {},
          "output_type": "display_data"
        },
        {
          "data": {
            "text/html": [
              "<pre style=\"white-space:pre;overflow-x:auto;line-height:normal;font-family:Menlo,'DejaVu Sans Mono',consolas,'Courier New',monospace\"><span style=\"color: #7fbfbf; text-decoration-color: #7fbfbf\">[18:13:53] </span><span style=\"color: #008000; text-decoration-color: #008000\">DEBUG   </span> <span style=\"font-weight: bold\">&lt;</span><span style=\"color: #ff00ff; text-decoration-color: #ff00ff; font-weight: bold\">wait.py:</span><span style=\"color: #008080; text-decoration-color: #008080; font-weight: bold\">13</span><span style=\"font-weight: bold\">&gt;</span> Done waiting for <span style=\"color: #008080; text-decoration-color: #008080; font-weight: bold\">1.00</span> seconds                                           <a href=\"file:///Users/satyamtiwary/Documents/Python-Things/OpenOligo/openoligo/utils/wait.py\" target=\"_blank\"><span style=\"color: #7f7f7f; text-decoration-color: #7f7f7f\">wait.py</span></a><span style=\"color: #7f7f7f; text-decoration-color: #7f7f7f\">:</span><a href=\"file:///Users/satyamtiwary/Documents/Python-Things/OpenOligo/openoligo/utils/wait.py#13\" target=\"_blank\"><span style=\"color: #7f7f7f; text-decoration-color: #7f7f7f\">13</span></a>\n",
              "</pre>\n"
            ],
            "text/plain": [
              "\u001b[2;36m[18:13:53]\u001b[0m\u001b[2;36m \u001b[0m\u001b[32mDEBUG   \u001b[0m \u001b[1m<\u001b[0m\u001b[1;95mwait.py:\u001b[0m\u001b[1;36m13\u001b[0m\u001b[1m>\u001b[0m Done waiting for \u001b[1;36m1.00\u001b[0m seconds                                           \u001b]8;id=143585;file:///Users/satyamtiwary/Documents/Python-Things/OpenOligo/openoligo/utils/wait.py\u001b\\\u001b[2mwait.py\u001b[0m\u001b]8;;\u001b\\\u001b[2m:\u001b[0m\u001b]8;id=771127;file:///Users/satyamtiwary/Documents/Python-Things/OpenOligo/openoligo/utils/wait.py#13\u001b\\\u001b[2m13\u001b[0m\u001b]8;;\u001b\\\n"
            ]
          },
          "metadata": {},
          "output_type": "display_data"
        },
        {
          "data": {
            "text/html": [
              "<pre style=\"white-space:pre;overflow-x:auto;line-height:normal;font-family:Menlo,'DejaVu Sans Mono',consolas,'Courier New',monospace\"><span style=\"color: #7fbfbf; text-decoration-color: #7fbfbf\">           </span><span style=\"color: #008000; text-decoration-color: #008000\">DEBUG   </span> <span style=\"font-weight: bold\">&lt;</span><span style=\"color: #ff00ff; text-decoration-color: #ff00ff; font-weight: bold\">flow.py:</span><span style=\"color: #008080; text-decoration-color: #008080; font-weight: bold\">44</span><span style=\"font-weight: bold\">&gt;</span> Washing flow branch FlowBranch.REACTION with solvent                    <a href=\"file:///Users/satyamtiwary/Documents/Python-Things/OpenOligo/openoligo/steps/flow.py\" target=\"_blank\"><span style=\"color: #7f7f7f; text-decoration-color: #7f7f7f\">flow.py</span></a><span style=\"color: #7f7f7f; text-decoration-color: #7f7f7f\">:</span><a href=\"file:///Users/satyamtiwary/Documents/Python-Things/OpenOligo/openoligo/steps/flow.py#44\" target=\"_blank\"><span style=\"color: #7f7f7f; text-decoration-color: #7f7f7f\">44</span></a>\n",
              "</pre>\n"
            ],
            "text/plain": [
              "\u001b[2;36m          \u001b[0m\u001b[2;36m \u001b[0m\u001b[32mDEBUG   \u001b[0m \u001b[1m<\u001b[0m\u001b[1;95mflow.py:\u001b[0m\u001b[1;36m44\u001b[0m\u001b[1m>\u001b[0m Washing flow branch FlowBranch.REACTION with solvent                    \u001b]8;id=303205;file:///Users/satyamtiwary/Documents/Python-Things/OpenOligo/openoligo/steps/flow.py\u001b\\\u001b[2mflow.py\u001b[0m\u001b]8;;\u001b\\\u001b[2m:\u001b[0m\u001b]8;id=497585;file:///Users/satyamtiwary/Documents/Python-Things/OpenOligo/openoligo/steps/flow.py#44\u001b\\\u001b[2m44\u001b[0m\u001b]8;;\u001b\\\n"
            ]
          },
          "metadata": {},
          "output_type": "display_data"
        },
        {
          "data": {
            "text/html": [
              "<pre style=\"white-space:pre;overflow-x:auto;line-height:normal;font-family:Menlo,'DejaVu Sans Mono',consolas,'Courier New',monospace\"><span style=\"color: #7fbfbf; text-decoration-color: #7fbfbf\">           </span><span style=\"color: #008000; text-decoration-color: #008000\">DEBUG   </span> <span style=\"font-weight: bold\">&lt;</span><span style=\"color: #ff00ff; text-decoration-color: #ff00ff; font-weight: bold\">flow.py:</span><span style=\"color: #008080; text-decoration-color: #008080; font-weight: bold\">44</span><span style=\"font-weight: bold\">&gt;</span> Washing flow branch FlowBranch.REAGENTS with solvent                    <a href=\"file:///Users/satyamtiwary/Documents/Python-Things/OpenOligo/openoligo/steps/flow.py\" target=\"_blank\"><span style=\"color: #7f7f7f; text-decoration-color: #7f7f7f\">flow.py</span></a><span style=\"color: #7f7f7f; text-decoration-color: #7f7f7f\">:</span><a href=\"file:///Users/satyamtiwary/Documents/Python-Things/OpenOligo/openoligo/steps/flow.py#44\" target=\"_blank\"><span style=\"color: #7f7f7f; text-decoration-color: #7f7f7f\">44</span></a>\n",
              "</pre>\n"
            ],
            "text/plain": [
              "\u001b[2;36m          \u001b[0m\u001b[2;36m \u001b[0m\u001b[32mDEBUG   \u001b[0m \u001b[1m<\u001b[0m\u001b[1;95mflow.py:\u001b[0m\u001b[1;36m44\u001b[0m\u001b[1m>\u001b[0m Washing flow branch FlowBranch.REAGENTS with solvent                    \u001b]8;id=216490;file:///Users/satyamtiwary/Documents/Python-Things/OpenOligo/openoligo/steps/flow.py\u001b\\\u001b[2mflow.py\u001b[0m\u001b]8;;\u001b\\\u001b[2m:\u001b[0m\u001b]8;id=242876;file:///Users/satyamtiwary/Documents/Python-Things/OpenOligo/openoligo/steps/flow.py#44\u001b\\\u001b[2m44\u001b[0m\u001b]8;;\u001b\\\n"
            ]
          },
          "metadata": {},
          "output_type": "display_data"
        },
        {
          "data": {
            "text/html": [
              "<pre style=\"white-space:pre;overflow-x:auto;line-height:normal;font-family:Menlo,'DejaVu Sans Mono',consolas,'Courier New',monospace\"><span style=\"color: #7fbfbf; text-decoration-color: #7fbfbf\">           </span><span style=\"color: #008000; text-decoration-color: #008000\">DEBUG   </span> <span style=\"font-weight: bold\">&lt;</span><span style=\"color: #ff00ff; text-decoration-color: #ff00ff; font-weight: bold\">flow.py:</span><span style=\"color: #008080; text-decoration-color: #008080; font-weight: bold\">65</span><span style=\"font-weight: bold\">&gt;</span> Drying flow branch FlowBranch.REACTION                                  <a href=\"file:///Users/satyamtiwary/Documents/Python-Things/OpenOligo/openoligo/steps/flow.py\" target=\"_blank\"><span style=\"color: #7f7f7f; text-decoration-color: #7f7f7f\">flow.py</span></a><span style=\"color: #7f7f7f; text-decoration-color: #7f7f7f\">:</span><a href=\"file:///Users/satyamtiwary/Documents/Python-Things/OpenOligo/openoligo/steps/flow.py#65\" target=\"_blank\"><span style=\"color: #7f7f7f; text-decoration-color: #7f7f7f\">65</span></a>\n",
              "</pre>\n"
            ],
            "text/plain": [
              "\u001b[2;36m          \u001b[0m\u001b[2;36m \u001b[0m\u001b[32mDEBUG   \u001b[0m \u001b[1m<\u001b[0m\u001b[1;95mflow.py:\u001b[0m\u001b[1;36m65\u001b[0m\u001b[1m>\u001b[0m Drying flow branch FlowBranch.REACTION                                  \u001b]8;id=489904;file:///Users/satyamtiwary/Documents/Python-Things/OpenOligo/openoligo/steps/flow.py\u001b\\\u001b[2mflow.py\u001b[0m\u001b]8;;\u001b\\\u001b[2m:\u001b[0m\u001b]8;id=350297;file:///Users/satyamtiwary/Documents/Python-Things/OpenOligo/openoligo/steps/flow.py#65\u001b\\\u001b[2m65\u001b[0m\u001b]8;;\u001b\\\n"
            ]
          },
          "metadata": {},
          "output_type": "display_data"
        },
        {
          "data": {
            "text/html": [
              "<pre style=\"white-space:pre;overflow-x:auto;line-height:normal;font-family:Menlo,'DejaVu Sans Mono',consolas,'Courier New',monospace\"><span style=\"color: #7fbfbf; text-decoration-color: #7fbfbf\">           </span><span style=\"color: #008000; text-decoration-color: #008000\">DEBUG   </span> <span style=\"font-weight: bold\">&lt;</span><span style=\"color: #ff00ff; text-decoration-color: #ff00ff; font-weight: bold\">flow.py:</span><span style=\"color: #008080; text-decoration-color: #008080; font-weight: bold\">65</span><span style=\"font-weight: bold\">&gt;</span> Drying flow branch FlowBranch.REAGENTS                                  <a href=\"file:///Users/satyamtiwary/Documents/Python-Things/OpenOligo/openoligo/steps/flow.py\" target=\"_blank\"><span style=\"color: #7f7f7f; text-decoration-color: #7f7f7f\">flow.py</span></a><span style=\"color: #7f7f7f; text-decoration-color: #7f7f7f\">:</span><a href=\"file:///Users/satyamtiwary/Documents/Python-Things/OpenOligo/openoligo/steps/flow.py#65\" target=\"_blank\"><span style=\"color: #7f7f7f; text-decoration-color: #7f7f7f\">65</span></a>\n",
              "</pre>\n"
            ],
            "text/plain": [
              "\u001b[2;36m          \u001b[0m\u001b[2;36m \u001b[0m\u001b[32mDEBUG   \u001b[0m \u001b[1m<\u001b[0m\u001b[1;95mflow.py:\u001b[0m\u001b[1;36m65\u001b[0m\u001b[1m>\u001b[0m Drying flow branch FlowBranch.REAGENTS                                  \u001b]8;id=5510;file:///Users/satyamtiwary/Documents/Python-Things/OpenOligo/openoligo/steps/flow.py\u001b\\\u001b[2mflow.py\u001b[0m\u001b]8;;\u001b\\\u001b[2m:\u001b[0m\u001b]8;id=600517;file:///Users/satyamtiwary/Documents/Python-Things/OpenOligo/openoligo/steps/flow.py#65\u001b\\\u001b[2m65\u001b[0m\u001b]8;;\u001b\\\n"
            ]
          },
          "metadata": {},
          "output_type": "display_data"
        },
        {
          "name": "stdout",
          "output_type": "stream",
          "text": [
            "Add 0.1 M phosphoramidite monomer and 0.5 M tetrazole to the reactor\n"
          ]
        },
        {
          "data": {
            "text/html": [
              "<pre style=\"white-space:pre;overflow-x:auto;line-height:normal;font-family:Menlo,'DejaVu Sans Mono',consolas,'Courier New',monospace\"><span style=\"color: #7fbfbf; text-decoration-color: #7fbfbf\">           </span><span style=\"color: #008000; text-decoration-color: #008000\">DEBUG   </span> <span style=\"font-weight: bold\">&lt;</span><span style=\"color: #ff00ff; text-decoration-color: #ff00ff; font-weight: bold\">wait.py:</span><span style=\"color: #008080; text-decoration-color: #008080; font-weight: bold\">11</span><span style=\"font-weight: bold\">&gt;</span> Start waiting for <span style=\"color: #008080; text-decoration-color: #008080; font-weight: bold\">1.00</span> seconds                                          <a href=\"file:///Users/satyamtiwary/Documents/Python-Things/OpenOligo/openoligo/utils/wait.py\" target=\"_blank\"><span style=\"color: #7f7f7f; text-decoration-color: #7f7f7f\">wait.py</span></a><span style=\"color: #7f7f7f; text-decoration-color: #7f7f7f\">:</span><a href=\"file:///Users/satyamtiwary/Documents/Python-Things/OpenOligo/openoligo/utils/wait.py#11\" target=\"_blank\"><span style=\"color: #7f7f7f; text-decoration-color: #7f7f7f\">11</span></a>\n",
              "</pre>\n"
            ],
            "text/plain": [
              "\u001b[2;36m          \u001b[0m\u001b[2;36m \u001b[0m\u001b[32mDEBUG   \u001b[0m \u001b[1m<\u001b[0m\u001b[1;95mwait.py:\u001b[0m\u001b[1;36m11\u001b[0m\u001b[1m>\u001b[0m Start waiting for \u001b[1;36m1.00\u001b[0m seconds                                          \u001b]8;id=25406;file:///Users/satyamtiwary/Documents/Python-Things/OpenOligo/openoligo/utils/wait.py\u001b\\\u001b[2mwait.py\u001b[0m\u001b]8;;\u001b\\\u001b[2m:\u001b[0m\u001b]8;id=909111;file:///Users/satyamtiwary/Documents/Python-Things/OpenOligo/openoligo/utils/wait.py#11\u001b\\\u001b[2m11\u001b[0m\u001b]8;;\u001b\\\n"
            ]
          },
          "metadata": {},
          "output_type": "display_data"
        },
        {
          "data": {
            "text/html": [
              "<pre style=\"white-space:pre;overflow-x:auto;line-height:normal;font-family:Menlo,'DejaVu Sans Mono',consolas,'Courier New',monospace\"><span style=\"color: #7fbfbf; text-decoration-color: #7fbfbf\">[18:13:54] </span><span style=\"color: #008000; text-decoration-color: #008000\">DEBUG   </span> <span style=\"font-weight: bold\">&lt;</span><span style=\"color: #ff00ff; text-decoration-color: #ff00ff; font-weight: bold\">wait.py:</span><span style=\"color: #008080; text-decoration-color: #008080; font-weight: bold\">13</span><span style=\"font-weight: bold\">&gt;</span> Done waiting for <span style=\"color: #008080; text-decoration-color: #008080; font-weight: bold\">1.00</span> seconds                                           <a href=\"file:///Users/satyamtiwary/Documents/Python-Things/OpenOligo/openoligo/utils/wait.py\" target=\"_blank\"><span style=\"color: #7f7f7f; text-decoration-color: #7f7f7f\">wait.py</span></a><span style=\"color: #7f7f7f; text-decoration-color: #7f7f7f\">:</span><a href=\"file:///Users/satyamtiwary/Documents/Python-Things/OpenOligo/openoligo/utils/wait.py#13\" target=\"_blank\"><span style=\"color: #7f7f7f; text-decoration-color: #7f7f7f\">13</span></a>\n",
              "</pre>\n"
            ],
            "text/plain": [
              "\u001b[2;36m[18:13:54]\u001b[0m\u001b[2;36m \u001b[0m\u001b[32mDEBUG   \u001b[0m \u001b[1m<\u001b[0m\u001b[1;95mwait.py:\u001b[0m\u001b[1;36m13\u001b[0m\u001b[1m>\u001b[0m Done waiting for \u001b[1;36m1.00\u001b[0m seconds                                           \u001b]8;id=693773;file:///Users/satyamtiwary/Documents/Python-Things/OpenOligo/openoligo/utils/wait.py\u001b\\\u001b[2mwait.py\u001b[0m\u001b]8;;\u001b\\\u001b[2m:\u001b[0m\u001b]8;id=703224;file:///Users/satyamtiwary/Documents/Python-Things/OpenOligo/openoligo/utils/wait.py#13\u001b\\\u001b[2m13\u001b[0m\u001b]8;;\u001b\\\n"
            ]
          },
          "metadata": {},
          "output_type": "display_data"
        },
        {
          "data": {
            "text/html": [
              "<pre style=\"white-space:pre;overflow-x:auto;line-height:normal;font-family:Menlo,'DejaVu Sans Mono',consolas,'Courier New',monospace\"><span style=\"color: #7fbfbf; text-decoration-color: #7fbfbf\">           </span><span style=\"color: #008000; text-decoration-color: #008000\">DEBUG   </span> <span style=\"font-weight: bold\">&lt;</span><span style=\"color: #ff00ff; text-decoration-color: #ff00ff; font-weight: bold\">flow.py:</span><span style=\"color: #008080; text-decoration-color: #008080; font-weight: bold\">44</span><span style=\"font-weight: bold\">&gt;</span> Washing flow branch FlowBranch.REACTION with solvent                    <a href=\"file:///Users/satyamtiwary/Documents/Python-Things/OpenOligo/openoligo/steps/flow.py\" target=\"_blank\"><span style=\"color: #7f7f7f; text-decoration-color: #7f7f7f\">flow.py</span></a><span style=\"color: #7f7f7f; text-decoration-color: #7f7f7f\">:</span><a href=\"file:///Users/satyamtiwary/Documents/Python-Things/OpenOligo/openoligo/steps/flow.py#44\" target=\"_blank\"><span style=\"color: #7f7f7f; text-decoration-color: #7f7f7f\">44</span></a>\n",
              "</pre>\n"
            ],
            "text/plain": [
              "\u001b[2;36m          \u001b[0m\u001b[2;36m \u001b[0m\u001b[32mDEBUG   \u001b[0m \u001b[1m<\u001b[0m\u001b[1;95mflow.py:\u001b[0m\u001b[1;36m44\u001b[0m\u001b[1m>\u001b[0m Washing flow branch FlowBranch.REACTION with solvent                    \u001b]8;id=198945;file:///Users/satyamtiwary/Documents/Python-Things/OpenOligo/openoligo/steps/flow.py\u001b\\\u001b[2mflow.py\u001b[0m\u001b]8;;\u001b\\\u001b[2m:\u001b[0m\u001b]8;id=768137;file:///Users/satyamtiwary/Documents/Python-Things/OpenOligo/openoligo/steps/flow.py#44\u001b\\\u001b[2m44\u001b[0m\u001b]8;;\u001b\\\n"
            ]
          },
          "metadata": {},
          "output_type": "display_data"
        },
        {
          "data": {
            "text/html": [
              "<pre style=\"white-space:pre;overflow-x:auto;line-height:normal;font-family:Menlo,'DejaVu Sans Mono',consolas,'Courier New',monospace\"><span style=\"color: #7fbfbf; text-decoration-color: #7fbfbf\">           </span><span style=\"color: #008000; text-decoration-color: #008000\">DEBUG   </span> <span style=\"font-weight: bold\">&lt;</span><span style=\"color: #ff00ff; text-decoration-color: #ff00ff; font-weight: bold\">flow.py:</span><span style=\"color: #008080; text-decoration-color: #008080; font-weight: bold\">44</span><span style=\"font-weight: bold\">&gt;</span> Washing flow branch FlowBranch.REAGENTS with solvent                    <a href=\"file:///Users/satyamtiwary/Documents/Python-Things/OpenOligo/openoligo/steps/flow.py\" target=\"_blank\"><span style=\"color: #7f7f7f; text-decoration-color: #7f7f7f\">flow.py</span></a><span style=\"color: #7f7f7f; text-decoration-color: #7f7f7f\">:</span><a href=\"file:///Users/satyamtiwary/Documents/Python-Things/OpenOligo/openoligo/steps/flow.py#44\" target=\"_blank\"><span style=\"color: #7f7f7f; text-decoration-color: #7f7f7f\">44</span></a>\n",
              "</pre>\n"
            ],
            "text/plain": [
              "\u001b[2;36m          \u001b[0m\u001b[2;36m \u001b[0m\u001b[32mDEBUG   \u001b[0m \u001b[1m<\u001b[0m\u001b[1;95mflow.py:\u001b[0m\u001b[1;36m44\u001b[0m\u001b[1m>\u001b[0m Washing flow branch FlowBranch.REAGENTS with solvent                    \u001b]8;id=464965;file:///Users/satyamtiwary/Documents/Python-Things/OpenOligo/openoligo/steps/flow.py\u001b\\\u001b[2mflow.py\u001b[0m\u001b]8;;\u001b\\\u001b[2m:\u001b[0m\u001b]8;id=725840;file:///Users/satyamtiwary/Documents/Python-Things/OpenOligo/openoligo/steps/flow.py#44\u001b\\\u001b[2m44\u001b[0m\u001b]8;;\u001b\\\n"
            ]
          },
          "metadata": {},
          "output_type": "display_data"
        },
        {
          "data": {
            "text/html": [
              "<pre style=\"white-space:pre;overflow-x:auto;line-height:normal;font-family:Menlo,'DejaVu Sans Mono',consolas,'Courier New',monospace\"><span style=\"color: #7fbfbf; text-decoration-color: #7fbfbf\">           </span><span style=\"color: #008000; text-decoration-color: #008000\">DEBUG   </span> <span style=\"font-weight: bold\">&lt;</span><span style=\"color: #ff00ff; text-decoration-color: #ff00ff; font-weight: bold\">flow.py:</span><span style=\"color: #008080; text-decoration-color: #008080; font-weight: bold\">65</span><span style=\"font-weight: bold\">&gt;</span> Drying flow branch FlowBranch.REACTION                                  <a href=\"file:///Users/satyamtiwary/Documents/Python-Things/OpenOligo/openoligo/steps/flow.py\" target=\"_blank\"><span style=\"color: #7f7f7f; text-decoration-color: #7f7f7f\">flow.py</span></a><span style=\"color: #7f7f7f; text-decoration-color: #7f7f7f\">:</span><a href=\"file:///Users/satyamtiwary/Documents/Python-Things/OpenOligo/openoligo/steps/flow.py#65\" target=\"_blank\"><span style=\"color: #7f7f7f; text-decoration-color: #7f7f7f\">65</span></a>\n",
              "</pre>\n"
            ],
            "text/plain": [
              "\u001b[2;36m          \u001b[0m\u001b[2;36m \u001b[0m\u001b[32mDEBUG   \u001b[0m \u001b[1m<\u001b[0m\u001b[1;95mflow.py:\u001b[0m\u001b[1;36m65\u001b[0m\u001b[1m>\u001b[0m Drying flow branch FlowBranch.REACTION                                  \u001b]8;id=151908;file:///Users/satyamtiwary/Documents/Python-Things/OpenOligo/openoligo/steps/flow.py\u001b\\\u001b[2mflow.py\u001b[0m\u001b]8;;\u001b\\\u001b[2m:\u001b[0m\u001b]8;id=431894;file:///Users/satyamtiwary/Documents/Python-Things/OpenOligo/openoligo/steps/flow.py#65\u001b\\\u001b[2m65\u001b[0m\u001b]8;;\u001b\\\n"
            ]
          },
          "metadata": {},
          "output_type": "display_data"
        },
        {
          "data": {
            "text/html": [
              "<pre style=\"white-space:pre;overflow-x:auto;line-height:normal;font-family:Menlo,'DejaVu Sans Mono',consolas,'Courier New',monospace\"><span style=\"color: #7fbfbf; text-decoration-color: #7fbfbf\">           </span><span style=\"color: #008000; text-decoration-color: #008000\">DEBUG   </span> <span style=\"font-weight: bold\">&lt;</span><span style=\"color: #ff00ff; text-decoration-color: #ff00ff; font-weight: bold\">flow.py:</span><span style=\"color: #008080; text-decoration-color: #008080; font-weight: bold\">65</span><span style=\"font-weight: bold\">&gt;</span> Drying flow branch FlowBranch.REAGENTS                                  <a href=\"file:///Users/satyamtiwary/Documents/Python-Things/OpenOligo/openoligo/steps/flow.py\" target=\"_blank\"><span style=\"color: #7f7f7f; text-decoration-color: #7f7f7f\">flow.py</span></a><span style=\"color: #7f7f7f; text-decoration-color: #7f7f7f\">:</span><a href=\"file:///Users/satyamtiwary/Documents/Python-Things/OpenOligo/openoligo/steps/flow.py#65\" target=\"_blank\"><span style=\"color: #7f7f7f; text-decoration-color: #7f7f7f\">65</span></a>\n",
              "</pre>\n"
            ],
            "text/plain": [
              "\u001b[2;36m          \u001b[0m\u001b[2;36m \u001b[0m\u001b[32mDEBUG   \u001b[0m \u001b[1m<\u001b[0m\u001b[1;95mflow.py:\u001b[0m\u001b[1;36m65\u001b[0m\u001b[1m>\u001b[0m Drying flow branch FlowBranch.REAGENTS                                  \u001b]8;id=993274;file:///Users/satyamtiwary/Documents/Python-Things/OpenOligo/openoligo/steps/flow.py\u001b\\\u001b[2mflow.py\u001b[0m\u001b]8;;\u001b\\\u001b[2m:\u001b[0m\u001b]8;id=169526;file:///Users/satyamtiwary/Documents/Python-Things/OpenOligo/openoligo/steps/flow.py#65\u001b\\\u001b[2m65\u001b[0m\u001b]8;;\u001b\\\n"
            ]
          },
          "metadata": {},
          "output_type": "display_data"
        },
        {
          "name": "stdout",
          "output_type": "stream",
          "text": [
            "Add acetic anhydride/pyridine/THF and N-methyl imidazole to the reactor\n"
          ]
        },
        {
          "data": {
            "text/html": [
              "<pre style=\"white-space:pre;overflow-x:auto;line-height:normal;font-family:Menlo,'DejaVu Sans Mono',consolas,'Courier New',monospace\"><span style=\"color: #7fbfbf; text-decoration-color: #7fbfbf\">           </span><span style=\"color: #008000; text-decoration-color: #008000\">DEBUG   </span> <span style=\"font-weight: bold\">&lt;</span><span style=\"color: #ff00ff; text-decoration-color: #ff00ff; font-weight: bold\">wait.py:</span><span style=\"color: #008080; text-decoration-color: #008080; font-weight: bold\">11</span><span style=\"font-weight: bold\">&gt;</span> Start waiting for <span style=\"color: #008080; text-decoration-color: #008080; font-weight: bold\">1.00</span> seconds                                          <a href=\"file:///Users/satyamtiwary/Documents/Python-Things/OpenOligo/openoligo/utils/wait.py\" target=\"_blank\"><span style=\"color: #7f7f7f; text-decoration-color: #7f7f7f\">wait.py</span></a><span style=\"color: #7f7f7f; text-decoration-color: #7f7f7f\">:</span><a href=\"file:///Users/satyamtiwary/Documents/Python-Things/OpenOligo/openoligo/utils/wait.py#11\" target=\"_blank\"><span style=\"color: #7f7f7f; text-decoration-color: #7f7f7f\">11</span></a>\n",
              "</pre>\n"
            ],
            "text/plain": [
              "\u001b[2;36m          \u001b[0m\u001b[2;36m \u001b[0m\u001b[32mDEBUG   \u001b[0m \u001b[1m<\u001b[0m\u001b[1;95mwait.py:\u001b[0m\u001b[1;36m11\u001b[0m\u001b[1m>\u001b[0m Start waiting for \u001b[1;36m1.00\u001b[0m seconds                                          \u001b]8;id=711807;file:///Users/satyamtiwary/Documents/Python-Things/OpenOligo/openoligo/utils/wait.py\u001b\\\u001b[2mwait.py\u001b[0m\u001b]8;;\u001b\\\u001b[2m:\u001b[0m\u001b]8;id=990959;file:///Users/satyamtiwary/Documents/Python-Things/OpenOligo/openoligo/utils/wait.py#11\u001b\\\u001b[2m11\u001b[0m\u001b]8;;\u001b\\\n"
            ]
          },
          "metadata": {},
          "output_type": "display_data"
        },
        {
          "data": {
            "text/html": [
              "<pre style=\"white-space:pre;overflow-x:auto;line-height:normal;font-family:Menlo,'DejaVu Sans Mono',consolas,'Courier New',monospace\"><span style=\"color: #7fbfbf; text-decoration-color: #7fbfbf\">[18:13:55] </span><span style=\"color: #008000; text-decoration-color: #008000\">DEBUG   </span> <span style=\"font-weight: bold\">&lt;</span><span style=\"color: #ff00ff; text-decoration-color: #ff00ff; font-weight: bold\">wait.py:</span><span style=\"color: #008080; text-decoration-color: #008080; font-weight: bold\">13</span><span style=\"font-weight: bold\">&gt;</span> Done waiting for <span style=\"color: #008080; text-decoration-color: #008080; font-weight: bold\">1.00</span> seconds                                           <a href=\"file:///Users/satyamtiwary/Documents/Python-Things/OpenOligo/openoligo/utils/wait.py\" target=\"_blank\"><span style=\"color: #7f7f7f; text-decoration-color: #7f7f7f\">wait.py</span></a><span style=\"color: #7f7f7f; text-decoration-color: #7f7f7f\">:</span><a href=\"file:///Users/satyamtiwary/Documents/Python-Things/OpenOligo/openoligo/utils/wait.py#13\" target=\"_blank\"><span style=\"color: #7f7f7f; text-decoration-color: #7f7f7f\">13</span></a>\n",
              "</pre>\n"
            ],
            "text/plain": [
              "\u001b[2;36m[18:13:55]\u001b[0m\u001b[2;36m \u001b[0m\u001b[32mDEBUG   \u001b[0m \u001b[1m<\u001b[0m\u001b[1;95mwait.py:\u001b[0m\u001b[1;36m13\u001b[0m\u001b[1m>\u001b[0m Done waiting for \u001b[1;36m1.00\u001b[0m seconds                                           \u001b]8;id=104042;file:///Users/satyamtiwary/Documents/Python-Things/OpenOligo/openoligo/utils/wait.py\u001b\\\u001b[2mwait.py\u001b[0m\u001b]8;;\u001b\\\u001b[2m:\u001b[0m\u001b]8;id=845663;file:///Users/satyamtiwary/Documents/Python-Things/OpenOligo/openoligo/utils/wait.py#13\u001b\\\u001b[2m13\u001b[0m\u001b]8;;\u001b\\\n"
            ]
          },
          "metadata": {},
          "output_type": "display_data"
        },
        {
          "data": {
            "text/html": [
              "<pre style=\"white-space:pre;overflow-x:auto;line-height:normal;font-family:Menlo,'DejaVu Sans Mono',consolas,'Courier New',monospace\"><span style=\"color: #7fbfbf; text-decoration-color: #7fbfbf\">           </span><span style=\"color: #008000; text-decoration-color: #008000\">DEBUG   </span> <span style=\"font-weight: bold\">&lt;</span><span style=\"color: #ff00ff; text-decoration-color: #ff00ff; font-weight: bold\">flow.py:</span><span style=\"color: #008080; text-decoration-color: #008080; font-weight: bold\">44</span><span style=\"font-weight: bold\">&gt;</span> Washing flow branch FlowBranch.REACTION with solvent                    <a href=\"file:///Users/satyamtiwary/Documents/Python-Things/OpenOligo/openoligo/steps/flow.py\" target=\"_blank\"><span style=\"color: #7f7f7f; text-decoration-color: #7f7f7f\">flow.py</span></a><span style=\"color: #7f7f7f; text-decoration-color: #7f7f7f\">:</span><a href=\"file:///Users/satyamtiwary/Documents/Python-Things/OpenOligo/openoligo/steps/flow.py#44\" target=\"_blank\"><span style=\"color: #7f7f7f; text-decoration-color: #7f7f7f\">44</span></a>\n",
              "</pre>\n"
            ],
            "text/plain": [
              "\u001b[2;36m          \u001b[0m\u001b[2;36m \u001b[0m\u001b[32mDEBUG   \u001b[0m \u001b[1m<\u001b[0m\u001b[1;95mflow.py:\u001b[0m\u001b[1;36m44\u001b[0m\u001b[1m>\u001b[0m Washing flow branch FlowBranch.REACTION with solvent                    \u001b]8;id=843789;file:///Users/satyamtiwary/Documents/Python-Things/OpenOligo/openoligo/steps/flow.py\u001b\\\u001b[2mflow.py\u001b[0m\u001b]8;;\u001b\\\u001b[2m:\u001b[0m\u001b]8;id=641452;file:///Users/satyamtiwary/Documents/Python-Things/OpenOligo/openoligo/steps/flow.py#44\u001b\\\u001b[2m44\u001b[0m\u001b]8;;\u001b\\\n"
            ]
          },
          "metadata": {},
          "output_type": "display_data"
        },
        {
          "data": {
            "text/html": [
              "<pre style=\"white-space:pre;overflow-x:auto;line-height:normal;font-family:Menlo,'DejaVu Sans Mono',consolas,'Courier New',monospace\"><span style=\"color: #7fbfbf; text-decoration-color: #7fbfbf\">           </span><span style=\"color: #008000; text-decoration-color: #008000\">DEBUG   </span> <span style=\"font-weight: bold\">&lt;</span><span style=\"color: #ff00ff; text-decoration-color: #ff00ff; font-weight: bold\">flow.py:</span><span style=\"color: #008080; text-decoration-color: #008080; font-weight: bold\">44</span><span style=\"font-weight: bold\">&gt;</span> Washing flow branch FlowBranch.REAGENTS with solvent                    <a href=\"file:///Users/satyamtiwary/Documents/Python-Things/OpenOligo/openoligo/steps/flow.py\" target=\"_blank\"><span style=\"color: #7f7f7f; text-decoration-color: #7f7f7f\">flow.py</span></a><span style=\"color: #7f7f7f; text-decoration-color: #7f7f7f\">:</span><a href=\"file:///Users/satyamtiwary/Documents/Python-Things/OpenOligo/openoligo/steps/flow.py#44\" target=\"_blank\"><span style=\"color: #7f7f7f; text-decoration-color: #7f7f7f\">44</span></a>\n",
              "</pre>\n"
            ],
            "text/plain": [
              "\u001b[2;36m          \u001b[0m\u001b[2;36m \u001b[0m\u001b[32mDEBUG   \u001b[0m \u001b[1m<\u001b[0m\u001b[1;95mflow.py:\u001b[0m\u001b[1;36m44\u001b[0m\u001b[1m>\u001b[0m Washing flow branch FlowBranch.REAGENTS with solvent                    \u001b]8;id=813450;file:///Users/satyamtiwary/Documents/Python-Things/OpenOligo/openoligo/steps/flow.py\u001b\\\u001b[2mflow.py\u001b[0m\u001b]8;;\u001b\\\u001b[2m:\u001b[0m\u001b]8;id=108108;file:///Users/satyamtiwary/Documents/Python-Things/OpenOligo/openoligo/steps/flow.py#44\u001b\\\u001b[2m44\u001b[0m\u001b]8;;\u001b\\\n"
            ]
          },
          "metadata": {},
          "output_type": "display_data"
        },
        {
          "data": {
            "text/html": [
              "<pre style=\"white-space:pre;overflow-x:auto;line-height:normal;font-family:Menlo,'DejaVu Sans Mono',consolas,'Courier New',monospace\"><span style=\"color: #7fbfbf; text-decoration-color: #7fbfbf\">           </span><span style=\"color: #008000; text-decoration-color: #008000\">DEBUG   </span> <span style=\"font-weight: bold\">&lt;</span><span style=\"color: #ff00ff; text-decoration-color: #ff00ff; font-weight: bold\">flow.py:</span><span style=\"color: #008080; text-decoration-color: #008080; font-weight: bold\">65</span><span style=\"font-weight: bold\">&gt;</span> Drying flow branch FlowBranch.REACTION                                  <a href=\"file:///Users/satyamtiwary/Documents/Python-Things/OpenOligo/openoligo/steps/flow.py\" target=\"_blank\"><span style=\"color: #7f7f7f; text-decoration-color: #7f7f7f\">flow.py</span></a><span style=\"color: #7f7f7f; text-decoration-color: #7f7f7f\">:</span><a href=\"file:///Users/satyamtiwary/Documents/Python-Things/OpenOligo/openoligo/steps/flow.py#65\" target=\"_blank\"><span style=\"color: #7f7f7f; text-decoration-color: #7f7f7f\">65</span></a>\n",
              "</pre>\n"
            ],
            "text/plain": [
              "\u001b[2;36m          \u001b[0m\u001b[2;36m \u001b[0m\u001b[32mDEBUG   \u001b[0m \u001b[1m<\u001b[0m\u001b[1;95mflow.py:\u001b[0m\u001b[1;36m65\u001b[0m\u001b[1m>\u001b[0m Drying flow branch FlowBranch.REACTION                                  \u001b]8;id=247479;file:///Users/satyamtiwary/Documents/Python-Things/OpenOligo/openoligo/steps/flow.py\u001b\\\u001b[2mflow.py\u001b[0m\u001b]8;;\u001b\\\u001b[2m:\u001b[0m\u001b]8;id=632004;file:///Users/satyamtiwary/Documents/Python-Things/OpenOligo/openoligo/steps/flow.py#65\u001b\\\u001b[2m65\u001b[0m\u001b]8;;\u001b\\\n"
            ]
          },
          "metadata": {},
          "output_type": "display_data"
        },
        {
          "data": {
            "text/html": [
              "<pre style=\"white-space:pre;overflow-x:auto;line-height:normal;font-family:Menlo,'DejaVu Sans Mono',consolas,'Courier New',monospace\"><span style=\"color: #7fbfbf; text-decoration-color: #7fbfbf\">           </span><span style=\"color: #008000; text-decoration-color: #008000\">DEBUG   </span> <span style=\"font-weight: bold\">&lt;</span><span style=\"color: #ff00ff; text-decoration-color: #ff00ff; font-weight: bold\">flow.py:</span><span style=\"color: #008080; text-decoration-color: #008080; font-weight: bold\">65</span><span style=\"font-weight: bold\">&gt;</span> Drying flow branch FlowBranch.REAGENTS                                  <a href=\"file:///Users/satyamtiwary/Documents/Python-Things/OpenOligo/openoligo/steps/flow.py\" target=\"_blank\"><span style=\"color: #7f7f7f; text-decoration-color: #7f7f7f\">flow.py</span></a><span style=\"color: #7f7f7f; text-decoration-color: #7f7f7f\">:</span><a href=\"file:///Users/satyamtiwary/Documents/Python-Things/OpenOligo/openoligo/steps/flow.py#65\" target=\"_blank\"><span style=\"color: #7f7f7f; text-decoration-color: #7f7f7f\">65</span></a>\n",
              "</pre>\n"
            ],
            "text/plain": [
              "\u001b[2;36m          \u001b[0m\u001b[2;36m \u001b[0m\u001b[32mDEBUG   \u001b[0m \u001b[1m<\u001b[0m\u001b[1;95mflow.py:\u001b[0m\u001b[1;36m65\u001b[0m\u001b[1m>\u001b[0m Drying flow branch FlowBranch.REAGENTS                                  \u001b]8;id=561313;file:///Users/satyamtiwary/Documents/Python-Things/OpenOligo/openoligo/steps/flow.py\u001b\\\u001b[2mflow.py\u001b[0m\u001b]8;;\u001b\\\u001b[2m:\u001b[0m\u001b]8;id=837589;file:///Users/satyamtiwary/Documents/Python-Things/OpenOligo/openoligo/steps/flow.py#65\u001b\\\u001b[2m65\u001b[0m\u001b]8;;\u001b\\\n"
            ]
          },
          "metadata": {},
          "output_type": "display_data"
        },
        {
          "name": "stdout",
          "output_type": "stream",
          "text": [
            "Add 0.015 M iodine in water/pyridine/THF to the reactor\n"
          ]
        },
        {
          "data": {
            "text/html": [
              "<pre style=\"white-space:pre;overflow-x:auto;line-height:normal;font-family:Menlo,'DejaVu Sans Mono',consolas,'Courier New',monospace\"><span style=\"color: #7fbfbf; text-decoration-color: #7fbfbf\">           </span><span style=\"color: #008000; text-decoration-color: #008000\">DEBUG   </span> <span style=\"font-weight: bold\">&lt;</span><span style=\"color: #ff00ff; text-decoration-color: #ff00ff; font-weight: bold\">wait.py:</span><span style=\"color: #008080; text-decoration-color: #008080; font-weight: bold\">11</span><span style=\"font-weight: bold\">&gt;</span> Start waiting for <span style=\"color: #008080; text-decoration-color: #008080; font-weight: bold\">1.00</span> seconds                                          <a href=\"file:///Users/satyamtiwary/Documents/Python-Things/OpenOligo/openoligo/utils/wait.py\" target=\"_blank\"><span style=\"color: #7f7f7f; text-decoration-color: #7f7f7f\">wait.py</span></a><span style=\"color: #7f7f7f; text-decoration-color: #7f7f7f\">:</span><a href=\"file:///Users/satyamtiwary/Documents/Python-Things/OpenOligo/openoligo/utils/wait.py#11\" target=\"_blank\"><span style=\"color: #7f7f7f; text-decoration-color: #7f7f7f\">11</span></a>\n",
              "</pre>\n"
            ],
            "text/plain": [
              "\u001b[2;36m          \u001b[0m\u001b[2;36m \u001b[0m\u001b[32mDEBUG   \u001b[0m \u001b[1m<\u001b[0m\u001b[1;95mwait.py:\u001b[0m\u001b[1;36m11\u001b[0m\u001b[1m>\u001b[0m Start waiting for \u001b[1;36m1.00\u001b[0m seconds                                          \u001b]8;id=63210;file:///Users/satyamtiwary/Documents/Python-Things/OpenOligo/openoligo/utils/wait.py\u001b\\\u001b[2mwait.py\u001b[0m\u001b]8;;\u001b\\\u001b[2m:\u001b[0m\u001b]8;id=363752;file:///Users/satyamtiwary/Documents/Python-Things/OpenOligo/openoligo/utils/wait.py#11\u001b\\\u001b[2m11\u001b[0m\u001b]8;;\u001b\\\n"
            ]
          },
          "metadata": {},
          "output_type": "display_data"
        },
        {
          "data": {
            "text/html": [
              "<pre style=\"white-space:pre;overflow-x:auto;line-height:normal;font-family:Menlo,'DejaVu Sans Mono',consolas,'Courier New',monospace\"><span style=\"color: #7fbfbf; text-decoration-color: #7fbfbf\">[18:13:56] </span><span style=\"color: #008000; text-decoration-color: #008000\">DEBUG   </span> <span style=\"font-weight: bold\">&lt;</span><span style=\"color: #ff00ff; text-decoration-color: #ff00ff; font-weight: bold\">wait.py:</span><span style=\"color: #008080; text-decoration-color: #008080; font-weight: bold\">13</span><span style=\"font-weight: bold\">&gt;</span> Done waiting for <span style=\"color: #008080; text-decoration-color: #008080; font-weight: bold\">1.00</span> seconds                                           <a href=\"file:///Users/satyamtiwary/Documents/Python-Things/OpenOligo/openoligo/utils/wait.py\" target=\"_blank\"><span style=\"color: #7f7f7f; text-decoration-color: #7f7f7f\">wait.py</span></a><span style=\"color: #7f7f7f; text-decoration-color: #7f7f7f\">:</span><a href=\"file:///Users/satyamtiwary/Documents/Python-Things/OpenOligo/openoligo/utils/wait.py#13\" target=\"_blank\"><span style=\"color: #7f7f7f; text-decoration-color: #7f7f7f\">13</span></a>\n",
              "</pre>\n"
            ],
            "text/plain": [
              "\u001b[2;36m[18:13:56]\u001b[0m\u001b[2;36m \u001b[0m\u001b[32mDEBUG   \u001b[0m \u001b[1m<\u001b[0m\u001b[1;95mwait.py:\u001b[0m\u001b[1;36m13\u001b[0m\u001b[1m>\u001b[0m Done waiting for \u001b[1;36m1.00\u001b[0m seconds                                           \u001b]8;id=989901;file:///Users/satyamtiwary/Documents/Python-Things/OpenOligo/openoligo/utils/wait.py\u001b\\\u001b[2mwait.py\u001b[0m\u001b]8;;\u001b\\\u001b[2m:\u001b[0m\u001b]8;id=624796;file:///Users/satyamtiwary/Documents/Python-Things/OpenOligo/openoligo/utils/wait.py#13\u001b\\\u001b[2m13\u001b[0m\u001b]8;;\u001b\\\n"
            ]
          },
          "metadata": {},
          "output_type": "display_data"
        },
        {
          "data": {
            "text/html": [
              "<pre style=\"white-space:pre;overflow-x:auto;line-height:normal;font-family:Menlo,'DejaVu Sans Mono',consolas,'Courier New',monospace\"><span style=\"color: #7fbfbf; text-decoration-color: #7fbfbf\">           </span><span style=\"color: #008000; text-decoration-color: #008000\">DEBUG   </span> <span style=\"font-weight: bold\">&lt;</span><span style=\"color: #ff00ff; text-decoration-color: #ff00ff; font-weight: bold\">flow.py:</span><span style=\"color: #008080; text-decoration-color: #008080; font-weight: bold\">44</span><span style=\"font-weight: bold\">&gt;</span> Washing flow branch FlowBranch.REACTION with solvent                    <a href=\"file:///Users/satyamtiwary/Documents/Python-Things/OpenOligo/openoligo/steps/flow.py\" target=\"_blank\"><span style=\"color: #7f7f7f; text-decoration-color: #7f7f7f\">flow.py</span></a><span style=\"color: #7f7f7f; text-decoration-color: #7f7f7f\">:</span><a href=\"file:///Users/satyamtiwary/Documents/Python-Things/OpenOligo/openoligo/steps/flow.py#44\" target=\"_blank\"><span style=\"color: #7f7f7f; text-decoration-color: #7f7f7f\">44</span></a>\n",
              "</pre>\n"
            ],
            "text/plain": [
              "\u001b[2;36m          \u001b[0m\u001b[2;36m \u001b[0m\u001b[32mDEBUG   \u001b[0m \u001b[1m<\u001b[0m\u001b[1;95mflow.py:\u001b[0m\u001b[1;36m44\u001b[0m\u001b[1m>\u001b[0m Washing flow branch FlowBranch.REACTION with solvent                    \u001b]8;id=863044;file:///Users/satyamtiwary/Documents/Python-Things/OpenOligo/openoligo/steps/flow.py\u001b\\\u001b[2mflow.py\u001b[0m\u001b]8;;\u001b\\\u001b[2m:\u001b[0m\u001b]8;id=361161;file:///Users/satyamtiwary/Documents/Python-Things/OpenOligo/openoligo/steps/flow.py#44\u001b\\\u001b[2m44\u001b[0m\u001b]8;;\u001b\\\n"
            ]
          },
          "metadata": {},
          "output_type": "display_data"
        },
        {
          "data": {
            "text/html": [
              "<pre style=\"white-space:pre;overflow-x:auto;line-height:normal;font-family:Menlo,'DejaVu Sans Mono',consolas,'Courier New',monospace\"><span style=\"color: #7fbfbf; text-decoration-color: #7fbfbf\">           </span><span style=\"color: #008000; text-decoration-color: #008000\">DEBUG   </span> <span style=\"font-weight: bold\">&lt;</span><span style=\"color: #ff00ff; text-decoration-color: #ff00ff; font-weight: bold\">flow.py:</span><span style=\"color: #008080; text-decoration-color: #008080; font-weight: bold\">44</span><span style=\"font-weight: bold\">&gt;</span> Washing flow branch FlowBranch.REAGENTS with solvent                    <a href=\"file:///Users/satyamtiwary/Documents/Python-Things/OpenOligo/openoligo/steps/flow.py\" target=\"_blank\"><span style=\"color: #7f7f7f; text-decoration-color: #7f7f7f\">flow.py</span></a><span style=\"color: #7f7f7f; text-decoration-color: #7f7f7f\">:</span><a href=\"file:///Users/satyamtiwary/Documents/Python-Things/OpenOligo/openoligo/steps/flow.py#44\" target=\"_blank\"><span style=\"color: #7f7f7f; text-decoration-color: #7f7f7f\">44</span></a>\n",
              "</pre>\n"
            ],
            "text/plain": [
              "\u001b[2;36m          \u001b[0m\u001b[2;36m \u001b[0m\u001b[32mDEBUG   \u001b[0m \u001b[1m<\u001b[0m\u001b[1;95mflow.py:\u001b[0m\u001b[1;36m44\u001b[0m\u001b[1m>\u001b[0m Washing flow branch FlowBranch.REAGENTS with solvent                    \u001b]8;id=492353;file:///Users/satyamtiwary/Documents/Python-Things/OpenOligo/openoligo/steps/flow.py\u001b\\\u001b[2mflow.py\u001b[0m\u001b]8;;\u001b\\\u001b[2m:\u001b[0m\u001b]8;id=815046;file:///Users/satyamtiwary/Documents/Python-Things/OpenOligo/openoligo/steps/flow.py#44\u001b\\\u001b[2m44\u001b[0m\u001b]8;;\u001b\\\n"
            ]
          },
          "metadata": {},
          "output_type": "display_data"
        },
        {
          "data": {
            "text/html": [
              "<pre style=\"white-space:pre;overflow-x:auto;line-height:normal;font-family:Menlo,'DejaVu Sans Mono',consolas,'Courier New',monospace\"><span style=\"color: #7fbfbf; text-decoration-color: #7fbfbf\">           </span><span style=\"color: #008000; text-decoration-color: #008000\">DEBUG   </span> <span style=\"font-weight: bold\">&lt;</span><span style=\"color: #ff00ff; text-decoration-color: #ff00ff; font-weight: bold\">flow.py:</span><span style=\"color: #008080; text-decoration-color: #008080; font-weight: bold\">65</span><span style=\"font-weight: bold\">&gt;</span> Drying flow branch FlowBranch.REACTION                                  <a href=\"file:///Users/satyamtiwary/Documents/Python-Things/OpenOligo/openoligo/steps/flow.py\" target=\"_blank\"><span style=\"color: #7f7f7f; text-decoration-color: #7f7f7f\">flow.py</span></a><span style=\"color: #7f7f7f; text-decoration-color: #7f7f7f\">:</span><a href=\"file:///Users/satyamtiwary/Documents/Python-Things/OpenOligo/openoligo/steps/flow.py#65\" target=\"_blank\"><span style=\"color: #7f7f7f; text-decoration-color: #7f7f7f\">65</span></a>\n",
              "</pre>\n"
            ],
            "text/plain": [
              "\u001b[2;36m          \u001b[0m\u001b[2;36m \u001b[0m\u001b[32mDEBUG   \u001b[0m \u001b[1m<\u001b[0m\u001b[1;95mflow.py:\u001b[0m\u001b[1;36m65\u001b[0m\u001b[1m>\u001b[0m Drying flow branch FlowBranch.REACTION                                  \u001b]8;id=603592;file:///Users/satyamtiwary/Documents/Python-Things/OpenOligo/openoligo/steps/flow.py\u001b\\\u001b[2mflow.py\u001b[0m\u001b]8;;\u001b\\\u001b[2m:\u001b[0m\u001b]8;id=733260;file:///Users/satyamtiwary/Documents/Python-Things/OpenOligo/openoligo/steps/flow.py#65\u001b\\\u001b[2m65\u001b[0m\u001b]8;;\u001b\\\n"
            ]
          },
          "metadata": {},
          "output_type": "display_data"
        },
        {
          "data": {
            "text/html": [
              "<pre style=\"white-space:pre;overflow-x:auto;line-height:normal;font-family:Menlo,'DejaVu Sans Mono',consolas,'Courier New',monospace\"><span style=\"color: #7fbfbf; text-decoration-color: #7fbfbf\">           </span><span style=\"color: #008000; text-decoration-color: #008000\">DEBUG   </span> <span style=\"font-weight: bold\">&lt;</span><span style=\"color: #ff00ff; text-decoration-color: #ff00ff; font-weight: bold\">flow.py:</span><span style=\"color: #008080; text-decoration-color: #008080; font-weight: bold\">65</span><span style=\"font-weight: bold\">&gt;</span> Drying flow branch FlowBranch.REAGENTS                                  <a href=\"file:///Users/satyamtiwary/Documents/Python-Things/OpenOligo/openoligo/steps/flow.py\" target=\"_blank\"><span style=\"color: #7f7f7f; text-decoration-color: #7f7f7f\">flow.py</span></a><span style=\"color: #7f7f7f; text-decoration-color: #7f7f7f\">:</span><a href=\"file:///Users/satyamtiwary/Documents/Python-Things/OpenOligo/openoligo/steps/flow.py#65\" target=\"_blank\"><span style=\"color: #7f7f7f; text-decoration-color: #7f7f7f\">65</span></a>\n",
              "</pre>\n"
            ],
            "text/plain": [
              "\u001b[2;36m          \u001b[0m\u001b[2;36m \u001b[0m\u001b[32mDEBUG   \u001b[0m \u001b[1m<\u001b[0m\u001b[1;95mflow.py:\u001b[0m\u001b[1;36m65\u001b[0m\u001b[1m>\u001b[0m Drying flow branch FlowBranch.REAGENTS                                  \u001b]8;id=623790;file:///Users/satyamtiwary/Documents/Python-Things/OpenOligo/openoligo/steps/flow.py\u001b\\\u001b[2mflow.py\u001b[0m\u001b]8;;\u001b\\\u001b[2m:\u001b[0m\u001b]8;id=866413;file:///Users/satyamtiwary/Documents/Python-Things/OpenOligo/openoligo/steps/flow.py#65\u001b\\\u001b[2m65\u001b[0m\u001b]8;;\u001b\\\n"
            ]
          },
          "metadata": {},
          "output_type": "display_data"
        },
        {
          "name": "stderr",
          "output_type": "stream",
          "text": [
            " 33%|████████████████████████▎                                                | 3/9 [00:09<00:20,  3.35s/it]"
          ]
        },
        {
          "data": {
            "text/html": [
              "<pre style=\"white-space:pre;overflow-x:auto;line-height:normal;font-family:Menlo,'DejaVu Sans Mono',consolas,'Courier New',monospace\"><span style=\"color: #7fbfbf; text-decoration-color: #7fbfbf\">           </span><span style=\"color: #008000; text-decoration-color: #008000\">DEBUG   </span> <span style=\"font-weight: bold\">&lt;</span><span style=\"color: #ff00ff; text-decoration-color: #ff00ff; font-weight: bold\">wait.py:</span><span style=\"color: #008080; text-decoration-color: #008080; font-weight: bold\">11</span><span style=\"font-weight: bold\">&gt;</span> Start waiting for <span style=\"color: #008080; text-decoration-color: #008080; font-weight: bold\">1.00</span> seconds                                          <a href=\"file:///Users/satyamtiwary/Documents/Python-Things/OpenOligo/openoligo/utils/wait.py\" target=\"_blank\"><span style=\"color: #7f7f7f; text-decoration-color: #7f7f7f\">wait.py</span></a><span style=\"color: #7f7f7f; text-decoration-color: #7f7f7f\">:</span><a href=\"file:///Users/satyamtiwary/Documents/Python-Things/OpenOligo/openoligo/utils/wait.py#11\" target=\"_blank\"><span style=\"color: #7f7f7f; text-decoration-color: #7f7f7f\">11</span></a>\n",
              "</pre>\n"
            ],
            "text/plain": [
              "\u001b[2;36m          \u001b[0m\u001b[2;36m \u001b[0m\u001b[32mDEBUG   \u001b[0m \u001b[1m<\u001b[0m\u001b[1;95mwait.py:\u001b[0m\u001b[1;36m11\u001b[0m\u001b[1m>\u001b[0m Start waiting for \u001b[1;36m1.00\u001b[0m seconds                                          \u001b]8;id=483595;file:///Users/satyamtiwary/Documents/Python-Things/OpenOligo/openoligo/utils/wait.py\u001b\\\u001b[2mwait.py\u001b[0m\u001b]8;;\u001b\\\u001b[2m:\u001b[0m\u001b]8;id=274040;file:///Users/satyamtiwary/Documents/Python-Things/OpenOligo/openoligo/utils/wait.py#11\u001b\\\u001b[2m11\u001b[0m\u001b]8;;\u001b\\\n"
            ]
          },
          "metadata": {},
          "output_type": "display_data"
        },
        {
          "data": {
            "text/html": [
              "<pre style=\"white-space:pre;overflow-x:auto;line-height:normal;font-family:Menlo,'DejaVu Sans Mono',consolas,'Courier New',monospace\"><span style=\"color: #7fbfbf; text-decoration-color: #7fbfbf\">[18:13:57] </span><span style=\"color: #008000; text-decoration-color: #008000\">DEBUG   </span> <span style=\"font-weight: bold\">&lt;</span><span style=\"color: #ff00ff; text-decoration-color: #ff00ff; font-weight: bold\">wait.py:</span><span style=\"color: #008080; text-decoration-color: #008080; font-weight: bold\">13</span><span style=\"font-weight: bold\">&gt;</span> Done waiting for <span style=\"color: #008080; text-decoration-color: #008080; font-weight: bold\">1.00</span> seconds                                           <a href=\"file:///Users/satyamtiwary/Documents/Python-Things/OpenOligo/openoligo/utils/wait.py\" target=\"_blank\"><span style=\"color: #7f7f7f; text-decoration-color: #7f7f7f\">wait.py</span></a><span style=\"color: #7f7f7f; text-decoration-color: #7f7f7f\">:</span><a href=\"file:///Users/satyamtiwary/Documents/Python-Things/OpenOligo/openoligo/utils/wait.py#13\" target=\"_blank\"><span style=\"color: #7f7f7f; text-decoration-color: #7f7f7f\">13</span></a>\n",
              "</pre>\n"
            ],
            "text/plain": [
              "\u001b[2;36m[18:13:57]\u001b[0m\u001b[2;36m \u001b[0m\u001b[32mDEBUG   \u001b[0m \u001b[1m<\u001b[0m\u001b[1;95mwait.py:\u001b[0m\u001b[1;36m13\u001b[0m\u001b[1m>\u001b[0m Done waiting for \u001b[1;36m1.00\u001b[0m seconds                                           \u001b]8;id=27904;file:///Users/satyamtiwary/Documents/Python-Things/OpenOligo/openoligo/utils/wait.py\u001b\\\u001b[2mwait.py\u001b[0m\u001b]8;;\u001b\\\u001b[2m:\u001b[0m\u001b]8;id=615494;file:///Users/satyamtiwary/Documents/Python-Things/OpenOligo/openoligo/utils/wait.py#13\u001b\\\u001b[2m13\u001b[0m\u001b]8;;\u001b\\\n"
            ]
          },
          "metadata": {},
          "output_type": "display_data"
        },
        {
          "name": "stdout",
          "output_type": "stream",
          "text": [
            "Adding 2th base 'T' to growing DNA strand\n",
            "Add 3% trichloroacetic acid in dichloromethane to the reactor\n"
          ]
        },
        {
          "data": {
            "text/html": [
              "<pre style=\"white-space:pre;overflow-x:auto;line-height:normal;font-family:Menlo,'DejaVu Sans Mono',consolas,'Courier New',monospace\"><span style=\"color: #7fbfbf; text-decoration-color: #7fbfbf\">           </span><span style=\"color: #008000; text-decoration-color: #008000\">DEBUG   </span> <span style=\"font-weight: bold\">&lt;</span><span style=\"color: #ff00ff; text-decoration-color: #ff00ff; font-weight: bold\">wait.py:</span><span style=\"color: #008080; text-decoration-color: #008080; font-weight: bold\">11</span><span style=\"font-weight: bold\">&gt;</span> Start waiting for <span style=\"color: #008080; text-decoration-color: #008080; font-weight: bold\">1.00</span> seconds                                          <a href=\"file:///Users/satyamtiwary/Documents/Python-Things/OpenOligo/openoligo/utils/wait.py\" target=\"_blank\"><span style=\"color: #7f7f7f; text-decoration-color: #7f7f7f\">wait.py</span></a><span style=\"color: #7f7f7f; text-decoration-color: #7f7f7f\">:</span><a href=\"file:///Users/satyamtiwary/Documents/Python-Things/OpenOligo/openoligo/utils/wait.py#11\" target=\"_blank\"><span style=\"color: #7f7f7f; text-decoration-color: #7f7f7f\">11</span></a>\n",
              "</pre>\n"
            ],
            "text/plain": [
              "\u001b[2;36m          \u001b[0m\u001b[2;36m \u001b[0m\u001b[32mDEBUG   \u001b[0m \u001b[1m<\u001b[0m\u001b[1;95mwait.py:\u001b[0m\u001b[1;36m11\u001b[0m\u001b[1m>\u001b[0m Start waiting for \u001b[1;36m1.00\u001b[0m seconds                                          \u001b]8;id=764514;file:///Users/satyamtiwary/Documents/Python-Things/OpenOligo/openoligo/utils/wait.py\u001b\\\u001b[2mwait.py\u001b[0m\u001b]8;;\u001b\\\u001b[2m:\u001b[0m\u001b]8;id=50173;file:///Users/satyamtiwary/Documents/Python-Things/OpenOligo/openoligo/utils/wait.py#11\u001b\\\u001b[2m11\u001b[0m\u001b]8;;\u001b\\\n"
            ]
          },
          "metadata": {},
          "output_type": "display_data"
        },
        {
          "data": {
            "text/html": [
              "<pre style=\"white-space:pre;overflow-x:auto;line-height:normal;font-family:Menlo,'DejaVu Sans Mono',consolas,'Courier New',monospace\"><span style=\"color: #7fbfbf; text-decoration-color: #7fbfbf\">[18:13:58] </span><span style=\"color: #008000; text-decoration-color: #008000\">DEBUG   </span> <span style=\"font-weight: bold\">&lt;</span><span style=\"color: #ff00ff; text-decoration-color: #ff00ff; font-weight: bold\">wait.py:</span><span style=\"color: #008080; text-decoration-color: #008080; font-weight: bold\">13</span><span style=\"font-weight: bold\">&gt;</span> Done waiting for <span style=\"color: #008080; text-decoration-color: #008080; font-weight: bold\">1.00</span> seconds                                           <a href=\"file:///Users/satyamtiwary/Documents/Python-Things/OpenOligo/openoligo/utils/wait.py\" target=\"_blank\"><span style=\"color: #7f7f7f; text-decoration-color: #7f7f7f\">wait.py</span></a><span style=\"color: #7f7f7f; text-decoration-color: #7f7f7f\">:</span><a href=\"file:///Users/satyamtiwary/Documents/Python-Things/OpenOligo/openoligo/utils/wait.py#13\" target=\"_blank\"><span style=\"color: #7f7f7f; text-decoration-color: #7f7f7f\">13</span></a>\n",
              "</pre>\n"
            ],
            "text/plain": [
              "\u001b[2;36m[18:13:58]\u001b[0m\u001b[2;36m \u001b[0m\u001b[32mDEBUG   \u001b[0m \u001b[1m<\u001b[0m\u001b[1;95mwait.py:\u001b[0m\u001b[1;36m13\u001b[0m\u001b[1m>\u001b[0m Done waiting for \u001b[1;36m1.00\u001b[0m seconds                                           \u001b]8;id=454284;file:///Users/satyamtiwary/Documents/Python-Things/OpenOligo/openoligo/utils/wait.py\u001b\\\u001b[2mwait.py\u001b[0m\u001b]8;;\u001b\\\u001b[2m:\u001b[0m\u001b]8;id=687568;file:///Users/satyamtiwary/Documents/Python-Things/OpenOligo/openoligo/utils/wait.py#13\u001b\\\u001b[2m13\u001b[0m\u001b]8;;\u001b\\\n"
            ]
          },
          "metadata": {},
          "output_type": "display_data"
        },
        {
          "data": {
            "text/html": [
              "<pre style=\"white-space:pre;overflow-x:auto;line-height:normal;font-family:Menlo,'DejaVu Sans Mono',consolas,'Courier New',monospace\"><span style=\"color: #7fbfbf; text-decoration-color: #7fbfbf\">           </span><span style=\"color: #008000; text-decoration-color: #008000\">DEBUG   </span> <span style=\"font-weight: bold\">&lt;</span><span style=\"color: #ff00ff; text-decoration-color: #ff00ff; font-weight: bold\">flow.py:</span><span style=\"color: #008080; text-decoration-color: #008080; font-weight: bold\">44</span><span style=\"font-weight: bold\">&gt;</span> Washing flow branch FlowBranch.REACTION with solvent                    <a href=\"file:///Users/satyamtiwary/Documents/Python-Things/OpenOligo/openoligo/steps/flow.py\" target=\"_blank\"><span style=\"color: #7f7f7f; text-decoration-color: #7f7f7f\">flow.py</span></a><span style=\"color: #7f7f7f; text-decoration-color: #7f7f7f\">:</span><a href=\"file:///Users/satyamtiwary/Documents/Python-Things/OpenOligo/openoligo/steps/flow.py#44\" target=\"_blank\"><span style=\"color: #7f7f7f; text-decoration-color: #7f7f7f\">44</span></a>\n",
              "</pre>\n"
            ],
            "text/plain": [
              "\u001b[2;36m          \u001b[0m\u001b[2;36m \u001b[0m\u001b[32mDEBUG   \u001b[0m \u001b[1m<\u001b[0m\u001b[1;95mflow.py:\u001b[0m\u001b[1;36m44\u001b[0m\u001b[1m>\u001b[0m Washing flow branch FlowBranch.REACTION with solvent                    \u001b]8;id=628592;file:///Users/satyamtiwary/Documents/Python-Things/OpenOligo/openoligo/steps/flow.py\u001b\\\u001b[2mflow.py\u001b[0m\u001b]8;;\u001b\\\u001b[2m:\u001b[0m\u001b]8;id=939603;file:///Users/satyamtiwary/Documents/Python-Things/OpenOligo/openoligo/steps/flow.py#44\u001b\\\u001b[2m44\u001b[0m\u001b]8;;\u001b\\\n"
            ]
          },
          "metadata": {},
          "output_type": "display_data"
        },
        {
          "data": {
            "text/html": [
              "<pre style=\"white-space:pre;overflow-x:auto;line-height:normal;font-family:Menlo,'DejaVu Sans Mono',consolas,'Courier New',monospace\"><span style=\"color: #7fbfbf; text-decoration-color: #7fbfbf\">           </span><span style=\"color: #008000; text-decoration-color: #008000\">DEBUG   </span> <span style=\"font-weight: bold\">&lt;</span><span style=\"color: #ff00ff; text-decoration-color: #ff00ff; font-weight: bold\">flow.py:</span><span style=\"color: #008080; text-decoration-color: #008080; font-weight: bold\">44</span><span style=\"font-weight: bold\">&gt;</span> Washing flow branch FlowBranch.REAGENTS with solvent                    <a href=\"file:///Users/satyamtiwary/Documents/Python-Things/OpenOligo/openoligo/steps/flow.py\" target=\"_blank\"><span style=\"color: #7f7f7f; text-decoration-color: #7f7f7f\">flow.py</span></a><span style=\"color: #7f7f7f; text-decoration-color: #7f7f7f\">:</span><a href=\"file:///Users/satyamtiwary/Documents/Python-Things/OpenOligo/openoligo/steps/flow.py#44\" target=\"_blank\"><span style=\"color: #7f7f7f; text-decoration-color: #7f7f7f\">44</span></a>\n",
              "</pre>\n"
            ],
            "text/plain": [
              "\u001b[2;36m          \u001b[0m\u001b[2;36m \u001b[0m\u001b[32mDEBUG   \u001b[0m \u001b[1m<\u001b[0m\u001b[1;95mflow.py:\u001b[0m\u001b[1;36m44\u001b[0m\u001b[1m>\u001b[0m Washing flow branch FlowBranch.REAGENTS with solvent                    \u001b]8;id=858489;file:///Users/satyamtiwary/Documents/Python-Things/OpenOligo/openoligo/steps/flow.py\u001b\\\u001b[2mflow.py\u001b[0m\u001b]8;;\u001b\\\u001b[2m:\u001b[0m\u001b]8;id=997053;file:///Users/satyamtiwary/Documents/Python-Things/OpenOligo/openoligo/steps/flow.py#44\u001b\\\u001b[2m44\u001b[0m\u001b]8;;\u001b\\\n"
            ]
          },
          "metadata": {},
          "output_type": "display_data"
        },
        {
          "data": {
            "text/html": [
              "<pre style=\"white-space:pre;overflow-x:auto;line-height:normal;font-family:Menlo,'DejaVu Sans Mono',consolas,'Courier New',monospace\"><span style=\"color: #7fbfbf; text-decoration-color: #7fbfbf\">           </span><span style=\"color: #008000; text-decoration-color: #008000\">DEBUG   </span> <span style=\"font-weight: bold\">&lt;</span><span style=\"color: #ff00ff; text-decoration-color: #ff00ff; font-weight: bold\">flow.py:</span><span style=\"color: #008080; text-decoration-color: #008080; font-weight: bold\">65</span><span style=\"font-weight: bold\">&gt;</span> Drying flow branch FlowBranch.REACTION                                  <a href=\"file:///Users/satyamtiwary/Documents/Python-Things/OpenOligo/openoligo/steps/flow.py\" target=\"_blank\"><span style=\"color: #7f7f7f; text-decoration-color: #7f7f7f\">flow.py</span></a><span style=\"color: #7f7f7f; text-decoration-color: #7f7f7f\">:</span><a href=\"file:///Users/satyamtiwary/Documents/Python-Things/OpenOligo/openoligo/steps/flow.py#65\" target=\"_blank\"><span style=\"color: #7f7f7f; text-decoration-color: #7f7f7f\">65</span></a>\n",
              "</pre>\n"
            ],
            "text/plain": [
              "\u001b[2;36m          \u001b[0m\u001b[2;36m \u001b[0m\u001b[32mDEBUG   \u001b[0m \u001b[1m<\u001b[0m\u001b[1;95mflow.py:\u001b[0m\u001b[1;36m65\u001b[0m\u001b[1m>\u001b[0m Drying flow branch FlowBranch.REACTION                                  \u001b]8;id=698187;file:///Users/satyamtiwary/Documents/Python-Things/OpenOligo/openoligo/steps/flow.py\u001b\\\u001b[2mflow.py\u001b[0m\u001b]8;;\u001b\\\u001b[2m:\u001b[0m\u001b]8;id=925073;file:///Users/satyamtiwary/Documents/Python-Things/OpenOligo/openoligo/steps/flow.py#65\u001b\\\u001b[2m65\u001b[0m\u001b]8;;\u001b\\\n"
            ]
          },
          "metadata": {},
          "output_type": "display_data"
        },
        {
          "data": {
            "text/html": [
              "<pre style=\"white-space:pre;overflow-x:auto;line-height:normal;font-family:Menlo,'DejaVu Sans Mono',consolas,'Courier New',monospace\"><span style=\"color: #7fbfbf; text-decoration-color: #7fbfbf\">           </span><span style=\"color: #008000; text-decoration-color: #008000\">DEBUG   </span> <span style=\"font-weight: bold\">&lt;</span><span style=\"color: #ff00ff; text-decoration-color: #ff00ff; font-weight: bold\">flow.py:</span><span style=\"color: #008080; text-decoration-color: #008080; font-weight: bold\">65</span><span style=\"font-weight: bold\">&gt;</span> Drying flow branch FlowBranch.REAGENTS                                  <a href=\"file:///Users/satyamtiwary/Documents/Python-Things/OpenOligo/openoligo/steps/flow.py\" target=\"_blank\"><span style=\"color: #7f7f7f; text-decoration-color: #7f7f7f\">flow.py</span></a><span style=\"color: #7f7f7f; text-decoration-color: #7f7f7f\">:</span><a href=\"file:///Users/satyamtiwary/Documents/Python-Things/OpenOligo/openoligo/steps/flow.py#65\" target=\"_blank\"><span style=\"color: #7f7f7f; text-decoration-color: #7f7f7f\">65</span></a>\n",
              "</pre>\n"
            ],
            "text/plain": [
              "\u001b[2;36m          \u001b[0m\u001b[2;36m \u001b[0m\u001b[32mDEBUG   \u001b[0m \u001b[1m<\u001b[0m\u001b[1;95mflow.py:\u001b[0m\u001b[1;36m65\u001b[0m\u001b[1m>\u001b[0m Drying flow branch FlowBranch.REAGENTS                                  \u001b]8;id=923639;file:///Users/satyamtiwary/Documents/Python-Things/OpenOligo/openoligo/steps/flow.py\u001b\\\u001b[2mflow.py\u001b[0m\u001b]8;;\u001b\\\u001b[2m:\u001b[0m\u001b]8;id=610016;file:///Users/satyamtiwary/Documents/Python-Things/OpenOligo/openoligo/steps/flow.py#65\u001b\\\u001b[2m65\u001b[0m\u001b]8;;\u001b\\\n"
            ]
          },
          "metadata": {},
          "output_type": "display_data"
        },
        {
          "name": "stdout",
          "output_type": "stream",
          "text": [
            "Add 0.1 M phosphoramidite monomer and 0.5 M tetrazole to the reactor\n"
          ]
        },
        {
          "data": {
            "text/html": [
              "<pre style=\"white-space:pre;overflow-x:auto;line-height:normal;font-family:Menlo,'DejaVu Sans Mono',consolas,'Courier New',monospace\"><span style=\"color: #7fbfbf; text-decoration-color: #7fbfbf\">           </span><span style=\"color: #008000; text-decoration-color: #008000\">DEBUG   </span> <span style=\"font-weight: bold\">&lt;</span><span style=\"color: #ff00ff; text-decoration-color: #ff00ff; font-weight: bold\">wait.py:</span><span style=\"color: #008080; text-decoration-color: #008080; font-weight: bold\">11</span><span style=\"font-weight: bold\">&gt;</span> Start waiting for <span style=\"color: #008080; text-decoration-color: #008080; font-weight: bold\">1.00</span> seconds                                          <a href=\"file:///Users/satyamtiwary/Documents/Python-Things/OpenOligo/openoligo/utils/wait.py\" target=\"_blank\"><span style=\"color: #7f7f7f; text-decoration-color: #7f7f7f\">wait.py</span></a><span style=\"color: #7f7f7f; text-decoration-color: #7f7f7f\">:</span><a href=\"file:///Users/satyamtiwary/Documents/Python-Things/OpenOligo/openoligo/utils/wait.py#11\" target=\"_blank\"><span style=\"color: #7f7f7f; text-decoration-color: #7f7f7f\">11</span></a>\n",
              "</pre>\n"
            ],
            "text/plain": [
              "\u001b[2;36m          \u001b[0m\u001b[2;36m \u001b[0m\u001b[32mDEBUG   \u001b[0m \u001b[1m<\u001b[0m\u001b[1;95mwait.py:\u001b[0m\u001b[1;36m11\u001b[0m\u001b[1m>\u001b[0m Start waiting for \u001b[1;36m1.00\u001b[0m seconds                                          \u001b]8;id=956527;file:///Users/satyamtiwary/Documents/Python-Things/OpenOligo/openoligo/utils/wait.py\u001b\\\u001b[2mwait.py\u001b[0m\u001b]8;;\u001b\\\u001b[2m:\u001b[0m\u001b]8;id=405358;file:///Users/satyamtiwary/Documents/Python-Things/OpenOligo/openoligo/utils/wait.py#11\u001b\\\u001b[2m11\u001b[0m\u001b]8;;\u001b\\\n"
            ]
          },
          "metadata": {},
          "output_type": "display_data"
        },
        {
          "data": {
            "text/html": [
              "<pre style=\"white-space:pre;overflow-x:auto;line-height:normal;font-family:Menlo,'DejaVu Sans Mono',consolas,'Courier New',monospace\"><span style=\"color: #7fbfbf; text-decoration-color: #7fbfbf\">[18:13:59] </span><span style=\"color: #008000; text-decoration-color: #008000\">DEBUG   </span> <span style=\"font-weight: bold\">&lt;</span><span style=\"color: #ff00ff; text-decoration-color: #ff00ff; font-weight: bold\">wait.py:</span><span style=\"color: #008080; text-decoration-color: #008080; font-weight: bold\">13</span><span style=\"font-weight: bold\">&gt;</span> Done waiting for <span style=\"color: #008080; text-decoration-color: #008080; font-weight: bold\">1.00</span> seconds                                           <a href=\"file:///Users/satyamtiwary/Documents/Python-Things/OpenOligo/openoligo/utils/wait.py\" target=\"_blank\"><span style=\"color: #7f7f7f; text-decoration-color: #7f7f7f\">wait.py</span></a><span style=\"color: #7f7f7f; text-decoration-color: #7f7f7f\">:</span><a href=\"file:///Users/satyamtiwary/Documents/Python-Things/OpenOligo/openoligo/utils/wait.py#13\" target=\"_blank\"><span style=\"color: #7f7f7f; text-decoration-color: #7f7f7f\">13</span></a>\n",
              "</pre>\n"
            ],
            "text/plain": [
              "\u001b[2;36m[18:13:59]\u001b[0m\u001b[2;36m \u001b[0m\u001b[32mDEBUG   \u001b[0m \u001b[1m<\u001b[0m\u001b[1;95mwait.py:\u001b[0m\u001b[1;36m13\u001b[0m\u001b[1m>\u001b[0m Done waiting for \u001b[1;36m1.00\u001b[0m seconds                                           \u001b]8;id=418461;file:///Users/satyamtiwary/Documents/Python-Things/OpenOligo/openoligo/utils/wait.py\u001b\\\u001b[2mwait.py\u001b[0m\u001b]8;;\u001b\\\u001b[2m:\u001b[0m\u001b]8;id=364955;file:///Users/satyamtiwary/Documents/Python-Things/OpenOligo/openoligo/utils/wait.py#13\u001b\\\u001b[2m13\u001b[0m\u001b]8;;\u001b\\\n"
            ]
          },
          "metadata": {},
          "output_type": "display_data"
        },
        {
          "data": {
            "text/html": [
              "<pre style=\"white-space:pre;overflow-x:auto;line-height:normal;font-family:Menlo,'DejaVu Sans Mono',consolas,'Courier New',monospace\"><span style=\"color: #7fbfbf; text-decoration-color: #7fbfbf\">           </span><span style=\"color: #008000; text-decoration-color: #008000\">DEBUG   </span> <span style=\"font-weight: bold\">&lt;</span><span style=\"color: #ff00ff; text-decoration-color: #ff00ff; font-weight: bold\">flow.py:</span><span style=\"color: #008080; text-decoration-color: #008080; font-weight: bold\">44</span><span style=\"font-weight: bold\">&gt;</span> Washing flow branch FlowBranch.REACTION with solvent                    <a href=\"file:///Users/satyamtiwary/Documents/Python-Things/OpenOligo/openoligo/steps/flow.py\" target=\"_blank\"><span style=\"color: #7f7f7f; text-decoration-color: #7f7f7f\">flow.py</span></a><span style=\"color: #7f7f7f; text-decoration-color: #7f7f7f\">:</span><a href=\"file:///Users/satyamtiwary/Documents/Python-Things/OpenOligo/openoligo/steps/flow.py#44\" target=\"_blank\"><span style=\"color: #7f7f7f; text-decoration-color: #7f7f7f\">44</span></a>\n",
              "</pre>\n"
            ],
            "text/plain": [
              "\u001b[2;36m          \u001b[0m\u001b[2;36m \u001b[0m\u001b[32mDEBUG   \u001b[0m \u001b[1m<\u001b[0m\u001b[1;95mflow.py:\u001b[0m\u001b[1;36m44\u001b[0m\u001b[1m>\u001b[0m Washing flow branch FlowBranch.REACTION with solvent                    \u001b]8;id=459419;file:///Users/satyamtiwary/Documents/Python-Things/OpenOligo/openoligo/steps/flow.py\u001b\\\u001b[2mflow.py\u001b[0m\u001b]8;;\u001b\\\u001b[2m:\u001b[0m\u001b]8;id=557442;file:///Users/satyamtiwary/Documents/Python-Things/OpenOligo/openoligo/steps/flow.py#44\u001b\\\u001b[2m44\u001b[0m\u001b]8;;\u001b\\\n"
            ]
          },
          "metadata": {},
          "output_type": "display_data"
        },
        {
          "data": {
            "text/html": [
              "<pre style=\"white-space:pre;overflow-x:auto;line-height:normal;font-family:Menlo,'DejaVu Sans Mono',consolas,'Courier New',monospace\"><span style=\"color: #7fbfbf; text-decoration-color: #7fbfbf\">           </span><span style=\"color: #008000; text-decoration-color: #008000\">DEBUG   </span> <span style=\"font-weight: bold\">&lt;</span><span style=\"color: #ff00ff; text-decoration-color: #ff00ff; font-weight: bold\">flow.py:</span><span style=\"color: #008080; text-decoration-color: #008080; font-weight: bold\">44</span><span style=\"font-weight: bold\">&gt;</span> Washing flow branch FlowBranch.REAGENTS with solvent                    <a href=\"file:///Users/satyamtiwary/Documents/Python-Things/OpenOligo/openoligo/steps/flow.py\" target=\"_blank\"><span style=\"color: #7f7f7f; text-decoration-color: #7f7f7f\">flow.py</span></a><span style=\"color: #7f7f7f; text-decoration-color: #7f7f7f\">:</span><a href=\"file:///Users/satyamtiwary/Documents/Python-Things/OpenOligo/openoligo/steps/flow.py#44\" target=\"_blank\"><span style=\"color: #7f7f7f; text-decoration-color: #7f7f7f\">44</span></a>\n",
              "</pre>\n"
            ],
            "text/plain": [
              "\u001b[2;36m          \u001b[0m\u001b[2;36m \u001b[0m\u001b[32mDEBUG   \u001b[0m \u001b[1m<\u001b[0m\u001b[1;95mflow.py:\u001b[0m\u001b[1;36m44\u001b[0m\u001b[1m>\u001b[0m Washing flow branch FlowBranch.REAGENTS with solvent                    \u001b]8;id=142144;file:///Users/satyamtiwary/Documents/Python-Things/OpenOligo/openoligo/steps/flow.py\u001b\\\u001b[2mflow.py\u001b[0m\u001b]8;;\u001b\\\u001b[2m:\u001b[0m\u001b]8;id=104932;file:///Users/satyamtiwary/Documents/Python-Things/OpenOligo/openoligo/steps/flow.py#44\u001b\\\u001b[2m44\u001b[0m\u001b]8;;\u001b\\\n"
            ]
          },
          "metadata": {},
          "output_type": "display_data"
        },
        {
          "data": {
            "text/html": [
              "<pre style=\"white-space:pre;overflow-x:auto;line-height:normal;font-family:Menlo,'DejaVu Sans Mono',consolas,'Courier New',monospace\"><span style=\"color: #7fbfbf; text-decoration-color: #7fbfbf\">           </span><span style=\"color: #008000; text-decoration-color: #008000\">DEBUG   </span> <span style=\"font-weight: bold\">&lt;</span><span style=\"color: #ff00ff; text-decoration-color: #ff00ff; font-weight: bold\">flow.py:</span><span style=\"color: #008080; text-decoration-color: #008080; font-weight: bold\">65</span><span style=\"font-weight: bold\">&gt;</span> Drying flow branch FlowBranch.REACTION                                  <a href=\"file:///Users/satyamtiwary/Documents/Python-Things/OpenOligo/openoligo/steps/flow.py\" target=\"_blank\"><span style=\"color: #7f7f7f; text-decoration-color: #7f7f7f\">flow.py</span></a><span style=\"color: #7f7f7f; text-decoration-color: #7f7f7f\">:</span><a href=\"file:///Users/satyamtiwary/Documents/Python-Things/OpenOligo/openoligo/steps/flow.py#65\" target=\"_blank\"><span style=\"color: #7f7f7f; text-decoration-color: #7f7f7f\">65</span></a>\n",
              "</pre>\n"
            ],
            "text/plain": [
              "\u001b[2;36m          \u001b[0m\u001b[2;36m \u001b[0m\u001b[32mDEBUG   \u001b[0m \u001b[1m<\u001b[0m\u001b[1;95mflow.py:\u001b[0m\u001b[1;36m65\u001b[0m\u001b[1m>\u001b[0m Drying flow branch FlowBranch.REACTION                                  \u001b]8;id=527302;file:///Users/satyamtiwary/Documents/Python-Things/OpenOligo/openoligo/steps/flow.py\u001b\\\u001b[2mflow.py\u001b[0m\u001b]8;;\u001b\\\u001b[2m:\u001b[0m\u001b]8;id=85063;file:///Users/satyamtiwary/Documents/Python-Things/OpenOligo/openoligo/steps/flow.py#65\u001b\\\u001b[2m65\u001b[0m\u001b]8;;\u001b\\\n"
            ]
          },
          "metadata": {},
          "output_type": "display_data"
        },
        {
          "data": {
            "text/html": [
              "<pre style=\"white-space:pre;overflow-x:auto;line-height:normal;font-family:Menlo,'DejaVu Sans Mono',consolas,'Courier New',monospace\"><span style=\"color: #7fbfbf; text-decoration-color: #7fbfbf\">           </span><span style=\"color: #008000; text-decoration-color: #008000\">DEBUG   </span> <span style=\"font-weight: bold\">&lt;</span><span style=\"color: #ff00ff; text-decoration-color: #ff00ff; font-weight: bold\">flow.py:</span><span style=\"color: #008080; text-decoration-color: #008080; font-weight: bold\">65</span><span style=\"font-weight: bold\">&gt;</span> Drying flow branch FlowBranch.REAGENTS                                  <a href=\"file:///Users/satyamtiwary/Documents/Python-Things/OpenOligo/openoligo/steps/flow.py\" target=\"_blank\"><span style=\"color: #7f7f7f; text-decoration-color: #7f7f7f\">flow.py</span></a><span style=\"color: #7f7f7f; text-decoration-color: #7f7f7f\">:</span><a href=\"file:///Users/satyamtiwary/Documents/Python-Things/OpenOligo/openoligo/steps/flow.py#65\" target=\"_blank\"><span style=\"color: #7f7f7f; text-decoration-color: #7f7f7f\">65</span></a>\n",
              "</pre>\n"
            ],
            "text/plain": [
              "\u001b[2;36m          \u001b[0m\u001b[2;36m \u001b[0m\u001b[32mDEBUG   \u001b[0m \u001b[1m<\u001b[0m\u001b[1;95mflow.py:\u001b[0m\u001b[1;36m65\u001b[0m\u001b[1m>\u001b[0m Drying flow branch FlowBranch.REAGENTS                                  \u001b]8;id=63113;file:///Users/satyamtiwary/Documents/Python-Things/OpenOligo/openoligo/steps/flow.py\u001b\\\u001b[2mflow.py\u001b[0m\u001b]8;;\u001b\\\u001b[2m:\u001b[0m\u001b]8;id=127248;file:///Users/satyamtiwary/Documents/Python-Things/OpenOligo/openoligo/steps/flow.py#65\u001b\\\u001b[2m65\u001b[0m\u001b]8;;\u001b\\\n"
            ]
          },
          "metadata": {},
          "output_type": "display_data"
        },
        {
          "name": "stdout",
          "output_type": "stream",
          "text": [
            "Add acetic anhydride/pyridine/THF and N-methyl imidazole to the reactor\n"
          ]
        },
        {
          "data": {
            "text/html": [
              "<pre style=\"white-space:pre;overflow-x:auto;line-height:normal;font-family:Menlo,'DejaVu Sans Mono',consolas,'Courier New',monospace\"><span style=\"color: #7fbfbf; text-decoration-color: #7fbfbf\">           </span><span style=\"color: #008000; text-decoration-color: #008000\">DEBUG   </span> <span style=\"font-weight: bold\">&lt;</span><span style=\"color: #ff00ff; text-decoration-color: #ff00ff; font-weight: bold\">wait.py:</span><span style=\"color: #008080; text-decoration-color: #008080; font-weight: bold\">11</span><span style=\"font-weight: bold\">&gt;</span> Start waiting for <span style=\"color: #008080; text-decoration-color: #008080; font-weight: bold\">1.00</span> seconds                                          <a href=\"file:///Users/satyamtiwary/Documents/Python-Things/OpenOligo/openoligo/utils/wait.py\" target=\"_blank\"><span style=\"color: #7f7f7f; text-decoration-color: #7f7f7f\">wait.py</span></a><span style=\"color: #7f7f7f; text-decoration-color: #7f7f7f\">:</span><a href=\"file:///Users/satyamtiwary/Documents/Python-Things/OpenOligo/openoligo/utils/wait.py#11\" target=\"_blank\"><span style=\"color: #7f7f7f; text-decoration-color: #7f7f7f\">11</span></a>\n",
              "</pre>\n"
            ],
            "text/plain": [
              "\u001b[2;36m          \u001b[0m\u001b[2;36m \u001b[0m\u001b[32mDEBUG   \u001b[0m \u001b[1m<\u001b[0m\u001b[1;95mwait.py:\u001b[0m\u001b[1;36m11\u001b[0m\u001b[1m>\u001b[0m Start waiting for \u001b[1;36m1.00\u001b[0m seconds                                          \u001b]8;id=802292;file:///Users/satyamtiwary/Documents/Python-Things/OpenOligo/openoligo/utils/wait.py\u001b\\\u001b[2mwait.py\u001b[0m\u001b]8;;\u001b\\\u001b[2m:\u001b[0m\u001b]8;id=621295;file:///Users/satyamtiwary/Documents/Python-Things/OpenOligo/openoligo/utils/wait.py#11\u001b\\\u001b[2m11\u001b[0m\u001b]8;;\u001b\\\n"
            ]
          },
          "metadata": {},
          "output_type": "display_data"
        },
        {
          "data": {
            "text/html": [
              "<pre style=\"white-space:pre;overflow-x:auto;line-height:normal;font-family:Menlo,'DejaVu Sans Mono',consolas,'Courier New',monospace\"><span style=\"color: #7fbfbf; text-decoration-color: #7fbfbf\">[18:14:00] </span><span style=\"color: #008000; text-decoration-color: #008000\">DEBUG   </span> <span style=\"font-weight: bold\">&lt;</span><span style=\"color: #ff00ff; text-decoration-color: #ff00ff; font-weight: bold\">wait.py:</span><span style=\"color: #008080; text-decoration-color: #008080; font-weight: bold\">13</span><span style=\"font-weight: bold\">&gt;</span> Done waiting for <span style=\"color: #008080; text-decoration-color: #008080; font-weight: bold\">1.00</span> seconds                                           <a href=\"file:///Users/satyamtiwary/Documents/Python-Things/OpenOligo/openoligo/utils/wait.py\" target=\"_blank\"><span style=\"color: #7f7f7f; text-decoration-color: #7f7f7f\">wait.py</span></a><span style=\"color: #7f7f7f; text-decoration-color: #7f7f7f\">:</span><a href=\"file:///Users/satyamtiwary/Documents/Python-Things/OpenOligo/openoligo/utils/wait.py#13\" target=\"_blank\"><span style=\"color: #7f7f7f; text-decoration-color: #7f7f7f\">13</span></a>\n",
              "</pre>\n"
            ],
            "text/plain": [
              "\u001b[2;36m[18:14:00]\u001b[0m\u001b[2;36m \u001b[0m\u001b[32mDEBUG   \u001b[0m \u001b[1m<\u001b[0m\u001b[1;95mwait.py:\u001b[0m\u001b[1;36m13\u001b[0m\u001b[1m>\u001b[0m Done waiting for \u001b[1;36m1.00\u001b[0m seconds                                           \u001b]8;id=177293;file:///Users/satyamtiwary/Documents/Python-Things/OpenOligo/openoligo/utils/wait.py\u001b\\\u001b[2mwait.py\u001b[0m\u001b]8;;\u001b\\\u001b[2m:\u001b[0m\u001b]8;id=718179;file:///Users/satyamtiwary/Documents/Python-Things/OpenOligo/openoligo/utils/wait.py#13\u001b\\\u001b[2m13\u001b[0m\u001b]8;;\u001b\\\n"
            ]
          },
          "metadata": {},
          "output_type": "display_data"
        },
        {
          "data": {
            "text/html": [
              "<pre style=\"white-space:pre;overflow-x:auto;line-height:normal;font-family:Menlo,'DejaVu Sans Mono',consolas,'Courier New',monospace\"><span style=\"color: #7fbfbf; text-decoration-color: #7fbfbf\">           </span><span style=\"color: #008000; text-decoration-color: #008000\">DEBUG   </span> <span style=\"font-weight: bold\">&lt;</span><span style=\"color: #ff00ff; text-decoration-color: #ff00ff; font-weight: bold\">flow.py:</span><span style=\"color: #008080; text-decoration-color: #008080; font-weight: bold\">44</span><span style=\"font-weight: bold\">&gt;</span> Washing flow branch FlowBranch.REACTION with solvent                    <a href=\"file:///Users/satyamtiwary/Documents/Python-Things/OpenOligo/openoligo/steps/flow.py\" target=\"_blank\"><span style=\"color: #7f7f7f; text-decoration-color: #7f7f7f\">flow.py</span></a><span style=\"color: #7f7f7f; text-decoration-color: #7f7f7f\">:</span><a href=\"file:///Users/satyamtiwary/Documents/Python-Things/OpenOligo/openoligo/steps/flow.py#44\" target=\"_blank\"><span style=\"color: #7f7f7f; text-decoration-color: #7f7f7f\">44</span></a>\n",
              "</pre>\n"
            ],
            "text/plain": [
              "\u001b[2;36m          \u001b[0m\u001b[2;36m \u001b[0m\u001b[32mDEBUG   \u001b[0m \u001b[1m<\u001b[0m\u001b[1;95mflow.py:\u001b[0m\u001b[1;36m44\u001b[0m\u001b[1m>\u001b[0m Washing flow branch FlowBranch.REACTION with solvent                    \u001b]8;id=465052;file:///Users/satyamtiwary/Documents/Python-Things/OpenOligo/openoligo/steps/flow.py\u001b\\\u001b[2mflow.py\u001b[0m\u001b]8;;\u001b\\\u001b[2m:\u001b[0m\u001b]8;id=678427;file:///Users/satyamtiwary/Documents/Python-Things/OpenOligo/openoligo/steps/flow.py#44\u001b\\\u001b[2m44\u001b[0m\u001b]8;;\u001b\\\n"
            ]
          },
          "metadata": {},
          "output_type": "display_data"
        },
        {
          "data": {
            "text/html": [
              "<pre style=\"white-space:pre;overflow-x:auto;line-height:normal;font-family:Menlo,'DejaVu Sans Mono',consolas,'Courier New',monospace\"><span style=\"color: #7fbfbf; text-decoration-color: #7fbfbf\">           </span><span style=\"color: #008000; text-decoration-color: #008000\">DEBUG   </span> <span style=\"font-weight: bold\">&lt;</span><span style=\"color: #ff00ff; text-decoration-color: #ff00ff; font-weight: bold\">flow.py:</span><span style=\"color: #008080; text-decoration-color: #008080; font-weight: bold\">44</span><span style=\"font-weight: bold\">&gt;</span> Washing flow branch FlowBranch.REAGENTS with solvent                    <a href=\"file:///Users/satyamtiwary/Documents/Python-Things/OpenOligo/openoligo/steps/flow.py\" target=\"_blank\"><span style=\"color: #7f7f7f; text-decoration-color: #7f7f7f\">flow.py</span></a><span style=\"color: #7f7f7f; text-decoration-color: #7f7f7f\">:</span><a href=\"file:///Users/satyamtiwary/Documents/Python-Things/OpenOligo/openoligo/steps/flow.py#44\" target=\"_blank\"><span style=\"color: #7f7f7f; text-decoration-color: #7f7f7f\">44</span></a>\n",
              "</pre>\n"
            ],
            "text/plain": [
              "\u001b[2;36m          \u001b[0m\u001b[2;36m \u001b[0m\u001b[32mDEBUG   \u001b[0m \u001b[1m<\u001b[0m\u001b[1;95mflow.py:\u001b[0m\u001b[1;36m44\u001b[0m\u001b[1m>\u001b[0m Washing flow branch FlowBranch.REAGENTS with solvent                    \u001b]8;id=160080;file:///Users/satyamtiwary/Documents/Python-Things/OpenOligo/openoligo/steps/flow.py\u001b\\\u001b[2mflow.py\u001b[0m\u001b]8;;\u001b\\\u001b[2m:\u001b[0m\u001b]8;id=27932;file:///Users/satyamtiwary/Documents/Python-Things/OpenOligo/openoligo/steps/flow.py#44\u001b\\\u001b[2m44\u001b[0m\u001b]8;;\u001b\\\n"
            ]
          },
          "metadata": {},
          "output_type": "display_data"
        },
        {
          "data": {
            "text/html": [
              "<pre style=\"white-space:pre;overflow-x:auto;line-height:normal;font-family:Menlo,'DejaVu Sans Mono',consolas,'Courier New',monospace\"><span style=\"color: #7fbfbf; text-decoration-color: #7fbfbf\">           </span><span style=\"color: #008000; text-decoration-color: #008000\">DEBUG   </span> <span style=\"font-weight: bold\">&lt;</span><span style=\"color: #ff00ff; text-decoration-color: #ff00ff; font-weight: bold\">flow.py:</span><span style=\"color: #008080; text-decoration-color: #008080; font-weight: bold\">65</span><span style=\"font-weight: bold\">&gt;</span> Drying flow branch FlowBranch.REACTION                                  <a href=\"file:///Users/satyamtiwary/Documents/Python-Things/OpenOligo/openoligo/steps/flow.py\" target=\"_blank\"><span style=\"color: #7f7f7f; text-decoration-color: #7f7f7f\">flow.py</span></a><span style=\"color: #7f7f7f; text-decoration-color: #7f7f7f\">:</span><a href=\"file:///Users/satyamtiwary/Documents/Python-Things/OpenOligo/openoligo/steps/flow.py#65\" target=\"_blank\"><span style=\"color: #7f7f7f; text-decoration-color: #7f7f7f\">65</span></a>\n",
              "</pre>\n"
            ],
            "text/plain": [
              "\u001b[2;36m          \u001b[0m\u001b[2;36m \u001b[0m\u001b[32mDEBUG   \u001b[0m \u001b[1m<\u001b[0m\u001b[1;95mflow.py:\u001b[0m\u001b[1;36m65\u001b[0m\u001b[1m>\u001b[0m Drying flow branch FlowBranch.REACTION                                  \u001b]8;id=606252;file:///Users/satyamtiwary/Documents/Python-Things/OpenOligo/openoligo/steps/flow.py\u001b\\\u001b[2mflow.py\u001b[0m\u001b]8;;\u001b\\\u001b[2m:\u001b[0m\u001b]8;id=951537;file:///Users/satyamtiwary/Documents/Python-Things/OpenOligo/openoligo/steps/flow.py#65\u001b\\\u001b[2m65\u001b[0m\u001b]8;;\u001b\\\n"
            ]
          },
          "metadata": {},
          "output_type": "display_data"
        },
        {
          "data": {
            "text/html": [
              "<pre style=\"white-space:pre;overflow-x:auto;line-height:normal;font-family:Menlo,'DejaVu Sans Mono',consolas,'Courier New',monospace\"><span style=\"color: #7fbfbf; text-decoration-color: #7fbfbf\">           </span><span style=\"color: #008000; text-decoration-color: #008000\">DEBUG   </span> <span style=\"font-weight: bold\">&lt;</span><span style=\"color: #ff00ff; text-decoration-color: #ff00ff; font-weight: bold\">flow.py:</span><span style=\"color: #008080; text-decoration-color: #008080; font-weight: bold\">65</span><span style=\"font-weight: bold\">&gt;</span> Drying flow branch FlowBranch.REAGENTS                                  <a href=\"file:///Users/satyamtiwary/Documents/Python-Things/OpenOligo/openoligo/steps/flow.py\" target=\"_blank\"><span style=\"color: #7f7f7f; text-decoration-color: #7f7f7f\">flow.py</span></a><span style=\"color: #7f7f7f; text-decoration-color: #7f7f7f\">:</span><a href=\"file:///Users/satyamtiwary/Documents/Python-Things/OpenOligo/openoligo/steps/flow.py#65\" target=\"_blank\"><span style=\"color: #7f7f7f; text-decoration-color: #7f7f7f\">65</span></a>\n",
              "</pre>\n"
            ],
            "text/plain": [
              "\u001b[2;36m          \u001b[0m\u001b[2;36m \u001b[0m\u001b[32mDEBUG   \u001b[0m \u001b[1m<\u001b[0m\u001b[1;95mflow.py:\u001b[0m\u001b[1;36m65\u001b[0m\u001b[1m>\u001b[0m Drying flow branch FlowBranch.REAGENTS                                  \u001b]8;id=477340;file:///Users/satyamtiwary/Documents/Python-Things/OpenOligo/openoligo/steps/flow.py\u001b\\\u001b[2mflow.py\u001b[0m\u001b]8;;\u001b\\\u001b[2m:\u001b[0m\u001b]8;id=403500;file:///Users/satyamtiwary/Documents/Python-Things/OpenOligo/openoligo/steps/flow.py#65\u001b\\\u001b[2m65\u001b[0m\u001b]8;;\u001b\\\n"
            ]
          },
          "metadata": {},
          "output_type": "display_data"
        },
        {
          "name": "stdout",
          "output_type": "stream",
          "text": [
            "Add 0.015 M iodine in water/pyridine/THF to the reactor\n"
          ]
        },
        {
          "data": {
            "text/html": [
              "<pre style=\"white-space:pre;overflow-x:auto;line-height:normal;font-family:Menlo,'DejaVu Sans Mono',consolas,'Courier New',monospace\"><span style=\"color: #7fbfbf; text-decoration-color: #7fbfbf\">           </span><span style=\"color: #008000; text-decoration-color: #008000\">DEBUG   </span> <span style=\"font-weight: bold\">&lt;</span><span style=\"color: #ff00ff; text-decoration-color: #ff00ff; font-weight: bold\">wait.py:</span><span style=\"color: #008080; text-decoration-color: #008080; font-weight: bold\">11</span><span style=\"font-weight: bold\">&gt;</span> Start waiting for <span style=\"color: #008080; text-decoration-color: #008080; font-weight: bold\">1.00</span> seconds                                          <a href=\"file:///Users/satyamtiwary/Documents/Python-Things/OpenOligo/openoligo/utils/wait.py\" target=\"_blank\"><span style=\"color: #7f7f7f; text-decoration-color: #7f7f7f\">wait.py</span></a><span style=\"color: #7f7f7f; text-decoration-color: #7f7f7f\">:</span><a href=\"file:///Users/satyamtiwary/Documents/Python-Things/OpenOligo/openoligo/utils/wait.py#11\" target=\"_blank\"><span style=\"color: #7f7f7f; text-decoration-color: #7f7f7f\">11</span></a>\n",
              "</pre>\n"
            ],
            "text/plain": [
              "\u001b[2;36m          \u001b[0m\u001b[2;36m \u001b[0m\u001b[32mDEBUG   \u001b[0m \u001b[1m<\u001b[0m\u001b[1;95mwait.py:\u001b[0m\u001b[1;36m11\u001b[0m\u001b[1m>\u001b[0m Start waiting for \u001b[1;36m1.00\u001b[0m seconds                                          \u001b]8;id=235390;file:///Users/satyamtiwary/Documents/Python-Things/OpenOligo/openoligo/utils/wait.py\u001b\\\u001b[2mwait.py\u001b[0m\u001b]8;;\u001b\\\u001b[2m:\u001b[0m\u001b]8;id=601826;file:///Users/satyamtiwary/Documents/Python-Things/OpenOligo/openoligo/utils/wait.py#11\u001b\\\u001b[2m11\u001b[0m\u001b]8;;\u001b\\\n"
            ]
          },
          "metadata": {},
          "output_type": "display_data"
        },
        {
          "data": {
            "text/html": [
              "<pre style=\"white-space:pre;overflow-x:auto;line-height:normal;font-family:Menlo,'DejaVu Sans Mono',consolas,'Courier New',monospace\"><span style=\"color: #7fbfbf; text-decoration-color: #7fbfbf\">[18:14:01] </span><span style=\"color: #008000; text-decoration-color: #008000\">DEBUG   </span> <span style=\"font-weight: bold\">&lt;</span><span style=\"color: #ff00ff; text-decoration-color: #ff00ff; font-weight: bold\">wait.py:</span><span style=\"color: #008080; text-decoration-color: #008080; font-weight: bold\">13</span><span style=\"font-weight: bold\">&gt;</span> Done waiting for <span style=\"color: #008080; text-decoration-color: #008080; font-weight: bold\">1.00</span> seconds                                           <a href=\"file:///Users/satyamtiwary/Documents/Python-Things/OpenOligo/openoligo/utils/wait.py\" target=\"_blank\"><span style=\"color: #7f7f7f; text-decoration-color: #7f7f7f\">wait.py</span></a><span style=\"color: #7f7f7f; text-decoration-color: #7f7f7f\">:</span><a href=\"file:///Users/satyamtiwary/Documents/Python-Things/OpenOligo/openoligo/utils/wait.py#13\" target=\"_blank\"><span style=\"color: #7f7f7f; text-decoration-color: #7f7f7f\">13</span></a>\n",
              "</pre>\n"
            ],
            "text/plain": [
              "\u001b[2;36m[18:14:01]\u001b[0m\u001b[2;36m \u001b[0m\u001b[32mDEBUG   \u001b[0m \u001b[1m<\u001b[0m\u001b[1;95mwait.py:\u001b[0m\u001b[1;36m13\u001b[0m\u001b[1m>\u001b[0m Done waiting for \u001b[1;36m1.00\u001b[0m seconds                                           \u001b]8;id=51958;file:///Users/satyamtiwary/Documents/Python-Things/OpenOligo/openoligo/utils/wait.py\u001b\\\u001b[2mwait.py\u001b[0m\u001b]8;;\u001b\\\u001b[2m:\u001b[0m\u001b]8;id=547444;file:///Users/satyamtiwary/Documents/Python-Things/OpenOligo/openoligo/utils/wait.py#13\u001b\\\u001b[2m13\u001b[0m\u001b]8;;\u001b\\\n"
            ]
          },
          "metadata": {},
          "output_type": "display_data"
        },
        {
          "data": {
            "text/html": [
              "<pre style=\"white-space:pre;overflow-x:auto;line-height:normal;font-family:Menlo,'DejaVu Sans Mono',consolas,'Courier New',monospace\"><span style=\"color: #7fbfbf; text-decoration-color: #7fbfbf\">           </span><span style=\"color: #008000; text-decoration-color: #008000\">DEBUG   </span> <span style=\"font-weight: bold\">&lt;</span><span style=\"color: #ff00ff; text-decoration-color: #ff00ff; font-weight: bold\">flow.py:</span><span style=\"color: #008080; text-decoration-color: #008080; font-weight: bold\">44</span><span style=\"font-weight: bold\">&gt;</span> Washing flow branch FlowBranch.REACTION with solvent                    <a href=\"file:///Users/satyamtiwary/Documents/Python-Things/OpenOligo/openoligo/steps/flow.py\" target=\"_blank\"><span style=\"color: #7f7f7f; text-decoration-color: #7f7f7f\">flow.py</span></a><span style=\"color: #7f7f7f; text-decoration-color: #7f7f7f\">:</span><a href=\"file:///Users/satyamtiwary/Documents/Python-Things/OpenOligo/openoligo/steps/flow.py#44\" target=\"_blank\"><span style=\"color: #7f7f7f; text-decoration-color: #7f7f7f\">44</span></a>\n",
              "</pre>\n"
            ],
            "text/plain": [
              "\u001b[2;36m          \u001b[0m\u001b[2;36m \u001b[0m\u001b[32mDEBUG   \u001b[0m \u001b[1m<\u001b[0m\u001b[1;95mflow.py:\u001b[0m\u001b[1;36m44\u001b[0m\u001b[1m>\u001b[0m Washing flow branch FlowBranch.REACTION with solvent                    \u001b]8;id=715602;file:///Users/satyamtiwary/Documents/Python-Things/OpenOligo/openoligo/steps/flow.py\u001b\\\u001b[2mflow.py\u001b[0m\u001b]8;;\u001b\\\u001b[2m:\u001b[0m\u001b]8;id=101320;file:///Users/satyamtiwary/Documents/Python-Things/OpenOligo/openoligo/steps/flow.py#44\u001b\\\u001b[2m44\u001b[0m\u001b]8;;\u001b\\\n"
            ]
          },
          "metadata": {},
          "output_type": "display_data"
        },
        {
          "data": {
            "text/html": [
              "<pre style=\"white-space:pre;overflow-x:auto;line-height:normal;font-family:Menlo,'DejaVu Sans Mono',consolas,'Courier New',monospace\"><span style=\"color: #7fbfbf; text-decoration-color: #7fbfbf\">           </span><span style=\"color: #008000; text-decoration-color: #008000\">DEBUG   </span> <span style=\"font-weight: bold\">&lt;</span><span style=\"color: #ff00ff; text-decoration-color: #ff00ff; font-weight: bold\">flow.py:</span><span style=\"color: #008080; text-decoration-color: #008080; font-weight: bold\">44</span><span style=\"font-weight: bold\">&gt;</span> Washing flow branch FlowBranch.REAGENTS with solvent                    <a href=\"file:///Users/satyamtiwary/Documents/Python-Things/OpenOligo/openoligo/steps/flow.py\" target=\"_blank\"><span style=\"color: #7f7f7f; text-decoration-color: #7f7f7f\">flow.py</span></a><span style=\"color: #7f7f7f; text-decoration-color: #7f7f7f\">:</span><a href=\"file:///Users/satyamtiwary/Documents/Python-Things/OpenOligo/openoligo/steps/flow.py#44\" target=\"_blank\"><span style=\"color: #7f7f7f; text-decoration-color: #7f7f7f\">44</span></a>\n",
              "</pre>\n"
            ],
            "text/plain": [
              "\u001b[2;36m          \u001b[0m\u001b[2;36m \u001b[0m\u001b[32mDEBUG   \u001b[0m \u001b[1m<\u001b[0m\u001b[1;95mflow.py:\u001b[0m\u001b[1;36m44\u001b[0m\u001b[1m>\u001b[0m Washing flow branch FlowBranch.REAGENTS with solvent                    \u001b]8;id=649558;file:///Users/satyamtiwary/Documents/Python-Things/OpenOligo/openoligo/steps/flow.py\u001b\\\u001b[2mflow.py\u001b[0m\u001b]8;;\u001b\\\u001b[2m:\u001b[0m\u001b]8;id=563788;file:///Users/satyamtiwary/Documents/Python-Things/OpenOligo/openoligo/steps/flow.py#44\u001b\\\u001b[2m44\u001b[0m\u001b]8;;\u001b\\\n"
            ]
          },
          "metadata": {},
          "output_type": "display_data"
        },
        {
          "data": {
            "text/html": [
              "<pre style=\"white-space:pre;overflow-x:auto;line-height:normal;font-family:Menlo,'DejaVu Sans Mono',consolas,'Courier New',monospace\"><span style=\"color: #7fbfbf; text-decoration-color: #7fbfbf\">           </span><span style=\"color: #008000; text-decoration-color: #008000\">DEBUG   </span> <span style=\"font-weight: bold\">&lt;</span><span style=\"color: #ff00ff; text-decoration-color: #ff00ff; font-weight: bold\">flow.py:</span><span style=\"color: #008080; text-decoration-color: #008080; font-weight: bold\">65</span><span style=\"font-weight: bold\">&gt;</span> Drying flow branch FlowBranch.REACTION                                  <a href=\"file:///Users/satyamtiwary/Documents/Python-Things/OpenOligo/openoligo/steps/flow.py\" target=\"_blank\"><span style=\"color: #7f7f7f; text-decoration-color: #7f7f7f\">flow.py</span></a><span style=\"color: #7f7f7f; text-decoration-color: #7f7f7f\">:</span><a href=\"file:///Users/satyamtiwary/Documents/Python-Things/OpenOligo/openoligo/steps/flow.py#65\" target=\"_blank\"><span style=\"color: #7f7f7f; text-decoration-color: #7f7f7f\">65</span></a>\n",
              "</pre>\n"
            ],
            "text/plain": [
              "\u001b[2;36m          \u001b[0m\u001b[2;36m \u001b[0m\u001b[32mDEBUG   \u001b[0m \u001b[1m<\u001b[0m\u001b[1;95mflow.py:\u001b[0m\u001b[1;36m65\u001b[0m\u001b[1m>\u001b[0m Drying flow branch FlowBranch.REACTION                                  \u001b]8;id=84866;file:///Users/satyamtiwary/Documents/Python-Things/OpenOligo/openoligo/steps/flow.py\u001b\\\u001b[2mflow.py\u001b[0m\u001b]8;;\u001b\\\u001b[2m:\u001b[0m\u001b]8;id=844299;file:///Users/satyamtiwary/Documents/Python-Things/OpenOligo/openoligo/steps/flow.py#65\u001b\\\u001b[2m65\u001b[0m\u001b]8;;\u001b\\\n"
            ]
          },
          "metadata": {},
          "output_type": "display_data"
        },
        {
          "data": {
            "text/html": [
              "<pre style=\"white-space:pre;overflow-x:auto;line-height:normal;font-family:Menlo,'DejaVu Sans Mono',consolas,'Courier New',monospace\"><span style=\"color: #7fbfbf; text-decoration-color: #7fbfbf\">           </span><span style=\"color: #008000; text-decoration-color: #008000\">DEBUG   </span> <span style=\"font-weight: bold\">&lt;</span><span style=\"color: #ff00ff; text-decoration-color: #ff00ff; font-weight: bold\">flow.py:</span><span style=\"color: #008080; text-decoration-color: #008080; font-weight: bold\">65</span><span style=\"font-weight: bold\">&gt;</span> Drying flow branch FlowBranch.REAGENTS                                  <a href=\"file:///Users/satyamtiwary/Documents/Python-Things/OpenOligo/openoligo/steps/flow.py\" target=\"_blank\"><span style=\"color: #7f7f7f; text-decoration-color: #7f7f7f\">flow.py</span></a><span style=\"color: #7f7f7f; text-decoration-color: #7f7f7f\">:</span><a href=\"file:///Users/satyamtiwary/Documents/Python-Things/OpenOligo/openoligo/steps/flow.py#65\" target=\"_blank\"><span style=\"color: #7f7f7f; text-decoration-color: #7f7f7f\">65</span></a>\n",
              "</pre>\n"
            ],
            "text/plain": [
              "\u001b[2;36m          \u001b[0m\u001b[2;36m \u001b[0m\u001b[32mDEBUG   \u001b[0m \u001b[1m<\u001b[0m\u001b[1;95mflow.py:\u001b[0m\u001b[1;36m65\u001b[0m\u001b[1m>\u001b[0m Drying flow branch FlowBranch.REAGENTS                                  \u001b]8;id=705381;file:///Users/satyamtiwary/Documents/Python-Things/OpenOligo/openoligo/steps/flow.py\u001b\\\u001b[2mflow.py\u001b[0m\u001b]8;;\u001b\\\u001b[2m:\u001b[0m\u001b]8;id=205097;file:///Users/satyamtiwary/Documents/Python-Things/OpenOligo/openoligo/steps/flow.py#65\u001b\\\u001b[2m65\u001b[0m\u001b]8;;\u001b\\\n"
            ]
          },
          "metadata": {},
          "output_type": "display_data"
        },
        {
          "name": "stderr",
          "output_type": "stream",
          "text": [
            " 44%|████████████████████████████████▍                                        | 4/9 [00:14<00:20,  4.04s/it]"
          ]
        },
        {
          "data": {
            "text/html": [
              "<pre style=\"white-space:pre;overflow-x:auto;line-height:normal;font-family:Menlo,'DejaVu Sans Mono',consolas,'Courier New',monospace\"><span style=\"color: #7fbfbf; text-decoration-color: #7fbfbf\">           </span><span style=\"color: #008000; text-decoration-color: #008000\">DEBUG   </span> <span style=\"font-weight: bold\">&lt;</span><span style=\"color: #ff00ff; text-decoration-color: #ff00ff; font-weight: bold\">wait.py:</span><span style=\"color: #008080; text-decoration-color: #008080; font-weight: bold\">11</span><span style=\"font-weight: bold\">&gt;</span> Start waiting for <span style=\"color: #008080; text-decoration-color: #008080; font-weight: bold\">1.00</span> seconds                                          <a href=\"file:///Users/satyamtiwary/Documents/Python-Things/OpenOligo/openoligo/utils/wait.py\" target=\"_blank\"><span style=\"color: #7f7f7f; text-decoration-color: #7f7f7f\">wait.py</span></a><span style=\"color: #7f7f7f; text-decoration-color: #7f7f7f\">:</span><a href=\"file:///Users/satyamtiwary/Documents/Python-Things/OpenOligo/openoligo/utils/wait.py#11\" target=\"_blank\"><span style=\"color: #7f7f7f; text-decoration-color: #7f7f7f\">11</span></a>\n",
              "</pre>\n"
            ],
            "text/plain": [
              "\u001b[2;36m          \u001b[0m\u001b[2;36m \u001b[0m\u001b[32mDEBUG   \u001b[0m \u001b[1m<\u001b[0m\u001b[1;95mwait.py:\u001b[0m\u001b[1;36m11\u001b[0m\u001b[1m>\u001b[0m Start waiting for \u001b[1;36m1.00\u001b[0m seconds                                          \u001b]8;id=55741;file:///Users/satyamtiwary/Documents/Python-Things/OpenOligo/openoligo/utils/wait.py\u001b\\\u001b[2mwait.py\u001b[0m\u001b]8;;\u001b\\\u001b[2m:\u001b[0m\u001b]8;id=806487;file:///Users/satyamtiwary/Documents/Python-Things/OpenOligo/openoligo/utils/wait.py#11\u001b\\\u001b[2m11\u001b[0m\u001b]8;;\u001b\\\n"
            ]
          },
          "metadata": {},
          "output_type": "display_data"
        },
        {
          "data": {
            "text/html": [
              "<pre style=\"white-space:pre;overflow-x:auto;line-height:normal;font-family:Menlo,'DejaVu Sans Mono',consolas,'Courier New',monospace\"><span style=\"color: #7fbfbf; text-decoration-color: #7fbfbf\">[18:14:02] </span><span style=\"color: #008000; text-decoration-color: #008000\">DEBUG   </span> <span style=\"font-weight: bold\">&lt;</span><span style=\"color: #ff00ff; text-decoration-color: #ff00ff; font-weight: bold\">wait.py:</span><span style=\"color: #008080; text-decoration-color: #008080; font-weight: bold\">13</span><span style=\"font-weight: bold\">&gt;</span> Done waiting for <span style=\"color: #008080; text-decoration-color: #008080; font-weight: bold\">1.00</span> seconds                                           <a href=\"file:///Users/satyamtiwary/Documents/Python-Things/OpenOligo/openoligo/utils/wait.py\" target=\"_blank\"><span style=\"color: #7f7f7f; text-decoration-color: #7f7f7f\">wait.py</span></a><span style=\"color: #7f7f7f; text-decoration-color: #7f7f7f\">:</span><a href=\"file:///Users/satyamtiwary/Documents/Python-Things/OpenOligo/openoligo/utils/wait.py#13\" target=\"_blank\"><span style=\"color: #7f7f7f; text-decoration-color: #7f7f7f\">13</span></a>\n",
              "</pre>\n"
            ],
            "text/plain": [
              "\u001b[2;36m[18:14:02]\u001b[0m\u001b[2;36m \u001b[0m\u001b[32mDEBUG   \u001b[0m \u001b[1m<\u001b[0m\u001b[1;95mwait.py:\u001b[0m\u001b[1;36m13\u001b[0m\u001b[1m>\u001b[0m Done waiting for \u001b[1;36m1.00\u001b[0m seconds                                           \u001b]8;id=451855;file:///Users/satyamtiwary/Documents/Python-Things/OpenOligo/openoligo/utils/wait.py\u001b\\\u001b[2mwait.py\u001b[0m\u001b]8;;\u001b\\\u001b[2m:\u001b[0m\u001b]8;id=780866;file:///Users/satyamtiwary/Documents/Python-Things/OpenOligo/openoligo/utils/wait.py#13\u001b\\\u001b[2m13\u001b[0m\u001b]8;;\u001b\\\n"
            ]
          },
          "metadata": {},
          "output_type": "display_data"
        },
        {
          "name": "stdout",
          "output_type": "stream",
          "text": [
            "Adding 3th base 'C' to growing DNA strand\n",
            "Add 3% trichloroacetic acid in dichloromethane to the reactor\n"
          ]
        },
        {
          "data": {
            "text/html": [
              "<pre style=\"white-space:pre;overflow-x:auto;line-height:normal;font-family:Menlo,'DejaVu Sans Mono',consolas,'Courier New',monospace\"><span style=\"color: #7fbfbf; text-decoration-color: #7fbfbf\">           </span><span style=\"color: #008000; text-decoration-color: #008000\">DEBUG   </span> <span style=\"font-weight: bold\">&lt;</span><span style=\"color: #ff00ff; text-decoration-color: #ff00ff; font-weight: bold\">wait.py:</span><span style=\"color: #008080; text-decoration-color: #008080; font-weight: bold\">11</span><span style=\"font-weight: bold\">&gt;</span> Start waiting for <span style=\"color: #008080; text-decoration-color: #008080; font-weight: bold\">1.00</span> seconds                                          <a href=\"file:///Users/satyamtiwary/Documents/Python-Things/OpenOligo/openoligo/utils/wait.py\" target=\"_blank\"><span style=\"color: #7f7f7f; text-decoration-color: #7f7f7f\">wait.py</span></a><span style=\"color: #7f7f7f; text-decoration-color: #7f7f7f\">:</span><a href=\"file:///Users/satyamtiwary/Documents/Python-Things/OpenOligo/openoligo/utils/wait.py#11\" target=\"_blank\"><span style=\"color: #7f7f7f; text-decoration-color: #7f7f7f\">11</span></a>\n",
              "</pre>\n"
            ],
            "text/plain": [
              "\u001b[2;36m          \u001b[0m\u001b[2;36m \u001b[0m\u001b[32mDEBUG   \u001b[0m \u001b[1m<\u001b[0m\u001b[1;95mwait.py:\u001b[0m\u001b[1;36m11\u001b[0m\u001b[1m>\u001b[0m Start waiting for \u001b[1;36m1.00\u001b[0m seconds                                          \u001b]8;id=463072;file:///Users/satyamtiwary/Documents/Python-Things/OpenOligo/openoligo/utils/wait.py\u001b\\\u001b[2mwait.py\u001b[0m\u001b]8;;\u001b\\\u001b[2m:\u001b[0m\u001b]8;id=78003;file:///Users/satyamtiwary/Documents/Python-Things/OpenOligo/openoligo/utils/wait.py#11\u001b\\\u001b[2m11\u001b[0m\u001b]8;;\u001b\\\n"
            ]
          },
          "metadata": {},
          "output_type": "display_data"
        },
        {
          "data": {
            "text/html": [
              "<pre style=\"white-space:pre;overflow-x:auto;line-height:normal;font-family:Menlo,'DejaVu Sans Mono',consolas,'Courier New',monospace\"><span style=\"color: #7fbfbf; text-decoration-color: #7fbfbf\">[18:14:03] </span><span style=\"color: #008000; text-decoration-color: #008000\">DEBUG   </span> <span style=\"font-weight: bold\">&lt;</span><span style=\"color: #ff00ff; text-decoration-color: #ff00ff; font-weight: bold\">wait.py:</span><span style=\"color: #008080; text-decoration-color: #008080; font-weight: bold\">13</span><span style=\"font-weight: bold\">&gt;</span> Done waiting for <span style=\"color: #008080; text-decoration-color: #008080; font-weight: bold\">1.00</span> seconds                                           <a href=\"file:///Users/satyamtiwary/Documents/Python-Things/OpenOligo/openoligo/utils/wait.py\" target=\"_blank\"><span style=\"color: #7f7f7f; text-decoration-color: #7f7f7f\">wait.py</span></a><span style=\"color: #7f7f7f; text-decoration-color: #7f7f7f\">:</span><a href=\"file:///Users/satyamtiwary/Documents/Python-Things/OpenOligo/openoligo/utils/wait.py#13\" target=\"_blank\"><span style=\"color: #7f7f7f; text-decoration-color: #7f7f7f\">13</span></a>\n",
              "</pre>\n"
            ],
            "text/plain": [
              "\u001b[2;36m[18:14:03]\u001b[0m\u001b[2;36m \u001b[0m\u001b[32mDEBUG   \u001b[0m \u001b[1m<\u001b[0m\u001b[1;95mwait.py:\u001b[0m\u001b[1;36m13\u001b[0m\u001b[1m>\u001b[0m Done waiting for \u001b[1;36m1.00\u001b[0m seconds                                           \u001b]8;id=311784;file:///Users/satyamtiwary/Documents/Python-Things/OpenOligo/openoligo/utils/wait.py\u001b\\\u001b[2mwait.py\u001b[0m\u001b]8;;\u001b\\\u001b[2m:\u001b[0m\u001b]8;id=21170;file:///Users/satyamtiwary/Documents/Python-Things/OpenOligo/openoligo/utils/wait.py#13\u001b\\\u001b[2m13\u001b[0m\u001b]8;;\u001b\\\n"
            ]
          },
          "metadata": {},
          "output_type": "display_data"
        },
        {
          "data": {
            "text/html": [
              "<pre style=\"white-space:pre;overflow-x:auto;line-height:normal;font-family:Menlo,'DejaVu Sans Mono',consolas,'Courier New',monospace\"><span style=\"color: #7fbfbf; text-decoration-color: #7fbfbf\">           </span><span style=\"color: #008000; text-decoration-color: #008000\">DEBUG   </span> <span style=\"font-weight: bold\">&lt;</span><span style=\"color: #ff00ff; text-decoration-color: #ff00ff; font-weight: bold\">flow.py:</span><span style=\"color: #008080; text-decoration-color: #008080; font-weight: bold\">44</span><span style=\"font-weight: bold\">&gt;</span> Washing flow branch FlowBranch.REACTION with solvent                    <a href=\"file:///Users/satyamtiwary/Documents/Python-Things/OpenOligo/openoligo/steps/flow.py\" target=\"_blank\"><span style=\"color: #7f7f7f; text-decoration-color: #7f7f7f\">flow.py</span></a><span style=\"color: #7f7f7f; text-decoration-color: #7f7f7f\">:</span><a href=\"file:///Users/satyamtiwary/Documents/Python-Things/OpenOligo/openoligo/steps/flow.py#44\" target=\"_blank\"><span style=\"color: #7f7f7f; text-decoration-color: #7f7f7f\">44</span></a>\n",
              "</pre>\n"
            ],
            "text/plain": [
              "\u001b[2;36m          \u001b[0m\u001b[2;36m \u001b[0m\u001b[32mDEBUG   \u001b[0m \u001b[1m<\u001b[0m\u001b[1;95mflow.py:\u001b[0m\u001b[1;36m44\u001b[0m\u001b[1m>\u001b[0m Washing flow branch FlowBranch.REACTION with solvent                    \u001b]8;id=850757;file:///Users/satyamtiwary/Documents/Python-Things/OpenOligo/openoligo/steps/flow.py\u001b\\\u001b[2mflow.py\u001b[0m\u001b]8;;\u001b\\\u001b[2m:\u001b[0m\u001b]8;id=926683;file:///Users/satyamtiwary/Documents/Python-Things/OpenOligo/openoligo/steps/flow.py#44\u001b\\\u001b[2m44\u001b[0m\u001b]8;;\u001b\\\n"
            ]
          },
          "metadata": {},
          "output_type": "display_data"
        },
        {
          "data": {
            "text/html": [
              "<pre style=\"white-space:pre;overflow-x:auto;line-height:normal;font-family:Menlo,'DejaVu Sans Mono',consolas,'Courier New',monospace\"><span style=\"color: #7fbfbf; text-decoration-color: #7fbfbf\">           </span><span style=\"color: #008000; text-decoration-color: #008000\">DEBUG   </span> <span style=\"font-weight: bold\">&lt;</span><span style=\"color: #ff00ff; text-decoration-color: #ff00ff; font-weight: bold\">flow.py:</span><span style=\"color: #008080; text-decoration-color: #008080; font-weight: bold\">44</span><span style=\"font-weight: bold\">&gt;</span> Washing flow branch FlowBranch.REAGENTS with solvent                    <a href=\"file:///Users/satyamtiwary/Documents/Python-Things/OpenOligo/openoligo/steps/flow.py\" target=\"_blank\"><span style=\"color: #7f7f7f; text-decoration-color: #7f7f7f\">flow.py</span></a><span style=\"color: #7f7f7f; text-decoration-color: #7f7f7f\">:</span><a href=\"file:///Users/satyamtiwary/Documents/Python-Things/OpenOligo/openoligo/steps/flow.py#44\" target=\"_blank\"><span style=\"color: #7f7f7f; text-decoration-color: #7f7f7f\">44</span></a>\n",
              "</pre>\n"
            ],
            "text/plain": [
              "\u001b[2;36m          \u001b[0m\u001b[2;36m \u001b[0m\u001b[32mDEBUG   \u001b[0m \u001b[1m<\u001b[0m\u001b[1;95mflow.py:\u001b[0m\u001b[1;36m44\u001b[0m\u001b[1m>\u001b[0m Washing flow branch FlowBranch.REAGENTS with solvent                    \u001b]8;id=75954;file:///Users/satyamtiwary/Documents/Python-Things/OpenOligo/openoligo/steps/flow.py\u001b\\\u001b[2mflow.py\u001b[0m\u001b]8;;\u001b\\\u001b[2m:\u001b[0m\u001b]8;id=787038;file:///Users/satyamtiwary/Documents/Python-Things/OpenOligo/openoligo/steps/flow.py#44\u001b\\\u001b[2m44\u001b[0m\u001b]8;;\u001b\\\n"
            ]
          },
          "metadata": {},
          "output_type": "display_data"
        },
        {
          "data": {
            "text/html": [
              "<pre style=\"white-space:pre;overflow-x:auto;line-height:normal;font-family:Menlo,'DejaVu Sans Mono',consolas,'Courier New',monospace\"><span style=\"color: #7fbfbf; text-decoration-color: #7fbfbf\">           </span><span style=\"color: #008000; text-decoration-color: #008000\">DEBUG   </span> <span style=\"font-weight: bold\">&lt;</span><span style=\"color: #ff00ff; text-decoration-color: #ff00ff; font-weight: bold\">flow.py:</span><span style=\"color: #008080; text-decoration-color: #008080; font-weight: bold\">65</span><span style=\"font-weight: bold\">&gt;</span> Drying flow branch FlowBranch.REACTION                                  <a href=\"file:///Users/satyamtiwary/Documents/Python-Things/OpenOligo/openoligo/steps/flow.py\" target=\"_blank\"><span style=\"color: #7f7f7f; text-decoration-color: #7f7f7f\">flow.py</span></a><span style=\"color: #7f7f7f; text-decoration-color: #7f7f7f\">:</span><a href=\"file:///Users/satyamtiwary/Documents/Python-Things/OpenOligo/openoligo/steps/flow.py#65\" target=\"_blank\"><span style=\"color: #7f7f7f; text-decoration-color: #7f7f7f\">65</span></a>\n",
              "</pre>\n"
            ],
            "text/plain": [
              "\u001b[2;36m          \u001b[0m\u001b[2;36m \u001b[0m\u001b[32mDEBUG   \u001b[0m \u001b[1m<\u001b[0m\u001b[1;95mflow.py:\u001b[0m\u001b[1;36m65\u001b[0m\u001b[1m>\u001b[0m Drying flow branch FlowBranch.REACTION                                  \u001b]8;id=755887;file:///Users/satyamtiwary/Documents/Python-Things/OpenOligo/openoligo/steps/flow.py\u001b\\\u001b[2mflow.py\u001b[0m\u001b]8;;\u001b\\\u001b[2m:\u001b[0m\u001b]8;id=875089;file:///Users/satyamtiwary/Documents/Python-Things/OpenOligo/openoligo/steps/flow.py#65\u001b\\\u001b[2m65\u001b[0m\u001b]8;;\u001b\\\n"
            ]
          },
          "metadata": {},
          "output_type": "display_data"
        },
        {
          "data": {
            "text/html": [
              "<pre style=\"white-space:pre;overflow-x:auto;line-height:normal;font-family:Menlo,'DejaVu Sans Mono',consolas,'Courier New',monospace\"><span style=\"color: #7fbfbf; text-decoration-color: #7fbfbf\">           </span><span style=\"color: #008000; text-decoration-color: #008000\">DEBUG   </span> <span style=\"font-weight: bold\">&lt;</span><span style=\"color: #ff00ff; text-decoration-color: #ff00ff; font-weight: bold\">flow.py:</span><span style=\"color: #008080; text-decoration-color: #008080; font-weight: bold\">65</span><span style=\"font-weight: bold\">&gt;</span> Drying flow branch FlowBranch.REAGENTS                                  <a href=\"file:///Users/satyamtiwary/Documents/Python-Things/OpenOligo/openoligo/steps/flow.py\" target=\"_blank\"><span style=\"color: #7f7f7f; text-decoration-color: #7f7f7f\">flow.py</span></a><span style=\"color: #7f7f7f; text-decoration-color: #7f7f7f\">:</span><a href=\"file:///Users/satyamtiwary/Documents/Python-Things/OpenOligo/openoligo/steps/flow.py#65\" target=\"_blank\"><span style=\"color: #7f7f7f; text-decoration-color: #7f7f7f\">65</span></a>\n",
              "</pre>\n"
            ],
            "text/plain": [
              "\u001b[2;36m          \u001b[0m\u001b[2;36m \u001b[0m\u001b[32mDEBUG   \u001b[0m \u001b[1m<\u001b[0m\u001b[1;95mflow.py:\u001b[0m\u001b[1;36m65\u001b[0m\u001b[1m>\u001b[0m Drying flow branch FlowBranch.REAGENTS                                  \u001b]8;id=224645;file:///Users/satyamtiwary/Documents/Python-Things/OpenOligo/openoligo/steps/flow.py\u001b\\\u001b[2mflow.py\u001b[0m\u001b]8;;\u001b\\\u001b[2m:\u001b[0m\u001b]8;id=685791;file:///Users/satyamtiwary/Documents/Python-Things/OpenOligo/openoligo/steps/flow.py#65\u001b\\\u001b[2m65\u001b[0m\u001b]8;;\u001b\\\n"
            ]
          },
          "metadata": {},
          "output_type": "display_data"
        },
        {
          "name": "stdout",
          "output_type": "stream",
          "text": [
            "Add 0.1 M phosphoramidite monomer and 0.5 M tetrazole to the reactor\n"
          ]
        },
        {
          "data": {
            "text/html": [
              "<pre style=\"white-space:pre;overflow-x:auto;line-height:normal;font-family:Menlo,'DejaVu Sans Mono',consolas,'Courier New',monospace\"><span style=\"color: #7fbfbf; text-decoration-color: #7fbfbf\">           </span><span style=\"color: #008000; text-decoration-color: #008000\">DEBUG   </span> <span style=\"font-weight: bold\">&lt;</span><span style=\"color: #ff00ff; text-decoration-color: #ff00ff; font-weight: bold\">wait.py:</span><span style=\"color: #008080; text-decoration-color: #008080; font-weight: bold\">11</span><span style=\"font-weight: bold\">&gt;</span> Start waiting for <span style=\"color: #008080; text-decoration-color: #008080; font-weight: bold\">1.00</span> seconds                                          <a href=\"file:///Users/satyamtiwary/Documents/Python-Things/OpenOligo/openoligo/utils/wait.py\" target=\"_blank\"><span style=\"color: #7f7f7f; text-decoration-color: #7f7f7f\">wait.py</span></a><span style=\"color: #7f7f7f; text-decoration-color: #7f7f7f\">:</span><a href=\"file:///Users/satyamtiwary/Documents/Python-Things/OpenOligo/openoligo/utils/wait.py#11\" target=\"_blank\"><span style=\"color: #7f7f7f; text-decoration-color: #7f7f7f\">11</span></a>\n",
              "</pre>\n"
            ],
            "text/plain": [
              "\u001b[2;36m          \u001b[0m\u001b[2;36m \u001b[0m\u001b[32mDEBUG   \u001b[0m \u001b[1m<\u001b[0m\u001b[1;95mwait.py:\u001b[0m\u001b[1;36m11\u001b[0m\u001b[1m>\u001b[0m Start waiting for \u001b[1;36m1.00\u001b[0m seconds                                          \u001b]8;id=859759;file:///Users/satyamtiwary/Documents/Python-Things/OpenOligo/openoligo/utils/wait.py\u001b\\\u001b[2mwait.py\u001b[0m\u001b]8;;\u001b\\\u001b[2m:\u001b[0m\u001b]8;id=682397;file:///Users/satyamtiwary/Documents/Python-Things/OpenOligo/openoligo/utils/wait.py#11\u001b\\\u001b[2m11\u001b[0m\u001b]8;;\u001b\\\n"
            ]
          },
          "metadata": {},
          "output_type": "display_data"
        },
        {
          "data": {
            "text/html": [
              "<pre style=\"white-space:pre;overflow-x:auto;line-height:normal;font-family:Menlo,'DejaVu Sans Mono',consolas,'Courier New',monospace\"><span style=\"color: #7fbfbf; text-decoration-color: #7fbfbf\">[18:14:04] </span><span style=\"color: #008000; text-decoration-color: #008000\">DEBUG   </span> <span style=\"font-weight: bold\">&lt;</span><span style=\"color: #ff00ff; text-decoration-color: #ff00ff; font-weight: bold\">wait.py:</span><span style=\"color: #008080; text-decoration-color: #008080; font-weight: bold\">13</span><span style=\"font-weight: bold\">&gt;</span> Done waiting for <span style=\"color: #008080; text-decoration-color: #008080; font-weight: bold\">1.00</span> seconds                                           <a href=\"file:///Users/satyamtiwary/Documents/Python-Things/OpenOligo/openoligo/utils/wait.py\" target=\"_blank\"><span style=\"color: #7f7f7f; text-decoration-color: #7f7f7f\">wait.py</span></a><span style=\"color: #7f7f7f; text-decoration-color: #7f7f7f\">:</span><a href=\"file:///Users/satyamtiwary/Documents/Python-Things/OpenOligo/openoligo/utils/wait.py#13\" target=\"_blank\"><span style=\"color: #7f7f7f; text-decoration-color: #7f7f7f\">13</span></a>\n",
              "</pre>\n"
            ],
            "text/plain": [
              "\u001b[2;36m[18:14:04]\u001b[0m\u001b[2;36m \u001b[0m\u001b[32mDEBUG   \u001b[0m \u001b[1m<\u001b[0m\u001b[1;95mwait.py:\u001b[0m\u001b[1;36m13\u001b[0m\u001b[1m>\u001b[0m Done waiting for \u001b[1;36m1.00\u001b[0m seconds                                           \u001b]8;id=20227;file:///Users/satyamtiwary/Documents/Python-Things/OpenOligo/openoligo/utils/wait.py\u001b\\\u001b[2mwait.py\u001b[0m\u001b]8;;\u001b\\\u001b[2m:\u001b[0m\u001b]8;id=361408;file:///Users/satyamtiwary/Documents/Python-Things/OpenOligo/openoligo/utils/wait.py#13\u001b\\\u001b[2m13\u001b[0m\u001b]8;;\u001b\\\n"
            ]
          },
          "metadata": {},
          "output_type": "display_data"
        },
        {
          "data": {
            "text/html": [
              "<pre style=\"white-space:pre;overflow-x:auto;line-height:normal;font-family:Menlo,'DejaVu Sans Mono',consolas,'Courier New',monospace\"><span style=\"color: #7fbfbf; text-decoration-color: #7fbfbf\">           </span><span style=\"color: #008000; text-decoration-color: #008000\">DEBUG   </span> <span style=\"font-weight: bold\">&lt;</span><span style=\"color: #ff00ff; text-decoration-color: #ff00ff; font-weight: bold\">flow.py:</span><span style=\"color: #008080; text-decoration-color: #008080; font-weight: bold\">44</span><span style=\"font-weight: bold\">&gt;</span> Washing flow branch FlowBranch.REACTION with solvent                    <a href=\"file:///Users/satyamtiwary/Documents/Python-Things/OpenOligo/openoligo/steps/flow.py\" target=\"_blank\"><span style=\"color: #7f7f7f; text-decoration-color: #7f7f7f\">flow.py</span></a><span style=\"color: #7f7f7f; text-decoration-color: #7f7f7f\">:</span><a href=\"file:///Users/satyamtiwary/Documents/Python-Things/OpenOligo/openoligo/steps/flow.py#44\" target=\"_blank\"><span style=\"color: #7f7f7f; text-decoration-color: #7f7f7f\">44</span></a>\n",
              "</pre>\n"
            ],
            "text/plain": [
              "\u001b[2;36m          \u001b[0m\u001b[2;36m \u001b[0m\u001b[32mDEBUG   \u001b[0m \u001b[1m<\u001b[0m\u001b[1;95mflow.py:\u001b[0m\u001b[1;36m44\u001b[0m\u001b[1m>\u001b[0m Washing flow branch FlowBranch.REACTION with solvent                    \u001b]8;id=858227;file:///Users/satyamtiwary/Documents/Python-Things/OpenOligo/openoligo/steps/flow.py\u001b\\\u001b[2mflow.py\u001b[0m\u001b]8;;\u001b\\\u001b[2m:\u001b[0m\u001b]8;id=767816;file:///Users/satyamtiwary/Documents/Python-Things/OpenOligo/openoligo/steps/flow.py#44\u001b\\\u001b[2m44\u001b[0m\u001b]8;;\u001b\\\n"
            ]
          },
          "metadata": {},
          "output_type": "display_data"
        },
        {
          "data": {
            "text/html": [
              "<pre style=\"white-space:pre;overflow-x:auto;line-height:normal;font-family:Menlo,'DejaVu Sans Mono',consolas,'Courier New',monospace\"><span style=\"color: #7fbfbf; text-decoration-color: #7fbfbf\">           </span><span style=\"color: #008000; text-decoration-color: #008000\">DEBUG   </span> <span style=\"font-weight: bold\">&lt;</span><span style=\"color: #ff00ff; text-decoration-color: #ff00ff; font-weight: bold\">flow.py:</span><span style=\"color: #008080; text-decoration-color: #008080; font-weight: bold\">44</span><span style=\"font-weight: bold\">&gt;</span> Washing flow branch FlowBranch.REAGENTS with solvent                    <a href=\"file:///Users/satyamtiwary/Documents/Python-Things/OpenOligo/openoligo/steps/flow.py\" target=\"_blank\"><span style=\"color: #7f7f7f; text-decoration-color: #7f7f7f\">flow.py</span></a><span style=\"color: #7f7f7f; text-decoration-color: #7f7f7f\">:</span><a href=\"file:///Users/satyamtiwary/Documents/Python-Things/OpenOligo/openoligo/steps/flow.py#44\" target=\"_blank\"><span style=\"color: #7f7f7f; text-decoration-color: #7f7f7f\">44</span></a>\n",
              "</pre>\n"
            ],
            "text/plain": [
              "\u001b[2;36m          \u001b[0m\u001b[2;36m \u001b[0m\u001b[32mDEBUG   \u001b[0m \u001b[1m<\u001b[0m\u001b[1;95mflow.py:\u001b[0m\u001b[1;36m44\u001b[0m\u001b[1m>\u001b[0m Washing flow branch FlowBranch.REAGENTS with solvent                    \u001b]8;id=449067;file:///Users/satyamtiwary/Documents/Python-Things/OpenOligo/openoligo/steps/flow.py\u001b\\\u001b[2mflow.py\u001b[0m\u001b]8;;\u001b\\\u001b[2m:\u001b[0m\u001b]8;id=538708;file:///Users/satyamtiwary/Documents/Python-Things/OpenOligo/openoligo/steps/flow.py#44\u001b\\\u001b[2m44\u001b[0m\u001b]8;;\u001b\\\n"
            ]
          },
          "metadata": {},
          "output_type": "display_data"
        },
        {
          "data": {
            "text/html": [
              "<pre style=\"white-space:pre;overflow-x:auto;line-height:normal;font-family:Menlo,'DejaVu Sans Mono',consolas,'Courier New',monospace\"><span style=\"color: #7fbfbf; text-decoration-color: #7fbfbf\">           </span><span style=\"color: #008000; text-decoration-color: #008000\">DEBUG   </span> <span style=\"font-weight: bold\">&lt;</span><span style=\"color: #ff00ff; text-decoration-color: #ff00ff; font-weight: bold\">flow.py:</span><span style=\"color: #008080; text-decoration-color: #008080; font-weight: bold\">65</span><span style=\"font-weight: bold\">&gt;</span> Drying flow branch FlowBranch.REACTION                                  <a href=\"file:///Users/satyamtiwary/Documents/Python-Things/OpenOligo/openoligo/steps/flow.py\" target=\"_blank\"><span style=\"color: #7f7f7f; text-decoration-color: #7f7f7f\">flow.py</span></a><span style=\"color: #7f7f7f; text-decoration-color: #7f7f7f\">:</span><a href=\"file:///Users/satyamtiwary/Documents/Python-Things/OpenOligo/openoligo/steps/flow.py#65\" target=\"_blank\"><span style=\"color: #7f7f7f; text-decoration-color: #7f7f7f\">65</span></a>\n",
              "</pre>\n"
            ],
            "text/plain": [
              "\u001b[2;36m          \u001b[0m\u001b[2;36m \u001b[0m\u001b[32mDEBUG   \u001b[0m \u001b[1m<\u001b[0m\u001b[1;95mflow.py:\u001b[0m\u001b[1;36m65\u001b[0m\u001b[1m>\u001b[0m Drying flow branch FlowBranch.REACTION                                  \u001b]8;id=124120;file:///Users/satyamtiwary/Documents/Python-Things/OpenOligo/openoligo/steps/flow.py\u001b\\\u001b[2mflow.py\u001b[0m\u001b]8;;\u001b\\\u001b[2m:\u001b[0m\u001b]8;id=795818;file:///Users/satyamtiwary/Documents/Python-Things/OpenOligo/openoligo/steps/flow.py#65\u001b\\\u001b[2m65\u001b[0m\u001b]8;;\u001b\\\n"
            ]
          },
          "metadata": {},
          "output_type": "display_data"
        },
        {
          "data": {
            "text/html": [
              "<pre style=\"white-space:pre;overflow-x:auto;line-height:normal;font-family:Menlo,'DejaVu Sans Mono',consolas,'Courier New',monospace\"><span style=\"color: #7fbfbf; text-decoration-color: #7fbfbf\">           </span><span style=\"color: #008000; text-decoration-color: #008000\">DEBUG   </span> <span style=\"font-weight: bold\">&lt;</span><span style=\"color: #ff00ff; text-decoration-color: #ff00ff; font-weight: bold\">flow.py:</span><span style=\"color: #008080; text-decoration-color: #008080; font-weight: bold\">65</span><span style=\"font-weight: bold\">&gt;</span> Drying flow branch FlowBranch.REAGENTS                                  <a href=\"file:///Users/satyamtiwary/Documents/Python-Things/OpenOligo/openoligo/steps/flow.py\" target=\"_blank\"><span style=\"color: #7f7f7f; text-decoration-color: #7f7f7f\">flow.py</span></a><span style=\"color: #7f7f7f; text-decoration-color: #7f7f7f\">:</span><a href=\"file:///Users/satyamtiwary/Documents/Python-Things/OpenOligo/openoligo/steps/flow.py#65\" target=\"_blank\"><span style=\"color: #7f7f7f; text-decoration-color: #7f7f7f\">65</span></a>\n",
              "</pre>\n"
            ],
            "text/plain": [
              "\u001b[2;36m          \u001b[0m\u001b[2;36m \u001b[0m\u001b[32mDEBUG   \u001b[0m \u001b[1m<\u001b[0m\u001b[1;95mflow.py:\u001b[0m\u001b[1;36m65\u001b[0m\u001b[1m>\u001b[0m Drying flow branch FlowBranch.REAGENTS                                  \u001b]8;id=803254;file:///Users/satyamtiwary/Documents/Python-Things/OpenOligo/openoligo/steps/flow.py\u001b\\\u001b[2mflow.py\u001b[0m\u001b]8;;\u001b\\\u001b[2m:\u001b[0m\u001b]8;id=811277;file:///Users/satyamtiwary/Documents/Python-Things/OpenOligo/openoligo/steps/flow.py#65\u001b\\\u001b[2m65\u001b[0m\u001b]8;;\u001b\\\n"
            ]
          },
          "metadata": {},
          "output_type": "display_data"
        },
        {
          "name": "stdout",
          "output_type": "stream",
          "text": [
            "Add acetic anhydride/pyridine/THF and N-methyl imidazole to the reactor\n"
          ]
        },
        {
          "data": {
            "text/html": [
              "<pre style=\"white-space:pre;overflow-x:auto;line-height:normal;font-family:Menlo,'DejaVu Sans Mono',consolas,'Courier New',monospace\"><span style=\"color: #7fbfbf; text-decoration-color: #7fbfbf\">           </span><span style=\"color: #008000; text-decoration-color: #008000\">DEBUG   </span> <span style=\"font-weight: bold\">&lt;</span><span style=\"color: #ff00ff; text-decoration-color: #ff00ff; font-weight: bold\">wait.py:</span><span style=\"color: #008080; text-decoration-color: #008080; font-weight: bold\">11</span><span style=\"font-weight: bold\">&gt;</span> Start waiting for <span style=\"color: #008080; text-decoration-color: #008080; font-weight: bold\">1.00</span> seconds                                          <a href=\"file:///Users/satyamtiwary/Documents/Python-Things/OpenOligo/openoligo/utils/wait.py\" target=\"_blank\"><span style=\"color: #7f7f7f; text-decoration-color: #7f7f7f\">wait.py</span></a><span style=\"color: #7f7f7f; text-decoration-color: #7f7f7f\">:</span><a href=\"file:///Users/satyamtiwary/Documents/Python-Things/OpenOligo/openoligo/utils/wait.py#11\" target=\"_blank\"><span style=\"color: #7f7f7f; text-decoration-color: #7f7f7f\">11</span></a>\n",
              "</pre>\n"
            ],
            "text/plain": [
              "\u001b[2;36m          \u001b[0m\u001b[2;36m \u001b[0m\u001b[32mDEBUG   \u001b[0m \u001b[1m<\u001b[0m\u001b[1;95mwait.py:\u001b[0m\u001b[1;36m11\u001b[0m\u001b[1m>\u001b[0m Start waiting for \u001b[1;36m1.00\u001b[0m seconds                                          \u001b]8;id=800917;file:///Users/satyamtiwary/Documents/Python-Things/OpenOligo/openoligo/utils/wait.py\u001b\\\u001b[2mwait.py\u001b[0m\u001b]8;;\u001b\\\u001b[2m:\u001b[0m\u001b]8;id=559774;file:///Users/satyamtiwary/Documents/Python-Things/OpenOligo/openoligo/utils/wait.py#11\u001b\\\u001b[2m11\u001b[0m\u001b]8;;\u001b\\\n"
            ]
          },
          "metadata": {},
          "output_type": "display_data"
        },
        {
          "data": {
            "text/html": [
              "<pre style=\"white-space:pre;overflow-x:auto;line-height:normal;font-family:Menlo,'DejaVu Sans Mono',consolas,'Courier New',monospace\"><span style=\"color: #7fbfbf; text-decoration-color: #7fbfbf\">[18:14:05] </span><span style=\"color: #008000; text-decoration-color: #008000\">DEBUG   </span> <span style=\"font-weight: bold\">&lt;</span><span style=\"color: #ff00ff; text-decoration-color: #ff00ff; font-weight: bold\">wait.py:</span><span style=\"color: #008080; text-decoration-color: #008080; font-weight: bold\">13</span><span style=\"font-weight: bold\">&gt;</span> Done waiting for <span style=\"color: #008080; text-decoration-color: #008080; font-weight: bold\">1.00</span> seconds                                           <a href=\"file:///Users/satyamtiwary/Documents/Python-Things/OpenOligo/openoligo/utils/wait.py\" target=\"_blank\"><span style=\"color: #7f7f7f; text-decoration-color: #7f7f7f\">wait.py</span></a><span style=\"color: #7f7f7f; text-decoration-color: #7f7f7f\">:</span><a href=\"file:///Users/satyamtiwary/Documents/Python-Things/OpenOligo/openoligo/utils/wait.py#13\" target=\"_blank\"><span style=\"color: #7f7f7f; text-decoration-color: #7f7f7f\">13</span></a>\n",
              "</pre>\n"
            ],
            "text/plain": [
              "\u001b[2;36m[18:14:05]\u001b[0m\u001b[2;36m \u001b[0m\u001b[32mDEBUG   \u001b[0m \u001b[1m<\u001b[0m\u001b[1;95mwait.py:\u001b[0m\u001b[1;36m13\u001b[0m\u001b[1m>\u001b[0m Done waiting for \u001b[1;36m1.00\u001b[0m seconds                                           \u001b]8;id=519945;file:///Users/satyamtiwary/Documents/Python-Things/OpenOligo/openoligo/utils/wait.py\u001b\\\u001b[2mwait.py\u001b[0m\u001b]8;;\u001b\\\u001b[2m:\u001b[0m\u001b]8;id=969639;file:///Users/satyamtiwary/Documents/Python-Things/OpenOligo/openoligo/utils/wait.py#13\u001b\\\u001b[2m13\u001b[0m\u001b]8;;\u001b\\\n"
            ]
          },
          "metadata": {},
          "output_type": "display_data"
        },
        {
          "data": {
            "text/html": [
              "<pre style=\"white-space:pre;overflow-x:auto;line-height:normal;font-family:Menlo,'DejaVu Sans Mono',consolas,'Courier New',monospace\"><span style=\"color: #7fbfbf; text-decoration-color: #7fbfbf\">           </span><span style=\"color: #008000; text-decoration-color: #008000\">DEBUG   </span> <span style=\"font-weight: bold\">&lt;</span><span style=\"color: #ff00ff; text-decoration-color: #ff00ff; font-weight: bold\">flow.py:</span><span style=\"color: #008080; text-decoration-color: #008080; font-weight: bold\">44</span><span style=\"font-weight: bold\">&gt;</span> Washing flow branch FlowBranch.REACTION with solvent                    <a href=\"file:///Users/satyamtiwary/Documents/Python-Things/OpenOligo/openoligo/steps/flow.py\" target=\"_blank\"><span style=\"color: #7f7f7f; text-decoration-color: #7f7f7f\">flow.py</span></a><span style=\"color: #7f7f7f; text-decoration-color: #7f7f7f\">:</span><a href=\"file:///Users/satyamtiwary/Documents/Python-Things/OpenOligo/openoligo/steps/flow.py#44\" target=\"_blank\"><span style=\"color: #7f7f7f; text-decoration-color: #7f7f7f\">44</span></a>\n",
              "</pre>\n"
            ],
            "text/plain": [
              "\u001b[2;36m          \u001b[0m\u001b[2;36m \u001b[0m\u001b[32mDEBUG   \u001b[0m \u001b[1m<\u001b[0m\u001b[1;95mflow.py:\u001b[0m\u001b[1;36m44\u001b[0m\u001b[1m>\u001b[0m Washing flow branch FlowBranch.REACTION with solvent                    \u001b]8;id=696947;file:///Users/satyamtiwary/Documents/Python-Things/OpenOligo/openoligo/steps/flow.py\u001b\\\u001b[2mflow.py\u001b[0m\u001b]8;;\u001b\\\u001b[2m:\u001b[0m\u001b]8;id=955062;file:///Users/satyamtiwary/Documents/Python-Things/OpenOligo/openoligo/steps/flow.py#44\u001b\\\u001b[2m44\u001b[0m\u001b]8;;\u001b\\\n"
            ]
          },
          "metadata": {},
          "output_type": "display_data"
        },
        {
          "data": {
            "text/html": [
              "<pre style=\"white-space:pre;overflow-x:auto;line-height:normal;font-family:Menlo,'DejaVu Sans Mono',consolas,'Courier New',monospace\"><span style=\"color: #7fbfbf; text-decoration-color: #7fbfbf\">           </span><span style=\"color: #008000; text-decoration-color: #008000\">DEBUG   </span> <span style=\"font-weight: bold\">&lt;</span><span style=\"color: #ff00ff; text-decoration-color: #ff00ff; font-weight: bold\">flow.py:</span><span style=\"color: #008080; text-decoration-color: #008080; font-weight: bold\">44</span><span style=\"font-weight: bold\">&gt;</span> Washing flow branch FlowBranch.REAGENTS with solvent                    <a href=\"file:///Users/satyamtiwary/Documents/Python-Things/OpenOligo/openoligo/steps/flow.py\" target=\"_blank\"><span style=\"color: #7f7f7f; text-decoration-color: #7f7f7f\">flow.py</span></a><span style=\"color: #7f7f7f; text-decoration-color: #7f7f7f\">:</span><a href=\"file:///Users/satyamtiwary/Documents/Python-Things/OpenOligo/openoligo/steps/flow.py#44\" target=\"_blank\"><span style=\"color: #7f7f7f; text-decoration-color: #7f7f7f\">44</span></a>\n",
              "</pre>\n"
            ],
            "text/plain": [
              "\u001b[2;36m          \u001b[0m\u001b[2;36m \u001b[0m\u001b[32mDEBUG   \u001b[0m \u001b[1m<\u001b[0m\u001b[1;95mflow.py:\u001b[0m\u001b[1;36m44\u001b[0m\u001b[1m>\u001b[0m Washing flow branch FlowBranch.REAGENTS with solvent                    \u001b]8;id=160025;file:///Users/satyamtiwary/Documents/Python-Things/OpenOligo/openoligo/steps/flow.py\u001b\\\u001b[2mflow.py\u001b[0m\u001b]8;;\u001b\\\u001b[2m:\u001b[0m\u001b]8;id=594396;file:///Users/satyamtiwary/Documents/Python-Things/OpenOligo/openoligo/steps/flow.py#44\u001b\\\u001b[2m44\u001b[0m\u001b]8;;\u001b\\\n"
            ]
          },
          "metadata": {},
          "output_type": "display_data"
        },
        {
          "data": {
            "text/html": [
              "<pre style=\"white-space:pre;overflow-x:auto;line-height:normal;font-family:Menlo,'DejaVu Sans Mono',consolas,'Courier New',monospace\"><span style=\"color: #7fbfbf; text-decoration-color: #7fbfbf\">           </span><span style=\"color: #008000; text-decoration-color: #008000\">DEBUG   </span> <span style=\"font-weight: bold\">&lt;</span><span style=\"color: #ff00ff; text-decoration-color: #ff00ff; font-weight: bold\">flow.py:</span><span style=\"color: #008080; text-decoration-color: #008080; font-weight: bold\">65</span><span style=\"font-weight: bold\">&gt;</span> Drying flow branch FlowBranch.REACTION                                  <a href=\"file:///Users/satyamtiwary/Documents/Python-Things/OpenOligo/openoligo/steps/flow.py\" target=\"_blank\"><span style=\"color: #7f7f7f; text-decoration-color: #7f7f7f\">flow.py</span></a><span style=\"color: #7f7f7f; text-decoration-color: #7f7f7f\">:</span><a href=\"file:///Users/satyamtiwary/Documents/Python-Things/OpenOligo/openoligo/steps/flow.py#65\" target=\"_blank\"><span style=\"color: #7f7f7f; text-decoration-color: #7f7f7f\">65</span></a>\n",
              "</pre>\n"
            ],
            "text/plain": [
              "\u001b[2;36m          \u001b[0m\u001b[2;36m \u001b[0m\u001b[32mDEBUG   \u001b[0m \u001b[1m<\u001b[0m\u001b[1;95mflow.py:\u001b[0m\u001b[1;36m65\u001b[0m\u001b[1m>\u001b[0m Drying flow branch FlowBranch.REACTION                                  \u001b]8;id=905596;file:///Users/satyamtiwary/Documents/Python-Things/OpenOligo/openoligo/steps/flow.py\u001b\\\u001b[2mflow.py\u001b[0m\u001b]8;;\u001b\\\u001b[2m:\u001b[0m\u001b]8;id=105436;file:///Users/satyamtiwary/Documents/Python-Things/OpenOligo/openoligo/steps/flow.py#65\u001b\\\u001b[2m65\u001b[0m\u001b]8;;\u001b\\\n"
            ]
          },
          "metadata": {},
          "output_type": "display_data"
        },
        {
          "data": {
            "text/html": [
              "<pre style=\"white-space:pre;overflow-x:auto;line-height:normal;font-family:Menlo,'DejaVu Sans Mono',consolas,'Courier New',monospace\"><span style=\"color: #7fbfbf; text-decoration-color: #7fbfbf\">           </span><span style=\"color: #008000; text-decoration-color: #008000\">DEBUG   </span> <span style=\"font-weight: bold\">&lt;</span><span style=\"color: #ff00ff; text-decoration-color: #ff00ff; font-weight: bold\">flow.py:</span><span style=\"color: #008080; text-decoration-color: #008080; font-weight: bold\">65</span><span style=\"font-weight: bold\">&gt;</span> Drying flow branch FlowBranch.REAGENTS                                  <a href=\"file:///Users/satyamtiwary/Documents/Python-Things/OpenOligo/openoligo/steps/flow.py\" target=\"_blank\"><span style=\"color: #7f7f7f; text-decoration-color: #7f7f7f\">flow.py</span></a><span style=\"color: #7f7f7f; text-decoration-color: #7f7f7f\">:</span><a href=\"file:///Users/satyamtiwary/Documents/Python-Things/OpenOligo/openoligo/steps/flow.py#65\" target=\"_blank\"><span style=\"color: #7f7f7f; text-decoration-color: #7f7f7f\">65</span></a>\n",
              "</pre>\n"
            ],
            "text/plain": [
              "\u001b[2;36m          \u001b[0m\u001b[2;36m \u001b[0m\u001b[32mDEBUG   \u001b[0m \u001b[1m<\u001b[0m\u001b[1;95mflow.py:\u001b[0m\u001b[1;36m65\u001b[0m\u001b[1m>\u001b[0m Drying flow branch FlowBranch.REAGENTS                                  \u001b]8;id=750699;file:///Users/satyamtiwary/Documents/Python-Things/OpenOligo/openoligo/steps/flow.py\u001b\\\u001b[2mflow.py\u001b[0m\u001b]8;;\u001b\\\u001b[2m:\u001b[0m\u001b]8;id=123825;file:///Users/satyamtiwary/Documents/Python-Things/OpenOligo/openoligo/steps/flow.py#65\u001b\\\u001b[2m65\u001b[0m\u001b]8;;\u001b\\\n"
            ]
          },
          "metadata": {},
          "output_type": "display_data"
        },
        {
          "name": "stdout",
          "output_type": "stream",
          "text": [
            "Add 0.015 M iodine in water/pyridine/THF to the reactor\n"
          ]
        },
        {
          "data": {
            "text/html": [
              "<pre style=\"white-space:pre;overflow-x:auto;line-height:normal;font-family:Menlo,'DejaVu Sans Mono',consolas,'Courier New',monospace\"><span style=\"color: #7fbfbf; text-decoration-color: #7fbfbf\">           </span><span style=\"color: #008000; text-decoration-color: #008000\">DEBUG   </span> <span style=\"font-weight: bold\">&lt;</span><span style=\"color: #ff00ff; text-decoration-color: #ff00ff; font-weight: bold\">wait.py:</span><span style=\"color: #008080; text-decoration-color: #008080; font-weight: bold\">11</span><span style=\"font-weight: bold\">&gt;</span> Start waiting for <span style=\"color: #008080; text-decoration-color: #008080; font-weight: bold\">1.00</span> seconds                                          <a href=\"file:///Users/satyamtiwary/Documents/Python-Things/OpenOligo/openoligo/utils/wait.py\" target=\"_blank\"><span style=\"color: #7f7f7f; text-decoration-color: #7f7f7f\">wait.py</span></a><span style=\"color: #7f7f7f; text-decoration-color: #7f7f7f\">:</span><a href=\"file:///Users/satyamtiwary/Documents/Python-Things/OpenOligo/openoligo/utils/wait.py#11\" target=\"_blank\"><span style=\"color: #7f7f7f; text-decoration-color: #7f7f7f\">11</span></a>\n",
              "</pre>\n"
            ],
            "text/plain": [
              "\u001b[2;36m          \u001b[0m\u001b[2;36m \u001b[0m\u001b[32mDEBUG   \u001b[0m \u001b[1m<\u001b[0m\u001b[1;95mwait.py:\u001b[0m\u001b[1;36m11\u001b[0m\u001b[1m>\u001b[0m Start waiting for \u001b[1;36m1.00\u001b[0m seconds                                          \u001b]8;id=36167;file:///Users/satyamtiwary/Documents/Python-Things/OpenOligo/openoligo/utils/wait.py\u001b\\\u001b[2mwait.py\u001b[0m\u001b]8;;\u001b\\\u001b[2m:\u001b[0m\u001b]8;id=325331;file:///Users/satyamtiwary/Documents/Python-Things/OpenOligo/openoligo/utils/wait.py#11\u001b\\\u001b[2m11\u001b[0m\u001b]8;;\u001b\\\n"
            ]
          },
          "metadata": {},
          "output_type": "display_data"
        },
        {
          "data": {
            "text/html": [
              "<pre style=\"white-space:pre;overflow-x:auto;line-height:normal;font-family:Menlo,'DejaVu Sans Mono',consolas,'Courier New',monospace\"><span style=\"color: #7fbfbf; text-decoration-color: #7fbfbf\">[18:14:06] </span><span style=\"color: #008000; text-decoration-color: #008000\">DEBUG   </span> <span style=\"font-weight: bold\">&lt;</span><span style=\"color: #ff00ff; text-decoration-color: #ff00ff; font-weight: bold\">wait.py:</span><span style=\"color: #008080; text-decoration-color: #008080; font-weight: bold\">13</span><span style=\"font-weight: bold\">&gt;</span> Done waiting for <span style=\"color: #008080; text-decoration-color: #008080; font-weight: bold\">1.00</span> seconds                                           <a href=\"file:///Users/satyamtiwary/Documents/Python-Things/OpenOligo/openoligo/utils/wait.py\" target=\"_blank\"><span style=\"color: #7f7f7f; text-decoration-color: #7f7f7f\">wait.py</span></a><span style=\"color: #7f7f7f; text-decoration-color: #7f7f7f\">:</span><a href=\"file:///Users/satyamtiwary/Documents/Python-Things/OpenOligo/openoligo/utils/wait.py#13\" target=\"_blank\"><span style=\"color: #7f7f7f; text-decoration-color: #7f7f7f\">13</span></a>\n",
              "</pre>\n"
            ],
            "text/plain": [
              "\u001b[2;36m[18:14:06]\u001b[0m\u001b[2;36m \u001b[0m\u001b[32mDEBUG   \u001b[0m \u001b[1m<\u001b[0m\u001b[1;95mwait.py:\u001b[0m\u001b[1;36m13\u001b[0m\u001b[1m>\u001b[0m Done waiting for \u001b[1;36m1.00\u001b[0m seconds                                           \u001b]8;id=305155;file:///Users/satyamtiwary/Documents/Python-Things/OpenOligo/openoligo/utils/wait.py\u001b\\\u001b[2mwait.py\u001b[0m\u001b]8;;\u001b\\\u001b[2m:\u001b[0m\u001b]8;id=554106;file:///Users/satyamtiwary/Documents/Python-Things/OpenOligo/openoligo/utils/wait.py#13\u001b\\\u001b[2m13\u001b[0m\u001b]8;;\u001b\\\n"
            ]
          },
          "metadata": {},
          "output_type": "display_data"
        },
        {
          "data": {
            "text/html": [
              "<pre style=\"white-space:pre;overflow-x:auto;line-height:normal;font-family:Menlo,'DejaVu Sans Mono',consolas,'Courier New',monospace\"><span style=\"color: #7fbfbf; text-decoration-color: #7fbfbf\">           </span><span style=\"color: #008000; text-decoration-color: #008000\">DEBUG   </span> <span style=\"font-weight: bold\">&lt;</span><span style=\"color: #ff00ff; text-decoration-color: #ff00ff; font-weight: bold\">flow.py:</span><span style=\"color: #008080; text-decoration-color: #008080; font-weight: bold\">44</span><span style=\"font-weight: bold\">&gt;</span> Washing flow branch FlowBranch.REACTION with solvent                    <a href=\"file:///Users/satyamtiwary/Documents/Python-Things/OpenOligo/openoligo/steps/flow.py\" target=\"_blank\"><span style=\"color: #7f7f7f; text-decoration-color: #7f7f7f\">flow.py</span></a><span style=\"color: #7f7f7f; text-decoration-color: #7f7f7f\">:</span><a href=\"file:///Users/satyamtiwary/Documents/Python-Things/OpenOligo/openoligo/steps/flow.py#44\" target=\"_blank\"><span style=\"color: #7f7f7f; text-decoration-color: #7f7f7f\">44</span></a>\n",
              "</pre>\n"
            ],
            "text/plain": [
              "\u001b[2;36m          \u001b[0m\u001b[2;36m \u001b[0m\u001b[32mDEBUG   \u001b[0m \u001b[1m<\u001b[0m\u001b[1;95mflow.py:\u001b[0m\u001b[1;36m44\u001b[0m\u001b[1m>\u001b[0m Washing flow branch FlowBranch.REACTION with solvent                    \u001b]8;id=223573;file:///Users/satyamtiwary/Documents/Python-Things/OpenOligo/openoligo/steps/flow.py\u001b\\\u001b[2mflow.py\u001b[0m\u001b]8;;\u001b\\\u001b[2m:\u001b[0m\u001b]8;id=755973;file:///Users/satyamtiwary/Documents/Python-Things/OpenOligo/openoligo/steps/flow.py#44\u001b\\\u001b[2m44\u001b[0m\u001b]8;;\u001b\\\n"
            ]
          },
          "metadata": {},
          "output_type": "display_data"
        },
        {
          "data": {
            "text/html": [
              "<pre style=\"white-space:pre;overflow-x:auto;line-height:normal;font-family:Menlo,'DejaVu Sans Mono',consolas,'Courier New',monospace\"><span style=\"color: #7fbfbf; text-decoration-color: #7fbfbf\">           </span><span style=\"color: #008000; text-decoration-color: #008000\">DEBUG   </span> <span style=\"font-weight: bold\">&lt;</span><span style=\"color: #ff00ff; text-decoration-color: #ff00ff; font-weight: bold\">flow.py:</span><span style=\"color: #008080; text-decoration-color: #008080; font-weight: bold\">44</span><span style=\"font-weight: bold\">&gt;</span> Washing flow branch FlowBranch.REAGENTS with solvent                    <a href=\"file:///Users/satyamtiwary/Documents/Python-Things/OpenOligo/openoligo/steps/flow.py\" target=\"_blank\"><span style=\"color: #7f7f7f; text-decoration-color: #7f7f7f\">flow.py</span></a><span style=\"color: #7f7f7f; text-decoration-color: #7f7f7f\">:</span><a href=\"file:///Users/satyamtiwary/Documents/Python-Things/OpenOligo/openoligo/steps/flow.py#44\" target=\"_blank\"><span style=\"color: #7f7f7f; text-decoration-color: #7f7f7f\">44</span></a>\n",
              "</pre>\n"
            ],
            "text/plain": [
              "\u001b[2;36m          \u001b[0m\u001b[2;36m \u001b[0m\u001b[32mDEBUG   \u001b[0m \u001b[1m<\u001b[0m\u001b[1;95mflow.py:\u001b[0m\u001b[1;36m44\u001b[0m\u001b[1m>\u001b[0m Washing flow branch FlowBranch.REAGENTS with solvent                    \u001b]8;id=773461;file:///Users/satyamtiwary/Documents/Python-Things/OpenOligo/openoligo/steps/flow.py\u001b\\\u001b[2mflow.py\u001b[0m\u001b]8;;\u001b\\\u001b[2m:\u001b[0m\u001b]8;id=449957;file:///Users/satyamtiwary/Documents/Python-Things/OpenOligo/openoligo/steps/flow.py#44\u001b\\\u001b[2m44\u001b[0m\u001b]8;;\u001b\\\n"
            ]
          },
          "metadata": {},
          "output_type": "display_data"
        },
        {
          "data": {
            "text/html": [
              "<pre style=\"white-space:pre;overflow-x:auto;line-height:normal;font-family:Menlo,'DejaVu Sans Mono',consolas,'Courier New',monospace\"><span style=\"color: #7fbfbf; text-decoration-color: #7fbfbf\">           </span><span style=\"color: #008000; text-decoration-color: #008000\">DEBUG   </span> <span style=\"font-weight: bold\">&lt;</span><span style=\"color: #ff00ff; text-decoration-color: #ff00ff; font-weight: bold\">flow.py:</span><span style=\"color: #008080; text-decoration-color: #008080; font-weight: bold\">65</span><span style=\"font-weight: bold\">&gt;</span> Drying flow branch FlowBranch.REACTION                                  <a href=\"file:///Users/satyamtiwary/Documents/Python-Things/OpenOligo/openoligo/steps/flow.py\" target=\"_blank\"><span style=\"color: #7f7f7f; text-decoration-color: #7f7f7f\">flow.py</span></a><span style=\"color: #7f7f7f; text-decoration-color: #7f7f7f\">:</span><a href=\"file:///Users/satyamtiwary/Documents/Python-Things/OpenOligo/openoligo/steps/flow.py#65\" target=\"_blank\"><span style=\"color: #7f7f7f; text-decoration-color: #7f7f7f\">65</span></a>\n",
              "</pre>\n"
            ],
            "text/plain": [
              "\u001b[2;36m          \u001b[0m\u001b[2;36m \u001b[0m\u001b[32mDEBUG   \u001b[0m \u001b[1m<\u001b[0m\u001b[1;95mflow.py:\u001b[0m\u001b[1;36m65\u001b[0m\u001b[1m>\u001b[0m Drying flow branch FlowBranch.REACTION                                  \u001b]8;id=173702;file:///Users/satyamtiwary/Documents/Python-Things/OpenOligo/openoligo/steps/flow.py\u001b\\\u001b[2mflow.py\u001b[0m\u001b]8;;\u001b\\\u001b[2m:\u001b[0m\u001b]8;id=917450;file:///Users/satyamtiwary/Documents/Python-Things/OpenOligo/openoligo/steps/flow.py#65\u001b\\\u001b[2m65\u001b[0m\u001b]8;;\u001b\\\n"
            ]
          },
          "metadata": {},
          "output_type": "display_data"
        },
        {
          "data": {
            "text/html": [
              "<pre style=\"white-space:pre;overflow-x:auto;line-height:normal;font-family:Menlo,'DejaVu Sans Mono',consolas,'Courier New',monospace\"><span style=\"color: #7fbfbf; text-decoration-color: #7fbfbf\">           </span><span style=\"color: #008000; text-decoration-color: #008000\">DEBUG   </span> <span style=\"font-weight: bold\">&lt;</span><span style=\"color: #ff00ff; text-decoration-color: #ff00ff; font-weight: bold\">flow.py:</span><span style=\"color: #008080; text-decoration-color: #008080; font-weight: bold\">65</span><span style=\"font-weight: bold\">&gt;</span> Drying flow branch FlowBranch.REAGENTS                                  <a href=\"file:///Users/satyamtiwary/Documents/Python-Things/OpenOligo/openoligo/steps/flow.py\" target=\"_blank\"><span style=\"color: #7f7f7f; text-decoration-color: #7f7f7f\">flow.py</span></a><span style=\"color: #7f7f7f; text-decoration-color: #7f7f7f\">:</span><a href=\"file:///Users/satyamtiwary/Documents/Python-Things/OpenOligo/openoligo/steps/flow.py#65\" target=\"_blank\"><span style=\"color: #7f7f7f; text-decoration-color: #7f7f7f\">65</span></a>\n",
              "</pre>\n"
            ],
            "text/plain": [
              "\u001b[2;36m          \u001b[0m\u001b[2;36m \u001b[0m\u001b[32mDEBUG   \u001b[0m \u001b[1m<\u001b[0m\u001b[1;95mflow.py:\u001b[0m\u001b[1;36m65\u001b[0m\u001b[1m>\u001b[0m Drying flow branch FlowBranch.REAGENTS                                  \u001b]8;id=628310;file:///Users/satyamtiwary/Documents/Python-Things/OpenOligo/openoligo/steps/flow.py\u001b\\\u001b[2mflow.py\u001b[0m\u001b]8;;\u001b\\\u001b[2m:\u001b[0m\u001b]8;id=773711;file:///Users/satyamtiwary/Documents/Python-Things/OpenOligo/openoligo/steps/flow.py#65\u001b\\\u001b[2m65\u001b[0m\u001b]8;;\u001b\\\n"
            ]
          },
          "metadata": {},
          "output_type": "display_data"
        },
        {
          "name": "stderr",
          "output_type": "stream",
          "text": [
            " 56%|████████████████████████████████████████▌                                | 5/9 [00:19<00:17,  4.41s/it]"
          ]
        },
        {
          "data": {
            "text/html": [
              "<pre style=\"white-space:pre;overflow-x:auto;line-height:normal;font-family:Menlo,'DejaVu Sans Mono',consolas,'Courier New',monospace\"><span style=\"color: #7fbfbf; text-decoration-color: #7fbfbf\">           </span><span style=\"color: #008000; text-decoration-color: #008000\">DEBUG   </span> <span style=\"font-weight: bold\">&lt;</span><span style=\"color: #ff00ff; text-decoration-color: #ff00ff; font-weight: bold\">wait.py:</span><span style=\"color: #008080; text-decoration-color: #008080; font-weight: bold\">11</span><span style=\"font-weight: bold\">&gt;</span> Start waiting for <span style=\"color: #008080; text-decoration-color: #008080; font-weight: bold\">1.00</span> seconds                                          <a href=\"file:///Users/satyamtiwary/Documents/Python-Things/OpenOligo/openoligo/utils/wait.py\" target=\"_blank\"><span style=\"color: #7f7f7f; text-decoration-color: #7f7f7f\">wait.py</span></a><span style=\"color: #7f7f7f; text-decoration-color: #7f7f7f\">:</span><a href=\"file:///Users/satyamtiwary/Documents/Python-Things/OpenOligo/openoligo/utils/wait.py#11\" target=\"_blank\"><span style=\"color: #7f7f7f; text-decoration-color: #7f7f7f\">11</span></a>\n",
              "</pre>\n"
            ],
            "text/plain": [
              "\u001b[2;36m          \u001b[0m\u001b[2;36m \u001b[0m\u001b[32mDEBUG   \u001b[0m \u001b[1m<\u001b[0m\u001b[1;95mwait.py:\u001b[0m\u001b[1;36m11\u001b[0m\u001b[1m>\u001b[0m Start waiting for \u001b[1;36m1.00\u001b[0m seconds                                          \u001b]8;id=993408;file:///Users/satyamtiwary/Documents/Python-Things/OpenOligo/openoligo/utils/wait.py\u001b\\\u001b[2mwait.py\u001b[0m\u001b]8;;\u001b\\\u001b[2m:\u001b[0m\u001b]8;id=211199;file:///Users/satyamtiwary/Documents/Python-Things/OpenOligo/openoligo/utils/wait.py#11\u001b\\\u001b[2m11\u001b[0m\u001b]8;;\u001b\\\n"
            ]
          },
          "metadata": {},
          "output_type": "display_data"
        }
      ],
      "source": [
        "synthesize(Seq(\"GATCATT\"))"
      ]
    },
    {
      "cell_type": "code",
      "execution_count": null,
      "id": "256ce7fc-c086-423a-baec-821ce40456b7",
      "metadata": {},
      "outputs": [],
      "source": []
    }
  ],
  "metadata": {
    "kernelspec": {
      "display_name": "Python 3 (ipykernel)",
      "language": "python",
      "name": "python3"
    },
    "language_info": {
      "codemirror_mode": {
        "name": "ipython",
        "version": 3
      },
      "file_extension": ".py",
      "mimetype": "text/x-python",
      "name": "python",
      "nbconvert_exporter": "python",
      "pygments_lexer": "ipython3",
      "version": "3.9.16"
    }
  },
  "nbformat": 4,
  "nbformat_minor": 5
}